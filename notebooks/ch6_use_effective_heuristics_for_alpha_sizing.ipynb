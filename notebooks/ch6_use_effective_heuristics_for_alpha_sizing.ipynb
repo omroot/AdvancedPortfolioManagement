{
 "cells": [
  {
   "cell_type": "markdown",
   "id": "235d52fd-5007-4a06-898e-b322aed5ebfb",
   "metadata": {},
   "source": [
    "#  Use effective heuristics for alpha sizing"
   ]
  },
  {
   "cell_type": "code",
   "execution_count": null,
   "id": "281687ff-68ad-4011-8720-d70b74107391",
   "metadata": {},
   "outputs": [],
   "source": []
  },
  {
   "cell_type": "code",
   "execution_count": 1,
   "id": "55f643d4-3a16-4560-b6ff-27592dfe78df",
   "metadata": {},
   "outputs": [],
   "source": [
    "%load_ext autoreload \n",
    "%autoreload 2\n",
    "%matplotlib inline "
   ]
  },
  {
   "cell_type": "code",
   "execution_count": 2,
   "id": "b97168f5-fb5e-4ed0-98fa-4c79d7622a7e",
   "metadata": {},
   "outputs": [],
   "source": [
    "import warnings\n",
    "warnings.filterwarnings(\"ignore\")"
   ]
  },
  {
   "cell_type": "code",
   "execution_count": 3,
   "id": "193fb4f1-b154-43da-bbcf-e364f23a97cf",
   "metadata": {},
   "outputs": [],
   "source": [
    "import sys\n",
    "sys.path.append('../')"
   ]
  },
  {
   "cell_type": "code",
   "execution_count": null,
   "id": "3e8b9004-c70f-401d-933e-498c132f1b12",
   "metadata": {},
   "outputs": [],
   "source": []
  },
  {
   "cell_type": "code",
   "execution_count": null,
   "id": "2a4e1678-b661-45ee-9220-0c93069367e8",
   "metadata": {},
   "outputs": [],
   "source": []
  },
  {
   "cell_type": "markdown",
   "id": "40c092fd-dd8c-424f-8202-53a17577649c",
   "metadata": {},
   "source": [
    "## Background"
   ]
  },
  {
   "cell_type": "markdown",
   "id": "610207a6-caf7-4c70-8528-9e6b86fd1708",
   "metadata": {},
   "source": [
    "$$\n",
    "r = \\alpha + \\sum_{k=1}^K\\beta_k f_k +\\epsilon\n",
    "$$\n",
    "where:\n",
    "- $r$: stock total return \n",
    "- $\\alpha+\\epsilon$: stock idiosynchratic return \n",
    "- $\\beta_k f_k$:  stock portion of return coming from factor $k$\n",
    "- $\\mathbb{Var}(\\epsilon)$ the idio-syncratic risk\n",
    "- The Net Market Value, or NMV, is the signed dollar holding value of security held\n",
    "in a portfolio.\n",
    "\n",
    "- The Gross Market Value (GMV) of a stock is the absolute value of the Net Market\n",
    "Value. The GMV of a portfolio is the sum of the GMVs of the individual positions\n",
    "\n"
   ]
  },
  {
   "cell_type": "code",
   "execution_count": null,
   "id": "430bef4c-8bec-48d8-a7f7-5e05d8cc5da0",
   "metadata": {},
   "outputs": [],
   "source": []
  },
  {
   "cell_type": "markdown",
   "id": "96146c22-ed0f-4776-9744-6a9cca372785",
   "metadata": {},
   "source": [
    "## Sharpe Ratio"
   ]
  },
  {
   "cell_type": "markdown",
   "id": "b6659e39-b195-42ce-8eaf-2e026cc1a866",
   "metadata": {},
   "source": [
    "- **Sharpe ratio**\n",
    "$$\n",
    "\\text{SR} = \\frac{\\mathbb{E}(r-r_f)}{\\sqrt{\\mathbb{Var}(r-r_f)}} \\approx  \\frac{\\mathbb{E}(r)}{\\sqrt{\\mathbb{Var}(r)}}\n",
    "$$\n",
    "where $r_f$ is risk free rate."
   ]
  },
  {
   "cell_type": "markdown",
   "id": "b81db06a-31c8-464c-b11b-79ff8de8c9b7",
   "metadata": {},
   "source": [
    "- The intuition for the Sharpe Ratio is that it provides a \"risk-adjusted\" measure of performance, compared to return. \n",
    "- If volatility is a yardstick for risk, then Sharpe Ratio is return measured in units of volatility. \n",
    "- If you buy $n$ units of volatility, the Sharpe Ratio tells you what payoff you receive."
   ]
  },
  {
   "cell_type": "markdown",
   "id": "30d7b77f-451b-4220-9f55-ac8dea6ea45c",
   "metadata": {},
   "source": [
    "- **Information Ratio**\n",
    "$$\n",
    "\\text{IR} = \\frac{\\mathbb{E}(r-r_b)}{\\sqrt{\\mathbb{Var}(r-r_b)}}\n",
    "$$\n",
    "where $r_b$ is the return of an arbitrary benchmark"
   ]
  },
  {
   "cell_type": "markdown",
   "id": "ff143752-12e1-4ebc-8fbc-2887840ab29f",
   "metadata": {},
   "source": [
    "Advantages:\n",
    "- The intuition of the metric is clear. \n",
    "- Return on GMV is performance relative to a\n",
    "capital budget. \n",
    "- But the real scarce resource is not capital; it is risk.\n",
    "- If your strategy has a high Sharpe Ratio, and low risk/GMV ratio,\n",
    "you can increase its leverage in order to bring its expected return\n",
    "to acceptable levels. \n",
    "- Aside from fundamental investing, there are\n",
    "many relative-value strategies with high Sharpe and low risk/GMV\n",
    "ratio. \n",
    "- In the absence of leverage (i.e., the ability to borrow additional\n",
    "capital against collateral at sufficiently low rates), these strategies\n",
    "would not be feasible; in the real world, they are implemented and\n",
    "often are extremely profitable.\n",
    "    "
   ]
  },
  {
   "cell_type": "markdown",
   "id": "f12f4721-a42b-4e4a-9a45-ac44af9729b6",
   "metadata": {},
   "source": [
    "Limitations:\n",
    "- volatility is not the same as risk \n",
    "- doesn't distinguish between upside and downside risk "
   ]
  },
  {
   "cell_type": "markdown",
   "id": "5bb8705e-eec7-47da-8d71-e5273789b38a",
   "metadata": {},
   "source": [
    "However:\n",
    "- Still widely adopted by the industry "
   ]
  },
  {
   "cell_type": "markdown",
   "id": "f5188477-285f-4ada-a99b-a3bc6f561a67",
   "metadata": {},
   "source": []
  },
  {
   "cell_type": "markdown",
   "id": "f6999e57-7bd5-4435-af47-998b36bbf832",
   "metadata": {},
   "source": []
  },
  {
   "cell_type": "markdown",
   "id": "0a90cc6d-dc9d-4ae0-8e7d-e830e047e0c1",
   "metadata": {},
   "source": [
    "## Estimating Expected Returns "
   ]
  },
  {
   "cell_type": "code",
   "execution_count": null,
   "id": "64aca99e-13b5-49b4-9b3d-5587eff982d6",
   "metadata": {},
   "outputs": [],
   "source": []
  },
  {
   "cell_type": "markdown",
   "id": "f50794df-c830-4f19-ae55-8f7dc73e951d",
   "metadata": {},
   "source": [
    "What is relevant here is that the returns be expressed as:\n",
    "- idiosyncratic returns; \n",
    "- in expectation;\n",
    "- over a common investment horizon for all the stocks under coverage\n",
    "\n",
    "\n",
    "For each stock in your universe:\n",
    "1. Set an investment horizon $T$, and a price forecast at that\n",
    "horizon.\n",
    "2. Compute the forecasted total return at that horizon \n",
    "$$r_{\\text{total}} = \\frac{\\text{price forecast}}{\\text{current price}} − 1$$\n",
    "3. Estimate industry returns rindustry over the same horizon.\n",
    "4. Estimate forecasted idiosyncratic return \n",
    "$$r_{\\text{idio}} = r_{\\text{total}} − r_{\\text{industry}}$$\n",
    "\n",
    "\n",
    "Convert all the expected returns to the same investment horizon\n",
    "by dividing the return by the horizon: \n",
    "\n",
    "$$ \\alpha = \\frac{r}{T} $$"
   ]
  },
  {
   "cell_type": "code",
   "execution_count": null,
   "id": "39708d87-c2ed-432f-9098-d9a06edd5854",
   "metadata": {},
   "outputs": [],
   "source": []
  },
  {
   "cell_type": "markdown",
   "id": "d6dd8e68-642a-4668-a703-2b607f95d1af",
   "metadata": {},
   "source": [
    "## Risk Based Sizing"
   ]
  },
  {
   "cell_type": "markdown",
   "id": "393fc07e-d01d-4a90-8029-4b098d9e092a",
   "metadata": {},
   "source": [
    "### Guiding principles "
   ]
  },
  {
   "cell_type": "markdown",
   "id": "8bb733eb-5fd2-497e-88bb-9d757643ae62",
   "metadata": {},
   "source": [
    "We choose the sizing candidates based on three criteria:\n",
    "- The first one is simplicity. The rules need only two inputs (at most): expected returns and volatilities, combined via simple ratios. \n",
    "- The second one is practical relevance. The rules must be widely in use, if not in the fundamental investing community, in the quantitative one. \n",
    "- Lastly, we require that the rules be principled."
   ]
  },
  {
   "cell_type": "markdown",
   "id": "b6af7272-dca5-4f26-b55b-d4effcd1e376",
   "metadata": {},
   "source": [
    "### Methods"
   ]
  },
  {
   "cell_type": "markdown",
   "id": "bb7a01ba-17be-4fd6-ab09-d84bac5ddc32",
   "metadata": {},
   "source": [
    "#### Proportional Rule"
   ]
  },
  {
   "cell_type": "markdown",
   "id": "5c71b3ef-fa0d-492f-8717-eb5f54d728c6",
   "metadata": {},
   "source": [
    "The Proportional Rule for portfolio construction is a straightforward approach where the allocation of assets is directly proportional to the strength of the buy or sell signals. \n",
    "\n",
    "1. **Basic Concept**: \n",
    "   - Positions in the portfolio are allocated proportionally to the investor's buy-or-sell view on each asset.\n",
    "   - For example, if an investor has a stronger conviction for buying Asset A compared to Asset B, then a larger proportion of the portfolio will be allocated to Asset A.\n",
    "\n",
    "2. **Ignorance of Other Factors**: \n",
    "   - This rule does not consider the relative size of the conviction beyond the directional view (buy or sell).\n",
    "   - It also ignores the volatility of the assets, which is a key factor in many other portfolio construction methods.\n",
    "\n",
    "A particular case of the proportional rule is the $\\frac{1}{N}$ rule: \n",
    "   - The \"1/N\" rule is an even simpler variant of the Proportional Rule.\n",
    "   - Here, the portfolio is divided equally among N assets, regardless of the investor's views on each asset.\n",
    "   - If there are 10 assets in the portfolio, each asset will receive 10% of the total investment.\n",
    "\n",
    "\n",
    "Comparison and Analysis\n",
    "\n",
    "- **Advantages**:\n",
    "  - Simplicity: Both rules are easy to understand and implement.\n",
    "  - Reduced Complexity: They require less computational effort compared to more sophisticated methods that consider risk and return optimization.\n",
    "\n",
    "- **Disadvantages**:\n",
    "  - Ignoring Volatility: By not accounting for asset volatility, these methods can lead to suboptimal risk-adjusted returns.\n",
    "  - No Differentiation: The 1/N rule, in particular, fails to leverage any information about the investor's confidence in their buy or sell signals.\n",
    " \n",
    "- **Analysis by DeMiguel et al. (2009)**:\n",
    "- DeMiguel, Garlappi, and Uppal (2009) conducted a detailed analysis of the 1/N rule in their paper \"Optimal versus Naive Diversification: How Inefficient is the 1/N Portfolio Strategy?\"\n",
    "- Their research found that, surprisingly, the 1/N rule can often perform comparably to more complex optimization strategies in terms of out-of-sample performance.\n",
    "- This finding highlights the challenges and potential pitfalls of overfitting in more sophisticated portfolio optimization methods.\n",
    "\n",
    " "
   ]
  },
  {
   "cell_type": "code",
   "execution_count": null,
   "id": "ea634859-70da-443f-b0de-d0e0498375df",
   "metadata": {},
   "outputs": [],
   "source": []
  },
  {
   "cell_type": "code",
   "execution_count": null,
   "id": "547ed3c0-f9de-483d-b245-52cbca466a24",
   "metadata": {},
   "outputs": [],
   "source": []
  },
  {
   "cell_type": "markdown",
   "id": "1bef57a2-c534-4f35-9c26-bdee9d615649",
   "metadata": {},
   "source": [
    "#### The Risk Parity (RP) Rule"
   ]
  },
  {
   "cell_type": "markdown",
   "id": "e766c5d3-c64e-47b3-a797-5555e76f8293",
   "metadata": {},
   "source": [
    "- The objective is to size the positions in the portfolio such that the dollar idiosyncratic volatility contribution of each position is equal.\n",
    "- This means each asset's unique risk (idiosyncratic volatility) will impact the portfolio equally in dollar terms.\n",
    "- For each asset $i$, the product of its Gross Market Value (GMV) and its percentage idiosyncratic volatility should be a constant.\n",
    "- Mathematically: \n",
    "$$\\text{GMV}_i \\times \\% \\text{idiosyncratic volatility}_i = \\text{constant} $$\n",
    "$$\\text{GMV}_i = \\frac {\\text{constant}} {\\% \\text{idiosyncratic volatility}_i}$$\n",
    "$$w_i = \\frac { \\frac{1}{\\sigma_i} } {  \\sum_{j=1}^N  \\frac{1}{\\sigma_i} }$$\n",
    "\n",
    "\n"
   ]
  },
  {
   "cell_type": "markdown",
   "id": "c64565ec-89a7-4f78-b082-6d5979233a10",
   "metadata": {},
   "source": [
    "#### The Mean-Variance (MV) Optimal Rule"
   ]
  },
  {
   "cell_type": "markdown",
   "id": "a7fff075-044e-4477-8c0f-a046554a7c84",
   "metadata": {},
   "source": [
    "We consider a factor model framework with $n$ assets and $m$ factors, where time is discrete. The master equation for asset returns is given by:\n",
    "\n",
    "$$ r_t = \\alpha + \\beta_t f_t + \\epsilon_t $$\n",
    "\n",
    "where:\n",
    "- $ r_t $ is an $ n $-dimensional vector of asset total returns,\n",
    "- $ \\alpha $ is an $ n $-dimensional vector of expected returns,\n",
    "- $ \\epsilon_t $ is an $ n $-dimensional vector of asset idiosyncratic returns,\n",
    "- $ f_t $ is an $ m $-dimensional vector of factor returns,\n",
    "- $ \\beta_t $ is an $ n \\times m $ matrix of factor loadings.\n"
   ]
  },
  {
   "cell_type": "markdown",
   "id": "f0fbfef2-9986-4f14-b39a-5a0be499d1c9",
   "metadata": {},
   "source": [
    "Consider the usual factor model with excess returns $ \\alpha$ and covariance matrix $$ \\Sigma_r = \\beta \\Sigma_f \\beta^{T} + \\Sigma_\\epsilon $$. \n",
    "\n",
    "The mean-variance problem is:\n",
    "\n",
    "$$ \\max{\\alpha^{T} x - \\frac{1}{2} \\rho x^{T} \\Sigma_r x} $$\n",
    "\n",
    "which is solved by $$ x = \\rho \\Sigma_r^{-1} \\alpha $$ \n",
    "where $\\rho$ is the risk aversion parameter.\n",
    "\n"
   ]
  },
  {
   "cell_type": "code",
   "execution_count": null,
   "id": "ec778444-23dd-4d97-8bb4-2d6a3e3e77ab",
   "metadata": {},
   "outputs": [],
   "source": []
  },
  {
   "cell_type": "markdown",
   "id": "aaa96087-eb05-4b69-bd12-487695fac9f5",
   "metadata": {},
   "source": [
    "#### The Shrinked Mean-Variance (SMV) Optimal Rule "
   ]
  },
  {
   "cell_type": "code",
   "execution_count": null,
   "id": "228259d0-d1fd-4c2d-a238-62491f15f0d4",
   "metadata": {},
   "outputs": [],
   "source": []
  },
  {
   "cell_type": "markdown",
   "id": "fe9ac97d-7679-4773-b798-065495196de2",
   "metadata": {},
   "source": [
    "Here we follow the simple approach of [Stubbs and Vance, 2005] to justify the empirical observation that using a shrinked covariance matrix outperforms the naïve approach. \n",
    "\n",
    "Let $ \\alpha \\sim N(\\mu_\\alpha, \\Sigma_\\alpha) $. \n",
    "\n",
    "The mean-variance optimization problem now has an additional term generated by alpha’s randomness:\n",
    "\n",
    "$$ \\max \\mathbb{E}[(\\alpha + \\beta f+\\epsilon)^{T} x] - \\frac{1}{2\\rho} \\sqrt{\\mathbb{Var}[(\\alpha + \\beta f + \\epsilon)^{T} x]} $$\n",
    "\n",
    "This is equal to:\n",
    "\n",
    "$$ \\max \\mu_{\\alpha}^{T} x - \\frac{1}{2\\rho} x^{T} (\\Sigma_\\alpha + \\Sigma_r) x $$\n",
    "\n",
    "Hence the solution is given by:\n",
    "\n",
    "$$ x = \\rho (\\Sigma_\\alpha + \\Sigma_r)^{-1} \\mu_\\alpha $$\n",
    "\n",
    "And the optimum is:\n",
    "\n",
    "$$ \\frac{\\rho}{2} \\mu'_{\\alpha} (\\Sigma_\\alpha + \\Sigma_r)^{-1} \\mu_\\alpha $$\n",
    "\n",
    "If $ \\Sigma_\\alpha = \\tau^2 I $, then the solution is given by:\n",
    "$$ x = \\rho (\\Sigma_r + \\tau^2 I)^{-1} \\mu_\\alpha $$ \n",
    "If we add the constraint $ \\beta^T x = 0 $ (no factor risk), the solution simplifies to:\n",
    "\n",
    "$$ x_i = \\frac{\\mu_{\\alpha, i}}{[\\sigma_\\epsilon^2]_i + \\tau^2} $$\n",
    "\n",
    "For $ \\tau = 0 $, this gives the MVO sizing rule; for $ \\tau \\rightarrow \\infty $ this gives the equal-sized rule.\n"
   ]
  },
  {
   "cell_type": "code",
   "execution_count": null,
   "id": "da50b28c-c126-4840-8d6e-9cd034eb057e",
   "metadata": {},
   "outputs": [],
   "source": []
  },
  {
   "cell_type": "code",
   "execution_count": null,
   "id": "8d346946-c631-4c95-8b78-e9b965b31c67",
   "metadata": {},
   "outputs": [],
   "source": []
  },
  {
   "cell_type": "markdown",
   "id": "ef9d7383-8def-4184-95e3-4cfc76b32e15",
   "metadata": {},
   "source": [
    "## Empirical Analysis of the Sizing rules "
   ]
  },
  {
   "cell_type": "markdown",
   "id": "6cae7471-22ff-49c3-8950-791b205253ad",
   "metadata": {},
   "source": [
    "#### Simulated data: Un-intuitive Minimum Variance MVO"
   ]
  },
  {
   "cell_type": "markdown",
   "id": "a59aa438-2ddf-478c-a261-2ea794df08c8",
   "metadata": {},
   "source": [
    "\n",
    "- **Simulation Setup**:\n",
    "  - Simulate daily returns for 100 uncorrelated stocks with identical volatilities over 6 months (126 trading days).\n",
    "  - Estimate volatilities from the simulated daily returns.\n",
    "  - Construct a diagonal covariance matrix using the estimated volatilities.\n",
    "  - Compute minimum variance portfolio weights using the formula  \n",
    "  $$w_{\\text{mv}} = \\frac{\\Sigma^{-1} \\mathbf{1}}{\\mathbf{1}^T \\Sigma^{-1} \\mathbf{1}}$$\n",
    "  - Sort the computed portfolio weights from least to highest for visualization.\n"
   ]
  },
  {
   "cell_type": "code",
   "execution_count": 5,
   "id": "f9102064-64b0-4b4a-8b87-820b59828852",
   "metadata": {},
   "outputs": [
    {
     "data": {
      "image/png": "[encoded data removed]",
      "text/plain": [
       "<Figure size 720x432 with 1 Axes>"
      ]
     },
     "metadata": {
      "needs_background": "light"
     },
     "output_type": "display_data"
    },
    {
     "name": "stdout",
     "output_type": "stream",
     "text": [
      "Average oversizing or undersizing: 9.41%\n",
      "Number of stocks with mis-sizing in excess of 20%: 9\n"
     ]
    }
   ],
   "source": [
    "import numpy as np\n",
    "import pandas as pd\n",
    "import matplotlib.pyplot as plt\n",
    "\n",
    "# Set random seed for reproducibility\n",
    "np.random.seed(42)\n",
    "\n",
    "# Parameters\n",
    "num_stocks = 100\n",
    "num_days = 126  # 6 months of trading days\n",
    "true_volatility = 0.02  # Daily volatility\n",
    "\n",
    "# Simulate daily returns for 100 uncorrelated stocks with identical volatilities\n",
    "returns = np.random.normal(loc=0, scale=true_volatility, size=(num_days, num_stocks))\n",
    "\n",
    "# Estimate volatilities using daily returns over the past six months\n",
    "estimated_volatility = np.std(returns, axis=0)\n",
    "\n",
    "# Covariance matrix for uncorrelated returns\n",
    "cov_matrix = np.diag(estimated_volatility**2)\n",
    "\n",
    "# Minimum Variance Portfolio Weights (Closed-Form Solution)\n",
    "ones = np.ones(num_stocks)\n",
    "inv_cov_matrix = np.linalg.inv(cov_matrix)\n",
    "min_var_weights = inv_cov_matrix @ ones / (ones.T @ inv_cov_matrix @ ones)\n",
    "\n",
    "# Sort weights for plotting\n",
    "sorted_indices = np.argsort(min_var_weights)\n",
    "sorted_weights = min_var_weights[sorted_indices]\n",
    "\n",
    "# Compare to equal-weight portfolio\n",
    "equal_weights = np.array([1/num_stocks] * num_stocks)\n",
    "\n",
    "# Calculate mis-sizing\n",
    "mis_sizing = (min_var_weights - equal_weights) / equal_weights\n",
    "\n",
    "# Analyze results\n",
    "average_mis_sizing = np.mean(np.abs(mis_sizing))\n",
    "num_large_mis_sizing = np.sum(np.abs(mis_sizing) > 0.20)\n",
    "\n",
    "# Plot the sizes of the stocks in the Minimum Variance Portfolio\n",
    "plt.figure(figsize=(10, 6))\n",
    "plt.bar(range(num_stocks), sorted_weights, color='blue', alpha=0.6, label='Min Variance Weights')\n",
    "plt.axhline(y=1/num_stocks, color='red', linestyle='--', label='Equal Weights')\n",
    "plt.xlabel('Stock Index')\n",
    "plt.ylabel('Weight')\n",
    "plt.title('Stock Weights in Minimum Variance Portfolio (Sorted)')\n",
    "plt.legend()\n",
    "plt.show()\n",
    "\n",
    "print(f\"Average oversizing or undersizing: {average_mis_sizing * 100:.2f}%\")\n",
    "print(f\"Number of stocks with mis-sizing in excess of 20%: {num_large_mis_sizing}\")\n"
   ]
  },
  {
   "cell_type": "code",
   "execution_count": null,
   "id": "153e1ed0-7808-4ade-984d-0d8ed54f910d",
   "metadata": {},
   "outputs": [],
   "source": []
  },
  {
   "cell_type": "markdown",
   "id": "2cad7561-553a-4143-81e4-80cd8310d5a1",
   "metadata": {},
   "source": [
    "#### Realistic experiment"
   ]
  },
  {
   "cell_type": "markdown",
   "id": "0cff3f92-1d1c-4af1-a4be-9f48b028d0c1",
   "metadata": {},
   "source": [
    "***Data Selection***\n",
    "- **Time Period**: 1998–2019 (22 years).\n",
    "- **Universe**: Companies in the Russell 3000 index.\n",
    "- **Liquidity Filter**: Only include companies with an average daily trading volume over the previous month of $2M or more.\n",
    "\n",
    "***Investment Horizon***\n",
    "- **Frequency**: Monthly rebalancing.\n",
    "- **Horizon**: One-month investment periods.\n",
    "\n",
    "***Alpha Signal Generation***\n",
    "- **Within-Sector Signals**: Generate alpha signals for each sector.\n",
    "- **Correlation**: Signals have a positive cross-sectional correlation (5%) with the following one-month returns.\n",
    "- **Methods to Generate Alpha Signals**:\n",
    "  1. **Normal Distribution**:\n",
    "     - Draw alpha signals from a normal distribution. This mimics the empirical distribution of signals generated by portfolio managers (PMs).\n",
    "  2. **Simple Buy/Sell Signals**:\n",
    "     - Use binary signals with values of 1 or -1, representing buy and sell signals, respectively. These signals do not account for the strength of the conviction.\n",
    "\n",
    "***Portfolio Construction***\n",
    "- **Portfolio Sizes**: Construct portfolios with 50, 100, and 200 stocks.\n",
    "- **Rules Used**: Apply the four portfolio construction rules defined in  the previous section.\n",
    "- **Unit Gross Market Value (GMV)**: Ensure the total GMV is normalized to 1.\n",
    "\n",
    "***Performance Evaluation***\n",
    "- **Metric**: Estimate the Sharpe Ratio for each portfolio.\n",
    "  - **Sharpe Ratio**: A measure of risk-adjusted return calculated as the ratio of portfolio excess return over its standard deviation.\n",
    "- **Industry Analysis**: Evaluate the Sharpe Ratios for each industry.\n",
    "\n",
    "***Simulation and Averaging***\n",
    "- **Simulations**: Repeat the process over a large number of simulated alpha signals.\n",
    "- **Averaging**: Average the Sharpe Ratios across simulations to obtain robust performance metrics.\n",
    "\n"
   ]
  },
  {
   "cell_type": "code",
   "execution_count": null,
   "id": "2ef368a5-9711-4522-8d4a-b6527c067dad",
   "metadata": {},
   "outputs": [],
   "source": []
  },
  {
   "cell_type": "code",
   "execution_count": 6,
   "id": "ddd84cab-de25-4582-96c6-99f3e7a65931",
   "metadata": {},
   "outputs": [
    {
     "data": {
      "image/png": "[encoded data removed]",
      "text/plain": [
       "<Figure size 720x432 with 1 Axes>"
      ]
     },
     "metadata": {
      "needs_background": "light"
     },
     "output_type": "display_data"
    }
   ],
   "source": [
    "import numpy as np\n",
    "import pandas as pd\n",
    "from scipy.stats import norm\n",
    "import matplotlib.pyplot as plt\n",
    "\n",
    "# Parameters\n",
    "num_stocks_options = [50, 100, 200]\n",
    "investment_period = 22 * 12  # 22 years of monthly periods\n",
    "signal_corr = 0.05\n",
    "num_simulations = 1000\n",
    "\n",
    "# Function to simulate alpha signals and returns\n",
    "def generate_signals_and_returns(num_stocks, period_length, signal_corr):\n",
    "    # Simulate alpha signals\n",
    "    alpha_signals_normal = np.random.normal(0, 1, size=(period_length, num_stocks))\n",
    "    alpha_signals_binary = np.random.choice([1, -1], size=(period_length, num_stocks))\n",
    "\n",
    "    # Simulate future returns with given correlation\n",
    "    returns = (signal_corr * alpha_signals_normal +\n",
    "               np.sqrt(1 - signal_corr**2) * np.random.normal(0, 1, size=(period_length, num_stocks)))\n",
    "\n",
    "    return alpha_signals_normal, alpha_signals_binary, returns\n",
    "\n",
    "# Function to calculate Sharpe Ratio\n",
    "def calculate_sharpe_ratio(returns):\n",
    "    mean_return = np.mean(returns, axis=0)\n",
    "    std_return = np.std(returns, axis=0)\n",
    "    sharpe_ratio = mean_return / std_return\n",
    "    return sharpe_ratio\n",
    "\n",
    "# Main simulation loop\n",
    "sharpe_ratios_results = {num_stocks: {'normal': [], 'binary': []} for num_stocks in num_stocks_options}\n",
    "\n",
    "for num_stocks in num_stocks_options:\n",
    "    for _ in range(num_simulations):\n",
    "        alpha_normal, alpha_binary, future_returns = generate_signals_and_returns(num_stocks, investment_period, signal_corr)\n",
    "\n",
    "        # Evaluate portfolios for both types of alpha signals\n",
    "        portfolio_returns_normal = np.mean(future_returns * alpha_normal, axis=1)\n",
    "        portfolio_returns_binary = np.mean(future_returns * alpha_binary, axis=1)\n",
    "\n",
    "        sharpe_normal = calculate_sharpe_ratio(portfolio_returns_normal)\n",
    "        sharpe_binary = calculate_sharpe_ratio(portfolio_returns_binary)\n",
    "\n",
    "        sharpe_ratios_results[num_stocks]['normal'].append(sharpe_normal)\n",
    "        sharpe_ratios_results[num_stocks]['binary'].append(sharpe_binary)\n",
    "\n",
    "# Calculate average Sharpe Ratios\n",
    "avg_sharpe_ratios = {num_stocks: {'normal': np.mean(sharpe_ratios_results[num_stocks]['normal']),\n",
    "                                  'binary': np.mean(sharpe_ratios_results[num_stocks]['binary'])}\n",
    "                     for num_stocks in num_stocks_options}\n",
    "\n",
    "# Plotting the results\n",
    "fig, ax = plt.subplots(1, 1, figsize=(10, 6))\n",
    "width = 0.35\n",
    "indices = np.arange(len(num_stocks_options))\n",
    "\n",
    "avg_normal = [avg_sharpe_ratios[num_stocks]['normal'] for num_stocks in num_stocks_options]\n",
    "avg_binary = [avg_sharpe_ratios[num_stocks]['binary'] for num_stocks in num_stocks_options]\n",
    "\n",
    "ax.bar(indices - width/2, avg_normal, width, label='Normal Alpha Signals')\n",
    "ax.bar(indices + width/2, avg_binary, width, label='Binary Alpha Signals')\n",
    "\n",
    "ax.set_xlabel('Number of Stocks in Portfolio')\n",
    "ax.set_ylabel('Average Sharpe Ratio')\n",
    "ax.set_title('Average Sharpe Ratios for Different Portfolio Sizes and Alpha Signal Types')\n",
    "ax.set_xticks(indices)\n",
    "ax.set_xticklabels(num_stocks_options)\n",
    "ax.legend()\n",
    "\n",
    "plt.show()\n"
   ]
  },
  {
   "cell_type": "markdown",
   "id": "4d051c5a-fbed-49d5-b022-0ad49e7b859a",
   "metadata": {},
   "source": [
    "key findings: \n",
    "- first, alpha sizing significantly impacts the Sharpe Ratio, with potential gains or losses of 10 to 30 points in relative performance based on the method used. \n",
    "- Second, the naive mean-variance (MV) portfolio construction performs poorly, especially with gaussian and buy/sell signals, achieving only 34% and 35% of the performance of other methods. \n",
    "- third, Shrinked Mean-Variance with sector volatility performs comparably to the Proportional method.\n",
    "    - Why is this the case? \n",
    "    - One possibility is that estimation error of volatilities plays a role. To test if volatility estimation error is the issue, we do not use the predicted volatilities  but instead the realized volatility during the investment month for which we created the portfolio."
   ]
  },
  {
   "cell_type": "code",
   "execution_count": null,
   "id": "15497601-a7fd-4f69-af7c-760a9feb47bd",
   "metadata": {},
   "outputs": [],
   "source": []
  },
  {
   "cell_type": "code",
   "execution_count": null,
   "id": "78e29cee-cdd1-413d-8adf-12d5f3ef447d",
   "metadata": {},
   "outputs": [],
   "source": []
  },
  {
   "cell_type": "markdown",
   "id": "bb7a4431-bf47-410e-a0d7-913372ce59bf",
   "metadata": {},
   "source": [
    "- The Sharpe Ratios do not differ significantly between using predicted volatilities and realized volatilities. \n",
    "- This indicates that volatility estimation error is not the primary issue affecting portfolio performance. \n",
    "- Instead, the underlying problem is a more subtle effect related to how volatility scaling is applied.\n",
    "- To understand this subtle effect, a controlled experiment is needed  allowing a precise control over the dispersion of stock volatilities in the investment universe, which is not possible with historical data. \n",
    "- By manipulating the volatility dispersion, researchers can isolate and study the impact of volatility scaling on portfolio performance more accurately.\n",
    "\n",
    " "
   ]
  },
  {
   "cell_type": "code",
   "execution_count": null,
   "id": "7d44fc0e-c2ce-407e-ad79-736555c9ea8c",
   "metadata": {},
   "outputs": [],
   "source": []
  },
  {
   "cell_type": "code",
   "execution_count": null,
   "id": "61997a1f-a9c5-4f55-a632-d86899cbba53",
   "metadata": {},
   "outputs": [],
   "source": []
  },
  {
   "cell_type": "markdown",
   "id": "32a2e5d3-dae3-4849-9417-662b9d80eb22",
   "metadata": {},
   "source": [
    "\n",
    "\n",
    "1. **Two Investment Universes**:\n",
    "   - **First Universe**: 100 stocks with equal volatilities of 25%.\n",
    "   - **Second Universe**: 100 stocks split equally between:\n",
    "     - Half with volatility of 40%.\n",
    "     - Half with volatility of 10%.\n",
    "\n",
    "2. **Expected Return Forecasting**:\n",
    "   - Forecasted expected returns for each stock have a noise component, leading to realized returns that are on average 5% off from the forecast.\n",
    "\n",
    "3. **Impact of Volatility on Sizing Decisions**:\n",
    "   - In the first universe, since all stocks have the same volatility (25%), sizing decisions are primarily based on expected returns.\n",
    "   - In the second universe, where volatilities vary (40% and 10%), sizing decisions become asymmetric:\n",
    "     - Low-volatility stocks are sized larger than high-volatility stocks, especially pronounced with Mean-Variance (MV) scaling.\n",
    "\n",
    "4. **Calculation of Misallocation Due to Forecast Error**\n",
    "\n",
    "    - **First Universe** (All stocks at 25% volatility):\n",
    "      - Average NMV misallocation due to 5% forecast error:\n",
    "    $$\n",
    "        \\text{Misallocation} = \\frac{0.05}{0.25^2} = 0.8\n",
    "      $$\n",
    "\n",
    "    - **Second Universe** (Half at 40%, half at 10% volatility):\n",
    "      - Average NMV misallocation due to 5% forecast error:\n",
    "     $$\n",
    "        \\text{Misallocation} = \\left(\\frac{1}{2}\\right) \\times \\frac{0.05}{0.1^2} + \\left(\\frac{1}{2}\\right) \\times \\frac{0.05}{0.4^2} = 2.65\n",
    "       $$\n",
    "      - This represents a 332% increase in misallocation compared to the first universe due to volatility asymmetry.\n",
    "\n",
    "    - **Impact of Estimation Errors**: The critical factor affecting portfolio performance is not volatility estimation error but rather the accuracy of expected return forecasts.\n",
    "    - **Asymmetric Costs**: In portfolios with varying volatilities, forecast errors in low-volatility stocks incur higher costs compared to errors in high-volatility stocks, especially under Mean-Variance scaling.\n",
    "5. **Realistic Simulation Results**:\n",
    "  - 4000 simulations with 100 stocks over 3 years, where average volatility is 30% with varying dispersion.\n",
    "  - Results show that as volatility dispersion increases:\n",
    "    - Proportional rule performs better.\n",
    "    - Risk Parity degrades less.\n",
    "    - Mean-Variance, with or without foresight, underperforms due to its sensitivity to volatility and return estimation errors.\n",
    "\n"
   ]
  },
  {
   "cell_type": "markdown",
   "id": "faf6c195-6db9-4d36-a497-1fa3c0e08d71",
   "metadata": {},
   "source": [
    "## From Ideas to Positions "
   ]
  },
  {
   "cell_type": "markdown",
   "id": "5a3779d6-a00b-4f63-b437-9b5221c89bef",
   "metadata": {},
   "source": [
    "| Stock | Expected Return (%) | NMV  |\n",
    "|-------|---------------------|------|\n",
    "| ADBE  | 7.8                 | 123.3|\n",
    "| MSFT  | -0.8                | -13.2|\n",
    "| CSCO  | 2.4                 | 38.2 |\n",
    "| IBM   | -5.3                | -83.5|\n",
    "| NVDA  | 0.3                 | 5.0  |\n",
    "| INTC  | -3.3                | -51.9|\n"
   ]
  },
  {
   "cell_type": "code",
   "execution_count": 27,
   "id": "e9e0b3f5-3fb5-45d3-920d-ee6b88e94440",
   "metadata": {},
   "outputs": [],
   "source": [
    "expected_returns = [7.8 ,\n",
    " -0.8 ,\n",
    " 2.4 ,\n",
    " -5.3 ,\n",
    " 0.3 ,\n",
    " -3.3 ]"
   ]
  },
  {
   "cell_type": "code",
   "execution_count": 30,
   "id": "52f81262-0c73-414a-b054-3d9f69d97dbd",
   "metadata": {},
   "outputs": [],
   "source": [
    "def compute_kappa(target_gmv, expected_returns):\n",
    "    \"\"\"\n",
    "    Compute the constant kappa such that the portfolio's GMV meets the predefined target.\n",
    "    \n",
    "    Args:\n",
    "    - target_gmv (float): Target Gross Market Value (GMV) of the portfolio.\n",
    "    - expected_returns (list): List of expected returns for each asset in the portfolio.\n",
    "    \n",
    "    Returns:\n",
    "    - kappa (float): Constant kappa for scaling the expected returns to achieve the target GMV.\n",
    "    \"\"\"\n",
    "    total_expected_return =  pd.Series(expected_returns).abs().sum()\n",
    "    kappa = target_gmv / total_expected_return\n",
    "    return kappa\n",
    "\n",
    " "
   ]
  },
  {
   "cell_type": "code",
   "execution_count": 32,
   "id": "8e534f6c-1e24-486b-892e-966ece62b914",
   "metadata": {},
   "outputs": [],
   "source": [
    "kappa=compute_kappa(315, expected_returns)"
   ]
  },
  {
   "cell_type": "code",
   "execution_count": 33,
   "id": "e5628ac9-caee-4ab1-8eec-246b1ef2cc94",
   "metadata": {},
   "outputs": [
    {
     "data": {
      "text/plain": [
       "[123.46733668341706,\n",
       " -12.663316582914572,\n",
       " 37.98994974874371,\n",
       " -83.89447236180904,\n",
       " 4.748743718592964,\n",
       " -52.236180904522605]"
      ]
     },
     "execution_count": 33,
     "metadata": {},
     "output_type": "execute_result"
    }
   ],
   "source": [
    "[kappa*r for r in expected_returns]"
   ]
  },
  {
   "cell_type": "code",
   "execution_count": null,
   "id": "cb2051c3-fc78-4848-b70c-fa58090c8000",
   "metadata": {},
   "outputs": [],
   "source": []
  },
  {
   "cell_type": "code",
   "execution_count": null,
   "id": "9bd4729f-da24-4848-bd22-2078986fcfd0",
   "metadata": {},
   "outputs": [],
   "source": []
  },
  {
   "cell_type": "markdown",
   "id": "af9efab3-c782-493d-b7f9-be101d73f758",
   "metadata": {},
   "source": [
    "\n",
    "- **Scaling Positions**: \n",
    "  - Convert expected returns into Net Market Values (NMVs) by multiplying by $\\kappa=15.8$ to achieve a target Gross Market Value (GMV) of $\\$315M$.\n",
    "  $$ \\kappa = \\frac{\\text{Target GMV}}{\\sum_i\\alpha_i} $$\n",
    "  \n",
    "- **Factor Risk Concerns**: \n",
    "  - Simple scaling can lead to significant factor risk in the portfolio, such as market beta and momentum exposure.\n",
    "  \n",
    "- **Achieving Factor Neutrality**: \n",
    "  - Modify positions to minimize changes from original convictions while ensuring zero exposure to factors like market beta and momentum.\n",
    "  \n",
    "- **Rule of Thumb Approach**: \n",
    "  - Initially transforms raw investment ideas into factor-neutral positions, aiming to minimize disruption to original strategies.\n"
   ]
  },
  {
   "cell_type": "code",
   "execution_count": null,
   "id": "b2f03424-c45a-407b-80d1-b1a5d88107a7",
   "metadata": {},
   "outputs": [],
   "source": []
  },
  {
   "cell_type": "code",
   "execution_count": null,
   "id": "6e0e6ac3-d4cd-4803-8d2b-15172416ac0b",
   "metadata": {},
   "outputs": [],
   "source": []
  },
  {
   "cell_type": "markdown",
   "id": "b4ab0195-b529-4ac7-ae9e-85b307fde1b2",
   "metadata": {},
   "source": [
    "\n",
    "**Sizing Alphas into Positions, with Zero Factor Risk**\n",
    "\n",
    "You are given a factor loadings matrix $ B$ with a number of rows equal to the number of stocks in the estimation universe (e.g., 2000 for the US), and a number of columns equal to the number of factors. The expected returns are collected in a vector $ \\boldsymbol{\\alpha} $. You have a known target GMV for your portfolio.\n",
    "\n",
    "1. **Regress the column $ \\boldsymbol{\\alpha} $ against the columns of $B$**:\n",
    " $$ \\boldsymbol{\\alpha} = B \\mathbf{x} + \\boldsymbol{\\epsilon}$$ \n",
    "  where $ \\boldsymbol{\\epsilon} $ is the vector of residuals of the linear regression.\n",
    "\n",
    "2. **Standardize the vector $ \\boldsymbol{\\epsilon} $**:\n",
    "   $$a_i = \\frac{\\epsilon_i}{\\sum_i |\\epsilon_i|} $$ \n",
    "   where $ i $ denotes the $ i $-th stock in your portfolio\n",
    "\n",
    "3. **Set the Net Market Value (NMV) of stock $ i $**:\n",
    "   $$ \\text{NMV}_i = a_i \\times \\text{GMV} $$ \n",
    "\n",
    " "
   ]
  },
  {
   "cell_type": "markdown",
   "id": "088cb17c-ec02-4bad-bceb-ebf3b3b9362c",
   "metadata": {},
   "source": [
    "## Time-Series Risk-Based Portfolio Targeting "
   ]
  },
  {
   "cell_type": "markdown",
   "id": "2532a6a3-590b-4c99-801d-aa3390c91456",
   "metadata": {},
   "source": [
    "\n",
    "  - **Volatility Sizing**: Portfolio sizing decisions are fundamentally decisions about managing volatility. Each position's volatility is considered when sizing the portfolio.\n",
    "  - **Dynamic Nature**: Portfolio sizing isn't static; it varies daily due to tactical trading decisions such as opening, adjusting, or closing positions. Despite these variations, it generally remains within a range unless exceptional events occur.\n",
    "  - **Target Options**: Practitioners commonly target Gross Market Value (GMV) or portfolio volatility. Volatility targeting has gained attention due to its perceived advantages.\n",
    "  - **Advantages of Volatility Targeting**:\n",
    "    - **Better Risk Measure**: Volatility reflects portfolio risk more accurately than GMV, especially over time periods with varying market conditions.\n",
    "    - **Potential for Improved Performance**: By targeting volatility, managers may enhance the Sharpe Ratio or return on GMV. Volatility tends to be persistent, allowing managers to adjust risk levels in response to expected market conditions.\n",
    "  - **Considerations**:\n",
    "    - **Impact on Profitability**: Managers aren't typically rewarded for volatility management unless it enhances profitability. Managing volatility spikes might stabilize future risks without significantly impacting profitability.\n",
    "    - **Complexities and Risks**: Derisking strategies might inadvertently reduce profitability if not managed carefully. High volatility spikes often correlate with PnL losses, and managing volatility might affect subsequent PnL outcomes.\n",
    "\n"
   ]
  },
  {
   "cell_type": "markdown",
   "id": "9081f8ab-00e0-47e7-ab2c-8717804704ff",
   "metadata": {},
   "source": [
    "- **Objective**: The study seeks empirical evidence to validate volatility targeting strategies.\n",
    "- **Focus**: Emphasis on idiosyncratic volatility management, aligning with the earlier discussed separation of concerns.\n",
    "- **Experimental Design**:\n",
    "    1. **Signal Types**: Tests conducted using both normal distribution signals and simple buy/sell signals.\n",
    "    2. **Signal Horizons**: Evaluation of short-term (one month ahead) and longer-term (three months ahead) signals to account for potential profit and loss (PnL) reversion post-volatility spikes.\n",
    "    3. **Portfolio Breadth**: Analysis across portfolios of varying sizes - 50, 100, and 200 stocks.\n",
    "    4. **Sector-specific Analysis**: Assessing the impact of targeting strategies within different sectors.\n",
    "- **Simulation Details**:\n",
    "    - Conducted 50 simulations for the period 1998–2019 on US stocks.\n",
    "    - Daily targeting of GMV and volatilities during simulations.\n",
    "    - Acknowledgement of potential time and cost implications, suggesting daily procedures as a reasonable approximation despite possible alternatives like monthly targeting.\n"
   ]
  },
  {
   "cell_type": "markdown",
   "id": "deca263c-67a4-445b-86f1-bc31df722fae",
   "metadata": {},
   "source": [
    "## Appendix"
   ]
  },
  {
   "cell_type": "markdown",
   "id": "dea6863f-5fa6-45fe-975f-ba2d86b40b54",
   "metadata": {},
   "source": [
    " \n",
    "\n",
    "Given:\n",
    "- Excess returns: $ \\alpha $\n",
    "- Covariance matrix of returns: $ \\Sigma_r = \\beta \\Sigma_f \\beta^T + \\Sigma_\\epsilon $\n",
    "- Risk aversion parameter: $ \\rho $\n",
    "\n",
    "Let's solve the mean-variance optimization problem is:\n",
    "$$ \\max_{x} \\alpha^T x - \\frac{1}{2} \\rho x^T \\Sigma_r x $$\n",
    "subject to \n",
    "\n",
    "$$ x^T 1 = 1 $$\n",
    "\n",
    "We can write the Langragian as:\n",
    "$$ \\mathcal{L}(x, \\lambda) = \\alpha^T x - \\frac{1}{2} \\rho x^T \\Sigma_r x + \\lambda (x^T 1 - 1) $$\n",
    "where $ \\lambda $ is the Lagrange multiplier for the constraint $ x^T 1 = 1 $\n",
    "\n",
    "To find the optimal $ x $, let's take the derivative of $ \\mathcal{L} $ with respect to $ x $ and set it to zero:\n",
    "$$ \\frac{\\partial \\mathcal{L}}{\\partial x} = \\alpha - \\rho \\Sigma_r x + \\lambda 1 = 0 $$\n",
    "\n",
    "From the first-order condition:\n",
    "$$ \\alpha = \\rho \\Sigma_r x - \\lambda 1 $$\n",
    "\n",
    "Multiply both sides by $ \\Sigma_r^{-1} $:\n",
    "$$ \\Sigma_r^{-1} \\alpha = \\rho x - \\Sigma_r^{-1} \\lambda 1 $$\n",
    "Transposing both sides: \n",
    "$$ \\alpha^T\\Sigma_r^{-1}  = \\rho x^T - 1^T\\Sigma_r^{-1} \\lambda  $$\n",
    "Multiply by the unit vector\n",
    "$$ \\alpha^T\\Sigma_r^{-1}1  = \\rho x^T1 - 1^T\\Sigma_r^{-1}1 \\lambda  $$\n",
    "and using  $ x^T 1 = 1 $, yields $ \\lambda $ would be chosen such that \n",
    "$$ \\lambda = \\frac{\\rho-\\alpha^T \\Sigma_r^{-1} 1 } {(1^T \\Sigma_r^{-1} 1)} $$ \n",
    "\n",
    "Therefore:\n",
    "$$ x = \\rho \\Sigma_r^{-1} \\alpha $$\n",
    "\n",
    " "
   ]
  },
  {
   "cell_type": "code",
   "execution_count": null,
   "id": "53ff6241-6b10-4ce7-8b2d-70c471a7127d",
   "metadata": {},
   "outputs": [],
   "source": []
  }
 ],
 "metadata": {
  "kernelspec": {
   "display_name": "Python 3.8 (pytorch)",
   "language": "python",
   "name": "pytorch"
  },
  "language_info": {
   "codemirror_mode": {
    "name": "ipython",
    "version": 3
   },
   "file_extension": ".py",
   "mimetype": "text/x-python",
   "name": "python",
   "nbconvert_exporter": "python",
   "pygments_lexer": "ipython3",
   "version": "3.8.13"
  }
 },
 "nbformat": 4,
 "nbformat_minor": 5
}
