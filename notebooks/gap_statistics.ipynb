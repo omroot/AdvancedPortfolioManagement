{
 "cells": [
  {
   "cell_type": "markdown",
   "id": "b46fa278",
   "metadata": {},
   "source": [
    "# Optimal Clustering "
   ]
  },
  {
   "cell_type": "code",
   "execution_count": null,
   "id": "4e3e9f0f",
   "metadata": {
    "tags": []
   },
   "outputs": [],
   "source": []
  },
  {
   "cell_type": "code",
   "execution_count": null,
   "id": "6b718b8a-59ec-4323-b55f-744bd4039f76",
   "metadata": {},
   "outputs": [],
   "source": []
  },
  {
   "cell_type": "code",
   "execution_count": null,
   "id": "2fe91f14-cf5a-4f2f-b66b-11d6715a1523",
   "metadata": {},
   "outputs": [],
   "source": []
  },
  {
   "cell_type": "code",
   "execution_count": null,
   "id": "4dc84927-1469-4aeb-8bd1-075ee41b1a4e",
   "metadata": {},
   "outputs": [],
   "source": []
  },
  {
   "cell_type": "markdown",
   "id": "3c494490-491c-4e50-8cc4-a3e222efd743",
   "metadata": {},
   "source": [
    "# Gap Statistic Algorithm\n",
    "\n",
    "## Step 1: Cluster the Original Data\n",
    "For each number of clusters \\( k \\) from 1 to the maximum number of clusters $ K $:\n",
    "- Apply a clustering algorithm (e.g., K-Means) to the original data and calculate the within-cluster dispersion $ W_k $.\n",
    "\n",
    "$$\n",
    "W_k = \\sum_{i=1}^{k} \\sum_{x \\in C_i} \\| x - \\mu_i \\|^2\n",
    "$$\n",
    "\n",
    "where $ C_i $ is the set of points in cluster $ i $, and $ \\mu_i $ is the centroid of cluster $ i $.\n",
    "\n",
    "## Step 2: Generate Reference Datasets\n",
    "Generate $ B $ reference datasets by sampling from a uniform distribution over the range of the original data.\n",
    "For each reference dataset $ b $ and each $ k $:\n",
    "- Apply the same clustering algorithm to the reference dataset and calculate the within-cluster dispersion $ W_{kb} $.\n",
    "\n",
    "## Step 3: Calculate Gap Statistic\n",
    "Compute the Gap Statistic for each $ k $ as:\n",
    "\n",
    "$$\n",
    "\\text{Gap}(k) = \\frac{1}{B} \\sum_{b=1}^{B} \\log(W_{kb}) - \\log(W_k)\n",
    "$$\n",
    "\n",
    "where $ \\frac{1}{B} \\sum_{b=1}^{B} \\log(W_{kb})$ is the average within-cluster dispersion of the reference datasets, and $ \\log(W_k) $ is the within-cluster dispersion of the original data.\n",
    "\n",
    "## Step 4: Standard Deviation of the Gap Statistic\n",
    "Compute the standard deviation of $ \\log(W_{kb}) $ across the $ B$ reference datasets:\n",
    "\n",
    "$$\n",
    "s_k = \\sqrt{1 + \\frac{1}{B}} \\cdot \\sqrt{\\frac{1}{B} \\sum_{b=1}^{B} (\\log(W_{kb}) - \\frac{1}{B} \\sum_{b=1}^{B} \\log(W_{kb}))^2}\n",
    "$$\n",
    "\n",
    "## Step 5: Determine the Optimal Number of Clusters\n",
    "Choose the optimal number of clusters $ k^* $ as the smallest $ k $ such that:\n",
    "\n",
    "$$\n",
    "\\text{Gap}(k) \\geq \\text{Gap}(k+1) - s_{k+1}\n",
    "$$\n",
    "Equivalently, \n",
    "$$\n",
    "k^* = \\min \\left\\{ k : \\text{Gap}(k) \\geq \\text{Gap}(k+1) - s_{k+1} \\right\\}\n",
    "$$\n",
    " \n",
    " This criterion ensures that the chosen number of clusters provides a significant gap between the clustering of the data and the reference distribution.\n",
    "\n",
    " \n",
    " "
   ]
  },
  {
   "cell_type": "code",
   "execution_count": null,
   "id": "fd07dc78-7b65-4d5d-aee8-2072bf7adc88",
   "metadata": {},
   "outputs": [],
   "source": []
  }
 ],
 "metadata": {
  "kernelspec": {
   "display_name": "Python 3.8 (pytorch)",
   "language": "python",
   "name": "pytorch"
  },
  "language_info": {
   "codemirror_mode": {
    "name": "ipython",
    "version": 3
   },
   "file_extension": ".py",
   "mimetype": "text/x-python",
   "name": "python",
   "nbconvert_exporter": "python",
   "pygments_lexer": "ipython3",
   "version": "3.8.13"
  },
  "toc": {
   "base_numbering": 1,
   "nav_menu": {},
   "number_sections": true,
   "sideBar": true,
   "skip_h1_title": false,
   "title_cell": "Table of Contents",
   "title_sidebar": "Contents",
   "toc_cell": false,
   "toc_position": {},
   "toc_section_display": true,
   "toc_window_display": false
  },
  "varInspector": {
   "cols": {
    "lenName": 16,
    "lenType": 16,
    "lenVar": 40
   },
   "kernels_config": {
    "python": {
     "delete_cmd_postfix": "",
     "delete_cmd_prefix": "del ",
     "library": "var_list.py",
     "varRefreshCmd": "print(var_dic_list())"
    },
    "r": {
     "delete_cmd_postfix": ") ",
     "delete_cmd_prefix": "rm(",
     "library": "var_list.r",
     "varRefreshCmd": "cat(var_dic_list()) "
    }
   },
   "types_to_exclude": [
    "module",
    "function",
    "builtin_function_or_method",
    "instance",
    "_Feature"
   ],
   "window_display": false
  }
 },
 "nbformat": 4,
 "nbformat_minor": 5
}
