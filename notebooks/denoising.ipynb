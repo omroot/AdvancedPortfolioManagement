{
 "cells": [
  {
   "cell_type": "markdown",
   "id": "107e9dd4",
   "metadata": {},
   "source": [
    "# Denoising and Detoning"
   ]
  },
  {
   "cell_type": "code",
   "execution_count": 1,
   "id": "e4030fd0",
   "metadata": {},
   "outputs": [],
   "source": [
    "%load_ext autoreload \n",
    "%autoreload 2\n",
    "%matplotlib inline"
   ]
  },
  {
   "cell_type": "code",
   "execution_count": 2,
   "id": "1a425ba6",
   "metadata": {},
   "outputs": [],
   "source": [
    "import sys\n"
   ]
  },
  {
   "cell_type": "code",
   "execution_count": 3,
   "id": "d2f6b089",
   "metadata": {},
   "outputs": [],
   "source": [
    "sys.path.append('../')"
   ]
  },
  {
   "cell_type": "code",
   "execution_count": 4,
   "id": "d9955481",
   "metadata": {},
   "outputs": [],
   "source": [
    "import matplotlib.pyplot as plt "
   ]
  },
  {
   "cell_type": "code",
   "execution_count": 5,
   "id": "926764b4",
   "metadata": {},
   "outputs": [
    {
     "name": "stderr",
     "output_type": "stream",
     "text": [
      "/Users/oualid/Documents/Documents/Projects/omroot_repos/ML4AM/notebooks/../ml4am/denoising_refactored.py:17: FutureWarning: The default dtype for empty Series will be 'object' instead of 'float64' in a future version. Specify a dtype explicitly to silence this warning.\n",
      "  pts: int)-> pd.Series():\n"
     ]
    }
   ],
   "source": [
    "from ml4am.denoising_refactored import *"
   ]
  },
  {
   "cell_type": "code",
   "execution_count": null,
   "id": "7139978f",
   "metadata": {},
   "outputs": [],
   "source": []
  },
  {
   "cell_type": "code",
   "execution_count": null,
   "id": "c33c800e",
   "metadata": {},
   "outputs": [],
   "source": []
  },
  {
   "cell_type": "markdown",
   "id": "025ab457",
   "metadata": {},
   "source": [
    "## The Marcenko-Pastur Theorem "
   ]
  },
  {
   "cell_type": "code",
   "execution_count": 6,
   "id": "ca055b05-1e71-4828-85bb-057f31f82361",
   "metadata": {},
   "outputs": [],
   "source": [
    "x=np.random.normal(size=(10000,1000)) "
   ]
  },
  {
   "cell_type": "code",
   "execution_count": 7,
   "id": "7ac184b6-fd35-4bfa-b1a2-5de9b7700d67",
   "metadata": {},
   "outputs": [],
   "source": [
    "matrix = np.corrcoef(x,rowvar=0)"
   ]
  },
  {
   "cell_type": "code",
   "execution_count": 8,
   "id": "e8d72332",
   "metadata": {},
   "outputs": [],
   "source": [
    "eigenvalues,eigenvectors=getPCA(matrix) "
   ]
  },
  {
   "cell_type": "code",
   "execution_count": 9,
   "id": "0519b2df-31be-44d3-b4ac-4054c52c9b60",
   "metadata": {},
   "outputs": [],
   "source": [
    "q=x.shape[0]/float(x.shape[1])"
   ]
  },
  {
   "cell_type": "code",
   "execution_count": 10,
   "id": "b4408fe8-d3d5-43ee-abe9-5819bbfbb11d",
   "metadata": {},
   "outputs": [],
   "source": [
    "theoretical_pdf =MarcenkoPasturPDF(1.,q=q,pts=1000) "
   ]
  },
  {
   "cell_type": "code",
   "execution_count": 11,
   "id": "4b0d0892-beb6-4e59-8aa0-38a1f5e39ba1",
   "metadata": {},
   "outputs": [],
   "source": [
    "empirical_pdf=FitEvaluateKernelDensityEstimator(observations = np.diag(eigenvalues),\n",
    "                                                kernel_bandwidth=.01) # empirical pdf"
   ]
  },
  {
   "cell_type": "code",
   "execution_count": 12,
   "id": "2f781bd3",
   "metadata": {},
   "outputs": [
    {
     "data": {
      "text/plain": [
       "Text(0.5, 1.0, 'A visualization of the Marcenko-Patur Theorem')"
      ]
     },
     "execution_count": 12,
     "metadata": {},
     "output_type": "execute_result"
    },
    {
     "data": {
      "image/png": "[encoded data removed]",
      "text/plain": [
       "<Figure size 432x288 with 1 Axes>"
      ]
     },
     "metadata": {
      "needs_background": "light"
     },
     "output_type": "display_data"
    }
   ],
   "source": [
    "_=plt.plot(theoretical_pdf.index, theoretical_pdf ,'-', label=\"Marcenko-Pastur pdf\")\n",
    "_=plt.plot(empirical_pdf.index, empirical_pdf ,'-', label=\"Empirical:KDE\")\n",
    "plt.legend(loc=\"upper right\")\n",
    "plt.xlabel(r'$\\lambda$')    \n",
    "plt.ylabel(r'$Pr(\\lambda)$')  \n",
    "plt.title('A visualization of the Marcenko-Patur Theorem')"
   ]
  },
  {
   "cell_type": "markdown",
   "id": "4c928345",
   "metadata": {},
   "source": [
    "## Random Matrix with Signal"
   ]
  },
  {
   "cell_type": "code",
   "execution_count": 13,
   "id": "55e5f55e",
   "metadata": {},
   "outputs": [],
   "source": [
    "alpha=.95\n",
    "number_total_factors=1000\n",
    "number_signal_factors=100\n",
    "q=10 "
   ]
  },
  {
   "cell_type": "code",
   "execution_count": 14,
   "id": "3bf9cb2d",
   "metadata": {},
   "outputs": [],
   "source": [
    "random_covariance_matrix =np.cov(np.random.normal(size=(number_total_factors*q,number_total_factors)),rowvar=0) \n"
   ]
  },
  {
   "cell_type": "code",
   "execution_count": 15,
   "id": "2d916355",
   "metadata": {},
   "outputs": [
    {
     "data": {
      "text/plain": [
       "(1000, 1000)"
      ]
     },
     "execution_count": 15,
     "metadata": {},
     "output_type": "execute_result"
    }
   ],
   "source": [
    "random_covariance_matrix.shape"
   ]
  },
  {
   "cell_type": "code",
   "execution_count": 16,
   "id": "0d2ae69b-7a0c-4536-bb45-530c8576a23d",
   "metadata": {},
   "outputs": [],
   "source": [
    "random_covariance_matrix=alpha*random_covariance_matrix+(1-alpha)*generate_random_covariance(number_total_factors,\n",
    "                                                                                             number_signal_factors) # noise+signal \n"
   ]
  },
  {
   "cell_type": "code",
   "execution_count": 17,
   "id": "36c3b09e",
   "metadata": {},
   "outputs": [],
   "source": [
    "\n",
    "random_correlation_matrix=covariance2correlation(random_covariance_matrix)\n"
   ]
  },
  {
   "cell_type": "code",
   "execution_count": 18,
   "id": "dee319a4-b3da-4006-a1d2-a9d6998bd027",
   "metadata": {},
   "outputs": [],
   "source": [
    "eigenvalues,eigenvectors=getPCA(random_correlation_matrix)"
   ]
  },
  {
   "cell_type": "code",
   "execution_count": 19,
   "id": "c911bfd5-1872-43d1-a763-7b897bdaf8fd",
   "metadata": {},
   "outputs": [
    {
     "data": {
      "text/plain": [
       "array([14.22577243, 13.97777648, 13.51944946, 13.23080647, 13.0791493 ,\n",
       "       13.00297031, 12.90336898, 12.69481168, 12.44277509, 12.31782867])"
      ]
     },
     "execution_count": 19,
     "metadata": {},
     "output_type": "execute_result"
    }
   ],
   "source": [
    "np.diag(eigenvalues)[0:10]"
   ]
  },
  {
   "cell_type": "code",
   "execution_count": 20,
   "id": "4ff0e2f6-33c2-423c-989a-ca392e6f0255",
   "metadata": {},
   "outputs": [],
   "source": [
    "theoretical_pdf =MarcenkoPasturPDF(1.,q=x.shape[0]/float(x.shape[1]),pts=1000) \n"
   ]
  },
  {
   "cell_type": "code",
   "execution_count": 21,
   "id": "d16e3d80-2eb6-4b87-ba7c-bc4399567ebd",
   "metadata": {},
   "outputs": [],
   "source": [
    "best_kernel_bandwidth = find_optimal_kernel_bandwidth(np.diag(eigenvalues))"
   ]
  },
  {
   "cell_type": "code",
   "execution_count": 22,
   "id": "90a2ea06-54f3-48e8-ae82-7ab1ee089a94",
   "metadata": {},
   "outputs": [
    {
     "data": {
      "text/plain": [
       "0.17097465139375173"
      ]
     },
     "execution_count": 22,
     "metadata": {},
     "output_type": "execute_result"
    }
   ],
   "source": [
    "best_kernel_bandwidth['bandwidth']"
   ]
  },
  {
   "cell_type": "code",
   "execution_count": 23,
   "id": "433a06bc",
   "metadata": {},
   "outputs": [],
   "source": [
    "empirical_pdf=FitEvaluateKernelDensityEstimator(np.diag(eigenvalues),\n",
    "                                       kernel_bandwidth=best_kernel_bandwidth['bandwidth']) # empirical pdf"
   ]
  },
  {
   "cell_type": "code",
   "execution_count": 24,
   "id": "3a075bb6",
   "metadata": {},
   "outputs": [
    {
     "data": {
      "image/png": "[encoded data removed]",
      "text/plain": [
       "<Figure size 432x288 with 1 Axes>"
      ]
     },
     "metadata": {
      "needs_background": "light"
     },
     "output_type": "display_data"
    }
   ],
   "source": [
    "fig = plt.figure()\n",
    "ax  = fig.add_subplot(111)\n",
    "_=ax.hist(np.diag(eigenvalues), color='r',density = True, bins=50) # Histogram the eigenvalues\n",
    "plt.plot(theoretical_pdf.index, theoretical_pdf, color='b', label=\"Marcenko-Pastur pdf\")\n",
    "plt.plot(empirical_pdf.index, empirical_pdf, color='g', label=\"Empirical:KDE pdf\")\n",
    "\n",
    "#plt.plot(pdf1.keys(), pdf1, color='g', label=\"Empirical:KDE\")\n",
    "#plt.plot(x_range, pdf2, color='b', label=\"Eigenvalues of random-matrix with signal\")\n",
    "plt.legend(loc=\"upper right\")\n",
    "plt.show()   "
   ]
  },
  {
   "cell_type": "code",
   "execution_count": null,
   "id": "9ba7f738",
   "metadata": {},
   "outputs": [],
   "source": [
    " "
   ]
  },
  {
   "cell_type": "markdown",
   "id": "dd3e5e48",
   "metadata": {},
   "source": [
    "## Fitting the Marcenko-Pastur Distribution "
   ]
  },
  {
   "cell_type": "code",
   "execution_count": 25,
   "id": "68ab993e-eb49-4f29-9e1e-e05f942e7408",
   "metadata": {},
   "outputs": [
    {
     "data": {
      "text/plain": [
       "10"
      ]
     },
     "execution_count": 25,
     "metadata": {},
     "output_type": "execute_result"
    }
   ],
   "source": [
    "q"
   ]
  },
  {
   "cell_type": "code",
   "execution_count": 26,
   "id": "d65700dc",
   "metadata": {},
   "outputs": [
    {
     "name": "stdout",
     "output_type": "stream",
     "text": [
      "      fun: 663.2453828386441\n",
      " hess_inv: <1x1 LbfgsInvHessProduct with dtype=float64>\n",
      "      jac: array([-1108.02550933])\n",
      "  message: 'CONVERGENCE: NORM_OF_PROJECTED_GRADIENT_<=_PGTOL'\n",
      "     nfev: 4\n",
      "      nit: 1\n",
      "     njev: 2\n",
      "   status: 0\n",
      "  success: True\n",
      "        x: array([0.99999])\n",
      "found errPDFs 0.99999\n"
     ]
    }
   ],
   "source": [
    "max_random_eigenvalue,learned_variance = find_max_random_eigenvalue(np.diag(eigenvalues),\n",
    "                                q,\n",
    "                                kernel_bandwidth=best_kernel_bandwidth['bandwidth'])"
   ]
  },
  {
   "cell_type": "code",
   "execution_count": 27,
   "id": "330b5cc8-ef38-4bf2-94e2-71a735f0a997",
   "metadata": {},
   "outputs": [
    {
     "data": {
      "text/plain": [
       "(1.7324382074783558, 0.9982575791169037)"
      ]
     },
     "execution_count": 27,
     "metadata": {},
     "output_type": "execute_result"
    }
   ],
   "source": [
    "max_random_eigenvalue,learned_variance"
   ]
  },
  {
   "cell_type": "code",
   "execution_count": 28,
   "id": "d1be80ef",
   "metadata": {},
   "outputs": [],
   "source": [
    "number_signal_factors =eigenvalues.shape[0]-np.diag(eigenvalues)[::-1].searchsorted(max_random_eigenvalue)"
   ]
  },
  {
   "cell_type": "code",
   "execution_count": 29,
   "id": "1a63ac78-fa07-4100-aae9-f9848cffad95",
   "metadata": {},
   "outputs": [
    {
     "data": {
      "text/plain": [
       "100"
      ]
     },
     "execution_count": 29,
     "metadata": {},
     "output_type": "execute_result"
    }
   ],
   "source": [
    "number_signal_factors"
   ]
  },
  {
   "cell_type": "code",
   "execution_count": 30,
   "id": "b42acc27",
   "metadata": {},
   "outputs": [],
   "source": [
    "fitted_theoretical_pdf = MarcenkoPasturPDF(learned_variance,\n",
    "                                           q ,\n",
    "                                           pts=1000) \n"
   ]
  },
  {
   "cell_type": "code",
   "execution_count": 31,
   "id": "f0384841",
   "metadata": {},
   "outputs": [
    {
     "data": {
      "image/png": "[encoded data removed]",
      "text/plain": [
       "<Figure size 432x288 with 1 Axes>"
      ]
     },
     "metadata": {
      "needs_background": "light"
     },
     "output_type": "display_data"
    }
   ],
   "source": [
    "fig = plt.figure()\n",
    "ax  = fig.add_subplot(111)\n",
    "_=ax.hist(np.diag(eigenvalues), color='r',density = True, bins=50) # Histogram the eigenvalues\n",
    "plt.plot(theoretical_pdf.index, theoretical_pdf, color='b', label=\"Marcenko-Pastur pdf\")\n",
    "plt.plot(empirical_pdf.index, empirical_pdf, color='g', label=\"Empirical:KDE pdf\")\n",
    "plt.plot(fitted_theoretical_pdf.index, fitted_theoretical_pdf, color='m', label=\"Fitted.mp pdf\")\n",
    "\n",
    "#plt.plot(pdf1.keys(), pdf1, color='g', label=\"Empirical:KDE\")\n",
    "#plt.plot(x_range, pdf2, color='b', label=\"Eigenvalues of random-matrix with signal\")\n",
    "plt.legend(loc=\"upper right\")\n",
    "plt.show()   "
   ]
  },
  {
   "cell_type": "markdown",
   "id": "97252e25",
   "metadata": {},
   "source": [
    "## Hyperparameter Fine tuning of M-P distribution"
   ]
  },
  {
   "cell_type": "code",
   "execution_count": null,
   "id": "36967a5c",
   "metadata": {},
   "outputs": [],
   "source": []
  },
  {
   "cell_type": "code",
   "execution_count": 32,
   "id": "2cca7d9d",
   "metadata": {},
   "outputs": [],
   "source": [
    "best_kernel_bandwidth = find_optimal_kernel_bandwidth(np.diag(eigenvalues))"
   ]
  },
  {
   "cell_type": "code",
   "execution_count": 33,
   "id": "45ee5c0e",
   "metadata": {},
   "outputs": [
    {
     "data": {
      "text/plain": [
       "{'bandwidth': 0.17097465139375173}"
      ]
     },
     "execution_count": 33,
     "metadata": {},
     "output_type": "execute_result"
    }
   ],
   "source": [
    "best_kernel_bandwidth"
   ]
  },
  {
   "cell_type": "code",
   "execution_count": null,
   "id": "215919af",
   "metadata": {},
   "outputs": [],
   "source": []
  },
  {
   "cell_type": "code",
   "execution_count": null,
   "id": "2dc8e007",
   "metadata": {},
   "outputs": [],
   "source": []
  },
  {
   "cell_type": "code",
   "execution_count": 34,
   "id": "e63ca3ef",
   "metadata": {},
   "outputs": [
    {
     "ename": "NameError",
     "evalue": "name 'STOP' is not defined",
     "output_type": "error",
     "traceback": [
      "\u001b[0;31m---------------------------------------------------------------------------\u001b[0m",
      "\u001b[0;31mNameError\u001b[0m                                 Traceback (most recent call last)",
      "Input \u001b[0;32mIn [34]\u001b[0m, in \u001b[0;36m<cell line: 1>\u001b[0;34m()\u001b[0m\n\u001b[0;32m----> 1\u001b[0m \u001b[43mSTOP\u001b[49m\n",
      "\u001b[0;31mNameError\u001b[0m: name 'STOP' is not defined"
     ]
    }
   ],
   "source": [
    "STOP"
   ]
  },
  {
   "cell_type": "markdown",
   "id": "0270e800",
   "metadata": {},
   "source": [
    "## Denoising "
   ]
  },
  {
   "cell_type": "code",
   "execution_count": null,
   "id": "9e4fb0c0",
   "metadata": {},
   "outputs": [],
   "source": [
    "denoised_correlation_matrix = denoise_correlation_matrix(eigenvalues ,\n",
    "                               eigenvectors ,\n",
    "                               number_signal_factors )"
   ]
  },
  {
   "cell_type": "code",
   "execution_count": null,
   "id": "cc26c1f2-ba23-474f-ac35-5ae92f9da483",
   "metadata": {},
   "outputs": [],
   "source": [
    "denoised_eigenvalues , denoised_eigenvectors = getPCA(denoised_correlation_matrix)"
   ]
  },
  {
   "cell_type": "code",
   "execution_count": null,
   "id": "3c68c67c",
   "metadata": {},
   "outputs": [],
   "source": [
    "denoised_eigenvalues = np.diag(denoised_eigenvalues)\n",
    "prior_eigenvalues = np.diag(eigenvalues)\n",
    "plt.plot(range(0, len(denoised_eigenvalues)), np.log(denoised_eigenvalues), color='r', label=\"Denoised eigen-function\")\n",
    "plt.plot(range(0, len(prior_eigenvalues)), np.log(prior_eigenvalues), color='g', label=\"Original eigen-function\")\n",
    "plt.xlabel(\"Eigenvalue number\")\n",
    "plt.ylabel(\"Eigenvalue (log-scale)\")\n",
    "plt.legend(loc=\"upper right\")\n",
    "plt.show()"
   ]
  },
  {
   "cell_type": "code",
   "execution_count": null,
   "id": "7f4860ab",
   "metadata": {},
   "outputs": [],
   "source": [
    "denoised_correlation_matrix_2 = shrinkage_denoise_correlation_matrix(eigenvalues,\n",
    "                                          eigenvectors,\n",
    "                                          number_signal_factors,\n",
    "                                          alpha=0.5)"
   ]
  },
  {
   "cell_type": "code",
   "execution_count": null,
   "id": "31ff7007",
   "metadata": {},
   "outputs": [],
   "source": [
    "corr1 = denoisedCorr2(eVal01, eVec01, nFacts0, alpha=0.5)   \n",
    "eVal1, eVec1 = getPCA(corr1)"
   ]
  },
  {
   "cell_type": "code",
   "execution_count": null,
   "id": "0396c750",
   "metadata": {},
   "outputs": [],
   "source": [
    "denoised_eigenvalue = np.diag(eVal1)\n",
    "eigenvalue_prior = np.diag(eVal01)\n",
    "plt.plot(range(0, len(denoised_eigenvalue)), np.log(denoised_eigenvalue), color='r', label=\"Denoised eigen-function\")\n",
    "plt.plot(range(0, len(eigenvalue_prior)), np.log(eigenvalue_prior), color='g', label=\"Original eigen-function\")\n",
    "plt.xlabel(\"Eigenvalue number\")\n",
    "plt.ylabel(\"Eigenvalue (log-scale)\")\n",
    "plt.legend(loc=\"upper right\")\n",
    "plt.show()"
   ]
  },
  {
   "cell_type": "markdown",
   "id": "1e87f70f",
   "metadata": {},
   "source": [
    "## Detoning "
   ]
  },
  {
   "cell_type": "code",
   "execution_count": null,
   "id": "fa76aeeb",
   "metadata": {},
   "outputs": [],
   "source": [
    "corr_detoned_denoised = detoned_corr(corr1, eVal1, eVec1)\n",
    "\n",
    "eVal1_detoned, eVec1_detoned = getPCA(corr_detoned_denoised)\n",
    "detoned_denoised_eigenvalue = np.diag(eVal1_detoned)\n",
    "denoised_eigenvalue = np.diag(eVal1)\n",
    "eigenvalue_prior = np.diag(eVal01)"
   ]
  },
  {
   "cell_type": "code",
   "execution_count": null,
   "id": "98eb32de",
   "metadata": {},
   "outputs": [],
   "source": []
  },
  {
   "cell_type": "code",
   "execution_count": null,
   "id": "99a03300",
   "metadata": {},
   "outputs": [],
   "source": [
    "\n",
    "\n",
    "plt.plot(range(0, len(detoned_denoised_eigenvalue)), np.log(detoned_denoised_eigenvalue), color='b', label=\"Detoned, denoised eigen-function\")\n",
    "plt.plot(range(0, len(denoised_eigenvalue)), np.log(denoised_eigenvalue), color='r', label=\"Denoised eigen-function\")\n",
    "plt.plot(range(0, len(eigenvalue_prior)), np.log(eigenvalue_prior), color='g', label=\"Original eigen-function\")\n",
    "plt.xlabel(\"Eigenvalue number\")\n",
    "plt.ylabel(\"Eigenvalue (log-scale)\")\n",
    "plt.legend(loc=\"upper right\")\n",
    "plt.show()"
   ]
  },
  {
   "cell_type": "code",
   "execution_count": null,
   "id": "86fa8a3b",
   "metadata": {},
   "outputs": [],
   "source": []
  },
  {
   "cell_type": "code",
   "execution_count": null,
   "id": "3edf5187",
   "metadata": {},
   "outputs": [],
   "source": []
  },
  {
   "cell_type": "markdown",
   "id": "711ceabd",
   "metadata": {},
   "source": [
    "## Monte Carlo Experiment"
   ]
  },
  {
   "cell_type": "code",
   "execution_count": null,
   "id": "09e615db",
   "metadata": {},
   "outputs": [],
   "source": []
  },
  {
   "cell_type": "code",
   "execution_count": null,
   "id": "c16530e9",
   "metadata": {},
   "outputs": [],
   "source": [
    "nBlocks, bSize, bCorr = 2, 2, .5\n",
    "np.random.seed(0)\n",
    "mu0, cov0 = formTrueMatrix(nBlocks, bSize, bCorr)"
   ]
  },
  {
   "cell_type": "code",
   "execution_count": null,
   "id": "3df857ae",
   "metadata": {},
   "outputs": [],
   "source": [
    "# code snippet 2.10\n",
    "nObs, nTrials, bWidth, shrink, minVarPortf = 5, 5, .01, False, True\n",
    "w1 = pd.DataFrame(columns = range(cov0.shape[0]), index = range(nTrials), dtype=float)\n",
    "\n",
    "w1_d = w1.copy(deep=True)\n",
    "np.random.seed(0)"
   ]
  },
  {
   "cell_type": "code",
   "execution_count": null,
   "id": "00935401",
   "metadata": {},
   "outputs": [],
   "source": [
    "for i in range(nTrials):\n",
    "    mu1, cov1 = simCovMu(mu0, cov0, nObs, shrink = shrink)\n",
    "    if minVarPortf: mu1 = None\n",
    "    cov1_d = deNoiseCov(cov1, nObs*1./cov1.shape[1], bWidth)\n",
    "    w1.loc[i] = optPort(cov1, mu1).flatten() # add column vector w as row in w1\n",
    "    w1_d.loc[i] = optPort(cov1_d, mu1).flatten() # np.sum(w1_d, axis=1) is vector of 1's. sum(np.sum(w1_d, axis=0)= nTrials\n",
    "    # so minimum-variance-portfolio is 1./nTrials*(np.sum(w1_d, axis=0)) - but distribution not stationary\n"
   ]
  },
  {
   "cell_type": "code",
   "execution_count": null,
   "id": "e9d89a41",
   "metadata": {},
   "outputs": [],
   "source": [
    "\n",
    "\n",
    "\n",
    "\n",
    "min_var_port = 1./nTrials*(np.sum(w1_d, axis=0)) \n",
    "#code snippet 2.11\n",
    "w0 = optPort(cov0, None if minVarPortf else mu0) # w0 true percentage asset allocation\n",
    "w0 = np.repeat(w0.T, w1.shape[0], axis=0) \n",
    "rmsd = np.mean((w1-w0).values.flatten()**2)**.5     #RMSE not denoised\n",
    "rmsd_d = np.mean((w1_d-w0).values.flatten()**2)**.5 #RMSE denoised\n",
    "print(\"RMSE not denoised:\"+str( rmsd))\n",
    "print(\"RMSE denoised:\"+str( rmsd_d))"
   ]
  },
  {
   "cell_type": "code",
   "execution_count": null,
   "id": "f7399ece",
   "metadata": {},
   "outputs": [],
   "source": []
  }
 ],
 "metadata": {
  "kernelspec": {
   "display_name": "Python 3.8 (pytorch)",
   "language": "python",
   "name": "pytorch"
  },
  "language_info": {
   "codemirror_mode": {
    "name": "ipython",
    "version": 3
   },
   "file_extension": ".py",
   "mimetype": "text/x-python",
   "name": "python",
   "nbconvert_exporter": "python",
   "pygments_lexer": "ipython3",
   "version": "3.8.13"
  },
  "toc": {
   "base_numbering": 1,
   "nav_menu": {},
   "number_sections": true,
   "sideBar": true,
   "skip_h1_title": false,
   "title_cell": "Table of Contents",
   "title_sidebar": "Contents",
   "toc_cell": false,
   "toc_position": {},
   "toc_section_display": true,
   "toc_window_display": true
  },
  "varInspector": {
   "cols": {
    "lenName": 16,
    "lenType": 16,
    "lenVar": 40
   },
   "kernels_config": {
    "python": {
     "delete_cmd_postfix": "",
     "delete_cmd_prefix": "del ",
     "library": "var_list.py",
     "varRefreshCmd": "print(var_dic_list())"
    },
    "r": {
     "delete_cmd_postfix": ") ",
     "delete_cmd_prefix": "rm(",
     "library": "var_list.r",
     "varRefreshCmd": "cat(var_dic_list()) "
    }
   },
   "types_to_exclude": [
    "module",
    "function",
    "builtin_function_or_method",
    "instance",
    "_Feature"
   ],
   "window_display": false
  }
 },
 "nbformat": 4,
 "nbformat_minor": 5
}
