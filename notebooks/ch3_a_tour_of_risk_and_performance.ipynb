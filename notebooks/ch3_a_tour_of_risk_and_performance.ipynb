{
 "cells": [
  {
   "cell_type": "markdown",
   "id": "235d52fd-5007-4a06-898e-b322aed5ebfb",
   "metadata": {},
   "source": [
    "# A tour of risk and performance"
   ]
  },
  {
   "cell_type": "code",
   "execution_count": null,
   "id": "281687ff-68ad-4011-8720-d70b74107391",
   "metadata": {},
   "outputs": [],
   "source": []
  },
  {
   "cell_type": "code",
   "execution_count": 1,
   "id": "55f643d4-3a16-4560-b6ff-27592dfe78df",
   "metadata": {},
   "outputs": [],
   "source": [
    "%load_ext autoreload \n",
    "%autoreload 2\n",
    "%matplotlib inline "
   ]
  },
  {
   "cell_type": "code",
   "execution_count": 2,
   "id": "b97168f5-fb5e-4ed0-98fa-4c79d7622a7e",
   "metadata": {},
   "outputs": [],
   "source": [
    "import warnings\n",
    "warnings.filterwarnings(\"ignore\")"
   ]
  },
  {
   "cell_type": "code",
   "execution_count": 3,
   "id": "193fb4f1-b154-43da-bbcf-e364f23a97cf",
   "metadata": {},
   "outputs": [],
   "source": [
    "import sys\n",
    "sys.path.append('../')"
   ]
  },
  {
   "cell_type": "code",
   "execution_count": null,
   "id": "3e8b9004-c70f-401d-933e-498c132f1b12",
   "metadata": {},
   "outputs": [],
   "source": []
  },
  {
   "cell_type": "code",
   "execution_count": null,
   "id": "2a4e1678-b661-45ee-9220-0c93069367e8",
   "metadata": {},
   "outputs": [],
   "source": []
  },
  {
   "cell_type": "code",
   "execution_count": null,
   "id": "0248e49e-3c9d-4896-a0d7-9d4ce2b1636e",
   "metadata": {},
   "outputs": [],
   "source": []
  },
  {
   "cell_type": "markdown",
   "id": "96146c22-ed0f-4776-9744-6a9cca372785",
   "metadata": {},
   "source": [
    "## Introduction"
   ]
  },
  {
   "cell_type": "code",
   "execution_count": null,
   "id": "cf98f977-aea7-4928-a63c-b7a8063adcaa",
   "metadata": {},
   "outputs": [],
   "source": []
  },
  {
   "cell_type": "code",
   "execution_count": null,
   "id": "cd43843e-00f9-47d0-82b4-67d007fb85e6",
   "metadata": {},
   "outputs": [],
   "source": []
  },
  {
   "cell_type": "markdown",
   "id": "0a90cc6d-dc9d-4ae0-8e7d-e830e047e0c1",
   "metadata": {},
   "source": [
    "## Alpha and Beta"
   ]
  },
  {
   "cell_type": "code",
   "execution_count": null,
   "id": "64aca99e-13b5-49b4-9b3d-5587eff982d6",
   "metadata": {},
   "outputs": [],
   "source": []
  },
  {
   "cell_type": "markdown",
   "id": "38694a41-3a29-4ffe-8691-9acea554ba2c",
   "metadata": {},
   "source": [
    "##  Where does alpha come from "
   ]
  },
  {
   "cell_type": "code",
   "execution_count": 4,
   "id": "1c32ee15-62bd-49e6-bc72-35c796d29d3f",
   "metadata": {},
   "outputs": [
    {
     "name": "stdout",
     "output_type": "stream",
     "text": [
      "[*********************100%%**********************]  4 of 4 completed\n",
      "                 SPY       SYF       WMT     ^GSPC\n",
      "Date                                              \n",
      "2014-08-01 -0.003056  0.000000 -0.000544 -0.002859\n",
      "2014-08-04  0.007221  0.000000  0.000000  0.007189\n",
      "2014-08-05 -0.009697  0.000000 -0.002719 -0.009685\n",
      "2014-08-06  0.000313 -0.000870  0.018391  0.000016\n",
      "2014-08-07 -0.005415 -0.002176 -0.003369 -0.005557\n"
     ]
    }
   ],
   "source": [
    "import yfinance as yf\n",
    "import pandas as pd\n",
    "\n",
    "# Define the ticker symbols for Synchrony Financial, Walmart, and S&P 500\n",
    "tickers = ['SYF', 'WMT', '^GSPC', 'SPY']\n",
    "\n",
    "# Download the daily prices for the specified tickers\n",
    "data = yf.download(tickers, start='2010-01-01', end='2024-12-31')\n",
    "\n",
    "# Extract the 'Adj Close' prices\n",
    "adj_close = data['Adj Close']\n",
    "\n",
    "# Compute the daily returns\n",
    "daily_returns = adj_close.pct_change().dropna()\n",
    "\n",
    "# Display the first few rows of the daily returns\n",
    "print(daily_returns.head())\n",
    " \n"
   ]
  },
  {
   "cell_type": "code",
   "execution_count": 5,
   "id": "2e8a1f51-5867-4346-bd52-93247b9f39ce",
   "metadata": {},
   "outputs": [],
   "source": [
    "adj_close.reset_index(inplace=True)"
   ]
  },
  {
   "cell_type": "code",
   "execution_count": 6,
   "id": "ec2b7069-6266-405b-a0f4-6467fd388a75",
   "metadata": {},
   "outputs": [],
   "source": [
    "adj_close['Date']= pd.to_datetime(adj_close['Date']).dt.date"
   ]
  },
  {
   "cell_type": "code",
   "execution_count": 7,
   "id": "f1e913a2-0654-4061-b19f-a1b2d8cc5449",
   "metadata": {},
   "outputs": [],
   "source": [
    "adj_close['year']=  adj_close['Date'].apply(lambda d: d.year)"
   ]
  },
  {
   "cell_type": "code",
   "execution_count": 8,
   "id": "3e07c13c-dadd-409b-b800-152fc4602d1c",
   "metadata": {},
   "outputs": [],
   "source": [
    "adj_close.sort_values(by='Date', ascending = True, inplace = True)"
   ]
  },
  {
   "cell_type": "code",
   "execution_count": 9,
   "id": "2312b002-9556-4aad-b392-84300b5c6b85",
   "metadata": {},
   "outputs": [],
   "source": [
    "adj_close['SYF_prior_1D_return'] = adj_close['SYF']/adj_close['SYF'].shift(1)-1"
   ]
  },
  {
   "cell_type": "code",
   "execution_count": 10,
   "id": "07a4883a-c0d0-4b51-958f-3e2e061051f6",
   "metadata": {},
   "outputs": [],
   "source": [
    "adj_close['WMT_prior_1D_return'] = adj_close['WMT']/adj_close['WMT'].shift(1)-1"
   ]
  },
  {
   "cell_type": "code",
   "execution_count": 11,
   "id": "e7df01f4-234c-4320-8b6d-cc0920dcda71",
   "metadata": {},
   "outputs": [],
   "source": [
    "adj_close['S&P_prior_1D_return'] = adj_close['^GSPC']/adj_close['^GSPC'].shift(1)-1\n",
    "adj_close['SPY_prior_1D_return'] = adj_close['SPY']/adj_close['SPY'].shift(1)-1"
   ]
  },
  {
   "cell_type": "code",
   "execution_count": 12,
   "id": "ac3f8f27-bb79-40ec-9f49-6ceaae9c396e",
   "metadata": {},
   "outputs": [],
   "source": [
    "import statsmodels.api as sm"
   ]
  },
  {
   "cell_type": "code",
   "execution_count": null,
   "id": "93b72794-b72f-473b-908a-47393e373ba5",
   "metadata": {},
   "outputs": [],
   "source": []
  },
  {
   "cell_type": "code",
   "execution_count": 13,
   "id": "06e1d0a1-f561-44a9-b7cc-b8dc6e3b0a44",
   "metadata": {},
   "outputs": [
    {
     "name": "stdout",
     "output_type": "stream",
     "text": [
      "2014\n",
      "Annualized alpha 0.6452261550641496 in 2014 \n",
      "2015\n",
      "Annualized alpha 0.0354865444375998 in 2015 \n",
      "2016\n",
      "Annualized alpha 0.05657256941493949 in 2016 \n",
      "2017\n",
      "Annualized alpha -0.21116113432341788 in 2017 \n",
      "2018\n",
      "Annualized alpha -0.329384530717459 in 2018 \n",
      "2019\n",
      "Annualized alpha 0.1707044817862402 in 2019 \n",
      "2020\n",
      "Annualized alpha -0.09162056766502613 in 2020 \n",
      "2021\n",
      "Annualized alpha -0.007780848448860178 in 2021 \n",
      "2022\n",
      "Annualized alpha -0.004354982907281757 in 2022 \n",
      "2023\n",
      "Annualized alpha -0.09778389768101492 in 2023 \n",
      "2024\n",
      "Annualized alpha 0.3333645436598607 in 2024 \n"
     ]
    }
   ],
   "source": [
    "for y, data in adj_close.groupby('year'):\n",
    "    \n",
    "    Xy =  data[['SYF_prior_1D_return' , 'SPY_prior_1D_return']].dropna()\n",
    "    if Xy.shape[0]>30:\n",
    "        print(y)\n",
    "        model=sm.OLS( Xy['SYF_prior_1D_return'], sm.add_constant(Xy['SPY_prior_1D_return'])  ).fit()\n",
    "        alpha_daily = model.params['const']\n",
    "        trading_days_per_year = 252  # Approximate number of trading days in a year\n",
    "        alpha_annualized = (1 + alpha_daily) ** trading_days_per_year - 1\n",
    "        alpha_conf_int = model.conf_int().loc['const']\n",
    "\n",
    "        \n",
    "        print( f'Annualized alpha {alpha_annualized} in {y} ')"
   ]
  },
  {
   "cell_type": "code",
   "execution_count": 15,
   "id": "6fadf502-67ef-460f-aa54-2385d8cc1eb3",
   "metadata": {},
   "outputs": [
    {
     "data": {
      "text/html": [
       "<table class=\"simpletable\">\n",
       "<tr>\n",
       "        <td>Model:</td>                <td>OLS</td>           <td>Adj. R-squared:</td>      <td>0.061</td>  \n",
       "</tr>\n",
       "<tr>\n",
       "  <td>Dependent Variable:</td> <td>SYF_prior_1D_return</td>        <td>AIC:</td>          <td>-646.2618</td>\n",
       "</tr>\n",
       "<tr>\n",
       "         <td>Date:</td>         <td>2024-06-30 09:21</td>          <td>BIC:</td>          <td>-640.6212</td>\n",
       "</tr>\n",
       "<tr>\n",
       "   <td>No. Observations:</td>          <td>124</td>           <td>Log-Likelihood:</td>     <td>325.13</td>  \n",
       "</tr>\n",
       "<tr>\n",
       "       <td>Df Model:</td>               <td>1</td>             <td>F-statistic:</td>        <td>8.965</td>  \n",
       "</tr>\n",
       "<tr>\n",
       "     <td>Df Residuals:</td>            <td>122</td>         <td>Prob (F-statistic):</td>   <td>0.00333</td> \n",
       "</tr>\n",
       "<tr>\n",
       "      <td>R-squared:</td>             <td>0.068</td>              <td>Scale:</td>        <td>0.00031414</td>\n",
       "</tr>\n",
       "</table>\n",
       "<table class=\"simpletable\">\n",
       "<tr>\n",
       "           <td></td>            <th>Coef.</th> <th>Std.Err.</th>    <th>t</th>    <th>P>|t|</th> <th>[0.025</th>  <th>0.975]</th>\n",
       "</tr>\n",
       "<tr>\n",
       "  <th>const</th>               <td>0.0011</td>  <td>0.0016</td>  <td>0.7071</td> <td>0.4808</td> <td>-0.0021</td> <td>0.0043</td>\n",
       "</tr>\n",
       "<tr>\n",
       "  <th>SPY_prior_1D_return</th> <td>0.7100</td>  <td>0.2371</td>  <td>2.9942</td> <td>0.0033</td> <td>0.2406</td>  <td>1.1795</td>\n",
       "</tr>\n",
       "</table>\n",
       "<table class=\"simpletable\">\n",
       "<tr>\n",
       "     <td>Omnibus:</td>    <td>9.692</td>  <td>Durbin-Watson:</td>    <td>2.039</td>\n",
       "</tr>\n",
       "<tr>\n",
       "  <td>Prob(Omnibus):</td> <td>0.008</td> <td>Jarque-Bera (JB):</td> <td>11.713</td>\n",
       "</tr>\n",
       "<tr>\n",
       "       <td>Skew:</td>     <td>0.473</td>     <td>Prob(JB):</td>      <td>0.003</td>\n",
       "</tr>\n",
       "<tr>\n",
       "     <td>Kurtosis:</td>   <td>4.171</td>  <td>Condition No.:</td>     <td>149</td> \n",
       "</tr>\n",
       "</table><br/>\n",
       "Notes:<br/>\n",
       "[1] Standard Errors assume that the covariance matrix of the errors is correctly specified."
      ],
      "text/latex": [
       "\\begin{table}\n",
       "\\caption{Results: Ordinary least squares}\n",
       "\\label{}\n",
       "\\begin{center}\n",
       "\\begin{tabular}{llll}\n",
       "\\hline\n",
       "Model:              & OLS                    & Adj. R-squared:     & 0.061       \\\\\n",
       "Dependent Variable: & SYF\\_prior\\_1D\\_return & AIC:                & -646.2618   \\\\\n",
       "Date:               & 2024-06-30 09:21       & BIC:                & -640.6212   \\\\\n",
       "No. Observations:   & 124                    & Log-Likelihood:     & 325.13      \\\\\n",
       "Df Model:           & 1                      & F-statistic:        & 8.965       \\\\\n",
       "Df Residuals:       & 122                    & Prob (F-statistic): & 0.00333     \\\\\n",
       "R-squared:          & 0.068                  & Scale:              & 0.00031414  \\\\\n",
       "\\hline\n",
       "\\end{tabular}\n",
       "\\end{center}\n",
       "\n",
       "\\begin{center}\n",
       "\\begin{tabular}{lrrrrrr}\n",
       "\\hline\n",
       "                       &  Coef. & Std.Err. &      t & P$> |$t$|$ &  [0.025 & 0.975]  \\\\\n",
       "\\hline\n",
       "const                  & 0.0011 &   0.0016 & 0.7071 &      0.4808 & -0.0021 & 0.0043  \\\\\n",
       "SPY\\_prior\\_1D\\_return & 0.7100 &   0.2371 & 2.9942 &      0.0033 &  0.2406 & 1.1795  \\\\\n",
       "\\hline\n",
       "\\end{tabular}\n",
       "\\end{center}\n",
       "\n",
       "\\begin{center}\n",
       "\\begin{tabular}{llll}\n",
       "\\hline\n",
       "Omnibus:       & 9.692 & Durbin-Watson:    & 2.039   \\\\\n",
       "Prob(Omnibus): & 0.008 & Jarque-Bera (JB): & 11.713  \\\\\n",
       "Skew:          & 0.473 & Prob(JB):         & 0.003   \\\\\n",
       "Kurtosis:      & 4.171 & Condition No.:    & 149     \\\\\n",
       "\\hline\n",
       "\\end{tabular}\n",
       "\\end{center}\n",
       "\\end{table}\n",
       "\\bigskip\n",
       "Notes: \\newline \n",
       "[1] Standard Errors assume that the covariance matrix of the errors is correctly specified."
      ],
      "text/plain": [
       "<class 'statsmodels.iolib.summary2.Summary'>\n",
       "\"\"\"\n",
       "                   Results: Ordinary least squares\n",
       "======================================================================\n",
       "Model:              OLS                 Adj. R-squared:     0.061     \n",
       "Dependent Variable: SYF_prior_1D_return AIC:                -646.2618 \n",
       "Date:               2024-06-30 09:21    BIC:                -640.6212 \n",
       "No. Observations:   124                 Log-Likelihood:     325.13    \n",
       "Df Model:           1                   F-statistic:        8.965     \n",
       "Df Residuals:       122                 Prob (F-statistic): 0.00333   \n",
       "R-squared:          0.068               Scale:              0.00031414\n",
       "-----------------------------------------------------------------------\n",
       "                      Coef.   Std.Err.    t     P>|t|    [0.025  0.975]\n",
       "-----------------------------------------------------------------------\n",
       "const                 0.0011    0.0016  0.7071  0.4808  -0.0021  0.0043\n",
       "SPY_prior_1D_return   0.7100    0.2371  2.9942  0.0033   0.2406  1.1795\n",
       "----------------------------------------------------------------------\n",
       "Omnibus:                9.692         Durbin-Watson:            2.039 \n",
       "Prob(Omnibus):          0.008         Jarque-Bera (JB):         11.713\n",
       "Skew:                   0.473         Prob(JB):                 0.003 \n",
       "Kurtosis:               4.171         Condition No.:            149   \n",
       "======================================================================\n",
       "Notes:\n",
       "[1] Standard Errors assume that the covariance matrix of the errors is\n",
       "correctly specified.\n",
       "\"\"\""
      ]
     },
     "execution_count": 15,
     "metadata": {},
     "output_type": "execute_result"
    }
   ],
   "source": [
    "model.summary2()"
   ]
  },
  {
   "cell_type": "code",
   "execution_count": null,
   "id": "5d5a9120-8c38-4d83-b16a-253abf183ab1",
   "metadata": {},
   "outputs": [],
   "source": []
  },
  {
   "cell_type": "markdown",
   "id": "45ed7285-55b2-4a49-8dac-e636d6180ffd",
   "metadata": {},
   "source": [
    "## Estimate Risk in Advance"
   ]
  },
  {
   "cell_type": "markdown",
   "id": "5ed253ff-b3f2-4aa3-908a-72f09c5b56de",
   "metadata": {},
   "source": [
    "### What is Risk "
   ]
  },
  {
   "cell_type": "code",
   "execution_count": 18,
   "id": "e0f427ef-d777-4238-82a7-7e61a55cf0bc",
   "metadata": {},
   "outputs": [
    {
     "name": "stdout",
     "output_type": "stream",
     "text": [
      "1.0\n",
      "Probability of a rare event defined by 1.0 standard deviation(s): 0.15866\n",
      "Expected number of rare events in a year with business days: 39.98\n",
      "Expected number of rare events in five years with business days: 199.91\n",
      "2\n",
      "Probability of a rare event defined by 2 standard deviation(s): 0.02275\n",
      "Expected number of rare events in a year with business days: 5.73\n",
      "Expected number of rare events in five years with business days: 28.67\n",
      "2.5\n",
      "Probability of a rare event defined by 2.5 standard deviation(s): 0.00621\n",
      "Expected number of rare events in a year with business days: 1.56\n",
      "Expected number of rare events in five years with business days: 7.82\n",
      "3\n",
      "Probability of a rare event defined by 3 standard deviation(s): 0.00135\n",
      "Expected number of rare events in a year with business days: 0.34\n",
      "Expected number of rare events in five years with business days: 1.70\n"
     ]
    }
   ],
   "source": [
    "import scipy.stats as stats\n",
    "\n",
    "def compute_prob_rare_event(num_std_dev):\n",
    "    \"\"\"\n",
    "    Compute the probability of a rare event defined by the number of standard deviations from the mean\n",
    "    in a normal distribution.\n",
    "    \n",
    "    Parameters:\n",
    "    num_std_dev (float): The number of standard deviations from the mean that defines the rare event.\n",
    "    \n",
    "    Returns:\n",
    "    float: The probability of the rare event.\n",
    "    \"\"\"\n",
    "    # Calculate the probability of the event being within the specified number of standard deviations\n",
    "    # prob_within_num_std_dev = stats.norm.cdf(num_std_dev) - stats.norm.cdf(-num_std_dev)\n",
    "    \n",
    "    # The probability of a rare event (outside the specified number of standard deviations)\n",
    "    prob_rare_event = stats.norm.cdf(-num_std_dev)\n",
    "    \n",
    "    return prob_rare_event\n",
    "\n",
    "# Number of standard deviations defining the rare event (you can adjust this value if needed)\n",
    "for num_std_dev in [ 1.0, 2,2.5,3]:\n",
    "    print(num_std_dev)\n",
    "\n",
    "    # Compute the probability of a rare event\n",
    "    prob_rare_event = compute_prob_rare_event(num_std_dev)\n",
    "\n",
    "    # Number of days in a year\n",
    "    total_days_per_year = 365\n",
    "\n",
    "    # Number of business days in a year (approximation)\n",
    "    business_days_per_year = 252\n",
    "\n",
    "    # Number of years for extended calculation\n",
    "    years = 5\n",
    "\n",
    "\n",
    "    # Expected number of rare events for business days in a year\n",
    "    expected_events_business_days_per_year = business_days_per_year * prob_rare_event\n",
    "    # Expected number of rare events for business days in five years\n",
    "    expected_events_business_days_five_years = expected_events_business_days_per_year * years\n",
    "\n",
    "    # Output the results\n",
    "    print(f\"Probability of a rare event defined by {num_std_dev} standard deviation(s): {prob_rare_event:.5f}\")\n",
    "    print(f\"Expected number of rare events in a year with business days: {expected_events_business_days_per_year:.2f}\")\n",
    "    print(f\"Expected number of rare events in five years with business days: {expected_events_business_days_five_years:.2f}\")\n"
   ]
  },
  {
   "cell_type": "markdown",
   "id": "7cbe0bce-3688-4e35-be54-95fd6ee7a9b0",
   "metadata": {},
   "source": [
    "### Measuring Risk and Performance "
   ]
  },
  {
   "cell_type": "code",
   "execution_count": null,
   "id": "c6c7655a-fa98-44ed-992b-9f3d12d6ea85",
   "metadata": {},
   "outputs": [],
   "source": []
  },
  {
   "cell_type": "code",
   "execution_count": 26,
   "id": "b354b3a1-44db-4907-b8fd-0e5369cbca05",
   "metadata": {},
   "outputs": [
    {
     "data": {
      "text/plain": [
       "0.7100383266800439"
      ]
     },
     "execution_count": 26,
     "metadata": {},
     "output_type": "execute_result"
    }
   ],
   "source": []
  },
  {
   "cell_type": "code",
   "execution_count": 19,
   "id": "baa4bdd3-e0f4-4838-b397-a3ee4c05d485",
   "metadata": {},
   "outputs": [
    {
     "name": "stdout",
     "output_type": "stream",
     "text": [
      "2014\n",
      "Annualized alpha 0.6452261550641496 in 2014 \n",
      "2015\n",
      "Annualized alpha 0.0354865444375998 in 2015 \n",
      "2016\n",
      "Annualized alpha 0.05657256941493949 in 2016 \n",
      "2017\n",
      "Annualized alpha -0.21116113432341788 in 2017 \n",
      "2018\n",
      "Annualized alpha -0.329384530717459 in 2018 \n",
      "2019\n",
      "Annualized alpha 0.1707044817862402 in 2019 \n",
      "2020\n",
      "Annualized alpha -0.09162056766502613 in 2020 \n",
      "2021\n",
      "Annualized alpha -0.007780848448860178 in 2021 \n",
      "2022\n",
      "Annualized alpha -0.004354982907281757 in 2022 \n",
      "2023\n",
      "Annualized alpha -0.09778389768101492 in 2023 \n",
      "2024\n",
      "Annualized alpha 0.3333645436598607 in 2024 \n"
     ]
    }
   ],
   "source": [
    "trading_days_per_year = 252  # Approximate number of trading days in a year\n",
    "\n",
    "net_market_value = {'SYF': 10_000_000,\n",
    "                   'SPY': 10_000_000,\n",
    "                   'WMT': 5_000_000}\n",
    "for y, data in adj_close.groupby('year'):\n",
    "    \n",
    "    Xy =  data[['SYF_prior_1D_return' , 'SPY_prior_1D_return']].dropna()\n",
    "    if Xy.shape[0]>30:\n",
    "        print(y)\n",
    "        model=sm.OLS( Xy['SYF_prior_1D_return'], sm.add_constant(Xy['SPY_prior_1D_return'])  ).fit()\n",
    "        \n",
    "        alpha_daily = model.params['const']\n",
    "        beta = model.params['SPY_prior_1D_return']\n",
    "        daily_market_volatility = Xy['SPY_prior_1D_return'].std()\n",
    "        daily_idiosyncratic_volatility = model.resid.std()\n",
    "        alpha_annualized = (1 + alpha_daily) ** trading_days_per_year - 1\n",
    "        alpha_conf_int = model.conf_int().loc['const']\n",
    "        \n",
    "        dollar_market\n",
    "        \n",
    "        \n",
    "        print( f'Annualized alpha {alpha_annualized} in {y} ')"
   ]
  },
  {
   "cell_type": "code",
   "execution_count": 22,
   "id": "cf270a6e-495f-4edc-815b-05d205eecf3b",
   "metadata": {},
   "outputs": [],
   "source": [
    "errors = Xy['SYF_prior_1D_return'] - model.predict(sm.add_constant(Xy['SPY_prior_1D_return']) )"
   ]
  },
  {
   "cell_type": "code",
   "execution_count": 24,
   "id": "554b623e-10f9-4a62-af95-27cc7d1ca873",
   "metadata": {},
   "outputs": [
    {
     "data": {
      "text/plain": [
       "3522    0.0\n",
       "3523    0.0\n",
       "3524    0.0\n",
       "3525    0.0\n",
       "3526    0.0\n",
       "       ... \n",
       "3641    0.0\n",
       "3642    0.0\n",
       "3643    0.0\n",
       "3644    0.0\n",
       "3645    0.0\n",
       "Length: 124, dtype: float64"
      ]
     },
     "execution_count": 24,
     "metadata": {},
     "output_type": "execute_result"
    }
   ],
   "source": [
    "errors - model.resid"
   ]
  },
  {
   "cell_type": "code",
   "execution_count": 21,
   "id": "5bf46960-a642-4eb7-bfc9-01a6692bca8b",
   "metadata": {},
   "outputs": [
    {
     "data": {
      "text/plain": [
       "3522   -0.003191\n",
       "3523   -0.008779\n",
       "3524    0.000878\n",
       "3525    0.034744\n",
       "3526   -0.001490\n",
       "          ...   \n",
       "3641    0.024777\n",
       "3642   -0.011785\n",
       "3643   -0.008229\n",
       "3644   -0.016745\n",
       "3645    0.068575\n",
       "Length: 124, dtype: float64"
      ]
     },
     "execution_count": 21,
     "metadata": {},
     "output_type": "execute_result"
    }
   ],
   "source": [
    " \n"
   ]
  },
  {
   "cell_type": "code",
   "execution_count": null,
   "id": "64acab2a-7091-42c9-9552-815a3196e6b9",
   "metadata": {},
   "outputs": [],
   "source": []
  },
  {
   "cell_type": "markdown",
   "id": "087d716a-c40e-4097-9a2d-a5e71f76b156",
   "metadata": {},
   "source": [
    "## First steps in risk decomposition "
   ]
  },
  {
   "cell_type": "code",
   "execution_count": null,
   "id": "adfcf639-f078-436e-9ff8-34bc14024d82",
   "metadata": {},
   "outputs": [],
   "source": []
  },
  {
   "cell_type": "code",
   "execution_count": null,
   "id": "f3ea753d-2217-4450-bf00-f9e1c1a31860",
   "metadata": {},
   "outputs": [],
   "source": []
  },
  {
   "cell_type": "markdown",
   "id": "1540c791-c4e3-457e-a7b0-168e2cdf05d7",
   "metadata": {},
   "source": [
    "## Simple Hedging "
   ]
  },
  {
   "cell_type": "code",
   "execution_count": null,
   "id": "9a6ac27b-3e7c-43e3-8412-7582c3dbe7f4",
   "metadata": {},
   "outputs": [],
   "source": []
  },
  {
   "cell_type": "markdown",
   "id": "17477105-ab4d-4597-80dd-693457304a2a",
   "metadata": {},
   "source": [
    "## Separation of concerns "
   ]
  },
  {
   "cell_type": "code",
   "execution_count": null,
   "id": "e5b576c4-0871-439d-8e6a-e98ec9a7413a",
   "metadata": {},
   "outputs": [],
   "source": []
  },
  {
   "cell_type": "code",
   "execution_count": null,
   "id": "ee0c1b2f-dde6-4f56-a480-be5e7bde803f",
   "metadata": {},
   "outputs": [],
   "source": []
  },
  {
   "cell_type": "markdown",
   "id": "77210e73-4298-45c1-a050-059ba28c66ed",
   "metadata": {},
   "source": [
    "## Takeaways "
   ]
  },
  {
   "cell_type": "code",
   "execution_count": null,
   "id": "6b8e6f5c-9efd-49bb-ae28-41a2bf154435",
   "metadata": {},
   "outputs": [],
   "source": []
  },
  {
   "cell_type": "code",
   "execution_count": null,
   "id": "f11982fa-962b-4410-9d5a-12ffc03ac289",
   "metadata": {},
   "outputs": [],
   "source": []
  },
  {
   "cell_type": "code",
   "execution_count": null,
   "id": "fd199daf-c8f7-4cd3-8dea-0737cadb2d82",
   "metadata": {},
   "outputs": [],
   "source": []
  },
  {
   "cell_type": "code",
   "execution_count": null,
   "id": "c6eb6eac-6be0-4abc-bb32-09af383be868",
   "metadata": {},
   "outputs": [],
   "source": []
  }
 ],
 "metadata": {
  "kernelspec": {
   "display_name": "Python 3.8 (pytorch)",
   "language": "python",
   "name": "pytorch"
  },
  "language_info": {
   "codemirror_mode": {
    "name": "ipython",
    "version": 3
   },
   "file_extension": ".py",
   "mimetype": "text/x-python",
   "name": "python",
   "nbconvert_exporter": "python",
   "pygments_lexer": "ipython3",
   "version": "3.8.13"
  }
 },
 "nbformat": 4,
 "nbformat_minor": 5
}
