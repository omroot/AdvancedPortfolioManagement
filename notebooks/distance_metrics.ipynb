{
 "cells": [
  {
   "cell_type": "markdown",
   "id": "75f7a5f8",
   "metadata": {},
   "source": [
    "# Distance metrics "
   ]
  },
  {
   "cell_type": "code",
   "execution_count": null,
   "id": "08c13472",
   "metadata": {},
   "outputs": [],
   "source": []
  },
  {
   "cell_type": "code",
   "execution_count": 1,
   "id": "8076361c",
   "metadata": {},
   "outputs": [],
   "source": [
    "import sys\n",
    "sys.path.append('../')"
   ]
  },
  {
   "cell_type": "code",
   "execution_count": null,
   "id": "c0cab2d1",
   "metadata": {},
   "outputs": [],
   "source": []
  },
  {
   "cell_type": "code",
   "execution_count": 2,
   "id": "7a675584",
   "metadata": {},
   "outputs": [],
   "source": [
    "from ml4am.distance_metrics_refactored import *"
   ]
  },
  {
   "cell_type": "code",
   "execution_count": 3,
   "id": "0172f373",
   "metadata": {},
   "outputs": [],
   "source": [
    "import numpy as np\n",
    "import scipy.stats as ss\n",
    "from sklearn.metrics import mutual_info_score"
   ]
  },
  {
   "cell_type": "code",
   "execution_count": null,
   "id": "16da9f1a",
   "metadata": {},
   "outputs": [],
   "source": []
  },
  {
   "cell_type": "code",
   "execution_count": 4,
   "id": "dfe2dbab",
   "metadata": {},
   "outputs": [],
   "source": [
    "X = np.random.normal(0, 1, 1000)\n",
    "Y = np.random.normal(0, 1, 1000)\n"
   ]
  },
  {
   "cell_type": "code",
   "execution_count": 5,
   "id": "72fad909-c714-47ac-a052-a52caf20cd3d",
   "metadata": {},
   "outputs": [],
   "source": [
    "number_bins=10 # descretize sample space"
   ]
  },
  {
   "cell_type": "code",
   "execution_count": 6,
   "id": "cedb87eb-9b76-46aa-96e9-cbcd6f870603",
   "metadata": {},
   "outputs": [],
   "source": [
    " \n",
    "cXY = np.histogram2d(X, Y, number_bins)[0]"
   ]
  },
  {
   "cell_type": "code",
   "execution_count": 7,
   "id": "36ac7d55-8cac-4081-bfa2-aa31783fa7a4",
   "metadata": {},
   "outputs": [],
   "source": [
    "Entropy_X = ss.entropy(np.histogram(X, number_bins)[0]) #marginal \n",
    "Entropy_Y = ss.entropy(np.histogram(Y, number_bins)[0]) #marginal"
   ]
  },
  {
   "cell_type": "code",
   "execution_count": null,
   "id": "6edfae79-c92e-4d20-9be3-c1537e5dbea8",
   "metadata": {},
   "outputs": [],
   "source": []
  },
  {
   "cell_type": "code",
   "execution_count": 8,
   "id": "5a0fbb03-cab7-4c4b-bd73-9ceccd8d493c",
   "metadata": {},
   "outputs": [],
   "source": [
    "MutualInfoXY = mutual_info_score(None, None, contingency=cXY)\n",
    "\n",
    "MutualInfoXY_Normalized = MutualInfoXY/min(Entropy_X, Entropy_Y) #normalized mutual information"
   ]
  },
  {
   "cell_type": "code",
   "execution_count": 9,
   "id": "9a562025-fbe9-48f1-9b71-36fb05c60f8d",
   "metadata": {},
   "outputs": [],
   "source": [
    "JointEntropy_XY = Entropy_X + Entropy_Y - MutualInfoXY"
   ]
  },
  {
   "cell_type": "code",
   "execution_count": null,
   "id": "405d8da3-8b83-4500-af52-de82039fb416",
   "metadata": {},
   "outputs": [],
   "source": []
  },
  {
   "cell_type": "code",
   "execution_count": 10,
   "id": "d5698cbd-f32f-4560-8122-d41aedb959e2",
   "metadata": {},
   "outputs": [],
   "source": [
    "ConditionalEntropy_X_Y = MutualInfoXY-Entropy_Y"
   ]
  },
  {
   "cell_type": "code",
   "execution_count": 11,
   "id": "84ce4403-06d1-4ba9-965e-a12750fc94dc",
   "metadata": {},
   "outputs": [],
   "source": [
    "ConditionalEntropy_Y_X = MutualInfoXY-Entropy_X"
   ]
  },
  {
   "cell_type": "code",
   "execution_count": null,
   "id": "1ccb24cb",
   "metadata": {},
   "outputs": [],
   "source": []
  },
  {
   "cell_type": "markdown",
   "id": "fab01ee9-140a-4fed-ad6e-bbceb83ea169",
   "metadata": {},
   "source": [
    "## No relationship "
   ]
  },
  {
   "cell_type": "code",
   "execution_count": 13,
   "id": "7d275139",
   "metadata": {},
   "outputs": [],
   "source": [
    "#codesnippet 3.4\n",
    "size, seed = 5000, 0 \n",
    "np.random.seed(seed)\n",
    "x = np.random.normal(size=size)\n",
    "e = np.random.normal(size=size)\n",
    "y = 0*x+e\n",
    "nmi = mutual_information(x,y,number_bins,True)\n",
    "corr = np.corrcoef(x,y)[0,1]"
   ]
  },
  {
   "cell_type": "code",
   "execution_count": 15,
   "id": "1963ad08",
   "metadata": {},
   "outputs": [
    {
     "data": {
      "text/plain": [
       "(0.00542693280928096, 0.001496837406727644)"
      ]
     },
     "execution_count": 15,
     "metadata": {},
     "output_type": "execute_result"
    }
   ],
   "source": [
    "nmi, corr"
   ]
  },
  {
   "cell_type": "markdown",
   "id": "5b17a870-f6ed-44b0-9817-6ef8191c63c5",
   "metadata": {},
   "source": [
    "## Linear relationship "
   ]
  },
  {
   "cell_type": "code",
   "execution_count": 16,
   "id": "9266caec-3dce-4c4f-8344-65694bb7a4ee",
   "metadata": {},
   "outputs": [],
   "source": [
    "size, seed = 5000, 0 \n",
    "np.random.seed(seed)\n",
    "x = np.random.normal(size=size)\n",
    "e = np.random.normal(size=size)\n",
    "y = 100*x+e\n",
    "nmi = mutual_information(x,y,number_bins,True)\n",
    "corr = np.corrcoef(x,y)[0,1]"
   ]
  },
  {
   "cell_type": "code",
   "execution_count": 17,
   "id": "d99b4258-44b4-487d-b317-4b6bc5e24154",
   "metadata": {},
   "outputs": [
    {
     "data": {
      "text/plain": [
       "(0.9619849653153231, 0.9999495557993869)"
      ]
     },
     "execution_count": 17,
     "metadata": {},
     "output_type": "execute_result"
    }
   ],
   "source": [
    "nmi, corr"
   ]
  },
  {
   "cell_type": "markdown",
   "id": "be1da939-f05f-4918-b914-121df2d5e9a0",
   "metadata": {},
   "source": [
    "## Nonlinear Relationship "
   ]
  },
  {
   "cell_type": "code",
   "execution_count": 18,
   "id": "dad2c1a6-0053-42e0-a237-4f51f9952538",
   "metadata": {},
   "outputs": [],
   "source": [
    "size, seed = 5000, 0 \n",
    "np.random.seed(seed)\n",
    "x = np.random.normal(size=size)\n",
    "e = np.random.normal(size=size)\n",
    "y = 100*np.abs(x)+e\n",
    "nmi = mutual_information(x,y,number_bins,True)\n",
    "corr = np.corrcoef(x,y)[0,1]"
   ]
  },
  {
   "cell_type": "code",
   "execution_count": 19,
   "id": "a1d2c8c2-d693-40d2-8733-3877d9adc03a",
   "metadata": {},
   "outputs": [
    {
     "data": {
      "text/plain": [
       "(0.54690488742894, -0.00796402292795633)"
      ]
     },
     "execution_count": 19,
     "metadata": {},
     "output_type": "execute_result"
    }
   ],
   "source": [
    "nmi, corr"
   ]
  },
  {
   "cell_type": "code",
   "execution_count": null,
   "id": "c295bf23-0928-4233-9dea-790c1636db71",
   "metadata": {},
   "outputs": [],
   "source": []
  }
 ],
 "metadata": {
  "kernelspec": {
   "display_name": "Python 3.8 (pytorch)",
   "language": "python",
   "name": "pytorch"
  },
  "language_info": {
   "codemirror_mode": {
    "name": "ipython",
    "version": 3
   },
   "file_extension": ".py",
   "mimetype": "text/x-python",
   "name": "python",
   "nbconvert_exporter": "python",
   "pygments_lexer": "ipython3",
   "version": "3.8.13"
  },
  "toc": {
   "base_numbering": 1,
   "nav_menu": {},
   "number_sections": true,
   "sideBar": true,
   "skip_h1_title": false,
   "title_cell": "Table of Contents",
   "title_sidebar": "Contents",
   "toc_cell": false,
   "toc_position": {},
   "toc_section_display": true,
   "toc_window_display": false
  },
  "varInspector": {
   "cols": {
    "lenName": 16,
    "lenType": 16,
    "lenVar": 40
   },
   "kernels_config": {
    "python": {
     "delete_cmd_postfix": "",
     "delete_cmd_prefix": "del ",
     "library": "var_list.py",
     "varRefreshCmd": "print(var_dic_list())"
    },
    "r": {
     "delete_cmd_postfix": ") ",
     "delete_cmd_prefix": "rm(",
     "library": "var_list.r",
     "varRefreshCmd": "cat(var_dic_list()) "
    }
   },
   "types_to_exclude": [
    "module",
    "function",
    "builtin_function_or_method",
    "instance",
    "_Feature"
   ],
   "window_display": false
  }
 },
 "nbformat": 4,
 "nbformat_minor": 5
}
