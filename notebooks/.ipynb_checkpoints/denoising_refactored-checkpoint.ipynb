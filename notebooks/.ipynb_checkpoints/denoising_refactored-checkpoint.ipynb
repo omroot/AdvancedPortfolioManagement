{
 "cells": [
  {
   "cell_type": "markdown",
   "id": "107e9dd4",
   "metadata": {},
   "source": [
    "# Denoising and Detoning"
   ]
  },
  {
   "cell_type": "code",
   "execution_count": null,
   "id": "e4030fd0",
   "metadata": {},
   "outputs": [],
   "source": []
  },
  {
   "cell_type": "code",
   "execution_count": 1,
   "id": "1a425ba6",
   "metadata": {},
   "outputs": [],
   "source": [
    "import sys\n"
   ]
  },
  {
   "cell_type": "code",
   "execution_count": 2,
   "id": "d2f6b089",
   "metadata": {},
   "outputs": [],
   "source": [
    "sys.path.append('../')"
   ]
  },
  {
   "cell_type": "code",
   "execution_count": 3,
   "id": "d9955481",
   "metadata": {},
   "outputs": [],
   "source": [
    "import matplotlib.pyplot as plt "
   ]
  },
  {
   "cell_type": "code",
   "execution_count": 4,
   "id": "926764b4",
   "metadata": {},
   "outputs": [],
   "source": [
    "from ml4am.denoising import *"
   ]
  },
  {
   "cell_type": "code",
   "execution_count": null,
   "id": "7139978f",
   "metadata": {},
   "outputs": [],
   "source": []
  },
  {
   "cell_type": "code",
   "execution_count": null,
   "id": "c33c800e",
   "metadata": {},
   "outputs": [],
   "source": []
  },
  {
   "cell_type": "markdown",
   "id": "025ab457",
   "metadata": {},
   "source": [
    "## The Marcenko-Pastur Theorem "
   ]
  },
  {
   "cell_type": "code",
   "execution_count": 5,
   "id": "ca055b05-1e71-4828-85bb-057f31f82361",
   "metadata": {},
   "outputs": [],
   "source": [
    "x=np.random.normal(size=(10000,1000)) "
   ]
  },
  {
   "cell_type": "code",
   "execution_count": 6,
   "id": "7ac184b6-fd35-4bfa-b1a2-5de9b7700d67",
   "metadata": {},
   "outputs": [],
   "source": [
    "matrix = np.corrcoef(x,rowvar=0)"
   ]
  },
  {
   "cell_type": "code",
   "execution_count": 7,
   "id": "7e9ae568-c296-4b15-a634-6419e2e9bfbf",
   "metadata": {},
   "outputs": [
    {
     "data": {
      "text/plain": [
       "numpy.ndarray"
      ]
     },
     "execution_count": 7,
     "metadata": {},
     "output_type": "execute_result"
    }
   ],
   "source": [
    "type(matrix)"
   ]
  },
  {
   "cell_type": "code",
   "execution_count": 8,
   "id": "5d0a87d6-5efd-471f-99bf-ddedced4295e",
   "metadata": {},
   "outputs": [
    {
     "name": "stdout",
     "output_type": "stream",
     "text": [
      "Help on function eigh in module numpy.linalg:\n",
      "\n",
      "eigh(a, UPLO='L')\n",
      "    Return the eigenvalues and eigenvectors of a complex Hermitian\n",
      "    (conjugate symmetric) or a real symmetric matrix.\n",
      "    \n",
      "    Returns two objects, a 1-D array containing the eigenvalues of `a`, and\n",
      "    a 2-D square array or matrix (depending on the input type) of the\n",
      "    corresponding eigenvectors (in columns).\n",
      "    \n",
      "    Parameters\n",
      "    ----------\n",
      "    a : (..., M, M) array\n",
      "        Hermitian or real symmetric matrices whose eigenvalues and\n",
      "        eigenvectors are to be computed.\n",
      "    UPLO : {'L', 'U'}, optional\n",
      "        Specifies whether the calculation is done with the lower triangular\n",
      "        part of `a` ('L', default) or the upper triangular part ('U').\n",
      "        Irrespective of this value only the real parts of the diagonal will\n",
      "        be considered in the computation to preserve the notion of a Hermitian\n",
      "        matrix. It therefore follows that the imaginary part of the diagonal\n",
      "        will always be treated as zero.\n",
      "    \n",
      "    Returns\n",
      "    -------\n",
      "    w : (..., M) ndarray\n",
      "        The eigenvalues in ascending order, each repeated according to\n",
      "        its multiplicity.\n",
      "    v : {(..., M, M) ndarray, (..., M, M) matrix}\n",
      "        The column ``v[:, i]`` is the normalized eigenvector corresponding\n",
      "        to the eigenvalue ``w[i]``.  Will return a matrix object if `a` is\n",
      "        a matrix object.\n",
      "    \n",
      "    Raises\n",
      "    ------\n",
      "    LinAlgError\n",
      "        If the eigenvalue computation does not converge.\n",
      "    \n",
      "    See Also\n",
      "    --------\n",
      "    eigvalsh : eigenvalues of real symmetric or complex Hermitian\n",
      "               (conjugate symmetric) arrays.\n",
      "    eig : eigenvalues and right eigenvectors for non-symmetric arrays.\n",
      "    eigvals : eigenvalues of non-symmetric arrays.\n",
      "    scipy.linalg.eigh : Similar function in SciPy (but also solves the\n",
      "                        generalized eigenvalue problem).\n",
      "    \n",
      "    Notes\n",
      "    -----\n",
      "    \n",
      "    .. versionadded:: 1.8.0\n",
      "    \n",
      "    Broadcasting rules apply, see the `numpy.linalg` documentation for\n",
      "    details.\n",
      "    \n",
      "    The eigenvalues/eigenvectors are computed using LAPACK routines ``_syevd``,\n",
      "    ``_heevd``.\n",
      "    \n",
      "    The eigenvalues of real symmetric or complex Hermitian matrices are\n",
      "    always real. [1]_ The array `v` of (column) eigenvectors is unitary\n",
      "    and `a`, `w`, and `v` satisfy the equations\n",
      "    ``dot(a, v[:, i]) = w[i] * v[:, i]``.\n",
      "    \n",
      "    References\n",
      "    ----------\n",
      "    .. [1] G. Strang, *Linear Algebra and Its Applications*, 2nd Ed., Orlando,\n",
      "           FL, Academic Press, Inc., 1980, pg. 222.\n",
      "    \n",
      "    Examples\n",
      "    --------\n",
      "    >>> from numpy import linalg as LA\n",
      "    >>> a = np.array([[1, -2j], [2j, 5]])\n",
      "    >>> a\n",
      "    array([[ 1.+0.j, -0.-2.j],\n",
      "           [ 0.+2.j,  5.+0.j]])\n",
      "    >>> w, v = LA.eigh(a)\n",
      "    >>> w; v\n",
      "    array([0.17157288, 5.82842712])\n",
      "    array([[-0.92387953+0.j        , -0.38268343+0.j        ], # may vary\n",
      "           [ 0.        +0.38268343j,  0.        -0.92387953j]])\n",
      "    \n",
      "    >>> np.dot(a, v[:, 0]) - w[0] * v[:, 0] # verify 1st e-val/vec pair\n",
      "    array([5.55111512e-17+0.0000000e+00j, 0.00000000e+00+1.2490009e-16j])\n",
      "    >>> np.dot(a, v[:, 1]) - w[1] * v[:, 1] # verify 2nd e-val/vec pair\n",
      "    array([0.+0.j, 0.+0.j])\n",
      "    \n",
      "    >>> A = np.matrix(a) # what happens if input is a matrix object\n",
      "    >>> A\n",
      "    matrix([[ 1.+0.j, -0.-2.j],\n",
      "            [ 0.+2.j,  5.+0.j]])\n",
      "    >>> w, v = LA.eigh(A)\n",
      "    >>> w; v\n",
      "    array([0.17157288, 5.82842712])\n",
      "    matrix([[-0.92387953+0.j        , -0.38268343+0.j        ], # may vary\n",
      "            [ 0.        +0.38268343j,  0.        -0.92387953j]])\n",
      "    \n",
      "    >>> # demonstrate the treatment of the imaginary part of the diagonal\n",
      "    >>> a = np.array([[5+2j, 9-2j], [0+2j, 2-1j]])\n",
      "    >>> a\n",
      "    array([[5.+2.j, 9.-2.j],\n",
      "           [0.+2.j, 2.-1.j]])\n",
      "    >>> # with UPLO='L' this is numerically equivalent to using LA.eig() with:\n",
      "    >>> b = np.array([[5.+0.j, 0.-2.j], [0.+2.j, 2.-0.j]])\n",
      "    >>> b\n",
      "    array([[5.+0.j, 0.-2.j],\n",
      "           [0.+2.j, 2.+0.j]])\n",
      "    >>> wa, va = LA.eigh(a)\n",
      "    >>> wb, vb = LA.eig(b)\n",
      "    >>> wa; wb\n",
      "    array([1., 6.])\n",
      "    array([6.+0.j, 1.+0.j])\n",
      "    >>> va; vb\n",
      "    array([[-0.4472136 +0.j        , -0.89442719+0.j        ], # may vary\n",
      "           [ 0.        +0.89442719j,  0.        -0.4472136j ]])\n",
      "    array([[ 0.89442719+0.j       , -0.        +0.4472136j],\n",
      "           [-0.        +0.4472136j,  0.89442719+0.j       ]])\n",
      "\n"
     ]
    }
   ],
   "source": [
    "help(np.linalg.eigh)"
   ]
  },
  {
   "cell_type": "code",
   "execution_count": 9,
   "id": "e8d72332",
   "metadata": {},
   "outputs": [],
   "source": [
    "\n",
    "eVal0,eVec0=getPCA(matrix) \n",
    "pdf0=mpPDF(1.,q=x.shape[0]/float(x.shape[1]),pts=1000) \n",
    "pdf1=fitKDE(np.diag(eVal0),bWidth=.01) # empirical pdf"
   ]
  },
  {
   "cell_type": "code",
   "execution_count": 10,
   "id": "97c498c7-73c6-456a-b870-e1265dd46302",
   "metadata": {},
   "outputs": [
    {
     "data": {
      "text/plain": [
       "(1000, 1000)"
      ]
     },
     "execution_count": 10,
     "metadata": {},
     "output_type": "execute_result"
    }
   ],
   "source": [
    "eVal0.shape"
   ]
  },
  {
   "cell_type": "code",
   "execution_count": 11,
   "id": "0b74adbe",
   "metadata": {},
   "outputs": [
    {
     "data": {
      "text/plain": [
       "(1000, 1000)"
      ]
     },
     "execution_count": 11,
     "metadata": {},
     "output_type": "execute_result"
    }
   ],
   "source": [
    "eVec0.shape"
   ]
  },
  {
   "cell_type": "code",
   "execution_count": null,
   "id": "773e4aad-71cc-41f6-a24d-47bd0bfef113",
   "metadata": {},
   "outputs": [],
   "source": []
  },
  {
   "cell_type": "code",
   "execution_count": 12,
   "id": "add63b0c",
   "metadata": {},
   "outputs": [
    {
     "data": {
      "text/plain": [
       "pandas.core.series.Series"
      ]
     },
     "execution_count": 12,
     "metadata": {},
     "output_type": "execute_result"
    }
   ],
   "source": [
    "type(pdf0)"
   ]
  },
  {
   "cell_type": "code",
   "execution_count": 13,
   "id": "e0494574",
   "metadata": {},
   "outputs": [
    {
     "data": {
      "text/plain": [
       "0.467544    0.000000\n",
       "0.468811    0.135795\n",
       "0.470077    0.191429\n",
       "0.471343    0.233705\n",
       "0.472609    0.269001\n",
       "              ...   \n",
       "1.727391    0.073598\n",
       "1.728657    0.063723\n",
       "1.729923    0.052018\n",
       "1.731189    0.036774\n",
       "1.732456    0.000000\n",
       "Length: 1000, dtype: float64"
      ]
     },
     "execution_count": 13,
     "metadata": {},
     "output_type": "execute_result"
    }
   ],
   "source": [
    "pdf0"
   ]
  },
  {
   "cell_type": "code",
   "execution_count": 14,
   "id": "36c88ef7",
   "metadata": {},
   "outputs": [
    {
     "data": {
      "text/plain": [
       "Float64Index([0.46754446796632404,  0.4688106452076327, 0.47007682244894133,\n",
       "                 0.47134299969025,  0.4726091769315587, 0.47387535417286736,\n",
       "                0.475141531414176, 0.47640770865548465,  0.4776738858967933,\n",
       "                0.478940063138102,\n",
       "              ...\n",
       "               1.7210599368618982,  1.7223261141032067,  1.7235922913445154,\n",
       "               1.7248584685858241,  1.7261246458271327,  1.7273908230684414,\n",
       "               1.7286570003097501,  1.7299231775510586,  1.7311893547923674,\n",
       "                1.732455532033676],\n",
       "             dtype='float64', length=1000)"
      ]
     },
     "execution_count": 14,
     "metadata": {},
     "output_type": "execute_result"
    }
   ],
   "source": [
    "pdf0.index"
   ]
  },
  {
   "cell_type": "code",
   "execution_count": 15,
   "id": "2f781bd3",
   "metadata": {},
   "outputs": [
    {
     "data": {
      "text/plain": [
       "Text(0.5, 1.0, 'A visualization of the Marcenko-Patur Theorem')"
      ]
     },
     "execution_count": 15,
     "metadata": {},
     "output_type": "execute_result"
    },
    {
     "data": {
      "image/png": "[encoded data removed]",
      "text/plain": [
       "<Figure size 432x288 with 1 Axes>"
      ]
     },
     "metadata": {
      "needs_background": "light"
     },
     "output_type": "display_data"
    }
   ],
   "source": [
    "_=plt.plot(pdf0.index, pdf0 ,'-', label=\"Marcenko-Pastur pdf\")\n",
    "_=plt.plot(pdf1.index, pdf1 ,'-', label=\"Empirical:KDE\")\n",
    "plt.legend(loc=\"upper right\")\n",
    "plt.xlabel(r'$\\lambda$')    \n",
    "plt.ylabel(r'$Pr(\\lambda)$')  \n",
    "plt.title('A visualization of the Marcenko-Patur Theorem')"
   ]
  },
  {
   "cell_type": "markdown",
   "id": "4c928345",
   "metadata": {},
   "source": [
    "## Random Matrix with Signal"
   ]
  },
  {
   "cell_type": "code",
   "execution_count": null,
   "id": "55e5f55e",
   "metadata": {},
   "outputs": [],
   "source": []
  },
  {
   "cell_type": "code",
   "execution_count": null,
   "id": "3bf9cb2d",
   "metadata": {},
   "outputs": [],
   "source": []
  },
  {
   "cell_type": "code",
   "execution_count": null,
   "id": "2d916355",
   "metadata": {},
   "outputs": [],
   "source": []
  },
  {
   "cell_type": "code",
   "execution_count": 16,
   "id": "36c3b09e",
   "metadata": {},
   "outputs": [],
   "source": [
    "alpha,nCols,nFact,q=.995,1000,100,10 \n",
    "cov=np.cov(np.random.normal(size=(nCols*q,nCols)),rowvar=0) \n",
    "cov=alpha*cov+(1-alpha)*getRndCov(nCols,nFact) # noise+signal \n",
    "corr0=cov2corr(cov)\n",
    "eVal01,eVec01=getPCA(corr0)"
   ]
  },
  {
   "cell_type": "code",
   "execution_count": 17,
   "id": "433a06bc",
   "metadata": {},
   "outputs": [],
   "source": [
    "pdf0=mpPDF(1.,q=x.shape[0]/float(x.shape[1]),pts=1000) \n",
    "pdf1=fitKDE(np.diag(eVal01),bWidth=.01) # empirical pdf"
   ]
  },
  {
   "cell_type": "code",
   "execution_count": 18,
   "id": "3a075bb6",
   "metadata": {},
   "outputs": [
    {
     "data": {
      "image/png": "[encoded data removed]",
      "text/plain": [
       "<Figure size 432x288 with 1 Axes>"
      ]
     },
     "metadata": {
      "needs_background": "light"
     },
     "output_type": "display_data"
    }
   ],
   "source": [
    "fig = plt.figure()\n",
    "ax  = fig.add_subplot(111)\n",
    "_=ax.hist(np.diag(eVal01), color='r',density = True, bins=50) # Histogram the eigenvalues\n",
    "plt.plot(pdf0.index, pdf0, color='b', label=\"Marcenko-Pastur pdf\")\n",
    "plt.plot(pdf1.index, pdf1, color='g', label=\"Empirical:KDE pdf\")\n",
    "\n",
    "#plt.plot(pdf1.keys(), pdf1, color='g', label=\"Empirical:KDE\")\n",
    "#plt.plot(x_range, pdf2, color='b', label=\"Eigenvalues of random-matrix with signal\")\n",
    "plt.legend(loc=\"upper right\")\n",
    "plt.show()   "
   ]
  },
  {
   "cell_type": "code",
   "execution_count": null,
   "id": "9ba7f738",
   "metadata": {},
   "outputs": [],
   "source": [
    " "
   ]
  },
  {
   "cell_type": "markdown",
   "id": "dd3e5e48",
   "metadata": {},
   "source": [
    "## Fitting the Marcenko-Pastur Distribution "
   ]
  },
  {
   "cell_type": "code",
   "execution_count": 19,
   "id": "d65700dc",
   "metadata": {},
   "outputs": [
    {
     "data": {
      "text/plain": [
       "10"
      ]
     },
     "execution_count": 19,
     "metadata": {},
     "output_type": "execute_result"
    }
   ],
   "source": [
    "q"
   ]
  },
  {
   "cell_type": "code",
   "execution_count": 20,
   "id": "99fa0877",
   "metadata": {},
   "outputs": [
    {
     "name": "stdout",
     "output_type": "stream",
     "text": [
      "found errPDFs0.6773348995131228\n"
     ]
    }
   ],
   "source": [
    "eMax0,var0=findMaxEval(np.diag(eVal01),q,bWidth=.01) \n"
   ]
  },
  {
   "cell_type": "code",
   "execution_count": 21,
   "id": "0867a32b",
   "metadata": {},
   "outputs": [
    {
     "data": {
      "text/plain": [
       "0.6773348995131228"
      ]
     },
     "execution_count": 21,
     "metadata": {},
     "output_type": "execute_result"
    }
   ],
   "source": [
    "var0"
   ]
  },
  {
   "cell_type": "code",
   "execution_count": 22,
   "id": "d1be80ef",
   "metadata": {},
   "outputs": [],
   "source": [
    "nFacts0=eVal01.shape[0]-np.diag(eVal01)[::-1].searchsorted(eMax0)"
   ]
  },
  {
   "cell_type": "code",
   "execution_count": 23,
   "id": "77e379a8",
   "metadata": {},
   "outputs": [
    {
     "data": {
      "text/plain": [
       "100"
      ]
     },
     "execution_count": 23,
     "metadata": {},
     "output_type": "execute_result"
    }
   ],
   "source": [
    "nFacts0"
   ]
  },
  {
   "cell_type": "code",
   "execution_count": 24,
   "id": "b42acc27",
   "metadata": {},
   "outputs": [],
   "source": [
    "fitted_mp_pdf0=mpPDF(var0,q ,pts=1000) \n"
   ]
  },
  {
   "cell_type": "code",
   "execution_count": 25,
   "id": "f0384841",
   "metadata": {},
   "outputs": [
    {
     "data": {
      "image/png": "[encoded data removed]",
      "text/plain": [
       "<Figure size 432x288 with 1 Axes>"
      ]
     },
     "metadata": {
      "needs_background": "light"
     },
     "output_type": "display_data"
    }
   ],
   "source": [
    "fig = plt.figure()\n",
    "ax  = fig.add_subplot(111)\n",
    "_=ax.hist(np.diag(eVal01), color='r',density = True, bins=50) # Histogram the eigenvalues\n",
    "plt.plot(pdf0.index, pdf0, color='b', label=\"Marcenko-Pastur pdf\")\n",
    "plt.plot(pdf1.index, pdf1, color='g', label=\"Empirical:KDE pdf\")\n",
    "plt.plot(fitted_mp_pdf0.index, fitted_mp_pdf0, color='m', label=\"Fitted.mp pdf\")\n",
    "\n",
    "#plt.plot(pdf1.keys(), pdf1, color='g', label=\"Empirical:KDE\")\n",
    "#plt.plot(x_range, pdf2, color='b', label=\"Eigenvalues of random-matrix with signal\")\n",
    "plt.legend(loc=\"upper right\")\n",
    "plt.show()   "
   ]
  },
  {
   "cell_type": "markdown",
   "id": "97252e25",
   "metadata": {},
   "source": [
    "## Hyperparameter Fine tuning of M-P distribution"
   ]
  },
  {
   "cell_type": "code",
   "execution_count": null,
   "id": "36967a5c",
   "metadata": {},
   "outputs": [],
   "source": []
  },
  {
   "cell_type": "code",
   "execution_count": 26,
   "id": "2cca7d9d",
   "metadata": {},
   "outputs": [],
   "source": [
    "best_width = findOptimalBWidth(np.diag(eVal01))"
   ]
  },
  {
   "cell_type": "code",
   "execution_count": 27,
   "id": "45ee5c0e",
   "metadata": {},
   "outputs": [
    {
     "data": {
      "text/plain": [
       "{'bandwidth': 0.05722367659350217}"
      ]
     },
     "execution_count": 27,
     "metadata": {},
     "output_type": "execute_result"
    }
   ],
   "source": [
    "best_width"
   ]
  },
  {
   "cell_type": "code",
   "execution_count": null,
   "id": "215919af",
   "metadata": {},
   "outputs": [],
   "source": []
  },
  {
   "cell_type": "code",
   "execution_count": null,
   "id": "2dc8e007",
   "metadata": {},
   "outputs": [],
   "source": []
  },
  {
   "cell_type": "code",
   "execution_count": null,
   "id": "e63ca3ef",
   "metadata": {},
   "outputs": [],
   "source": []
  },
  {
   "cell_type": "markdown",
   "id": "0270e800",
   "metadata": {},
   "source": [
    "## Denoising "
   ]
  },
  {
   "cell_type": "code",
   "execution_count": null,
   "id": "9e4fb0c0",
   "metadata": {},
   "outputs": [],
   "source": [
    "corr1=denoisedCorr(eVal0,eVec0,nFacts0) \n"
   ]
  },
  {
   "cell_type": "code",
   "execution_count": null,
   "id": "d2b4204c-f714-4b78-a7ab-c629d7c7fbf3",
   "metadata": {},
   "outputs": [],
   "source": [
    "corr1"
   ]
  },
  {
   "cell_type": "code",
   "execution_count": 28,
   "id": "8593d599",
   "metadata": {},
   "outputs": [],
   "source": [
    "eVal1,eVec1=getPCA(corr1)"
   ]
  },
  {
   "cell_type": "code",
   "execution_count": 29,
   "id": "3c68c67c",
   "metadata": {},
   "outputs": [
    {
     "data": {
      "image/png": "[encoded data removed]",
      "text/plain": [
       "<Figure size 432x288 with 1 Axes>"
      ]
     },
     "metadata": {
      "needs_background": "light"
     },
     "output_type": "display_data"
    }
   ],
   "source": [
    "denoised_eigenvalue = np.diag(eVal1)\n",
    "eigenvalue_prior = np.diag(eVal01)\n",
    "plt.plot(range(0, len(denoised_eigenvalue)), np.log(denoised_eigenvalue), color='r', label=\"Denoised eigen-function\")\n",
    "plt.plot(range(0, len(eigenvalue_prior)), np.log(eigenvalue_prior), color='g', label=\"Original eigen-function\")\n",
    "plt.xlabel(\"Eigenvalue number\")\n",
    "plt.ylabel(\"Eigenvalue (log-scale)\")\n",
    "plt.legend(loc=\"upper right\")\n",
    "plt.show()"
   ]
  },
  {
   "cell_type": "code",
   "execution_count": null,
   "id": "7f4860ab",
   "metadata": {},
   "outputs": [],
   "source": []
  },
  {
   "cell_type": "code",
   "execution_count": 30,
   "id": "31ff7007",
   "metadata": {},
   "outputs": [],
   "source": [
    "corr1 = denoisedCorr2(eVal01, eVec01, nFacts0, alpha=0.5)   \n",
    "eVal1, eVec1 = getPCA(corr1)"
   ]
  },
  {
   "cell_type": "code",
   "execution_count": 31,
   "id": "0396c750",
   "metadata": {},
   "outputs": [
    {
     "data": {
      "image/png": "[encoded data removed]",
      "text/plain": [
       "<Figure size 432x288 with 1 Axes>"
      ]
     },
     "metadata": {
      "needs_background": "light"
     },
     "output_type": "display_data"
    }
   ],
   "source": [
    "denoised_eigenvalue = np.diag(eVal1)\n",
    "eigenvalue_prior = np.diag(eVal01)\n",
    "plt.plot(range(0, len(denoised_eigenvalue)), np.log(denoised_eigenvalue), color='r', label=\"Denoised eigen-function\")\n",
    "plt.plot(range(0, len(eigenvalue_prior)), np.log(eigenvalue_prior), color='g', label=\"Original eigen-function\")\n",
    "plt.xlabel(\"Eigenvalue number\")\n",
    "plt.ylabel(\"Eigenvalue (log-scale)\")\n",
    "plt.legend(loc=\"upper right\")\n",
    "plt.show()"
   ]
  },
  {
   "cell_type": "markdown",
   "id": "1e87f70f",
   "metadata": {},
   "source": [
    "## Detoning "
   ]
  },
  {
   "cell_type": "code",
   "execution_count": 32,
   "id": "fa76aeeb",
   "metadata": {},
   "outputs": [],
   "source": [
    "corr_detoned_denoised = detoned_corr(corr1, eVal1, eVec1)\n",
    "\n",
    "eVal1_detoned, eVec1_detoned = getPCA(corr_detoned_denoised)\n",
    "detoned_denoised_eigenvalue = np.diag(eVal1_detoned)\n",
    "denoised_eigenvalue = np.diag(eVal1)\n",
    "eigenvalue_prior = np.diag(eVal01)"
   ]
  },
  {
   "cell_type": "code",
   "execution_count": null,
   "id": "98eb32de",
   "metadata": {},
   "outputs": [],
   "source": []
  },
  {
   "cell_type": "code",
   "execution_count": 33,
   "id": "99a03300",
   "metadata": {},
   "outputs": [
    {
     "data": {
      "image/png": "[encoded data removed]",
      "text/plain": [
       "<Figure size 432x288 with 1 Axes>"
      ]
     },
     "metadata": {
      "needs_background": "light"
     },
     "output_type": "display_data"
    }
   ],
   "source": [
    "\n",
    "\n",
    "plt.plot(range(0, len(detoned_denoised_eigenvalue)), np.log(detoned_denoised_eigenvalue), color='b', label=\"Detoned, denoised eigen-function\")\n",
    "plt.plot(range(0, len(denoised_eigenvalue)), np.log(denoised_eigenvalue), color='r', label=\"Denoised eigen-function\")\n",
    "plt.plot(range(0, len(eigenvalue_prior)), np.log(eigenvalue_prior), color='g', label=\"Original eigen-function\")\n",
    "plt.xlabel(\"Eigenvalue number\")\n",
    "plt.ylabel(\"Eigenvalue (log-scale)\")\n",
    "plt.legend(loc=\"upper right\")\n",
    "plt.show()"
   ]
  },
  {
   "cell_type": "code",
   "execution_count": null,
   "id": "86fa8a3b",
   "metadata": {},
   "outputs": [],
   "source": []
  },
  {
   "cell_type": "code",
   "execution_count": null,
   "id": "3edf5187",
   "metadata": {},
   "outputs": [],
   "source": []
  },
  {
   "cell_type": "markdown",
   "id": "711ceabd",
   "metadata": {},
   "source": [
    "## Monte Carlo Experiment"
   ]
  },
  {
   "cell_type": "code",
   "execution_count": null,
   "id": "09e615db",
   "metadata": {},
   "outputs": [],
   "source": []
  },
  {
   "cell_type": "code",
   "execution_count": 34,
   "id": "c16530e9",
   "metadata": {},
   "outputs": [],
   "source": [
    "nBlocks, bSize, bCorr = 2, 2, .5\n",
    "np.random.seed(0)\n",
    "mu0, cov0 = formTrueMatrix(nBlocks, bSize, bCorr)"
   ]
  },
  {
   "cell_type": "code",
   "execution_count": 35,
   "id": "3df857ae",
   "metadata": {},
   "outputs": [],
   "source": [
    "# code snippet 2.10\n",
    "nObs, nTrials, bWidth, shrink, minVarPortf = 5, 5, .01, False, True\n",
    "w1 = pd.DataFrame(columns = range(cov0.shape[0]), index = range(nTrials), dtype=float)\n",
    "\n",
    "w1_d = w1.copy(deep=True)\n",
    "np.random.seed(0)"
   ]
  },
  {
   "cell_type": "code",
   "execution_count": 36,
   "id": "00935401",
   "metadata": {},
   "outputs": [
    {
     "name": "stdout",
     "output_type": "stream",
     "text": [
      "found errPDFs0.99999\n",
      "found errPDFs0.49691002139766355\n",
      "found errPDFs0.99999\n",
      "found errPDFs0.99999\n",
      "found errPDFs0.99999\n"
     ]
    }
   ],
   "source": [
    "for i in range(nTrials):\n",
    "    mu1, cov1 = simCovMu(mu0, cov0, nObs, shrink = shrink)\n",
    "    if minVarPortf: mu1 = None\n",
    "    cov1_d = deNoiseCov(cov1, nObs*1./cov1.shape[1], bWidth)\n",
    "    w1.loc[i] = optPort(cov1, mu1).flatten() # add column vector w as row in w1\n",
    "    w1_d.loc[i] = optPort(cov1_d, mu1).flatten() # np.sum(w1_d, axis=1) is vector of 1's. sum(np.sum(w1_d, axis=0)= nTrials\n",
    "    # so minimum-variance-portfolio is 1./nTrials*(np.sum(w1_d, axis=0)) - but distribution not stationary\n"
   ]
  },
  {
   "cell_type": "code",
   "execution_count": 37,
   "id": "e9d89a41",
   "metadata": {},
   "outputs": [
    {
     "name": "stdout",
     "output_type": "stream",
     "text": [
      "RMSE not denoised:1.2511752878050761\n",
      "RMSE denoised:0.5051529232275288\n"
     ]
    }
   ],
   "source": [
    "\n",
    "\n",
    "\n",
    "\n",
    "min_var_port = 1./nTrials*(np.sum(w1_d, axis=0)) \n",
    "#code snippet 2.11\n",
    "w0 = optPort(cov0, None if minVarPortf else mu0) # w0 true percentage asset allocation\n",
    "w0 = np.repeat(w0.T, w1.shape[0], axis=0) \n",
    "rmsd = np.mean((w1-w0).values.flatten()**2)**.5     #RMSE not denoised\n",
    "rmsd_d = np.mean((w1_d-w0).values.flatten()**2)**.5 #RMSE denoised\n",
    "print(\"RMSE not denoised:\"+str( rmsd))\n",
    "print(\"RMSE denoised:\"+str( rmsd_d))"
   ]
  },
  {
   "cell_type": "code",
   "execution_count": null,
   "id": "f7399ece",
   "metadata": {},
   "outputs": [],
   "source": []
  }
 ],
 "metadata": {
  "kernelspec": {
   "display_name": "Python 3.8 (pytorch)",
   "language": "python",
   "name": "pytorch"
  },
  "language_info": {
   "codemirror_mode": {
    "name": "ipython",
    "version": 3
   },
   "file_extension": ".py",
   "mimetype": "text/x-python",
   "name": "python",
   "nbconvert_exporter": "python",
   "pygments_lexer": "ipython3",
   "version": "3.8.13"
  },
  "toc": {
   "base_numbering": 1,
   "nav_menu": {},
   "number_sections": true,
   "sideBar": true,
   "skip_h1_title": false,
   "title_cell": "Table of Contents",
   "title_sidebar": "Contents",
   "toc_cell": false,
   "toc_position": {},
   "toc_section_display": true,
   "toc_window_display": true
  },
  "varInspector": {
   "cols": {
    "lenName": 16,
    "lenType": 16,
    "lenVar": 40
   },
   "kernels_config": {
    "python": {
     "delete_cmd_postfix": "",
     "delete_cmd_prefix": "del ",
     "library": "var_list.py",
     "varRefreshCmd": "print(var_dic_list())"
    },
    "r": {
     "delete_cmd_postfix": ") ",
     "delete_cmd_prefix": "rm(",
     "library": "var_list.r",
     "varRefreshCmd": "cat(var_dic_list()) "
    }
   },
   "types_to_exclude": [
    "module",
    "function",
    "builtin_function_or_method",
    "instance",
    "_Feature"
   ],
   "window_display": false
  }
 },
 "nbformat": 4,
 "nbformat_minor": 5
}
