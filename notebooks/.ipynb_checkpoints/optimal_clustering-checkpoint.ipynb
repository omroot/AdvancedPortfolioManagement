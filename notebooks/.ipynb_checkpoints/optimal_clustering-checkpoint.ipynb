{
 "cells": [
  {
   "cell_type": "markdown",
   "id": "b46fa278",
   "metadata": {},
   "source": [
    "# Optimal Clustering "
   ]
  },
  {
   "cell_type": "code",
   "execution_count": null,
   "id": "4e3e9f0f",
   "metadata": {
    "tags": []
   },
   "outputs": [],
   "source": []
  },
  {
   "cell_type": "code",
   "execution_count": 1,
   "id": "b68dcc03",
   "metadata": {},
   "outputs": [],
   "source": [
    "%load_ext autoreload \n",
    "%autoreload 2\n",
    "%matplotlib inline "
   ]
  },
  {
   "cell_type": "code",
   "execution_count": 2,
   "id": "29ba74a2-e951-40de-890b-c835b41a62ab",
   "metadata": {},
   "outputs": [],
   "source": [
    "import warnings\n",
    "warnings.filterwarnings(\"ignore\")"
   ]
  },
  {
   "cell_type": "code",
   "execution_count": 3,
   "id": "85cab354",
   "metadata": {},
   "outputs": [],
   "source": [
    "import sys\n",
    "sys.path.append('../')"
   ]
  },
  {
   "cell_type": "code",
   "execution_count": 4,
   "id": "3e067b6c-a8c9-464f-b4ea-a0e5c99e8b13",
   "metadata": {},
   "outputs": [],
   "source": [
    "import random"
   ]
  },
  {
   "cell_type": "code",
   "execution_count": 5,
   "id": "6f666d9e-cc16-4efc-a970-0e12231e9d20",
   "metadata": {},
   "outputs": [],
   "source": [
    "import pandas as pd\n",
    "import numpy as np"
   ]
  },
  {
   "cell_type": "code",
   "execution_count": null,
   "id": "9a5b4fd7-c048-47d7-b51d-caa7242876a8",
   "metadata": {},
   "outputs": [],
   "source": []
  },
  {
   "cell_type": "code",
   "execution_count": 6,
   "id": "d32356c3-9bf7-4229-95f4-710616d12181",
   "metadata": {},
   "outputs": [],
   "source": [
    "import matplotlib.pyplot as plt"
   ]
  },
  {
   "cell_type": "code",
   "execution_count": 7,
   "id": "8cac9e31",
   "metadata": {},
   "outputs": [],
   "source": [
    "\n",
    "from ml4am.optimal_clustering_refactored import ONC, PrunedONC,generate_random_block_correlation_matrix, shuffle_matrix\n"
   ]
  },
  {
   "cell_type": "code",
   "execution_count": null,
   "id": "b8790f62",
   "metadata": {},
   "outputs": [],
   "source": []
  },
  {
   "cell_type": "code",
   "execution_count": null,
   "id": "0ff9ad93-3009-46fc-9365-9a297447de46",
   "metadata": {},
   "outputs": [],
   "source": []
  },
  {
   "cell_type": "code",
   "execution_count": null,
   "id": "b786c6bc-95bb-4a93-98ea-3f2f28dc05c3",
   "metadata": {},
   "outputs": [],
   "source": []
  },
  {
   "cell_type": "markdown",
   "id": "b7b87402-422a-4a31-a036-1225bae1e3e6",
   "metadata": {},
   "source": [
    "- A clustering problem consists of a set of objects and a set of features associated with those objects. \n",
    "- The goal is to separate the objects into groups (called clusters) using the features, where intragroup similarities are maximized, and intergroup similarities are minimized. \n",
    "- It is a form of unsupervised learning, because we do not provide examples to assist the algorithm in solving this task. \n",
    "- Clustering problems appear naturally in finance, at every step of the investment process. \n",
    "    - For instance, analysts may look for historical analogues to current events, a task that involves developing a numerical taxonomy of events. \n",
    "    - Portfolio managers often cluster securities with respect to a variety of features, to derive relative values among peers. \n",
    "    - Risk managers are keen to avoid the concentration of risks in securities that share common traits. \n",
    "    - Traders wish to understand flows affecting a set of securities, to determine whether a rally or sell-off is idiosyncratic to a particular security, or affects a category shared by a multiplicity of securities. \n",
    "    \n",
    "    "
   ]
  },
  {
   "cell_type": "code",
   "execution_count": null,
   "id": "61f1b9fe-3e94-417c-b094-727a211030e6",
   "metadata": {},
   "outputs": [],
   "source": []
  },
  {
   "cell_type": "code",
   "execution_count": null,
   "id": "d5e604bb-86ca-4307-96fa-93f9d3c37bfb",
   "metadata": {},
   "outputs": [],
   "source": []
  },
  {
   "cell_type": "markdown",
   "id": "cd6a4bcc-b1b0-4d0c-b81d-a501fe196fd3",
   "metadata": {},
   "source": [
    "For a given element $i$ and a given clustering, the silhouette $S_i$ is defined as:\n",
    "$$\n",
    "S_i = \\frac{b_i-a_i}{\\max(\\{a_i,b_i\\}) } , i=1, \\cdots, N\n",
    "$$\n",
    "where:\n",
    "- $a_i$ is the average distance between $i$ and all other elements in the same cluster\n",
    "- $b_i$ is the average distance between $i$ and all the elements in the nearest cluster of which $i$ is not a member. \n",
    "- Effectively, this is a measure comparing intracluster distance and intercluster distance.\n",
    "- A value. $S_i=1$ means that element $i$ is clustered well\n",
    "- A value $S_i=-1$ means that $i$ was clustered poorly \n",
    "\n",
    "For a given partition , the clustering quality $q$ is defined as \n",
    "\n",
    "$$ q = \\frac{\\mathbb{E}(S_i)}{ \\sqrt{\\mathbb{Var}(S_i)} } $$\n",
    "\n",
    "where:\n",
    "- $\\mathbb{E}(S_i)$ is the mean of the silhouette coefficients \n",
    "- $\\mathbb{Var}(S_i)$ is the variance of the silhouette coefficients "
   ]
  },
  {
   "cell_type": "code",
   "execution_count": null,
   "id": "d7cc2ca2-1e3e-4cff-9d68-f5fc94c25f26",
   "metadata": {},
   "outputs": [],
   "source": []
  },
  {
   "cell_type": "markdown",
   "id": "33720c43-f6f8-45a3-8cf8-c3ac86ad34e0",
   "metadata": {},
   "source": [
    "The following modification addresses the k-mean’s initialization problem. \\\n",
    "At the base level, our clustering algorithm performs the following operation: \n",
    "- first, evaluate the observation matrix; \n",
    "- second, we perform a double for ... loop. \n",
    "    - In the first loop, we try different $k=2, \\cdots, N$ on which to cluster via $k$-means for one given initialization, and evaluate the quality $q$ for each clustering. \n",
    "    - The second loop repeats the first loop multiple times, there by attempting different initializations.\n",
    "- Third, over these two loops, we select the clustering with the highest $q$."
   ]
  },
  {
   "cell_type": "code",
   "execution_count": null,
   "id": "0e906375-65d7-430f-b59f-ad0d0ead1137",
   "metadata": {},
   "outputs": [],
   "source": []
  },
  {
   "cell_type": "code",
   "execution_count": null,
   "id": "574d01be-d2e8-4989-87da-15457780b992",
   "metadata": {},
   "outputs": [],
   "source": []
  },
  {
   "cell_type": "markdown",
   "id": "c2a3f052-11ca-45a6-8eb6-0535a6341cf9",
   "metadata": {},
   "source": [
    "- The third modification to k-means deals with clusters of inconsistent quality. \n",
    "- The base clustering may capture the more distinct clusters, while missing the less apparent (obvious) ones.\n",
    "- To address this issue, we evaluate the quality $q_k$ of each cluster $k=1, \\cdots,K$ given the clustering quality scores obtained from the base clustering algorithm.\n",
    "- We the take the average quality\n",
    "$$\\overline{q} = \\frac{1}{N}\\sum_{i=1}^Nq_i $$\n",
    "- Find the set of clusters with quality below average\n",
    "$$\\{ q_k \\mid q_k < \\overline{q} , k=1, \\cdots, K \\}$$\n",
    "- Let us denote $K_1$ the number of clusters in the previous set, $K_1<K$.\n",
    "- If the number of clusters to rerun is $K_1 \\leq 1$, then we return the clustering given by the base algorithm.\n",
    "- However, if $K_1 \\geq 2$, we rerun the clustering of the items in those $K_1$ clusters, while the rest are considered acceptably clustered. \n",
    "- We form a new (reduced) observations matrix out of the elements that compose the $K_1$ clusters, and rerun the base clustering algorithm on that reduced correlation matrix. \n",
    "- Doing so will return a, possibly new, clustering for those elements in $K_1$. \n",
    "- To check its efficacy, we compare the average cluster quality before and after reclustering those elements in $K_1$. \n",
    "- If the average cluster quality improves, we return the accepted clustering from the base clustering concatenated with the new clustering for the redone nodes. \n",
    "- Otherwise, we return the clustering formed by the base algorithm."
   ]
  },
  {
   "cell_type": "code",
   "execution_count": null,
   "id": "a1becce3-7db6-4ec4-9611-f1530d8a28ee",
   "metadata": {},
   "outputs": [],
   "source": []
  },
  {
   "cell_type": "markdown",
   "id": "d8c18d20-6f51-4b90-9f2f-016b2ce607ba",
   "metadata": {},
   "source": [
    "The Elbow method leverages the within-cluster sum of squares (WCSS). \\\n",
    "The process is pretty straightforward:\n",
    "\n",
    "- Run k-means clustering   for a range of cluster sizes ($K$ values).\n",
    "- Compute the total WCSS for each $k = 1, \\cdots, K$.\n",
    "- Create a plot with the number of clusters on the x-axis and the corresponding total WCSS on the y-axis.\n",
    "- Locate the “elbow” point, where adding another cluster doesn’t offer much better fitting to the data.\n",
    "- When you increase the number of clusters, the WSS naturally decreases. But after a specific point, you achieve diminishing returns on improving the compactness of the clusters.\n",
    "\n",
    "Pros:\n",
    "- Simplicity and Intuitiveness: Easy to understand and implement.\n",
    "- Good for Quick Decisions: Offers a fast solution without excessive computation. \n",
    "\n",
    "Cons:\n",
    "- Subjectivity: The \"elbow\" isn’t always clear-cut, leading to different interpretations.\n",
    "- Oversimplification: May not work as efficiently with complex, high-dimensional data."
   ]
  },
  {
   "cell_type": "code",
   "execution_count": null,
   "id": "f0f97a6e-4221-489f-8131-0ec734c8b063",
   "metadata": {},
   "outputs": [],
   "source": []
  },
  {
   "cell_type": "code",
   "execution_count": null,
   "id": "a6488c0e-e23c-4c34-9329-7e4ab7c5d1a3",
   "metadata": {},
   "outputs": [],
   "source": []
  },
  {
   "cell_type": "code",
   "execution_count": null,
   "id": "3397b9ca-4f61-47b8-97a4-3a270ad34a1e",
   "metadata": {},
   "outputs": [],
   "source": []
  },
  {
   "cell_type": "markdown",
   "id": "38e34ffa-6e85-4f1d-a1e1-2cee19097330",
   "metadata": {},
   "source": [
    "- Given the tuple $(N, M, K)$, we wish to create a random block correlation matrix of size $N\\times N$, made up of $K$ blocks, each of size greater or equal than $M$. Let us describe the procedure for randomly partitioning $N$ items into $K$ disjoint groups, each of size at least $M$.\n",
    "\n",
    "- Note that this is equivalent to randomly partitioning $N^{\\prime} = N - K(M-1) $ items into $K$ groups each of size at least 1:\n",
    "    - The adjustment formula $N^{\\prime} = N - K(M-1) $ ensures that each box has at least $M$ items at the start, accounting for the $K$ blocks of size $M$ each. \n",
    "    - After distributing $M-1$ items to each box, we are left with $N^{\\prime}$  items to distribute freely among the $K$ boxes.\n",
    "    - Randomly partition the $N^{\\prime}$ items among the $K$ boxes ensures that each box has at least 1 item (since  $N^{\\prime}$  and $K$ are both positive)\n",
    "\n",
    "\n",
    "- Consider randomly choosing $K - 1$ distinct items, denoted as set $B$, from the set \n",
    "$A=(1, \\cdots, N^{\\prime}-1)$, then add the $(N^{\\prime})^{th}$ point to $B$ so that $B$ is of size $K$. \n",
    "- Thus, $B$ contains $i_1, \\cdots, i_K$, where $1 \\leq i_1 < i_2 < \\cdots < i_K = N^{\\prime}$.\n",
    "- Given $B$, consider the $K$ partition sets:\n",
    "    - $C_1=0, \\dots, i_{1}-1$\n",
    "    - $C_2=i_1, \\dots, i_{2}-1$\n",
    "    - $\\cdots $\n",
    "    - $C_K=i_{K-1}, \\dots, i_{K}-1$\n",
    "- Given that $i_j$ are distinct:\n",
    "    - each partition contains at least one element as desired, \n",
    "    - and furthermore completely partitions the set  $(0, \\dots, N^{\\prime}-1)$\n",
    "- In doing so, each set $C_j$ contains $i_j - i_{j-1}$ elements for $j=1, \\cdots,K$, letting $i_0=0$\n",
    "- We can generalize again by adding $M-1$ elements to each block."
   ]
  },
  {
   "cell_type": "markdown",
   "id": "6333beec-389e-4d26-8fb8-0a81a26137d3",
   "metadata": {},
   "source": []
  },
  {
   "cell_type": "markdown",
   "id": "9aabd724-61de-43f6-a290-8e92b51f0d07",
   "metadata": {},
   "source": [
    "\n",
    "## Procedure for Creating Random Block Correlation Matrix\n",
    "\n",
    "Given the tuple $(N, M, K)$, where:\n",
    "- $N$: Total number of items.\n",
    "- $M$: Minimum size of each block.\n",
    "- $K$: Number of blocks.\n",
    "1. **Adjustment for Minimum Block Size:**\n",
    "   - Calculate $N' = N - K(M-1)$.\n",
    "   - This adjustment ensures each block starts with at least $M$ items.\n",
    "2. **Random Partitioning:**\n",
    "   - Randomly distribute $N'$ items into $K$ groups, ensuring each group has at least 1 item.\n",
    "   - This guarantees randomness while meeting the minimum block size requirement.\n",
    "3. **Specific Procedure:**\n",
    "   - Randomly choose $K - 1$ distinct items from the set $A = (1, \\cdots , N'-1)$.\n",
    "   - Add the $N'$th item to create set $B$ of size $K$.\n",
    "   - Set $B$ contains $i_1, \\cdots, i_K$, where $1 \\leq i_1 < i_2 < \\cdots < i_K = N'$.\n",
    "4. **Partition Sets:**\n",
    "   - Create $K$ partition sets $C_1, C_2, \\cdots, C_K$.\n",
    "   - Each $C_j$ contains elements from 0 to $N'-1$, with $C_j = i_{j-1}, \\cdots, i_{j} - 1$, where $i_0 = 0$.\n",
    "5. **Generalization for Block Size:**\n",
    "   - For each block $C_j$, determine the number of extra elements needed to reach size $M$:\n",
    "     - $\\text{extra}_j = \\max(0, M - (i_j - i_{j-1}))$\n",
    "   - Randomly select $\\text{extra}_j$ elements from set $A$ and add them to block $C_j$.\n",
    "   - Repeat this process for all blocks to ensure each has at least M elements.\n",
    "6. **Generation of covariance matrix $\\Sigma$**\n",
    "   - Let each blokc $k=1, \\cdots, K$ have size $x_k \\times x_k$, where $x_k \\geq M$, thus implying:\n",
    "       - $x_1+\\cdots + x_K = N \\geq MK$\n",
    "   - First, for each block $k$, we create a time series $S$ of length $T$ that is made from iid standard Gaussians, then make copies of that to each column of a matrix $X$ of size $(T, x_k)$.\n",
    "   - Second, we add to each $X_{ij}$ a random Gaussian with standard deviation $\\sigma >0$. By design, the columns of $X$ will be highly correlated for small $\\sigma$, and less correlated for large $\\sigma$.\n",
    "   - Third, we evaluate the covariance matrix $\\Sigma_X$ for the columns of $X$ , and add $\\Sigma_X$ as a block to $\\Sigma$\n",
    "   - Fourth, we add to $\\Sigma$ another covariance matrix with one block but larger $\\sigma$.\n",
    "   - Finally, we derive the correlation matrix $\\rho$ related to $\\Sigma$. By design, $\\rho$ will have $K$ blocks with high correlations in side each block, and low correlations otherwise."
   ]
  },
  {
   "cell_type": "markdown",
   "id": "ef11436d-080a-4d1c-afeb-04cf09747a9a",
   "metadata": {},
   "source": [
    "We design a Monte Carlo experiment to verify the accuracy of the ONC algorithm introduced earlier:\n",
    "- first, we create an $N\\times N$ correlation matrix $\\rho$ from random draws with a predefined number of blocks $K$, where intrablock correlation is high and across-block correlation is low; \n",
    "- second, we shuffle that correlation matrix. \n",
    "- Third, we apply ONC, and verify that the ONC algorithm recovers the blocks we injected"
   ]
  },
  {
   "cell_type": "code",
   "execution_count": null,
   "id": "75a829a1-e1cf-4348-901b-bb1cd1f9ef6d",
   "metadata": {},
   "outputs": [],
   "source": []
  },
  {
   "cell_type": "markdown",
   "id": "ff66439f-26e0-4bc0-90cc-19afc6ee36d1",
   "metadata": {},
   "source": [
    "Let:\n",
    "- $N$: the number of data points (securities in our case)\n",
    "- $D$: the number of features characterizing each security\n",
    "- $X \\in \\mathbb{R}^{X\\times D}$ be the data matrix \n",
    "- $X$ follow a multi-variate normal distribution with correlation matrix $\\rho$\n",
    "- $\\rho_{ij}$: the correlation between variables $i$ and $j$\n",
    "- If a strong common component is present, it is advisable to remove it by applying detoning\n",
    "    - a factor exposure shared by all variables may hide the existence of partly shared exposures\n",
    "- Since some clustering  algorithms expect as input a measure of similarity (or dissimilarity), we can either use:\n",
    "    - $\\tilde{X}_{ij} = \\rho_{ij}$\n",
    "    - $\\tilde{X}_{ij} = \\sqrt{\\frac{1}{2}(1-\\rho_{ij})}$\n",
    "    "
   ]
  },
  {
   "cell_type": "code",
   "execution_count": null,
   "id": "68e8263f-61df-471f-8824-44c7ef9daedf",
   "metadata": {},
   "outputs": [],
   "source": []
  },
  {
   "cell_type": "code",
   "execution_count": null,
   "id": "57af7abe-ff03-4073-9b6f-8f3c4a0a1c3c",
   "metadata": {},
   "outputs": [],
   "source": []
  },
  {
   "cell_type": "markdown",
   "id": "92542716-db27-4f9e-9767-4cc97f6bcd9c",
   "metadata": {},
   "source": [
    "## Generation of Random Block Correlation Matrics "
   ]
  },
  {
   "cell_type": "code",
   "execution_count": null,
   "id": "98c82cd1-dcbe-47d6-bc29-0b38b1b3e706",
   "metadata": {},
   "outputs": [],
   "source": []
  },
  {
   "cell_type": "code",
   "execution_count": null,
   "id": "e80c5f61-4cc2-4547-8990-52503737c776",
   "metadata": {},
   "outputs": [],
   "source": []
  },
  {
   "cell_type": "code",
   "execution_count": 8,
   "id": "408016ce-a9e4-4ba8-b0bd-0d87c05cbac1",
   "metadata": {},
   "outputs": [],
   "source": [
    "def covariance2correlation(covariance_matrix: np.ndarray)-> np.ndarray:\n",
    "    \"\"\"Converts a covariance matrix into a correlation matrix\n",
    "    Args:\n",
    "        covariance_matrix: input covariance matrix\n",
    "    Returns:\n",
    "        correlation_matrix: output correlation matrix\n",
    "    \"\"\"\n",
    "    # Derive the correlation matrix from a covariance matrix\n",
    "    std=np.sqrt(np.diag(covariance_matrix))\n",
    "    correlation_matrix=covariance_matrix/np.outer(std,std)\n",
    "    correlation_matrix[correlation_matrix<-1] = -1 # numerical error\n",
    "    correlation_matrix[correlation_matrix>1]  = 1 # numerical error\n",
    "    return correlation_matrix\n",
    "\n",
    "def generate_sub_covariance(number_observations: int,\n",
    "                              number_factors: int,\n",
    "                              sigma: float,\n",
    "                              random_state=None) -> np.ndarray:\n",
    "    \"\"\"\"Generate a sub correlation matrix from highly correlated factors\n",
    "    Args:\n",
    "        number_observations: number of observations of underlying factors\n",
    "        number_factors: number of factors\n",
    "        sigma: variance of added noise\n",
    "        random_state: random state\n",
    "\n",
    "    Returns:\n",
    "        covariance_matrix: generated covariance matrix\n",
    "    \"\"\"\n",
    "    rng = check_random_state(random_state)\n",
    "    if number_factors == 1:\n",
    "        return np.ones((1,1))\n",
    "    data = rng.normal(size=(number_observations, 1))  \n",
    "    data = np.repeat(data, number_factors, axis=1)  \n",
    "    data += rng.normal(loc=0, scale=sigma, size=data.shape)  \n",
    "    covariance_matrix = np.cov(data, rowvar=False)  \n",
    "    return covariance_matrix\n",
    "\n",
    "def generate_random_block_covariance(number_factors: int,\n",
    "                                     number_blocks: int,\n",
    "                                     minimum_block_size:int =1,\n",
    "                                     sigma:float =1.,\n",
    "                                     random_state=None) -> np.ndarray:\n",
    "    \"\"\" Generate a random block covariance matrix\n",
    "    Args:\n",
    "        number_factors: number of factors building the covariance matrix\n",
    "        number_blocks: number of blocks in the matrix\n",
    "        minimum_block_size: minimum size of each block\n",
    "        sigma: variance of the noise in the covariance blocks\n",
    "        random_state: random state\n",
    "    Returns:\n",
    "        covariance_matrix: the generated covariance matrix\n",
    "\n",
    "    \"\"\"\n",
    "    rng = check_random_state(random_state)\n",
    "    parts = rng.choice(range(1, number_factors - (minimum_block_size - 1) * number_blocks), number_blocks - 1, replace=False)\n",
    "    parts.sort()\n",
    "    parts = np.append(parts, number_factors - (minimum_block_size - 1) * number_blocks)  # add nCols to list of parts, unless minBlockSize>1\n",
    "    parts = np.append(parts[0], np.diff(parts)) - 1 + minimum_block_size\n",
    "    print(\"block sizes:\" + str(parts))\n",
    "    covariance_matrix = None\n",
    "    for number_factors_ in parts:\n",
    "        # number of observations the underlying factors are generated from\n",
    "        number_observationsـ = int(max(number_factors_ * (number_factors_ + 1) / 2., 100))\n",
    "        covariance_ = generate_sub_covariance(number_observationsـ,\n",
    "                                               number_factors_,\n",
    "                                               sigma,\n",
    "                                               random_state=rng)\n",
    "        if covariance_matrix is None:\n",
    "            covariance_matrix = covariance_.copy()\n",
    "        else:\n",
    "            covariance_matrix = block_diag(covariance_matrix, covariance_)  # list of square matrix on larger matrix on the diagonal\n",
    "\n",
    "    return covariance_matrix\n",
    "\n",
    "def generate_random_block_correlation_matrix(number_factors: int,\n",
    "                                             number_blocks: int ,\n",
    "                                             minimum_block_size: int=1,\n",
    "                                             random_state=None\n",
    "                                             ):\n",
    "    \"\"\"Generate a random block correlation matrix\n",
    "    Args:\n",
    "        number_factors: number of factors building the covariance matrix\n",
    "        number_blocks: number of blocks in the matrix\n",
    "        minimum_block_size: minimum size of each block\n",
    "        sigma: variance of the noise in the covariance blocks\n",
    "        random_state: random state\n",
    "    Returns:\n",
    "        covariance_matrix: the generated covariance matrix\n",
    "    \"\"\"\n",
    "    rng = check_random_state(random_state)\n",
    "    # generate signal\n",
    "    covariance_signal = generate_random_block_covariance(number_factors,\n",
    "                                            number_blocks,\n",
    "                                            minimum_block_size=minimum_block_size,\n",
    "                                            sigma=.5,\n",
    "                                            random_state=rng)\n",
    "    # generate noise\n",
    "    covariance_noise = generate_random_block_covariance(number_factors,\n",
    "                                            1,\n",
    "                                            minimum_block_size=minimum_block_size,\n",
    "                                            sigma=1.,\n",
    "                                            random_state=rng)\n",
    "    # add noise\n",
    "    covariance_signal += covariance_noise\n",
    "    correlation_matrix = covariance2correlation(covariance_signal)\n",
    "    correlation_df = pd.DataFrame(correlation_matrix)\n",
    "    return correlation_df\n",
    "\n",
    "\n"
   ]
  },
  {
   "cell_type": "code",
   "execution_count": null,
   "id": "aa8e8803-36fe-4d0c-a6c3-51bd0615507a",
   "metadata": {},
   "outputs": [],
   "source": []
  },
  {
   "cell_type": "code",
   "execution_count": 9,
   "id": "74b6413d-165a-451f-ae39-a4f4fbfc7eb6",
   "metadata": {},
   "outputs": [],
   "source": [
    "import numpy as np\n",
    "import pandas as pd\n",
    "from sklearn.utils import check_random_state\n",
    "from scipy.linalg import block_diag\n",
    "from typing import Optional\n",
    "\n",
    "\n",
    "class BlockMatrixGenerator:\n",
    "    \"\"\"\n",
    "    A class used to generate covariance and correlation matrices.\n",
    "\n",
    "    Attributes\n",
    "    ----------\n",
    "    number_factors : int\n",
    "        Number of factors building the covariance matrix.\n",
    "    number_blocks : int\n",
    "        Number of blocks in the matrix.\n",
    "    minimum_block_size : int, optional\n",
    "        Minimum size of each block (default is 1).\n",
    "    sigma_signal : float, optional\n",
    "        Variance of the noise in the signal covariance blocks (default is 1.0).\n",
    "    sigma_noise : float, optional\n",
    "        Variance of the noise in the noise covariance blocks (default is 1.0).\n",
    "    random_state : Optional[int], optional\n",
    "        Random state for reproducibility (default is None).\n",
    "\n",
    "    Methods\n",
    "    -------\n",
    "    _scale_matrix(matrix: np.ndarray) -> np.ndarray:\n",
    "        Converts a covariance matrix into a correlation matrix.\n",
    "    generate_sub_covariance(number_observations: int, number_factors: int, sigma: float, random_state: Optional[int] = None) -> np.ndarray:\n",
    "        Generates a sub-covariance matrix from highly correlated factors.\n",
    "    generate_random_block_covariance(number_factors: int, number_blocks: int, minimum_block_size: int = 1, sigma: float = 1.0, random_state: Optional[int] = None) -> np.ndarray:\n",
    "        Generates a random block covariance matrix.\n",
    "    generate() -> pd.DataFrame:\n",
    "        Generates a random block correlation matrix.\n",
    "    \"\"\"\n",
    "\n",
    "    def __init__(self,\n",
    "                 number_factors: int,\n",
    "                 number_blocks: int,\n",
    "                 minimum_block_size: int = 1,\n",
    "                 sigma_signal: float = 1.0,\n",
    "                 sigma_noise: float = 1.0,\n",
    "                 random_state: Optional[int] = None):\n",
    "        \"\"\"\n",
    "        Initializes the BlockMatrixGenerator with the specified parameters.\n",
    "\n",
    "        Parameters\n",
    "        ----------\n",
    "        number_factors : int\n",
    "            Number of factors building the covariance matrix.\n",
    "        number_blocks : int\n",
    "            Number of blocks in the matrix.\n",
    "        minimum_block_size : int, optional\n",
    "            Minimum size of each block (default is 1).\n",
    "        sigma_signal : float, optional\n",
    "            Variance of the noise in the signal covariance blocks (default is 1.0).\n",
    "        sigma_noise : float, optional\n",
    "            Variance of the noise in the noise covariance blocks (default is 1.0).\n",
    "        random_state : Optional[int], optional\n",
    "            Random state for reproducibility (default is None).\n",
    "        \"\"\"\n",
    "        self.number_factors = number_factors\n",
    "        self.number_blocks = number_blocks\n",
    "        self.minimum_block_size = minimum_block_size\n",
    "        self.sigma_signal = sigma_signal\n",
    "        self.sigma_noise = sigma_noise\n",
    "        self.random_state = random_state\n",
    "\n",
    "    def _scale_matrix(self, matrix: np.ndarray) -> np.ndarray:\n",
    "        \"\"\"\n",
    "        Converts a covariance matrix into a correlation matrix.\n",
    "\n",
    "        Parameters\n",
    "        ----------\n",
    "        matrix : np.ndarray\n",
    "            Input covariance matrix.\n",
    "\n",
    "        Returns\n",
    "        -------\n",
    "        np.ndarray\n",
    "            Output correlation matrix.\n",
    "        \"\"\"\n",
    "        std = np.sqrt(np.diag(matrix))\n",
    "        scaled_matrix = matrix / np.outer(std, std)\n",
    "        scaled_matrix[scaled_matrix < -1] = -1  # numerical error\n",
    "        scaled_matrix[scaled_matrix > 1] = 1  # numerical error\n",
    "        return scaled_matrix\n",
    "\n",
    "    def generate_sub_covariance(self,\n",
    "                                number_observations: int,\n",
    "                                number_factors: int,\n",
    "                                sigma: float,\n",
    "                                random_state: Optional[int] = None) -> np.ndarray:\n",
    "        \"\"\"\n",
    "        Generates a sub-covariance matrix from highly correlated factors.\n",
    "\n",
    "        Parameters\n",
    "        ----------\n",
    "        number_observations : int\n",
    "            Number of observations of underlying factors.\n",
    "        number_factors : int\n",
    "            Number of factors.\n",
    "        sigma : float\n",
    "            Variance of added noise.\n",
    "        random_state : Optional[int], optional\n",
    "            Random state for reproducibility (default is None).\n",
    "\n",
    "        Returns\n",
    "        -------\n",
    "        np.ndarray\n",
    "            Generated covariance matrix.\n",
    "        \"\"\"\n",
    "        rng = check_random_state(random_state)\n",
    "        if number_factors == 1:\n",
    "            return np.ones((1, 1))\n",
    "        data = rng.normal(size=(number_observations, 1))\n",
    "        data = np.repeat(data, number_factors, axis=1)\n",
    "        data += rng.normal(loc=0, scale=sigma, size=data.shape)\n",
    "        covariance_matrix = np.cov(data, rowvar=False)\n",
    "        return covariance_matrix\n",
    "\n",
    "    def generate_random_block_covariance(self,\n",
    "                                         number_factors: int,\n",
    "                                         number_blocks: int,\n",
    "                                         minimum_block_size: int = 1,\n",
    "                                         sigma: float = 1.0,\n",
    "                                         random_state: Optional[int] = None) -> np.ndarray:\n",
    "        \"\"\"\n",
    "        Generates a random block covariance matrix.\n",
    "\n",
    "        Parameters\n",
    "        ----------\n",
    "        number_factors : int\n",
    "            Number of factors building the covariance matrix.\n",
    "        number_blocks : int\n",
    "            Number of blocks in the matrix.\n",
    "        minimum_block_size : int, optional\n",
    "            Minimum size of each block (default is 1).\n",
    "        sigma : float, optional\n",
    "            Variance of the noise in the covariance blocks (default is 1.0).\n",
    "        random_state : Optional[int], optional\n",
    "            Random state for reproducibility (default is None).\n",
    "\n",
    "        Returns\n",
    "        -------\n",
    "        np.ndarray\n",
    "            The generated covariance matrix.\n",
    "        \"\"\"\n",
    "        rng = check_random_state(random_state)\n",
    "        parts = rng.choice(range(1, number_factors - (minimum_block_size - 1) * number_blocks), number_blocks - 1, replace=False)\n",
    "        parts.sort()\n",
    "        parts = np.append(parts, number_factors - (minimum_block_size - 1) * number_blocks)\n",
    "        parts = np.append(parts[0], np.diff(parts)) - 1 + minimum_block_size\n",
    "        covariance_matrix = None\n",
    "        for number_factors_ in parts:\n",
    "            number_observations_ = int(max(number_factors_ * (number_factors_ + 1) / 2, 100))\n",
    "            covariance_ = self.generate_sub_covariance(number_observations_, number_factors_, sigma, random_state=rng)\n",
    "            if covariance_matrix is None:\n",
    "                covariance_matrix = covariance_.copy()\n",
    "            else:\n",
    "                covariance_matrix = block_diag(covariance_matrix, covariance_)\n",
    "        return covariance_matrix\n",
    "\n",
    "    def generate(self) -> pd.DataFrame:\n",
    "        \"\"\"\n",
    "        Generates a random block correlation matrix.\n",
    "\n",
    "        Returns\n",
    "        -------\n",
    "        pd.DataFrame\n",
    "            The generated correlation matrix.\n",
    "        \"\"\"\n",
    "        rng = check_random_state(self.random_state)\n",
    "        covariance_signal = self.generate_random_block_covariance(number_factors=self.number_factors,\n",
    "                                                                  number_blocks=self.number_blocks,\n",
    "                                                                  minimum_block_size=self.minimum_block_size,\n",
    "                                                                  sigma=self.sigma_signal,\n",
    "                                                                  random_state=rng)\n",
    "        covariance_noise = self.generate_random_block_covariance(number_factors=self.number_factors,\n",
    "                                                                 number_blocks=1,\n",
    "                                                                 minimum_block_size=self.minimum_block_size,\n",
    "                                                                 sigma=self.sigma_noise,\n",
    "                                                                 random_state=rng)\n",
    "        covariance_signal += covariance_noise\n",
    "        correlation_matrix = self._scale_matrix(covariance_signal)\n",
    "        return pd.DataFrame(correlation_matrix)\n",
    "\n",
    "\n"
   ]
  },
  {
   "cell_type": "code",
   "execution_count": 10,
   "id": "e6b00c59-7b38-4746-b403-a9cfa8c4da81",
   "metadata": {},
   "outputs": [],
   "source": [
    "number_factors = 100\n",
    "number_blocks = 6\n",
    "minimum_block_size=2\n",
    "random_state=None "
   ]
  },
  {
   "cell_type": "code",
   "execution_count": null,
   "id": "9b149473-5da3-459a-bfdd-22e9ce3c484e",
   "metadata": {},
   "outputs": [],
   "source": [
    "# Example usage\n",
    "generator = BlockMatrixGenerator(number_factors=number_factors, \n",
    "                                 number_blocks=number_blocks, \n",
    "                                 minimum_block_size=minimum_block_size, \n",
    "                                 random_state=random_state,\n",
    "                                sigma_signal  = 1.0,\n",
    "                 sigma_noise = 0.5)\n",
    "correlation_df = generator.generate()\n",
    "# print(correlation_matrix)\n",
    "\n"
   ]
  },
  {
   "cell_type": "code",
   "execution_count": 25,
   "id": "f009aca9-d4be-47da-bd07-ef8552be1eb5",
   "metadata": {},
   "outputs": [
    {
     "data": {
      "image/png": "[encoded data removed]",
      "text/plain": [
       "<Figure size 720x720 with 2 Axes>"
      ]
     },
     "metadata": {
      "needs_background": "light"
     },
     "output_type": "display_data"
    }
   ],
   "source": [
    "#Draw ground truth\n",
    "plt.rcParams[\"figure.figsize\"] = (10, 10)\n",
    "plt.matshow(correlation_df) #invert y-axis to get origo at lower left corner\n",
    "plt.gca().xaxis.tick_bottom()\n",
    "plt.gca().invert_yaxis()\n",
    "plt.colorbar()\n",
    "plt.show()"
   ]
  },
  {
   "cell_type": "code",
   "execution_count": 13,
   "id": "f9c54c44-1c0a-4dc3-8f4e-81f4d30290a7",
   "metadata": {},
   "outputs": [
    {
     "name": "stdout",
     "output_type": "stream",
     "text": [
      "block sizes:[24  8 17  4 27 20]\n",
      "block sizes:[100]\n"
     ]
    }
   ],
   "source": [
    "correlation_df = generate_random_block_correlation_matrix(number_factors=number_factors,\n",
    "                                                         number_blocks=number_blocks,\n",
    "                                                         minimum_block_size=minimum_block_size,\n",
    "                                                         random_state=random_state)\n"
   ]
  },
  {
   "cell_type": "code",
   "execution_count": 14,
   "id": "3964c68b-a108-46d7-8d77-122cdba86c8a",
   "metadata": {},
   "outputs": [
    {
     "data": {
      "text/plain": [
       "(100, 100)"
      ]
     },
     "execution_count": 14,
     "metadata": {},
     "output_type": "execute_result"
    }
   ],
   "source": [
    "correlation_df.shape"
   ]
  },
  {
   "cell_type": "code",
   "execution_count": 15,
   "id": "befbb6d3-f214-41fd-9c0c-a14ff7883ac0",
   "metadata": {},
   "outputs": [
    {
     "data": {
      "text/plain": [
       "pandas.core.frame.DataFrame"
      ]
     },
     "execution_count": 15,
     "metadata": {},
     "output_type": "execute_result"
    }
   ],
   "source": [
    "type(correlation_df)"
   ]
  },
  {
   "cell_type": "code",
   "execution_count": 16,
   "id": "671e5b5d-ff85-42bd-9d02-b7fe814948c8",
   "metadata": {},
   "outputs": [
    {
     "data": {
      "image/png": "[encoded data removed]",
      "text/plain": [
       "<Figure size 720x720 with 2 Axes>"
      ]
     },
     "metadata": {
      "needs_background": "light"
     },
     "output_type": "display_data"
    }
   ],
   "source": [
    "#Draw ground truth\n",
    "plt.rcParams[\"figure.figsize\"] = (10, 10)\n",
    "plt.matshow(correlation_df) #invert y-axis to get origo at lower left corner\n",
    "plt.gca().xaxis.tick_bottom()\n",
    "plt.gca().invert_yaxis()\n",
    "plt.colorbar()\n",
    "plt.show()"
   ]
  },
  {
   "cell_type": "code",
   "execution_count": null,
   "id": "1d92c8e6-d867-4343-9115-3414e9e4aee9",
   "metadata": {},
   "outputs": [],
   "source": []
  },
  {
   "cell_type": "code",
   "execution_count": 17,
   "id": "a12fbffe-cf40-481c-bc64-5e8e6537acc5",
   "metadata": {},
   "outputs": [],
   "source": [
    "shuffled_correlation_df = shuffle_matrix(correlation_df)"
   ]
  },
  {
   "cell_type": "code",
   "execution_count": null,
   "id": "8ee8e06f-b7f9-40e6-8a50-644346bbacd5",
   "metadata": {},
   "outputs": [],
   "source": []
  },
  {
   "cell_type": "code",
   "execution_count": null,
   "id": "da38be11-9450-4938-97e8-c9cab1606c63",
   "metadata": {},
   "outputs": [],
   "source": []
  },
  {
   "cell_type": "code",
   "execution_count": 18,
   "id": "a72fbd3c-8b08-4d0d-b395-2d06d6a31abd",
   "metadata": {},
   "outputs": [
    {
     "data": {
      "image/png": "[encoded data removed]",
      "text/plain": [
       "<Figure size 720x720 with 2 Axes>"
      ]
     },
     "metadata": {
      "needs_background": "light"
     },
     "output_type": "display_data"
    }
   ],
   "source": [
    "#Draw shuffled matrix \n",
    "plt.matshow(shuffled_correlation_df) #invert y-axis to get origo at lower left corner\n",
    "plt.gca().xaxis.tick_bottom()\n",
    "plt.gca().invert_yaxis()\n",
    "plt.colorbar()\n",
    "plt.show()"
   ]
  },
  {
   "cell_type": "code",
   "execution_count": null,
   "id": "6838f0ce-e5c1-40dd-b4cc-72a6d8d951ba",
   "metadata": {},
   "outputs": [],
   "source": []
  },
  {
   "cell_type": "markdown",
   "id": "5eb0f098-31ea-433e-a34e-53dda7228eca",
   "metadata": {},
   "source": [
    "## ONC algorithm"
   ]
  },
  {
   "cell_type": "markdown",
   "id": "400d8604-36b1-4d74-bb9b-1991a7726b06",
   "metadata": {},
   "source": [
    "### Silhouette method"
   ]
  },
  {
   "cell_type": "code",
   "execution_count": 19,
   "id": "0d3af059-7d66-4bc2-8dba-146b9c18981c",
   "metadata": {},
   "outputs": [],
   "source": [
    "from ml4am.ONC import OptimalClustering"
   ]
  },
  {
   "cell_type": "code",
   "execution_count": 20,
   "id": "ebfbd2d7-96b2-4505-99ba-55b006c147cd",
   "metadata": {},
   "outputs": [
    {
     "data": {
      "text/html": [
       "<div>\n",
       "<style scoped>\n",
       "    .dataframe tbody tr th:only-of-type {\n",
       "        vertical-align: middle;\n",
       "    }\n",
       "\n",
       "    .dataframe tbody tr th {\n",
       "        vertical-align: top;\n",
       "    }\n",
       "\n",
       "    .dataframe thead th {\n",
       "        text-align: right;\n",
       "    }\n",
       "</style>\n",
       "<table border=\"1\" class=\"dataframe\">\n",
       "  <thead>\n",
       "    <tr style=\"text-align: right;\">\n",
       "      <th></th>\n",
       "      <th>58</th>\n",
       "      <th>88</th>\n",
       "      <th>91</th>\n",
       "      <th>5</th>\n",
       "      <th>61</th>\n",
       "      <th>19</th>\n",
       "      <th>84</th>\n",
       "      <th>27</th>\n",
       "      <th>49</th>\n",
       "      <th>14</th>\n",
       "      <th>...</th>\n",
       "      <th>94</th>\n",
       "      <th>78</th>\n",
       "      <th>56</th>\n",
       "      <th>81</th>\n",
       "      <th>3</th>\n",
       "      <th>54</th>\n",
       "      <th>57</th>\n",
       "      <th>41</th>\n",
       "      <th>47</th>\n",
       "      <th>50</th>\n",
       "    </tr>\n",
       "  </thead>\n",
       "  <tbody>\n",
       "    <tr>\n",
       "      <th>58</th>\n",
       "      <td>1.000000</td>\n",
       "      <td>0.326298</td>\n",
       "      <td>0.312213</td>\n",
       "      <td>0.308821</td>\n",
       "      <td>0.623793</td>\n",
       "      <td>0.307888</td>\n",
       "      <td>0.315609</td>\n",
       "      <td>0.306323</td>\n",
       "      <td>0.306267</td>\n",
       "      <td>0.317410</td>\n",
       "      <td>...</td>\n",
       "      <td>0.322236</td>\n",
       "      <td>0.604681</td>\n",
       "      <td>0.643889</td>\n",
       "      <td>0.314839</td>\n",
       "      <td>0.309877</td>\n",
       "      <td>0.623579</td>\n",
       "      <td>0.629099</td>\n",
       "      <td>0.323894</td>\n",
       "      <td>0.318761</td>\n",
       "      <td>0.310547</td>\n",
       "    </tr>\n",
       "    <tr>\n",
       "      <th>88</th>\n",
       "      <td>0.326298</td>\n",
       "      <td>1.000000</td>\n",
       "      <td>0.583952</td>\n",
       "      <td>0.322371</td>\n",
       "      <td>0.332445</td>\n",
       "      <td>0.326195</td>\n",
       "      <td>0.600992</td>\n",
       "      <td>0.323597</td>\n",
       "      <td>0.329314</td>\n",
       "      <td>0.333124</td>\n",
       "      <td>...</td>\n",
       "      <td>0.604051</td>\n",
       "      <td>0.327252</td>\n",
       "      <td>0.318168</td>\n",
       "      <td>0.585012</td>\n",
       "      <td>0.319127</td>\n",
       "      <td>0.326457</td>\n",
       "      <td>0.335319</td>\n",
       "      <td>0.333957</td>\n",
       "      <td>0.318984</td>\n",
       "      <td>0.323758</td>\n",
       "    </tr>\n",
       "    <tr>\n",
       "      <th>91</th>\n",
       "      <td>0.312213</td>\n",
       "      <td>0.583952</td>\n",
       "      <td>1.000000</td>\n",
       "      <td>0.310389</td>\n",
       "      <td>0.319512</td>\n",
       "      <td>0.303720</td>\n",
       "      <td>0.615276</td>\n",
       "      <td>0.313288</td>\n",
       "      <td>0.311722</td>\n",
       "      <td>0.320221</td>\n",
       "      <td>...</td>\n",
       "      <td>0.616815</td>\n",
       "      <td>0.305074</td>\n",
       "      <td>0.321711</td>\n",
       "      <td>0.607748</td>\n",
       "      <td>0.309023</td>\n",
       "      <td>0.315247</td>\n",
       "      <td>0.307535</td>\n",
       "      <td>0.323318</td>\n",
       "      <td>0.319697</td>\n",
       "      <td>0.301795</td>\n",
       "    </tr>\n",
       "    <tr>\n",
       "      <th>5</th>\n",
       "      <td>0.308821</td>\n",
       "      <td>0.322371</td>\n",
       "      <td>0.310389</td>\n",
       "      <td>1.000000</td>\n",
       "      <td>0.314478</td>\n",
       "      <td>0.610416</td>\n",
       "      <td>0.317497</td>\n",
       "      <td>0.314219</td>\n",
       "      <td>0.313401</td>\n",
       "      <td>0.616257</td>\n",
       "      <td>...</td>\n",
       "      <td>0.307055</td>\n",
       "      <td>0.307373</td>\n",
       "      <td>0.313083</td>\n",
       "      <td>0.304227</td>\n",
       "      <td>0.607632</td>\n",
       "      <td>0.306225</td>\n",
       "      <td>0.312959</td>\n",
       "      <td>0.319093</td>\n",
       "      <td>0.303715</td>\n",
       "      <td>0.299269</td>\n",
       "    </tr>\n",
       "    <tr>\n",
       "      <th>61</th>\n",
       "      <td>0.623793</td>\n",
       "      <td>0.332445</td>\n",
       "      <td>0.319512</td>\n",
       "      <td>0.314478</td>\n",
       "      <td>1.000000</td>\n",
       "      <td>0.304537</td>\n",
       "      <td>0.324288</td>\n",
       "      <td>0.320368</td>\n",
       "      <td>0.313193</td>\n",
       "      <td>0.321225</td>\n",
       "      <td>...</td>\n",
       "      <td>0.312812</td>\n",
       "      <td>0.598424</td>\n",
       "      <td>0.619845</td>\n",
       "      <td>0.316811</td>\n",
       "      <td>0.313634</td>\n",
       "      <td>0.610446</td>\n",
       "      <td>0.627286</td>\n",
       "      <td>0.317875</td>\n",
       "      <td>0.312249</td>\n",
       "      <td>0.309112</td>\n",
       "    </tr>\n",
       "    <tr>\n",
       "      <th>...</th>\n",
       "      <td>...</td>\n",
       "      <td>...</td>\n",
       "      <td>...</td>\n",
       "      <td>...</td>\n",
       "      <td>...</td>\n",
       "      <td>...</td>\n",
       "      <td>...</td>\n",
       "      <td>...</td>\n",
       "      <td>...</td>\n",
       "      <td>...</td>\n",
       "      <td>...</td>\n",
       "      <td>...</td>\n",
       "      <td>...</td>\n",
       "      <td>...</td>\n",
       "      <td>...</td>\n",
       "      <td>...</td>\n",
       "      <td>...</td>\n",
       "      <td>...</td>\n",
       "      <td>...</td>\n",
       "      <td>...</td>\n",
       "      <td>...</td>\n",
       "    </tr>\n",
       "    <tr>\n",
       "      <th>54</th>\n",
       "      <td>0.623579</td>\n",
       "      <td>0.326457</td>\n",
       "      <td>0.315247</td>\n",
       "      <td>0.306225</td>\n",
       "      <td>0.610446</td>\n",
       "      <td>0.308183</td>\n",
       "      <td>0.322373</td>\n",
       "      <td>0.311703</td>\n",
       "      <td>0.315057</td>\n",
       "      <td>0.321972</td>\n",
       "      <td>...</td>\n",
       "      <td>0.317709</td>\n",
       "      <td>0.602941</td>\n",
       "      <td>0.603973</td>\n",
       "      <td>0.314788</td>\n",
       "      <td>0.310095</td>\n",
       "      <td>1.000000</td>\n",
       "      <td>0.623888</td>\n",
       "      <td>0.325910</td>\n",
       "      <td>0.309755</td>\n",
       "      <td>0.317532</td>\n",
       "    </tr>\n",
       "    <tr>\n",
       "      <th>57</th>\n",
       "      <td>0.629099</td>\n",
       "      <td>0.335319</td>\n",
       "      <td>0.307535</td>\n",
       "      <td>0.312959</td>\n",
       "      <td>0.627286</td>\n",
       "      <td>0.310018</td>\n",
       "      <td>0.319007</td>\n",
       "      <td>0.328804</td>\n",
       "      <td>0.317487</td>\n",
       "      <td>0.319283</td>\n",
       "      <td>...</td>\n",
       "      <td>0.312989</td>\n",
       "      <td>0.619241</td>\n",
       "      <td>0.635098</td>\n",
       "      <td>0.320237</td>\n",
       "      <td>0.311070</td>\n",
       "      <td>0.623888</td>\n",
       "      <td>1.000000</td>\n",
       "      <td>0.322169</td>\n",
       "      <td>0.314496</td>\n",
       "      <td>0.315612</td>\n",
       "    </tr>\n",
       "    <tr>\n",
       "      <th>41</th>\n",
       "      <td>0.323894</td>\n",
       "      <td>0.333957</td>\n",
       "      <td>0.323318</td>\n",
       "      <td>0.319093</td>\n",
       "      <td>0.317875</td>\n",
       "      <td>0.309297</td>\n",
       "      <td>0.326346</td>\n",
       "      <td>0.322066</td>\n",
       "      <td>0.320186</td>\n",
       "      <td>0.315205</td>\n",
       "      <td>...</td>\n",
       "      <td>0.318237</td>\n",
       "      <td>0.319799</td>\n",
       "      <td>0.322667</td>\n",
       "      <td>0.317581</td>\n",
       "      <td>0.316754</td>\n",
       "      <td>0.325910</td>\n",
       "      <td>0.322169</td>\n",
       "      <td>1.000000</td>\n",
       "      <td>0.581338</td>\n",
       "      <td>0.313476</td>\n",
       "    </tr>\n",
       "    <tr>\n",
       "      <th>47</th>\n",
       "      <td>0.318761</td>\n",
       "      <td>0.318984</td>\n",
       "      <td>0.319697</td>\n",
       "      <td>0.303715</td>\n",
       "      <td>0.312249</td>\n",
       "      <td>0.304999</td>\n",
       "      <td>0.308478</td>\n",
       "      <td>0.314764</td>\n",
       "      <td>0.314018</td>\n",
       "      <td>0.319385</td>\n",
       "      <td>...</td>\n",
       "      <td>0.313386</td>\n",
       "      <td>0.310916</td>\n",
       "      <td>0.310213</td>\n",
       "      <td>0.311245</td>\n",
       "      <td>0.314128</td>\n",
       "      <td>0.309755</td>\n",
       "      <td>0.314496</td>\n",
       "      <td>0.581338</td>\n",
       "      <td>1.000000</td>\n",
       "      <td>0.309330</td>\n",
       "    </tr>\n",
       "    <tr>\n",
       "      <th>50</th>\n",
       "      <td>0.310547</td>\n",
       "      <td>0.323758</td>\n",
       "      <td>0.301795</td>\n",
       "      <td>0.299269</td>\n",
       "      <td>0.309112</td>\n",
       "      <td>0.302652</td>\n",
       "      <td>0.305901</td>\n",
       "      <td>0.308106</td>\n",
       "      <td>0.606024</td>\n",
       "      <td>0.315002</td>\n",
       "      <td>...</td>\n",
       "      <td>0.310943</td>\n",
       "      <td>0.306137</td>\n",
       "      <td>0.305095</td>\n",
       "      <td>0.313153</td>\n",
       "      <td>0.312370</td>\n",
       "      <td>0.317532</td>\n",
       "      <td>0.315612</td>\n",
       "      <td>0.313476</td>\n",
       "      <td>0.309330</td>\n",
       "      <td>1.000000</td>\n",
       "    </tr>\n",
       "  </tbody>\n",
       "</table>\n",
       "<p>100 rows × 100 columns</p>\n",
       "</div>"
      ],
      "text/plain": [
       "          58        88        91        5         61        19        84  \\\n",
       "58  1.000000  0.326298  0.312213  0.308821  0.623793  0.307888  0.315609   \n",
       "88  0.326298  1.000000  0.583952  0.322371  0.332445  0.326195  0.600992   \n",
       "91  0.312213  0.583952  1.000000  0.310389  0.319512  0.303720  0.615276   \n",
       "5   0.308821  0.322371  0.310389  1.000000  0.314478  0.610416  0.317497   \n",
       "61  0.623793  0.332445  0.319512  0.314478  1.000000  0.304537  0.324288   \n",
       "..       ...       ...       ...       ...       ...       ...       ...   \n",
       "54  0.623579  0.326457  0.315247  0.306225  0.610446  0.308183  0.322373   \n",
       "57  0.629099  0.335319  0.307535  0.312959  0.627286  0.310018  0.319007   \n",
       "41  0.323894  0.333957  0.323318  0.319093  0.317875  0.309297  0.326346   \n",
       "47  0.318761  0.318984  0.319697  0.303715  0.312249  0.304999  0.308478   \n",
       "50  0.310547  0.323758  0.301795  0.299269  0.309112  0.302652  0.305901   \n",
       "\n",
       "          27        49        14  ...        94        78        56        81  \\\n",
       "58  0.306323  0.306267  0.317410  ...  0.322236  0.604681  0.643889  0.314839   \n",
       "88  0.323597  0.329314  0.333124  ...  0.604051  0.327252  0.318168  0.585012   \n",
       "91  0.313288  0.311722  0.320221  ...  0.616815  0.305074  0.321711  0.607748   \n",
       "5   0.314219  0.313401  0.616257  ...  0.307055  0.307373  0.313083  0.304227   \n",
       "61  0.320368  0.313193  0.321225  ...  0.312812  0.598424  0.619845  0.316811   \n",
       "..       ...       ...       ...  ...       ...       ...       ...       ...   \n",
       "54  0.311703  0.315057  0.321972  ...  0.317709  0.602941  0.603973  0.314788   \n",
       "57  0.328804  0.317487  0.319283  ...  0.312989  0.619241  0.635098  0.320237   \n",
       "41  0.322066  0.320186  0.315205  ...  0.318237  0.319799  0.322667  0.317581   \n",
       "47  0.314764  0.314018  0.319385  ...  0.313386  0.310916  0.310213  0.311245   \n",
       "50  0.308106  0.606024  0.315002  ...  0.310943  0.306137  0.305095  0.313153   \n",
       "\n",
       "          3         54        57        41        47        50  \n",
       "58  0.309877  0.623579  0.629099  0.323894  0.318761  0.310547  \n",
       "88  0.319127  0.326457  0.335319  0.333957  0.318984  0.323758  \n",
       "91  0.309023  0.315247  0.307535  0.323318  0.319697  0.301795  \n",
       "5   0.607632  0.306225  0.312959  0.319093  0.303715  0.299269  \n",
       "61  0.313634  0.610446  0.627286  0.317875  0.312249  0.309112  \n",
       "..       ...       ...       ...       ...       ...       ...  \n",
       "54  0.310095  1.000000  0.623888  0.325910  0.309755  0.317532  \n",
       "57  0.311070  0.623888  1.000000  0.322169  0.314496  0.315612  \n",
       "41  0.316754  0.325910  0.322169  1.000000  0.581338  0.313476  \n",
       "47  0.314128  0.309755  0.314496  0.581338  1.000000  0.309330  \n",
       "50  0.312370  0.317532  0.315612  0.313476  0.309330  1.000000  \n",
       "\n",
       "[100 rows x 100 columns]"
      ]
     },
     "execution_count": 20,
     "metadata": {},
     "output_type": "execute_result"
    }
   ],
   "source": [
    "shuffled_correlation_df"
   ]
  },
  {
   "cell_type": "code",
   "execution_count": 21,
   "id": "0c8b3b37-6b88-4b78-b5e6-be1aa4a78a89",
   "metadata": {},
   "outputs": [],
   "source": [
    "onc_model = OptimalClustering(n_jobs=10, max_number_clusters=20)\n",
    "onc_model.fit( shuffled_correlation_df) "
   ]
  },
  {
   "cell_type": "code",
   "execution_count": 22,
   "id": "0bcf8059-f587-498a-9422-54f992e0f867",
   "metadata": {},
   "outputs": [
    {
     "data": {
      "text/plain": [
       "6"
      ]
     },
     "execution_count": 22,
     "metadata": {},
     "output_type": "execute_result"
    }
   ],
   "source": [
    "onc_model.n_clusters"
   ]
  },
  {
   "cell_type": "code",
   "execution_count": 23,
   "id": "eee14760-dc3b-4275-a7fe-b0f09278e6cd",
   "metadata": {},
   "outputs": [],
   "source": [
    "onc_correlation_df = onc_model.reordered_X "
   ]
  },
  {
   "cell_type": "code",
   "execution_count": 24,
   "id": "e2484934-4d6f-4d89-a5b2-d368a2c8806e",
   "metadata": {},
   "outputs": [
    {
     "ename": "SyntaxError",
     "evalue": "invalid syntax (2342166659.py, line 8)",
     "output_type": "error",
     "traceback": [
      "\u001b[0;36m  Input \u001b[0;32mIn [24]\u001b[0;36m\u001b[0m\n\u001b[0;31m    plt.show()from\u001b[0m\n\u001b[0m              ^\u001b[0m\n\u001b[0;31mSyntaxError\u001b[0m\u001b[0;31m:\u001b[0m invalid syntax\n"
     ]
    }
   ],
   "source": [
    "#Draw ground truth\n",
    "plt.rcParams[\"figure.figsize\"] = (10, 10)\n",
    "\n",
    "plt.matshow(onc_correlation_df) #invert y-axis to get origo at lower left corner\n",
    "plt.gca().xaxis.tick_bottom()\n",
    "plt.gca().invert_yaxis()\n",
    "plt.colorbar()\n",
    "plt.show()from\n",
    "    \n",
    "    "
   ]
  },
  {
   "cell_type": "markdown",
   "id": "5be3ecac-0e98-451f-ae93-8be436c1dff2",
   "metadata": {},
   "source": [
    "### Gap statistic "
   ]
  },
  {
   "cell_type": "code",
   "execution_count": null,
   "id": "cea17ad4-9cef-456a-a336-81ec140c2fe6",
   "metadata": {},
   "outputs": [],
   "source": [
    "onc_model_gap = OptimalClustering(n_jobs=10, max_number_clusters=20, method='gap_statistic')\n",
    "onc_model_gap.fit( shuffled_correlation_df) "
   ]
  },
  {
   "cell_type": "code",
   "execution_count": null,
   "id": "367cd034-3d37-45db-8a7d-2fbea03056d7",
   "metadata": {},
   "outputs": [],
   "source": [
    "onc_model_gap.n_clusters"
   ]
  },
  {
   "cell_type": "code",
   "execution_count": null,
   "id": "69d6d50b-feed-48ac-aa0d-fa526dd3e1e4",
   "metadata": {},
   "outputs": [],
   "source": [
    "onc_correlation_df = onc_model_gap.reordered_X "
   ]
  },
  {
   "cell_type": "code",
   "execution_count": null,
   "id": "b3ff7c98-2286-4ec1-b89e-3469e68eeab3",
   "metadata": {},
   "outputs": [],
   "source": [
    "#Draw ground truth\n",
    "plt.rcParams[\"figure.figsize\"] = (10, 10)\n",
    "\n",
    "plt.matshow(onc_correlation_df) #invert y-axis to get origo at lower left corner\n",
    "plt.gca().xaxis.tick_bottom()\n",
    "plt.gca().invert_yaxis()\n",
    "plt.colorbar()\n",
    "plt.show()\n",
    "    \n",
    "    "
   ]
  },
  {
   "cell_type": "markdown",
   "id": "68567428-b794-463b-862d-f4f033485ed0",
   "metadata": {},
   "source": [
    "## Pruned ONC algorithm "
   ]
  },
  {
   "cell_type": "code",
   "execution_count": null,
   "id": "60f8f6a2-cfc5-4bdf-8b08-78f60f3ac7c6",
   "metadata": {},
   "outputs": [],
   "source": [
    "pruned_onc_model = PrunedONC()\n",
    "pruned_onc_model.fit( shuffled_correlation_df) "
   ]
  },
  {
   "cell_type": "code",
   "execution_count": null,
   "id": "2cd21d2b-d62c-416c-ae15-c265154b944e",
   "metadata": {},
   "outputs": [],
   "source": [
    "pruned_onc_model.n_clusters"
   ]
  },
  {
   "cell_type": "code",
   "execution_count": null,
   "id": "f97a6de5-a4f4-4301-8626-bca1fa191a6e",
   "metadata": {},
   "outputs": [],
   "source": [
    "pruned_onc_correlation_df = pruned_onc_model.reordered_X "
   ]
  },
  {
   "cell_type": "code",
   "execution_count": null,
   "id": "d69db2ff-6be7-405c-b1b1-fa70b51f6aa5",
   "metadata": {},
   "outputs": [],
   "source": []
  },
  {
   "cell_type": "code",
   "execution_count": null,
   "id": "a516d3b4-9ea9-4503-83fb-68e4ca24bb1e",
   "metadata": {},
   "outputs": [],
   "source": [
    "#Draw ground truth\n",
    "plt.rcParams[\"figure.figsize\"] = (10, 10)\n",
    "\n",
    "plt.matshow(pruned_onc_correlation_df) #invert y-axis to get origo at lower left corner\n",
    "plt.gca().xaxis.tick_bottom()\n",
    "plt.gca().invert_yaxis()\n",
    "plt.colorbar()\n",
    "plt.show()\n",
    "    "
   ]
  }
 ],
 "metadata": {
  "kernelspec": {
   "display_name": "Python 3.8 (pytorch)",
   "language": "python",
   "name": "pytorch"
  },
  "language_info": {
   "codemirror_mode": {
    "name": "ipython",
    "version": 3
   },
   "file_extension": ".py",
   "mimetype": "text/x-python",
   "name": "python",
   "nbconvert_exporter": "python",
   "pygments_lexer": "ipython3",
   "version": "3.8.13"
  },
  "toc": {
   "base_numbering": 1,
   "nav_menu": {},
   "number_sections": true,
   "sideBar": true,
   "skip_h1_title": false,
   "title_cell": "Table of Contents",
   "title_sidebar": "Contents",
   "toc_cell": false,
   "toc_position": {},
   "toc_section_display": true,
   "toc_window_display": false
  },
  "varInspector": {
   "cols": {
    "lenName": 16,
    "lenType": 16,
    "lenVar": 40
   },
   "kernels_config": {
    "python": {
     "delete_cmd_postfix": "",
     "delete_cmd_prefix": "del ",
     "library": "var_list.py",
     "varRefreshCmd": "print(var_dic_list())"
    },
    "r": {
     "delete_cmd_postfix": ") ",
     "delete_cmd_prefix": "rm(",
     "library": "var_list.r",
     "varRefreshCmd": "cat(var_dic_list()) "
    }
   },
   "types_to_exclude": [
    "module",
    "function",
    "builtin_function_or_method",
    "instance",
    "_Feature"
   ],
   "window_display": false
  }
 },
 "nbformat": 4,
 "nbformat_minor": 5
}
