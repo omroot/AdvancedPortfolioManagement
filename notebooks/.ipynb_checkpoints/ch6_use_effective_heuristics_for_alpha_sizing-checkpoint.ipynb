{
 "cells": [
  {
   "cell_type": "markdown",
   "id": "235d52fd-5007-4a06-898e-b322aed5ebfb",
   "metadata": {},
   "source": [
    "#  Use effective heuristics for alpha sizing"
   ]
  },
  {
   "cell_type": "code",
   "execution_count": null,
   "id": "281687ff-68ad-4011-8720-d70b74107391",
   "metadata": {},
   "outputs": [],
   "source": []
  },
  {
   "cell_type": "code",
   "execution_count": 1,
   "id": "55f643d4-3a16-4560-b6ff-27592dfe78df",
   "metadata": {},
   "outputs": [],
   "source": [
    "%load_ext autoreload \n",
    "%autoreload 2\n",
    "%matplotlib inline "
   ]
  },
  {
   "cell_type": "code",
   "execution_count": 2,
   "id": "b97168f5-fb5e-4ed0-98fa-4c79d7622a7e",
   "metadata": {},
   "outputs": [],
   "source": [
    "import warnings\n",
    "warnings.filterwarnings(\"ignore\")"
   ]
  },
  {
   "cell_type": "code",
   "execution_count": 3,
   "id": "193fb4f1-b154-43da-bbcf-e364f23a97cf",
   "metadata": {},
   "outputs": [],
   "source": [
    "import sys\n",
    "sys.path.append('../')"
   ]
  },
  {
   "cell_type": "code",
   "execution_count": null,
   "id": "3e8b9004-c70f-401d-933e-498c132f1b12",
   "metadata": {},
   "outputs": [],
   "source": []
  },
  {
   "cell_type": "code",
   "execution_count": null,
   "id": "2a4e1678-b661-45ee-9220-0c93069367e8",
   "metadata": {},
   "outputs": [],
   "source": []
  },
  {
   "cell_type": "markdown",
   "id": "40c092fd-dd8c-424f-8202-53a17577649c",
   "metadata": {},
   "source": [
    "## Background"
   ]
  },
  {
   "cell_type": "markdown",
   "id": "610207a6-caf7-4c70-8528-9e6b86fd1708",
   "metadata": {},
   "source": [
    "$$\n",
    "r = \\alpha + \\beta m +\\epsilon\n",
    "$$\n",
    "where:\n",
    "- $m$: market return \n",
    "- $r$: stock total return \n",
    "- $\\alpha+\\epsilon$: stock idiosynchratic return \n",
    "- $\\beta m$: \n",
    "\n",
    "- The Net Market Value, or NMV, is the signed dollar holding value of security held\n",
    "in a portfolio.\n",
    "\n",
    "- The Gross Market Value (GMV) of a stock is the absolute value of the Net Market\n",
    "Value. The GMV of a portfolio is the sum of the GMVs of the individual positions\n",
    "\n"
   ]
  },
  {
   "cell_type": "code",
   "execution_count": null,
   "id": "430bef4c-8bec-48d8-a7f7-5e05d8cc5da0",
   "metadata": {},
   "outputs": [],
   "source": []
  },
  {
   "cell_type": "markdown",
   "id": "96146c22-ed0f-4776-9744-6a9cca372785",
   "metadata": {},
   "source": [
    "## Sharpe Ratio"
   ]
  },
  {
   "cell_type": "code",
   "execution_count": null,
   "id": "cf98f977-aea7-4928-a63c-b7a8063adcaa",
   "metadata": {},
   "outputs": [],
   "source": []
  },
  {
   "cell_type": "markdown",
   "id": "b6659e39-b195-42ce-8eaf-2e026cc1a866",
   "metadata": {},
   "source": [
    "$$\n",
    "\\text{SR} = \\frac{\\mathbb{E}(r-r_f)}{\\sqrt{\\mathbb{Var}(r-r_f)}} \\approx  \\frac{\\mathbb{E}(r)}{\\sqrt{\\mathbb{Var}(r)}}\n",
    "$$"
   ]
  },
  {
   "cell_type": "markdown",
   "id": "b81db06a-31c8-464c-b11b-79ff8de8c9b7",
   "metadata": {},
   "source": [
    "The intuition for the Sharpe Ratio is that it provides a \"risk-adjusted\" measure of performance, compared to return. \n",
    "\n",
    "If volatility is a yardstick for risk, then Sharpe Ratio is return measured in units of volatility. \n",
    "\n",
    "If you buy $n$ units of volatility, the Sharpe Ratio tells you what payoff you receive."
   ]
  },
  {
   "cell_type": "markdown",
   "id": "30d7b77f-451b-4220-9f55-ac8dea6ea45c",
   "metadata": {},
   "source": [
    "$$\n",
    "\\text{IR} = \\frac{\\mathbb{E}(r-r_b)}{\\sqrt{\\mathbb{Var}(r-r_b)}}\n",
    "$$"
   ]
  },
  {
   "cell_type": "markdown",
   "id": "ff143752-12e1-4ebc-8fbc-2887840ab29f",
   "metadata": {},
   "source": [
    "Advantages:\n",
    "- The intuition of the metric is clear. \n",
    "- Return on GMV is performance relative to a\n",
    "capital budget. \n",
    "- But the real scarce resource is not capital; it is risk.\n",
    "- If your strategy has a high Sharpe Ratio, and low risk/GMV ratio,\n",
    "you can increase its leverage in order to bring its expected return\n",
    "to acceptable levels. \n",
    "- Aside from fundamental investing, there are\n",
    "many relative-value strategies with high Sharpe and low risk/GMV\n",
    "ratio. \n",
    "- In the absence of leverage (i.e., the ability to borrow additional\n",
    "capital against collateral at sufficiently low rates), these strategies\n",
    "would not be feasible; in the real world, they are implemented and\n",
    "often are extremely profitable.\n",
    "    "
   ]
  },
  {
   "cell_type": "markdown",
   "id": "f12f4721-a42b-4e4a-9a45-ac44af9729b6",
   "metadata": {},
   "source": [
    "Limitations:\n",
    "\n",
    "- volatility is not the same as risk \n",
    "- doesn't distinguish between upside and downside risk \n",
    "- Ulcer index"
   ]
  },
  {
   "cell_type": "markdown",
   "id": "5bb8705e-eec7-47da-8d71-e5273789b38a",
   "metadata": {},
   "source": [
    "However:\n",
    "- Still widely adopted by the industry "
   ]
  },
  {
   "cell_type": "markdown",
   "id": "f5188477-285f-4ada-a99b-a3bc6f561a67",
   "metadata": {},
   "source": []
  },
  {
   "cell_type": "markdown",
   "id": "f6999e57-7bd5-4435-af47-998b36bbf832",
   "metadata": {},
   "source": []
  },
  {
   "cell_type": "markdown",
   "id": "0a90cc6d-dc9d-4ae0-8e7d-e830e047e0c1",
   "metadata": {},
   "source": [
    "## Estimating Expected Returns "
   ]
  },
  {
   "cell_type": "code",
   "execution_count": null,
   "id": "64aca99e-13b5-49b4-9b3d-5587eff982d6",
   "metadata": {},
   "outputs": [],
   "source": []
  },
  {
   "cell_type": "markdown",
   "id": "f50794df-c830-4f19-ae55-8f7dc73e951d",
   "metadata": {},
   "source": [
    "What is relevant here is that the returns be expressed as:\n",
    "- idiosyncratic returns; \n",
    "- in expectation;\n",
    "- over a common investment horizon for all the stocks under coverage\n",
    "\n",
    "\n",
    "For each stock in your universe:\n",
    "1. Set an investment horizon $T$, and a price forecast at that\n",
    "horizon.\n",
    "2. Compute the forecasted total return at that horizon \n",
    "$$r_{\\text{total}} = \\frac{\\text{price forecast}}{\\text{current price}} − 1$$\n",
    "3. Estimate industry returns rindustry over the same horizon.\n",
    "4. Estimate forecasted idiosyncratic return \n",
    "$$r_{\\text{idio}} = r_{\\text{total}} − r_{\\text{industry}}$$\n",
    "\n",
    "\n",
    "Convert all the expected returns to the same investment horizon\n",
    "by dividing the return by the horizon: \n",
    "\n",
    "$$ \\alpha = \\frac{r}{T} $$"
   ]
  },
  {
   "cell_type": "code",
   "execution_count": null,
   "id": "39708d87-c2ed-432f-9098-d9a06edd5854",
   "metadata": {},
   "outputs": [],
   "source": []
  },
  {
   "cell_type": "markdown",
   "id": "d6dd8e68-642a-4668-a703-2b607f95d1af",
   "metadata": {},
   "source": [
    "## Risk Based Sizing"
   ]
  },
  {
   "cell_type": "markdown",
   "id": "393fc07e-d01d-4a90-8029-4b098d9e092a",
   "metadata": {},
   "source": [
    "### Guiding principles "
   ]
  },
  {
   "cell_type": "markdown",
   "id": "8bb733eb-5fd2-497e-88bb-9d757643ae62",
   "metadata": {},
   "source": [
    "We choose the sizing candidates based on three criteria:\n",
    "- The first one is simplicity. The rules need only two inputs (at most): expected returns and volatilities, combined via simple ratios. \n",
    "- The second one is practical relevance. The rules must be widely in use, if not in the fundamental investing community, in the quantitative one. \n",
    "- Lastly, we require that the rules be principled."
   ]
  },
  {
   "cell_type": "markdown",
   "id": "b6af7272-dca5-4f26-b55b-d4effcd1e376",
   "metadata": {},
   "source": [
    "### Methods"
   ]
  },
  {
   "cell_type": "markdown",
   "id": "bb7a01ba-17be-4fd6-ab09-d84bac5ddc32",
   "metadata": {},
   "source": [
    "#### Proportional Rule"
   ]
  },
  {
   "cell_type": "markdown",
   "id": "5c71b3ef-fa0d-492f-8717-eb5f54d728c6",
   "metadata": {},
   "source": [
    "The Proportional Rule for portfolio construction is a straightforward approach where the allocation of assets is directly proportional to the strength of the buy or sell signals. \n",
    "\n",
    "1. **Basic Concept**: \n",
    "   - Positions in the portfolio are allocated proportionally to the investor's buy-or-sell view on each asset.\n",
    "   - For example, if an investor has a stronger conviction for buying Asset A compared to Asset B, then a larger proportion of the portfolio will be allocated to Asset A.\n",
    "\n",
    "2. **Ignorance of Other Factors**: \n",
    "   - This rule does not consider the relative size of the conviction beyond the directional view (buy or sell).\n",
    "   - It also ignores the volatility of the assets, which is a key factor in many other portfolio construction methods.\n",
    "\n",
    "A particular case of the proportional rule is the $\\frac{1}{N}$ rule: \n",
    "\n",
    "1. **Simplified Version**: \n",
    "   - The \"1/N\" rule is an even simpler variant of the Proportional Rule.\n",
    "   - Here, the portfolio is divided equally among N assets, regardless of the investor's views on each asset.\n",
    "   - If there are 10 assets in the portfolio, each asset will receive 10% of the total investment.\n",
    "\n",
    "2. **Equal Weighting**:\n",
    "   - This method treats all assets equally, assigning the same weight to both long and short positions.\n",
    "   - It completely ignores any information about the strength of the buy or sell signals and the volatility of the assets.\n",
    "\n",
    "Comparison and Analysis\n",
    "\n",
    "- **Advantages**:\n",
    "  - Simplicity: Both rules are easy to understand and implement.\n",
    "  - Reduced Complexity: They require less computational effort compared to more sophisticated methods that consider risk and return optimization.\n",
    "\n",
    "- **Disadvantages**:\n",
    "  - Ignoring Volatility: By not accounting for asset volatility, these methods can lead to suboptimal risk-adjusted returns.\n",
    "  - No Differentiation: The 1/N rule, in particular, fails to leverage any information about the investor's confidence in their buy or sell signals.\n",
    " \n",
    "- **Analysis by DeMiguel et al. (2009)**:\n",
    "- DeMiguel, Garlappi, and Uppal (2009) conducted a detailed analysis of the 1/N rule in their paper \"Optimal versus Naive Diversification: How Inefficient is the 1/N Portfolio Strategy?\"\n",
    "- Their research found that, surprisingly, the 1/N rule can often perform comparably to more complex optimization strategies in terms of out-of-sample performance.\n",
    "- This finding highlights the challenges and potential pitfalls of overfitting in more sophisticated portfolio optimization methods.\n",
    "\n",
    " "
   ]
  },
  {
   "cell_type": "code",
   "execution_count": null,
   "id": "ea634859-70da-443f-b0de-d0e0498375df",
   "metadata": {},
   "outputs": [],
   "source": []
  },
  {
   "cell_type": "code",
   "execution_count": null,
   "id": "547ed3c0-f9de-483d-b245-52cbca466a24",
   "metadata": {},
   "outputs": [],
   "source": []
  },
  {
   "cell_type": "markdown",
   "id": "1bef57a2-c534-4f35-9c26-bdee9d615649",
   "metadata": {},
   "source": [
    "#### The Risk Parity (RP) Rule"
   ]
  },
  {
   "cell_type": "markdown",
   "id": "e766c5d3-c64e-47b3-a797-5555e76f8293",
   "metadata": {},
   "source": [
    "- The objective is to size the positions in the portfolio such that the dollar idiosyncratic volatility contribution of each position is equal.\n",
    "- This means each asset's unique risk (idiosyncratic volatility) will impact the portfolio equally in dollar terms.\n",
    "- For each asset $i$, the product of its Gross Market Value (GMV) and its percentage idiosyncratic volatility should be a constant.\n",
    "- Mathematically: \n",
    "$$\\text{GMV}_i \\times \\% \\text{idiosyncratic volatility}_i = \\text{constant} $$\n",
    "$$\\text{GMV}_i = \\frac {\\text{constant}} {\\% \\text{idiosyncratic volatility}_i}$$\n",
    "$$w_i = \\frac { \\frac{1}{\\sigma_i} } {  \\sum_{j=1}^N  \\frac{1}{\\sigma_i} }$$\n",
    "\n",
    "\n"
   ]
  },
  {
   "cell_type": "markdown",
   "id": "c64565ec-89a7-4f78-b082-6d5979233a10",
   "metadata": {},
   "source": [
    "#### The Mean-Variance (MV) Optimal Rule"
   ]
  },
  {
   "cell_type": "code",
   "execution_count": null,
   "id": "ec4ddfe2-f43f-45ae-a9fb-6c9741b817e3",
   "metadata": {},
   "outputs": [],
   "source": []
  },
  {
   "cell_type": "code",
   "execution_count": null,
   "id": "06ae83b3-8bc5-4b94-81a0-f4360b8d1000",
   "metadata": {},
   "outputs": [],
   "source": []
  },
  {
   "cell_type": "code",
   "execution_count": null,
   "id": "ec778444-23dd-4d97-8bb4-2d6a3e3e77ab",
   "metadata": {},
   "outputs": [],
   "source": []
  },
  {
   "cell_type": "markdown",
   "id": "aaa96087-eb05-4b69-bd12-487695fac9f5",
   "metadata": {},
   "source": [
    "#### The Shrinked Mean-Variance (SMV) Optimal Rule "
   ]
  },
  {
   "cell_type": "code",
   "execution_count": null,
   "id": "228259d0-d1fd-4c2d-a238-62491f15f0d4",
   "metadata": {},
   "outputs": [],
   "source": []
  },
  {
   "cell_type": "code",
   "execution_count": null,
   "id": "be43add0-5b91-4aab-9a60-bbdc7e4b388f",
   "metadata": {},
   "outputs": [],
   "source": []
  },
  {
   "cell_type": "code",
   "execution_count": null,
   "id": "da50b28c-c126-4840-8d6e-9cd034eb057e",
   "metadata": {},
   "outputs": [],
   "source": []
  },
  {
   "cell_type": "code",
   "execution_count": null,
   "id": "8d346946-c631-4c95-8b78-e9b965b31c67",
   "metadata": {},
   "outputs": [],
   "source": []
  },
  {
   "cell_type": "markdown",
   "id": "ef9d7383-8def-4184-95e3-4cfc76b32e15",
   "metadata": {},
   "source": [
    "### Empirical Analysis of the Sizing rules "
   ]
  },
  {
   "cell_type": "markdown",
   "id": "6cae7471-22ff-49c3-8950-791b205253ad",
   "metadata": {},
   "source": [
    "#### Un-intuitive Minimum Variance MVO"
   ]
  },
  {
   "cell_type": "markdown",
   "id": "a59aa438-2ddf-478c-a261-2ea794df08c8",
   "metadata": {},
   "source": [
    "\n",
    "- **Simulation Setup**:\n",
    "  - Simulate daily returns for 100 uncorrelated stocks with identical volatilities over 6 months (126 trading days).\n",
    "  - Estimate volatilities from the simulated daily returns.\n",
    "  - Construct a diagonal covariance matrix using the estimated volatilities.\n",
    "  - Compute minimum variance portfolio weights using the formula  \n",
    "  $$w_{\\text{mv}} = \\frac{\\Sigma^{-1} \\mathbf{1}}{\\mathbf{1}^T \\Sigma^{-1} \\mathbf{1}}$$\n",
    "  - Sort the computed portfolio weights from least to highest for visualization.\n"
   ]
  },
  {
   "cell_type": "code",
   "execution_count": 5,
   "id": "f9102064-64b0-4b4a-8b87-820b59828852",
   "metadata": {},
   "outputs": [
    {
     "data": {
      "image/png": "[encoded data removed]",
      "text/plain": [
       "<Figure size 720x432 with 1 Axes>"
      ]
     },
     "metadata": {
      "needs_background": "light"
     },
     "output_type": "display_data"
    },
    {
     "name": "stdout",
     "output_type": "stream",
     "text": [
      "Average oversizing or undersizing: 9.41%\n",
      "Number of stocks with mis-sizing in excess of 20%: 9\n"
     ]
    }
   ],
   "source": [
    "import numpy as np\n",
    "import pandas as pd\n",
    "import matplotlib.pyplot as plt\n",
    "\n",
    "# Set random seed for reproducibility\n",
    "np.random.seed(42)\n",
    "\n",
    "# Parameters\n",
    "num_stocks = 100\n",
    "num_days = 126  # 6 months of trading days\n",
    "true_volatility = 0.02  # Daily volatility\n",
    "\n",
    "# Simulate daily returns for 100 uncorrelated stocks with identical volatilities\n",
    "returns = np.random.normal(loc=0, scale=true_volatility, size=(num_days, num_stocks))\n",
    "\n",
    "# Estimate volatilities using daily returns over the past six months\n",
    "estimated_volatility = np.std(returns, axis=0)\n",
    "\n",
    "# Covariance matrix for uncorrelated returns\n",
    "cov_matrix = np.diag(estimated_volatility**2)\n",
    "\n",
    "# Minimum Variance Portfolio Weights (Closed-Form Solution)\n",
    "ones = np.ones(num_stocks)\n",
    "inv_cov_matrix = np.linalg.inv(cov_matrix)\n",
    "min_var_weights = inv_cov_matrix @ ones / (ones.T @ inv_cov_matrix @ ones)\n",
    "\n",
    "# Sort weights for plotting\n",
    "sorted_indices = np.argsort(min_var_weights)\n",
    "sorted_weights = min_var_weights[sorted_indices]\n",
    "\n",
    "# Compare to equal-weight portfolio\n",
    "equal_weights = np.array([1/num_stocks] * num_stocks)\n",
    "\n",
    "# Calculate mis-sizing\n",
    "mis_sizing = (min_var_weights - equal_weights) / equal_weights\n",
    "\n",
    "# Analyze results\n",
    "average_mis_sizing = np.mean(np.abs(mis_sizing))\n",
    "num_large_mis_sizing = np.sum(np.abs(mis_sizing) > 0.20)\n",
    "\n",
    "# Plot the sizes of the stocks in the Minimum Variance Portfolio\n",
    "plt.figure(figsize=(10, 6))\n",
    "plt.bar(range(num_stocks), sorted_weights, color='blue', alpha=0.6, label='Min Variance Weights')\n",
    "plt.axhline(y=1/num_stocks, color='red', linestyle='--', label='Equal Weights')\n",
    "plt.xlabel('Stock Index')\n",
    "plt.ylabel('Weight')\n",
    "plt.title('Stock Weights in Minimum Variance Portfolio (Sorted)')\n",
    "plt.legend()\n",
    "plt.show()\n",
    "\n",
    "print(f\"Average oversizing or undersizing: {average_mis_sizing * 100:.2f}%\")\n",
    "print(f\"Number of stocks with mis-sizing in excess of 20%: {num_large_mis_sizing}\")\n"
   ]
  },
  {
   "cell_type": "code",
   "execution_count": null,
   "id": "153e1ed0-7808-4ade-984d-0d8ed54f910d",
   "metadata": {},
   "outputs": [],
   "source": []
  },
  {
   "cell_type": "code",
   "execution_count": null,
   "id": "28c68921-4a1d-47e1-8175-2e5c36e16706",
   "metadata": {},
   "outputs": [],
   "source": []
  },
  {
   "cell_type": "code",
   "execution_count": null,
   "id": "c308c54a-143c-4d6d-9925-ad6bfc991780",
   "metadata": {},
   "outputs": [],
   "source": []
  },
  {
   "cell_type": "code",
   "execution_count": null,
   "id": "2ef368a5-9711-4522-8d4a-b6527c067dad",
   "metadata": {},
   "outputs": [],
   "source": []
  },
  {
   "cell_type": "code",
   "execution_count": null,
   "id": "ddd84cab-de25-4582-96c6-99f3e7a65931",
   "metadata": {},
   "outputs": [],
   "source": []
  }
 ],
 "metadata": {
  "kernelspec": {
   "display_name": "Python 3.8 (pytorch)",
   "language": "python",
   "name": "pytorch"
  },
  "language_info": {
   "codemirror_mode": {
    "name": "ipython",
    "version": 3
   },
   "file_extension": ".py",
   "mimetype": "text/x-python",
   "name": "python",
   "nbconvert_exporter": "python",
   "pygments_lexer": "ipython3",
   "version": "3.8.13"
  }
 },
 "nbformat": 4,
 "nbformat_minor": 5
}
