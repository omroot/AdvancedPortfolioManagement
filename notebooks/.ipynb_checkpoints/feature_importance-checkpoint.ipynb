{
 "cells": [
  {
   "cell_type": "markdown",
   "id": "b46fa278",
   "metadata": {},
   "source": [
    "# Optimal Clustering "
   ]
  },
  {
   "cell_type": "code",
   "execution_count": null,
   "id": "4e3e9f0f",
   "metadata": {
    "tags": []
   },
   "outputs": [],
   "source": []
  },
  {
   "cell_type": "code",
   "execution_count": 1,
   "id": "b68dcc03",
   "metadata": {},
   "outputs": [],
   "source": [
    "%load_ext autoreload \n",
    "%autoreload 2\n",
    "%matplotlib inline "
   ]
  },
  {
   "cell_type": "code",
   "execution_count": 2,
   "id": "29ba74a2-e951-40de-890b-c835b41a62ab",
   "metadata": {},
   "outputs": [],
   "source": [
    "import warnings\n",
    "warnings.filterwarnings(\"ignore\")"
   ]
  },
  {
   "cell_type": "code",
   "execution_count": 3,
   "id": "85cab354",
   "metadata": {},
   "outputs": [],
   "source": [
    "import sys\n",
    "sys.path.append('../')"
   ]
  },
  {
   "cell_type": "code",
   "execution_count": null,
   "id": "3e067b6c-a8c9-464f-b4ea-a0e5c99e8b13",
   "metadata": {},
   "outputs": [],
   "source": []
  },
  {
   "cell_type": "code",
   "execution_count": 4,
   "id": "6f666d9e-cc16-4efc-a970-0e12231e9d20",
   "metadata": {},
   "outputs": [],
   "source": [
    "import random\n",
    "import pandas as pd\n",
    "import numpy as np"
   ]
  },
  {
   "cell_type": "code",
   "execution_count": 5,
   "id": "9a5b4fd7-c048-47d7-b51d-caa7242876a8",
   "metadata": {},
   "outputs": [],
   "source": [
    "import numpy as np\n",
    "import pandas as pd\n",
    "import seaborn as sns\n",
    "from sklearn.datasets import make_classification\n",
    "from statsmodels.discrete.discrete_model import Logit "
   ]
  },
  {
   "cell_type": "code",
   "execution_count": 6,
   "id": "166e231c-4572-41e2-9a27-a0f307ceea15",
   "metadata": {},
   "outputs": [],
   "source": [
    "from sklearn.tree import DecisionTreeClassifier\n",
    "from sklearn.ensemble import BaggingClassifier"
   ]
  },
  {
   "cell_type": "code",
   "execution_count": 7,
   "id": "d32356c3-9bf7-4229-95f4-710616d12181",
   "metadata": {},
   "outputs": [],
   "source": [
    "import matplotlib.pyplot as plt"
   ]
  },
  {
   "cell_type": "code",
   "execution_count": 8,
   "id": "b8790f62",
   "metadata": {},
   "outputs": [],
   "source": [
    "from ml4am.feature_importance import generate_classification_data\n",
    "from ml4am.feature_importance import feat_importance_mdi\n",
    "from ml4am.feature_importance import feat_imp_mda\n",
    "from ml4am.optimal_clustering import clusterKMeansBase\n",
    "from ml4am.ONC import ONC"
   ]
  },
  {
   "cell_type": "code",
   "execution_count": 9,
   "id": "0ff9ad93-3009-46fc-9365-9a297447de46",
   "metadata": {},
   "outputs": [
    {
     "name": "stdout",
     "output_type": "stream",
     "text": [
      "Optimization terminated successfully.\n",
      "         Current function value: 0.380271\n",
      "         Iterations 7\n"
     ]
    }
   ],
   "source": [
    " \n",
    "\n",
    "# Generate test data\n",
    "X, y = generate_classification_data(n_features=40, n_informative=5, n_redundant=30, n_samples=10000, sigma_std=.1)\n",
    "\n",
    "# Fit logistic regression model\n",
    "ols = Logit(y, X).fit()\n",
    "# ols = Logit(y, X).fit_regularized(alpha=0.1, method='l1')"
   ]
  },
  {
   "cell_type": "code",
   "execution_count": 10,
   "id": "455496d5-17d7-4f7a-b520-3485937e0b8e",
   "metadata": {
    "tags": []
   },
   "outputs": [
    {
     "data": {
      "text/html": [
       "<table class=\"simpletable\">\n",
       "<tr>\n",
       "        <td>Model:</td>              <td>Logit</td>           <td>Method:</td>         <td>MLE</td>   \n",
       "</tr>\n",
       "<tr>\n",
       "  <td>Dependent Variable:</td>         <td>y</td>        <td>Pseudo R-squared:</td>   <td>0.451</td>  \n",
       "</tr>\n",
       "<tr>\n",
       "         <td>Date:</td>        <td>2024-05-01 17:08</td>       <td>AIC:</td>        <td>7685.4295</td>\n",
       "</tr>\n",
       "<tr>\n",
       "   <td>No. Observations:</td>        <td>10000</td>            <td>BIC:</td>        <td>7973.8432</td>\n",
       "</tr>\n",
       "<tr>\n",
       "       <td>Df Model:</td>             <td>39</td>         <td>Log-Likelihood:</td>   <td>-3802.7</td> \n",
       "</tr>\n",
       "<tr>\n",
       "     <td>Df Residuals:</td>          <td>9960</td>           <td>LL-Null:</td>       <td>-6931.5</td> \n",
       "</tr>\n",
       "<tr>\n",
       "      <td>Converged:</td>           <td>1.0000</td>        <td>LLR p-value:</td>     <td>0.0000</td>  \n",
       "</tr>\n",
       "<tr>\n",
       "    <td>No. Iterations:</td>        <td>7.0000</td>           <td>Scale:</td>        <td>1.0000</td>  \n",
       "</tr>\n",
       "</table>\n",
       "<table class=\"simpletable\">\n",
       "<tr>\n",
       "    <td></td>    <th>Coef.</th>  <th>Std.Err.</th>    <th>z</th>     <th>P>|z|</th> <th>[0.025</th>  <th>0.975]</th> \n",
       "</tr>\n",
       "<tr>\n",
       "  <th>I_0</th>  <td>1.5619</td>   <td>0.8143</td>  <td>1.9180</td>  <td>0.0551</td> <td>-0.0342</td> <td>3.1579</td> \n",
       "</tr>\n",
       "<tr>\n",
       "  <th>I_1</th>  <td>-2.3691</td>  <td>0.7087</td>  <td>-3.3427</td> <td>0.0008</td> <td>-3.7582</td> <td>-0.9800</td>\n",
       "</tr>\n",
       "<tr>\n",
       "  <th>I_2</th>  <td>0.8641</td>   <td>0.5037</td>  <td>1.7154</td>  <td>0.0863</td> <td>-0.1232</td> <td>1.8513</td> \n",
       "</tr>\n",
       "<tr>\n",
       "  <th>I_3</th>  <td>1.8296</td>   <td>0.8597</td>  <td>2.1282</td>  <td>0.0333</td> <td>0.1446</td>  <td>3.5145</td> \n",
       "</tr>\n",
       "<tr>\n",
       "  <th>I_4</th>  <td>-0.4776</td>  <td>0.5675</td>  <td>-0.8416</td> <td>0.4000</td> <td>-1.5899</td> <td>0.6347</td> \n",
       "</tr>\n",
       "<tr>\n",
       "  <th>N_0</th>  <td>0.0244</td>   <td>0.0285</td>  <td>0.8569</td>  <td>0.3915</td> <td>-0.0314</td> <td>0.0802</td> \n",
       "</tr>\n",
       "<tr>\n",
       "  <th>N_1</th>  <td>-0.0485</td>  <td>0.0290</td>  <td>-1.6712</td> <td>0.0947</td> <td>-0.1054</td> <td>0.0084</td> \n",
       "</tr>\n",
       "<tr>\n",
       "  <th>N_2</th>  <td>0.0367</td>   <td>0.0291</td>  <td>1.2619</td>  <td>0.2070</td> <td>-0.0203</td> <td>0.0938</td> \n",
       "</tr>\n",
       "<tr>\n",
       "  <th>N_3</th>  <td>-0.0205</td>  <td>0.0290</td>  <td>-0.7059</td> <td>0.4803</td> <td>-0.0773</td> <td>0.0364</td> \n",
       "</tr>\n",
       "<tr>\n",
       "  <th>N_4</th>  <td>-0.0421</td>  <td>0.0289</td>  <td>-1.4591</td> <td>0.1445</td> <td>-0.0986</td> <td>0.0145</td> \n",
       "</tr>\n",
       "<tr>\n",
       "  <th>R_0</th>  <td>0.0271</td>   <td>0.2868</td>  <td>0.0945</td>  <td>0.9247</td> <td>-0.5351</td> <td>0.5893</td> \n",
       "</tr>\n",
       "<tr>\n",
       "  <th>R_1</th>  <td>-0.0619</td>  <td>0.2863</td>  <td>-0.2161</td> <td>0.8289</td> <td>-0.6229</td> <td>0.4992</td> \n",
       "</tr>\n",
       "<tr>\n",
       "  <th>R_2</th>  <td>0.1759</td>   <td>0.2857</td>  <td>0.6157</td>  <td>0.5381</td> <td>-0.3841</td> <td>0.7359</td> \n",
       "</tr>\n",
       "<tr>\n",
       "  <th>R_3</th>  <td>-0.3816</td>  <td>0.2878</td>  <td>-1.3259</td> <td>0.1849</td> <td>-0.9456</td> <td>0.1825</td> \n",
       "</tr>\n",
       "<tr>\n",
       "  <th>R_4</th>  <td>-0.0886</td>  <td>0.2889</td>  <td>-0.3067</td> <td>0.7591</td> <td>-0.6549</td> <td>0.4776</td> \n",
       "</tr>\n",
       "<tr>\n",
       "  <th>R_5</th>  <td>0.0035</td>   <td>0.2856</td>  <td>0.0121</td>  <td>0.9903</td> <td>-0.5563</td> <td>0.5633</td> \n",
       "</tr>\n",
       "<tr>\n",
       "  <th>R_6</th>  <td>-0.1685</td>  <td>0.2873</td>  <td>-0.5867</td> <td>0.5574</td> <td>-0.7316</td> <td>0.3945</td> \n",
       "</tr>\n",
       "<tr>\n",
       "  <th>R_7</th>  <td>-0.0064</td>  <td>0.2874</td>  <td>-0.0223</td> <td>0.9822</td> <td>-0.5696</td> <td>0.5568</td> \n",
       "</tr>\n",
       "<tr>\n",
       "  <th>R_8</th>  <td>-0.3122</td>  <td>0.2892</td>  <td>-1.0796</td> <td>0.2803</td> <td>-0.8790</td> <td>0.2546</td> \n",
       "</tr>\n",
       "<tr>\n",
       "  <th>R_9</th>  <td>-0.4787</td>  <td>0.2925</td>  <td>-1.6369</td> <td>0.1017</td> <td>-1.0520</td> <td>0.0945</td> \n",
       "</tr>\n",
       "<tr>\n",
       "  <th>R_10</th> <td>-0.2420</td>  <td>0.2882</td>  <td>-0.8396</td> <td>0.4011</td> <td>-0.8069</td> <td>0.3229</td> \n",
       "</tr>\n",
       "<tr>\n",
       "  <th>R_11</th> <td>0.2955</td>   <td>0.2857</td>  <td>1.0342</td>  <td>0.3010</td> <td>-0.2645</td> <td>0.8555</td> \n",
       "</tr>\n",
       "<tr>\n",
       "  <th>R_12</th> <td>-0.0285</td>  <td>0.2963</td>  <td>-0.0960</td> <td>0.9235</td> <td>-0.6093</td> <td>0.5523</td> \n",
       "</tr>\n",
       "<tr>\n",
       "  <th>R_13</th> <td>0.3914</td>   <td>0.2878</td>  <td>1.3602</td>  <td>0.1738</td> <td>-0.1726</td> <td>0.9555</td> \n",
       "</tr>\n",
       "<tr>\n",
       "  <th>R_14</th> <td>-0.2370</td>  <td>0.2900</td>  <td>-0.8171</td> <td>0.4138</td> <td>-0.8054</td> <td>0.3314</td> \n",
       "</tr>\n",
       "<tr>\n",
       "  <th>R_15</th> <td>0.1278</td>   <td>0.2916</td>  <td>0.4384</td>  <td>0.6611</td> <td>-0.4437</td> <td>0.6993</td> \n",
       "</tr>\n",
       "<tr>\n",
       "  <th>R_16</th> <td>-0.1507</td>  <td>0.2899</td>  <td>-0.5198</td> <td>0.6032</td> <td>-0.7188</td> <td>0.4175</td> \n",
       "</tr>\n",
       "<tr>\n",
       "  <th>R_17</th> <td>-0.5064</td>  <td>0.2883</td>  <td>-1.7567</td> <td>0.0790</td> <td>-1.0714</td> <td>0.0586</td> \n",
       "</tr>\n",
       "<tr>\n",
       "  <th>R_18</th> <td>0.2050</td>   <td>0.2881</td>  <td>0.7115</td>  <td>0.4768</td> <td>-0.3597</td> <td>0.7696</td> \n",
       "</tr>\n",
       "<tr>\n",
       "  <th>R_19</th> <td>-0.0950</td>  <td>0.2879</td>  <td>-0.3300</td> <td>0.7414</td> <td>-0.6594</td> <td>0.4693</td> \n",
       "</tr>\n",
       "<tr>\n",
       "  <th>R_20</th> <td>-0.2437</td>  <td>0.2862</td>  <td>-0.8513</td> <td>0.3946</td> <td>-0.8047</td> <td>0.3174</td> \n",
       "</tr>\n",
       "<tr>\n",
       "  <th>R_21</th> <td>-0.0479</td>  <td>0.2934</td>  <td>-0.1634</td> <td>0.8702</td> <td>-0.6229</td> <td>0.5271</td> \n",
       "</tr>\n",
       "<tr>\n",
       "  <th>R_22</th> <td>0.1300</td>   <td>0.2874</td>  <td>0.4522</td>  <td>0.6511</td> <td>-0.4334</td> <td>0.6933</td> \n",
       "</tr>\n",
       "<tr>\n",
       "  <th>R_23</th> <td>0.4978</td>   <td>0.2906</td>  <td>1.7131</td>  <td>0.0867</td> <td>-0.0717</td> <td>1.0672</td> \n",
       "</tr>\n",
       "<tr>\n",
       "  <th>R_24</th> <td>-0.2049</td>  <td>0.2903</td>  <td>-0.7060</td> <td>0.4802</td> <td>-0.7739</td> <td>0.3640</td> \n",
       "</tr>\n",
       "<tr>\n",
       "  <th>R_25</th> <td>-0.0985</td>  <td>0.2890</td>  <td>-0.3408</td> <td>0.7332</td> <td>-0.6650</td> <td>0.4680</td> \n",
       "</tr>\n",
       "<tr>\n",
       "  <th>R_26</th> <td>-0.2239</td>  <td>0.2885</td>  <td>-0.7759</td> <td>0.4378</td> <td>-0.7894</td> <td>0.3416</td> \n",
       "</tr>\n",
       "<tr>\n",
       "  <th>R_27</th> <td>0.6949</td>   <td>0.2888</td>  <td>2.4060</td>  <td>0.0161</td> <td>0.1288</td>  <td>1.2610</td> \n",
       "</tr>\n",
       "<tr>\n",
       "  <th>R_28</th> <td>-0.2979</td>  <td>0.2914</td>  <td>-1.0224</td> <td>0.3066</td> <td>-0.8691</td> <td>0.2732</td> \n",
       "</tr>\n",
       "<tr>\n",
       "  <th>R_29</th> <td>-0.7999</td>  <td>0.2913</td>  <td>-2.7459</td> <td>0.0060</td> <td>-1.3709</td> <td>-0.2290</td>\n",
       "</tr>\n",
       "</table><br/>\n"
      ],
      "text/latex": [
       "\\begin{table}\n",
       "\\caption{Results: Logit}\n",
       "\\label{}\n",
       "\\begin{center}\n",
       "\\begin{tabular}{llll}\n",
       "\\hline\n",
       "Model:              & Logit            & Method:           & MLE        \\\\\n",
       "Dependent Variable: & y                & Pseudo R-squared: & 0.451      \\\\\n",
       "Date:               & 2024-05-01 17:08 & AIC:              & 7685.4295  \\\\\n",
       "No. Observations:   & 10000            & BIC:              & 7973.8432  \\\\\n",
       "Df Model:           & 39               & Log-Likelihood:   & -3802.7    \\\\\n",
       "Df Residuals:       & 9960             & LL-Null:          & -6931.5    \\\\\n",
       "Converged:          & 1.0000           & LLR p-value:      & 0.0000     \\\\\n",
       "No. Iterations:     & 7.0000           & Scale:            & 1.0000     \\\\\n",
       "\\hline\n",
       "\\end{tabular}\n",
       "\\end{center}\n",
       "\n",
       "\\begin{center}\n",
       "\\begin{tabular}{lrrrrrr}\n",
       "\\hline\n",
       "      &   Coef. & Std.Err. &       z & P$> |$z$|$ &  [0.025 &  0.975]  \\\\\n",
       "\\hline\n",
       "I\\_0  &  1.5619 &   0.8143 &  1.9180 &      0.0551 & -0.0342 &  3.1579  \\\\\n",
       "I\\_1  & -2.3691 &   0.7087 & -3.3427 &      0.0008 & -3.7582 & -0.9800  \\\\\n",
       "I\\_2  &  0.8641 &   0.5037 &  1.7154 &      0.0863 & -0.1232 &  1.8513  \\\\\n",
       "I\\_3  &  1.8296 &   0.8597 &  2.1282 &      0.0333 &  0.1446 &  3.5145  \\\\\n",
       "I\\_4  & -0.4776 &   0.5675 & -0.8416 &      0.4000 & -1.5899 &  0.6347  \\\\\n",
       "N\\_0  &  0.0244 &   0.0285 &  0.8569 &      0.3915 & -0.0314 &  0.0802  \\\\\n",
       "N\\_1  & -0.0485 &   0.0290 & -1.6712 &      0.0947 & -0.1054 &  0.0084  \\\\\n",
       "N\\_2  &  0.0367 &   0.0291 &  1.2619 &      0.2070 & -0.0203 &  0.0938  \\\\\n",
       "N\\_3  & -0.0205 &   0.0290 & -0.7059 &      0.4803 & -0.0773 &  0.0364  \\\\\n",
       "N\\_4  & -0.0421 &   0.0289 & -1.4591 &      0.1445 & -0.0986 &  0.0145  \\\\\n",
       "R\\_0  &  0.0271 &   0.2868 &  0.0945 &      0.9247 & -0.5351 &  0.5893  \\\\\n",
       "R\\_1  & -0.0619 &   0.2863 & -0.2161 &      0.8289 & -0.6229 &  0.4992  \\\\\n",
       "R\\_2  &  0.1759 &   0.2857 &  0.6157 &      0.5381 & -0.3841 &  0.7359  \\\\\n",
       "R\\_3  & -0.3816 &   0.2878 & -1.3259 &      0.1849 & -0.9456 &  0.1825  \\\\\n",
       "R\\_4  & -0.0886 &   0.2889 & -0.3067 &      0.7591 & -0.6549 &  0.4776  \\\\\n",
       "R\\_5  &  0.0035 &   0.2856 &  0.0121 &      0.9903 & -0.5563 &  0.5633  \\\\\n",
       "R\\_6  & -0.1685 &   0.2873 & -0.5867 &      0.5574 & -0.7316 &  0.3945  \\\\\n",
       "R\\_7  & -0.0064 &   0.2874 & -0.0223 &      0.9822 & -0.5696 &  0.5568  \\\\\n",
       "R\\_8  & -0.3122 &   0.2892 & -1.0796 &      0.2803 & -0.8790 &  0.2546  \\\\\n",
       "R\\_9  & -0.4787 &   0.2925 & -1.6369 &      0.1017 & -1.0520 &  0.0945  \\\\\n",
       "R\\_10 & -0.2420 &   0.2882 & -0.8396 &      0.4011 & -0.8069 &  0.3229  \\\\\n",
       "R\\_11 &  0.2955 &   0.2857 &  1.0342 &      0.3010 & -0.2645 &  0.8555  \\\\\n",
       "R\\_12 & -0.0285 &   0.2963 & -0.0960 &      0.9235 & -0.6093 &  0.5523  \\\\\n",
       "R\\_13 &  0.3914 &   0.2878 &  1.3602 &      0.1738 & -0.1726 &  0.9555  \\\\\n",
       "R\\_14 & -0.2370 &   0.2900 & -0.8171 &      0.4138 & -0.8054 &  0.3314  \\\\\n",
       "R\\_15 &  0.1278 &   0.2916 &  0.4384 &      0.6611 & -0.4437 &  0.6993  \\\\\n",
       "R\\_16 & -0.1507 &   0.2899 & -0.5198 &      0.6032 & -0.7188 &  0.4175  \\\\\n",
       "R\\_17 & -0.5064 &   0.2883 & -1.7567 &      0.0790 & -1.0714 &  0.0586  \\\\\n",
       "R\\_18 &  0.2050 &   0.2881 &  0.7115 &      0.4768 & -0.3597 &  0.7696  \\\\\n",
       "R\\_19 & -0.0950 &   0.2879 & -0.3300 &      0.7414 & -0.6594 &  0.4693  \\\\\n",
       "R\\_20 & -0.2437 &   0.2862 & -0.8513 &      0.3946 & -0.8047 &  0.3174  \\\\\n",
       "R\\_21 & -0.0479 &   0.2934 & -0.1634 &      0.8702 & -0.6229 &  0.5271  \\\\\n",
       "R\\_22 &  0.1300 &   0.2874 &  0.4522 &      0.6511 & -0.4334 &  0.6933  \\\\\n",
       "R\\_23 &  0.4978 &   0.2906 &  1.7131 &      0.0867 & -0.0717 &  1.0672  \\\\\n",
       "R\\_24 & -0.2049 &   0.2903 & -0.7060 &      0.4802 & -0.7739 &  0.3640  \\\\\n",
       "R\\_25 & -0.0985 &   0.2890 & -0.3408 &      0.7332 & -0.6650 &  0.4680  \\\\\n",
       "R\\_26 & -0.2239 &   0.2885 & -0.7759 &      0.4378 & -0.7894 &  0.3416  \\\\\n",
       "R\\_27 &  0.6949 &   0.2888 &  2.4060 &      0.0161 &  0.1288 &  1.2610  \\\\\n",
       "R\\_28 & -0.2979 &   0.2914 & -1.0224 &      0.3066 & -0.8691 &  0.2732  \\\\\n",
       "R\\_29 & -0.7999 &   0.2913 & -2.7459 &      0.0060 & -1.3709 & -0.2290  \\\\\n",
       "\\hline\n",
       "\\end{tabular}\n",
       "\\end{center}\n",
       "\\end{table}\n",
       "\\bigskip\n"
      ],
      "text/plain": [
       "<class 'statsmodels.iolib.summary2.Summary'>\n",
       "\"\"\"\n",
       "                         Results: Logit\n",
       "================================================================\n",
       "Model:              Logit            Method:           MLE      \n",
       "Dependent Variable: y                Pseudo R-squared: 0.451    \n",
       "Date:               2024-05-01 17:08 AIC:              7685.4295\n",
       "No. Observations:   10000            BIC:              7973.8432\n",
       "Df Model:           39               Log-Likelihood:   -3802.7  \n",
       "Df Residuals:       9960             LL-Null:          -6931.5  \n",
       "Converged:          1.0000           LLR p-value:      0.0000   \n",
       "No. Iterations:     7.0000           Scale:            1.0000   \n",
       "------------------------------------------------------------------\n",
       "          Coef.    Std.Err.      z      P>|z|     [0.025    0.975]\n",
       "------------------------------------------------------------------\n",
       "I_0       1.5619     0.8143    1.9180   0.0551   -0.0342    3.1579\n",
       "I_1      -2.3691     0.7087   -3.3427   0.0008   -3.7582   -0.9800\n",
       "I_2       0.8641     0.5037    1.7154   0.0863   -0.1232    1.8513\n",
       "I_3       1.8296     0.8597    2.1282   0.0333    0.1446    3.5145\n",
       "I_4      -0.4776     0.5675   -0.8416   0.4000   -1.5899    0.6347\n",
       "N_0       0.0244     0.0285    0.8569   0.3915   -0.0314    0.0802\n",
       "N_1      -0.0485     0.0290   -1.6712   0.0947   -0.1054    0.0084\n",
       "N_2       0.0367     0.0291    1.2619   0.2070   -0.0203    0.0938\n",
       "N_3      -0.0205     0.0290   -0.7059   0.4803   -0.0773    0.0364\n",
       "N_4      -0.0421     0.0289   -1.4591   0.1445   -0.0986    0.0145\n",
       "R_0       0.0271     0.2868    0.0945   0.9247   -0.5351    0.5893\n",
       "R_1      -0.0619     0.2863   -0.2161   0.8289   -0.6229    0.4992\n",
       "R_2       0.1759     0.2857    0.6157   0.5381   -0.3841    0.7359\n",
       "R_3      -0.3816     0.2878   -1.3259   0.1849   -0.9456    0.1825\n",
       "R_4      -0.0886     0.2889   -0.3067   0.7591   -0.6549    0.4776\n",
       "R_5       0.0035     0.2856    0.0121   0.9903   -0.5563    0.5633\n",
       "R_6      -0.1685     0.2873   -0.5867   0.5574   -0.7316    0.3945\n",
       "R_7      -0.0064     0.2874   -0.0223   0.9822   -0.5696    0.5568\n",
       "R_8      -0.3122     0.2892   -1.0796   0.2803   -0.8790    0.2546\n",
       "R_9      -0.4787     0.2925   -1.6369   0.1017   -1.0520    0.0945\n",
       "R_10     -0.2420     0.2882   -0.8396   0.4011   -0.8069    0.3229\n",
       "R_11      0.2955     0.2857    1.0342   0.3010   -0.2645    0.8555\n",
       "R_12     -0.0285     0.2963   -0.0960   0.9235   -0.6093    0.5523\n",
       "R_13      0.3914     0.2878    1.3602   0.1738   -0.1726    0.9555\n",
       "R_14     -0.2370     0.2900   -0.8171   0.4138   -0.8054    0.3314\n",
       "R_15      0.1278     0.2916    0.4384   0.6611   -0.4437    0.6993\n",
       "R_16     -0.1507     0.2899   -0.5198   0.6032   -0.7188    0.4175\n",
       "R_17     -0.5064     0.2883   -1.7567   0.0790   -1.0714    0.0586\n",
       "R_18      0.2050     0.2881    0.7115   0.4768   -0.3597    0.7696\n",
       "R_19     -0.0950     0.2879   -0.3300   0.7414   -0.6594    0.4693\n",
       "R_20     -0.2437     0.2862   -0.8513   0.3946   -0.8047    0.3174\n",
       "R_21     -0.0479     0.2934   -0.1634   0.8702   -0.6229    0.5271\n",
       "R_22      0.1300     0.2874    0.4522   0.6511   -0.4334    0.6933\n",
       "R_23      0.4978     0.2906    1.7131   0.0867   -0.0717    1.0672\n",
       "R_24     -0.2049     0.2903   -0.7060   0.4802   -0.7739    0.3640\n",
       "R_25     -0.0985     0.2890   -0.3408   0.7332   -0.6650    0.4680\n",
       "R_26     -0.2239     0.2885   -0.7759   0.4378   -0.7894    0.3416\n",
       "R_27      0.6949     0.2888    2.4060   0.0161    0.1288    1.2610\n",
       "R_28     -0.2979     0.2914   -1.0224   0.3066   -0.8691    0.2732\n",
       "R_29     -0.7999     0.2913   -2.7459   0.0060   -1.3709   -0.2290\n",
       "================================================================\n",
       "\n",
       "\"\"\""
      ]
     },
     "execution_count": 10,
     "metadata": {},
     "output_type": "execute_result"
    }
   ],
   "source": [
    "ols.summary2()"
   ]
  },
  {
   "cell_type": "code",
   "execution_count": null,
   "id": "88cc90f1-9d56-4ece-a386-e170825cf123",
   "metadata": {},
   "outputs": [],
   "source": []
  },
  {
   "cell_type": "code",
   "execution_count": null,
   "id": "09344c2e-bfec-4be7-bd4b-90b3fda2ef56",
   "metadata": {},
   "outputs": [],
   "source": []
  },
  {
   "cell_type": "code",
   "execution_count": 11,
   "id": "14de3447-aadc-4fb9-8e00-48c9c03d2e97",
   "metadata": {},
   "outputs": [],
   "source": [
    "pvalues_series = ols.pvalues.sort_values(ascending=True)"
   ]
  },
  {
   "cell_type": "code",
   "execution_count": 12,
   "id": "5bff10cc-666e-4911-bdff-dfa42f2732d8",
   "metadata": {},
   "outputs": [
    {
     "data": {
      "text/plain": [
       "Text(0, 0.5, 'p-values')"
      ]
     },
     "execution_count": 12,
     "metadata": {},
     "output_type": "execute_result"
    },
    {
     "data": {
      "image/png": "[encoded data removed]",
      "text/plain": [
       "<Figure size 1440x360 with 1 Axes>"
      ]
     },
     "metadata": {
      "needs_background": "light"
     },
     "output_type": "display_data"
    }
   ],
   "source": [
    "plt.figure(figsize=(20, 5))\n",
    "plt.bar(pvalues_series.index, pvalues_series.values, align='center', alpha=0.5, ecolor='black', capsize=10)\n",
    "plt.axhline(y=0.05, color='r', linestyle='--')  # Add horizontal line at y=0.05\n",
    "plt.legend(['5% significance level', 'p-value'])\n",
    "plt.xlabel('Feature name')\n",
    "plt.ylabel('p-values')"
   ]
  },
  {
   "cell_type": "code",
   "execution_count": null,
   "id": "57c5c5ed-8e8c-4985-bd96-1693b6c46bdc",
   "metadata": {},
   "outputs": [],
   "source": []
  },
  {
   "cell_type": "code",
   "execution_count": 13,
   "id": "96c193d1-54fd-4642-a561-0075f91beb26",
   "metadata": {},
   "outputs": [],
   "source": [
    "\n",
    "\n",
    "\n",
    "X, y = generate_classification_data(40, 5, 30, 10000, sigma_std=.1)\n",
    "\n",
    "clf = DecisionTreeClassifier(criterion='entropy', max_features=1, class_weight='balanced', min_weight_fraction_leaf=0)\n",
    "clf = BaggingClassifier(base_estimator=clf, n_estimators=1000, max_features=1., max_samples=1., oob_score=False)\n",
    "fit = clf.fit(X, y)\n",
    "imp = feat_importance_mdi(fit, feat_names=X.columns)\n"
   ]
  },
  {
   "cell_type": "code",
   "execution_count": 14,
   "id": "7623f7f2-3833-4c0e-91f0-8abcb5551a76",
   "metadata": {},
   "outputs": [],
   "source": [
    "imp.sort_values(by='mean', ascending = False, inplace=True)"
   ]
  },
  {
   "cell_type": "code",
   "execution_count": 15,
   "id": "83f8079d-5c4b-4c79-91df-50700a030e10",
   "metadata": {},
   "outputs": [
    {
     "data": {
      "text/html": [
       "<div>\n",
       "<style scoped>\n",
       "    .dataframe tbody tr th:only-of-type {\n",
       "        vertical-align: middle;\n",
       "    }\n",
       "\n",
       "    .dataframe tbody tr th {\n",
       "        vertical-align: top;\n",
       "    }\n",
       "\n",
       "    .dataframe thead th {\n",
       "        text-align: right;\n",
       "    }\n",
       "</style>\n",
       "<table border=\"1\" class=\"dataframe\">\n",
       "  <thead>\n",
       "    <tr style=\"text-align: right;\">\n",
       "      <th></th>\n",
       "      <th>mean</th>\n",
       "      <th>std</th>\n",
       "    </tr>\n",
       "  </thead>\n",
       "  <tbody>\n",
       "    <tr>\n",
       "      <th>N_1</th>\n",
       "      <td>0.011660</td>\n",
       "      <td>0.000086</td>\n",
       "    </tr>\n",
       "    <tr>\n",
       "      <th>N_4</th>\n",
       "      <td>0.011625</td>\n",
       "      <td>0.000088</td>\n",
       "    </tr>\n",
       "    <tr>\n",
       "      <th>N_0</th>\n",
       "      <td>0.011540</td>\n",
       "      <td>0.000085</td>\n",
       "    </tr>\n",
       "    <tr>\n",
       "      <th>N_3</th>\n",
       "      <td>0.011531</td>\n",
       "      <td>0.000085</td>\n",
       "    </tr>\n",
       "    <tr>\n",
       "      <th>N_2</th>\n",
       "      <td>0.011477</td>\n",
       "      <td>0.000086</td>\n",
       "    </tr>\n",
       "  </tbody>\n",
       "</table>\n",
       "</div>"
      ],
      "text/plain": [
       "         mean       std\n",
       "N_1  0.011660  0.000086\n",
       "N_4  0.011625  0.000088\n",
       "N_0  0.011540  0.000085\n",
       "N_3  0.011531  0.000085\n",
       "N_2  0.011477  0.000086"
      ]
     },
     "execution_count": 15,
     "metadata": {},
     "output_type": "execute_result"
    }
   ],
   "source": [
    "imp.tail()"
   ]
  },
  {
   "cell_type": "code",
   "execution_count": 16,
   "id": "f891c4ec-1b5b-4a10-b126-cddbe44308d9",
   "metadata": {},
   "outputs": [
    {
     "data": {
      "text/plain": [
       "1.0"
      ]
     },
     "execution_count": 16,
     "metadata": {},
     "output_type": "execute_result"
    }
   ],
   "source": [
    "imp['mean'].sum()"
   ]
  },
  {
   "cell_type": "code",
   "execution_count": 17,
   "id": "a41e73f5-a3d0-4f3e-a3f3-f57d6c0babac",
   "metadata": {},
   "outputs": [
    {
     "data": {
      "text/plain": [
       "Text(0, 0.5, 'MDI')"
      ]
     },
     "execution_count": 17,
     "metadata": {},
     "output_type": "execute_result"
    },
    {
     "data": {
      "image/png": "[encoded data removed]",
      "text/plain": [
       "<Figure size 1440x360 with 1 Axes>"
      ]
     },
     "metadata": {
      "needs_background": "light"
     },
     "output_type": "display_data"
    }
   ],
   "source": [
    "plt.figure(figsize=(20, 5))\n",
    "\n",
    "plt.bar(imp.index, imp['mean'], align='center', alpha=0.5, ecolor='black', capsize=10)\n",
    "# Add error bars\n",
    "plt.errorbar(imp.index, imp['mean'], yerr=imp['std'], fmt='none', ecolor='black', capsize=10)\n",
    "plt.xlabel('Feature name')\n",
    "plt.ylabel('MDI')\n"
   ]
  },
  {
   "cell_type": "code",
   "execution_count": null,
   "id": "c24ec825-1491-4b51-bf0f-d4d339cb387a",
   "metadata": {},
   "outputs": [],
   "source": []
  },
  {
   "cell_type": "code",
   "execution_count": 18,
   "id": "690a7437-aeae-4249-9dac-7e41f695325f",
   "metadata": {},
   "outputs": [],
   "source": [
    "imp_df = imp.reset_index()\n",
    "imp_df.columns = ['Feature', 'MDI', 'std']"
   ]
  },
  {
   "cell_type": "code",
   "execution_count": 19,
   "id": "c49e2133-a91f-492f-bd37-156f4560c525",
   "metadata": {},
   "outputs": [],
   "source": [
    "pvalues_series_df = pvalues_series.reset_index()\n",
    "pvalues_series_df.columns = ['Feature', 'p-value' ]"
   ]
  },
  {
   "cell_type": "code",
   "execution_count": 20,
   "id": "e0fbc8dc-69c7-408c-83d2-cf87f31838c3",
   "metadata": {},
   "outputs": [],
   "source": [
    "mdi_pvalues = pd.merge(imp_df, pvalues_series_df, on = 'Feature')"
   ]
  },
  {
   "cell_type": "code",
   "execution_count": 21,
   "id": "cf78c222-d297-4646-9054-846808935558",
   "metadata": {},
   "outputs": [
    {
     "data": {
      "image/svg+xml": [
       "<svg class=\"main-svg\" xmlns=\"http://www.w3.org/2000/svg\" xmlns:xlink=\"http://www.w3.org/1999/xlink\" width=\"800\" height=\"600\" style=\"\" viewBox=\"0 0 800 600\"><rect x=\"0\" y=\"0\" width=\"800\" height=\"600\" style=\"fill: rgb(255, 255, 255); fill-opacity: 1;\"/><defs id=\"defs-46caae\"><g class=\"clips\"><clipPath id=\"clip46caaexyplot\" class=\"plotclip\"><rect width=\"640\" height=\"420\"/></clipPath><clipPath class=\"axesclip\" id=\"clip46caaex\"><rect x=\"80\" y=\"0\" width=\"640\" height=\"600\"/></clipPath><clipPath class=\"axesclip\" id=\"clip46caaey\"><rect x=\"0\" y=\"100\" width=\"800\" height=\"420\"/></clipPath><clipPath class=\"axesclip\" id=\"clip46caaexy\"><rect x=\"80\" y=\"100\" width=\"640\" height=\"420\"/></clipPath></g><g class=\"gradients\"/><g class=\"patterns\"/></defs><g class=\"bglayer\"><rect class=\"bg\" x=\"80\" y=\"100\" width=\"640\" height=\"420\" style=\"fill: rgb(229, 236, 246); fill-opacity: 1; stroke-width: 0;\"/></g><g class=\"layer-below\"><g class=\"imagelayer\"/><g class=\"shapelayer\"/></g><g class=\"cartesianlayer\"><g class=\"subplot xy\"><g class=\"layer-subplot\"><g class=\"shapelayer\"/><g class=\"imagelayer\"/></g><g class=\"minor-gridlayer\"><g class=\"x\"/><g class=\"y\"/></g><g class=\"gridlayer\"><g class=\"x\"><path class=\"xgrid crisp\" transform=\"translate(230.18,0)\" d=\"M0,100v420\" style=\"stroke: rgb(255, 255, 255); stroke-opacity: 1; stroke-width: 1px;\"/><path class=\"xgrid crisp\" transform=\"translate(345.09,0)\" d=\"M0,100v420\" style=\"stroke: rgb(255, 255, 255); stroke-opacity: 1; stroke-width: 1px;\"/><path class=\"xgrid crisp\" transform=\"translate(459.99,0)\" d=\"M0,100v420\" style=\"stroke: rgb(255, 255, 255); stroke-opacity: 1; stroke-width: 1px;\"/><path class=\"xgrid crisp\" transform=\"translate(574.9,0)\" d=\"M0,100v420\" style=\"stroke: rgb(255, 255, 255); stroke-opacity: 1; stroke-width: 1px;\"/><path class=\"xgrid crisp\" transform=\"translate(689.8,0)\" d=\"M0,100v420\" style=\"stroke: rgb(255, 255, 255); stroke-opacity: 1; stroke-width: 1px;\"/></g><g class=\"y\"><path class=\"ygrid crisp\" transform=\"translate(0,511.12)\" d=\"M80,0h640\" style=\"stroke: rgb(255, 255, 255); stroke-opacity: 1; stroke-width: 1px;\"/><path class=\"ygrid crisp\" transform=\"translate(0,457.38)\" d=\"M80,0h640\" style=\"stroke: rgb(255, 255, 255); stroke-opacity: 1; stroke-width: 1px;\"/><path class=\"ygrid crisp\" transform=\"translate(0,403.64)\" d=\"M80,0h640\" style=\"stroke: rgb(255, 255, 255); stroke-opacity: 1; stroke-width: 1px;\"/><path class=\"ygrid crisp\" transform=\"translate(0,349.9)\" d=\"M80,0h640\" style=\"stroke: rgb(255, 255, 255); stroke-opacity: 1; stroke-width: 1px;\"/><path class=\"ygrid crisp\" transform=\"translate(0,296.16999999999996)\" d=\"M80,0h640\" style=\"stroke: rgb(255, 255, 255); stroke-opacity: 1; stroke-width: 1px;\"/><path class=\"ygrid crisp\" transform=\"translate(0,242.43)\" d=\"M80,0h640\" style=\"stroke: rgb(255, 255, 255); stroke-opacity: 1; stroke-width: 1px;\"/><path class=\"ygrid crisp\" transform=\"translate(0,188.69)\" d=\"M80,0h640\" style=\"stroke: rgb(255, 255, 255); stroke-opacity: 1; stroke-width: 1px;\"/><path class=\"ygrid crisp\" transform=\"translate(0,134.95)\" d=\"M80,0h640\" style=\"stroke: rgb(255, 255, 255); stroke-opacity: 1; stroke-width: 1px;\"/></g></g><g class=\"zerolinelayer\"><path class=\"xzl zl crisp\" transform=\"translate(115.27000000000001,0)\" d=\"M0,100v420\" style=\"stroke: rgb(255, 255, 255); stroke-opacity: 1; stroke-width: 2px;\"/></g><g class=\"layer-between\"><g class=\"shapelayer\"/><g class=\"imagelayer\"/></g><path class=\"xlines-below\"/><path class=\"ylines-below\"/><g class=\"overlines-below\"/><g class=\"xaxislayer-below\"/><g class=\"yaxislayer-below\"/><g class=\"overaxes-below\"/><g class=\"plot\" transform=\"translate(80,100)\" clip-path=\"url(#clip46caaexyplot)\"><g class=\"scatterlayer mlayer\"><g class=\"trace scatter tracece7d6d\" style=\"stroke-miterlimit: 2; opacity: 1;\"><g class=\"fills\"/><g class=\"errorbars\"/><g class=\"lines\"/><g class=\"points\"><path class=\"point\" transform=\"translate(35.75,24.75)\" d=\"M3,0A3,3 0 1,1 0,-3A3,3 0 0,1 3,0Z\" style=\"opacity: 1; stroke-width: 0px; fill: rgb(99, 110, 250); fill-opacity: 1;\"/><path class=\"point\" transform=\"translate(381.83,28.37)\" d=\"M3,0A3,3 0 1,1 0,-3A3,3 0 0,1 3,0Z\" style=\"opacity: 1; stroke-width: 0px; fill: rgb(99, 110, 250); fill-opacity: 1;\"/><path class=\"point\" transform=\"translate(309.2,35.05)\" d=\"M3,0A3,3 0 1,1 0,-3A3,3 0 0,1 3,0Z\" style=\"opacity: 1; stroke-width: 0px; fill: rgb(99, 110, 250); fill-opacity: 1;\"/><path class=\"point\" transform=\"translate(135.11,37.31)\" d=\"M3,0A3,3 0 1,1 0,-3A3,3 0 0,1 3,0Z\" style=\"opacity: 1; stroke-width: 0px; fill: rgb(99, 110, 250); fill-opacity: 1;\"/><path class=\"point\" transform=\"translate(604.25,41.33)\" d=\"M3,0A3,3 0 1,1 0,-3A3,3 0 0,1 3,0Z\" style=\"opacity: 1; stroke-width: 0px; fill: rgb(99, 110, 250); fill-opacity: 1;\"/><path class=\"point\" transform=\"translate(44.54,57.23)\" d=\"M3,0A3,3 0 1,1 0,-3A3,3 0 0,1 3,0Z\" style=\"opacity: 1; stroke-width: 0px; fill: rgb(99, 110, 250); fill-opacity: 1;\"/><path class=\"point\" transform=\"translate(415.1,60.48)\" d=\"M3,0A3,3 0 1,1 0,-3A3,3 0 0,1 3,0Z\" style=\"opacity: 1; stroke-width: 0px; fill: rgb(99, 110, 250); fill-opacity: 1;\"/><path class=\"point\" transform=\"translate(599.6,129.96)\" d=\"M3,0A3,3 0 1,1 0,-3A3,3 0 0,1 3,0Z\" style=\"opacity: 1; stroke-width: 0px; fill: rgb(99, 110, 250); fill-opacity: 1;\"/><path class=\"point\" transform=\"translate(311.15,134.71)\" d=\"M3,0A3,3 0 1,1 0,-3A3,3 0 0,1 3,0Z\" style=\"opacity: 1; stroke-width: 0px; fill: rgb(99, 110, 250); fill-opacity: 1;\"/><path class=\"point\" transform=\"translate(84.84,145.15)\" d=\"M3,0A3,3 0 1,1 0,-3A3,3 0 0,1 3,0Z\" style=\"opacity: 1; stroke-width: 0px; fill: rgb(99, 110, 250); fill-opacity: 1;\"/><path class=\"point\" transform=\"translate(565.85,146.9)\" d=\"M3,0A3,3 0 1,1 0,-3A3,3 0 0,1 3,0Z\" style=\"opacity: 1; stroke-width: 0px; fill: rgb(99, 110, 250); fill-opacity: 1;\"/><path class=\"point\" transform=\"translate(566.55,171.88)\" d=\"M3,0A3,3 0 1,1 0,-3A3,3 0 0,1 3,0Z\" style=\"opacity: 1; stroke-width: 0px; fill: rgb(99, 110, 250); fill-opacity: 1;\"/><path class=\"point\" transform=\"translate(461.25,172.76)\" d=\"M3,0A3,3 0 1,1 0,-3A3,3 0 0,1 3,0Z\" style=\"opacity: 1; stroke-width: 0px; fill: rgb(99, 110, 250); fill-opacity: 1;\"/><path class=\"point\" transform=\"translate(208.23,175.65)\" d=\"M3,0A3,3 0 1,1 0,-3A3,3 0 0,1 3,0Z\" style=\"opacity: 1; stroke-width: 0px; fill: rgb(99, 110, 250); fill-opacity: 1;\"/><path class=\"point\" transform=\"translate(196.32,180.78)\" d=\"M3,0A3,3 0 1,1 0,-3A3,3 0 0,1 3,0Z\" style=\"opacity: 1; stroke-width: 0px; fill: rgb(99, 110, 250); fill-opacity: 1;\"/><path class=\"point\" transform=\"translate(265.1,187.04)\" d=\"M3,0A3,3 0 1,1 0,-3A3,3 0 0,1 3,0Z\" style=\"opacity: 1; stroke-width: 0px; fill: rgb(99, 110, 250); fill-opacity: 1;\"/><path class=\"point\" transform=\"translate(85.08,289.49)\" d=\"M3,0A3,3 0 1,1 0,-3A3,3 0 0,1 3,0Z\" style=\"opacity: 1; stroke-width: 0px; fill: rgb(99, 110, 250); fill-opacity: 1;\"/><path class=\"point\" transform=\"translate(66.94,291.41)\" d=\"M3,0A3,3 0 1,1 0,-3A3,3 0 0,1 3,0Z\" style=\"opacity: 1; stroke-width: 0px; fill: rgb(99, 110, 250); fill-opacity: 1;\"/><path class=\"point\" transform=\"translate(535.25,295.12)\" d=\"M3,0A3,3 0 1,1 0,-3A3,3 0 0,1 3,0Z\" style=\"opacity: 1; stroke-width: 0px; fill: rgb(99, 110, 250); fill-opacity: 1;\"/><path class=\"point\" transform=\"translate(80.64,295.31)\" d=\"M3,0A3,3 0 1,1 0,-3A3,3 0 0,1 3,0Z\" style=\"opacity: 1; stroke-width: 0px; fill: rgb(99, 110, 250); fill-opacity: 1;\"/><path class=\"point\" transform=\"translate(93.68,298.76)\" d=\"M3,0A3,3 0 1,1 0,-3A3,3 0 0,1 3,0Z\" style=\"opacity: 1; stroke-width: 0px; fill: rgb(99, 110, 250); fill-opacity: 1;\"/><path class=\"point\" transform=\"translate(265.73,300.26)\" d=\"M3,0A3,3 0 1,1 0,-3A3,3 0 0,1 3,0Z\" style=\"opacity: 1; stroke-width: 0px; fill: rgb(99, 110, 250); fill-opacity: 1;\"/><path class=\"point\" transform=\"translate(511.52,301.04)\" d=\"M3,0A3,3 0 1,1 0,-3A3,3 0 0,1 3,0Z\" style=\"opacity: 1; stroke-width: 0px; fill: rgb(99, 110, 250); fill-opacity: 1;\"/><path class=\"point\" transform=\"translate(273.04,306.39)\" d=\"M3,0A3,3 0 1,1 0,-3A3,3 0 0,1 3,0Z\" style=\"opacity: 1; stroke-width: 0px; fill: rgb(99, 110, 250); fill-opacity: 1;\"/><path class=\"point\" transform=\"translate(286.82,307.86)\" d=\"M3,0A3,3 0 1,1 0,-3A3,3 0 0,1 3,0Z\" style=\"opacity: 1; stroke-width: 0px; fill: rgb(99, 110, 250); fill-opacity: 1;\"/><path class=\"point\" transform=\"translate(211.43,358.03)\" d=\"M3,0A3,3 0 1,1 0,-3A3,3 0 0,1 3,0Z\" style=\"opacity: 1; stroke-width: 0px; fill: rgb(99, 110, 250); fill-opacity: 1;\"/><path class=\"point\" transform=\"translate(355.53,360.38)\" d=\"M3,0A3,3 0 1,1 0,-3A3,3 0 0,1 3,0Z\" style=\"opacity: 1; stroke-width: 0px; fill: rgb(99, 110, 250); fill-opacity: 1;\"/><path class=\"point\" transform=\"translate(261.99,360.59)\" d=\"M3,0A3,3 0 1,1 0,-3A3,3 0 0,1 3,0Z\" style=\"opacity: 1; stroke-width: 0px; fill: rgb(99, 110, 250); fill-opacity: 1;\"/><path class=\"point\" transform=\"translate(54.42,360.68)\" d=\"M3,0A3,3 0 1,1 0,-3A3,3 0 0,1 3,0Z\" style=\"opacity: 1; stroke-width: 0px; fill: rgb(99, 110, 250); fill-opacity: 1;\"/><path class=\"point\" transform=\"translate(409.37,361.09)\" d=\"M3,0A3,3 0 1,1 0,-3A3,3 0 0,1 3,0Z\" style=\"opacity: 1; stroke-width: 0px; fill: rgb(99, 110, 250); fill-opacity: 1;\"/><path class=\"point\" transform=\"translate(344.42,361.31)\" d=\"M3,0A3,3 0 1,1 0,-3A3,3 0 0,1 3,0Z\" style=\"opacity: 1; stroke-width: 0px; fill: rgb(99, 110, 250); fill-opacity: 1;\"/><path class=\"point\" transform=\"translate(471.38,361.37)\" d=\"M3,0A3,3 0 1,1 0,-3A3,3 0 0,1 3,0Z\" style=\"opacity: 1; stroke-width: 0px; fill: rgb(99, 110, 250); fill-opacity: 1;\"/><path class=\"point\" transform=\"translate(456.53,361.95)\" d=\"M3,0A3,3 0 1,1 0,-3A3,3 0 0,1 3,0Z\" style=\"opacity: 1; stroke-width: 0px; fill: rgb(99, 110, 250); fill-opacity: 1;\"/><path class=\"point\" transform=\"translate(38.74,361.95)\" d=\"M3,0A3,3 0 1,1 0,-3A3,3 0 0,1 3,0Z\" style=\"opacity: 1; stroke-width: 0px; fill: rgb(99, 110, 250); fill-opacity: 1;\"/><path class=\"point\" transform=\"translate(141.49,362.46)\" d=\"M3,0A3,3 0 1,1 0,-3A3,3 0 0,1 3,0Z\" style=\"opacity: 1; stroke-width: 0px; fill: rgb(99, 110, 250); fill-opacity: 1;\"/><path class=\"point\" transform=\"translate(89.67,393.27)\" d=\"M3,0A3,3 0 1,1 0,-3A3,3 0 0,1 3,0Z\" style=\"opacity: 1; stroke-width: 0px; fill: rgb(99, 110, 250); fill-opacity: 1;\"/><path class=\"point\" transform=\"translate(118.32,393.65)\" d=\"M3,0A3,3 0 1,1 0,-3A3,3 0 0,1 3,0Z\" style=\"opacity: 1; stroke-width: 0px; fill: rgb(99, 110, 250); fill-opacity: 1;\"/><path class=\"point\" transform=\"translate(260.2,394.57)\" d=\"M3,0A3,3 0 1,1 0,-3A3,3 0 0,1 3,0Z\" style=\"opacity: 1; stroke-width: 0px; fill: rgb(99, 110, 250); fill-opacity: 1;\"/><path class=\"point\" transform=\"translate(311.21,394.67)\" d=\"M3,0A3,3 0 1,1 0,-3A3,3 0 0,1 3,0Z\" style=\"opacity: 1; stroke-width: 0px; fill: rgb(99, 110, 250); fill-opacity: 1;\"/><path class=\"point\" transform=\"translate(154.19,395.25)\" d=\"M3,0A3,3 0 1,1 0,-3A3,3 0 0,1 3,0Z\" style=\"opacity: 1; stroke-width: 0px; fill: rgb(99, 110, 250); fill-opacity: 1;\"/></g><g class=\"text\"/></g></g></g><g class=\"overplot\"/><path class=\"xlines-above crisp\" d=\"M0,0\" style=\"fill: none;\"/><path class=\"ylines-above crisp\" d=\"M0,0\" style=\"fill: none;\"/><g class=\"overlines-above\"/><g class=\"xaxislayer-above\"><g class=\"xtick\"><text text-anchor=\"middle\" x=\"0\" y=\"533\" transform=\"translate(115.27000000000001,0)\" style=\"font-family: 'Open Sans', verdana, arial, sans-serif; font-size: 12px; fill: rgb(42, 63, 95); fill-opacity: 1; white-space: pre; opacity: 1;\">0</text></g><g class=\"xtick\"><text text-anchor=\"middle\" x=\"0\" y=\"533\" style=\"font-family: 'Open Sans', verdana, arial, sans-serif; font-size: 12px; fill: rgb(42, 63, 95); fill-opacity: 1; white-space: pre; opacity: 1;\" transform=\"translate(230.18,0)\">0.2</text></g><g class=\"xtick\"><text text-anchor=\"middle\" x=\"0\" y=\"533\" style=\"font-family: 'Open Sans', verdana, arial, sans-serif; font-size: 12px; fill: rgb(42, 63, 95); fill-opacity: 1; white-space: pre; opacity: 1;\" transform=\"translate(345.09,0)\">0.4</text></g><g class=\"xtick\"><text text-anchor=\"middle\" x=\"0\" y=\"533\" style=\"font-family: 'Open Sans', verdana, arial, sans-serif; font-size: 12px; fill: rgb(42, 63, 95); fill-opacity: 1; white-space: pre; opacity: 1;\" transform=\"translate(459.99,0)\">0.6</text></g><g class=\"xtick\"><text text-anchor=\"middle\" x=\"0\" y=\"533\" style=\"font-family: 'Open Sans', verdana, arial, sans-serif; font-size: 12px; fill: rgb(42, 63, 95); fill-opacity: 1; white-space: pre; opacity: 1;\" transform=\"translate(574.9,0)\">0.8</text></g><g class=\"xtick\"><text text-anchor=\"middle\" x=\"0\" y=\"533\" style=\"font-family: 'Open Sans', verdana, arial, sans-serif; font-size: 12px; fill: rgb(42, 63, 95); fill-opacity: 1; white-space: pre; opacity: 1;\" transform=\"translate(689.8,0)\">1</text></g></g><g class=\"yaxislayer-above\"><g class=\"ytick\"><text text-anchor=\"end\" x=\"79\" y=\"4.199999999999999\" transform=\"translate(0,511.12)\" style=\"font-family: 'Open Sans', verdana, arial, sans-serif; font-size: 12px; fill: rgb(42, 63, 95); fill-opacity: 1; white-space: pre; opacity: 1;\">0.01</text></g><g class=\"ytick\"><text text-anchor=\"end\" x=\"79\" y=\"4.199999999999999\" style=\"font-family: 'Open Sans', verdana, arial, sans-serif; font-size: 12px; fill: rgb(42, 63, 95); fill-opacity: 1; white-space: pre; opacity: 1;\" transform=\"translate(0,457.38)\">0.015</text></g><g class=\"ytick\"><text text-anchor=\"end\" x=\"79\" y=\"4.199999999999999\" style=\"font-family: 'Open Sans', verdana, arial, sans-serif; font-size: 12px; fill: rgb(42, 63, 95); fill-opacity: 1; white-space: pre; opacity: 1;\" transform=\"translate(0,403.64)\">0.02</text></g><g class=\"ytick\"><text text-anchor=\"end\" x=\"79\" y=\"4.199999999999999\" style=\"font-family: 'Open Sans', verdana, arial, sans-serif; font-size: 12px; fill: rgb(42, 63, 95); fill-opacity: 1; white-space: pre; opacity: 1;\" transform=\"translate(0,349.9)\">0.025</text></g><g class=\"ytick\"><text text-anchor=\"end\" x=\"79\" y=\"4.199999999999999\" style=\"font-family: 'Open Sans', verdana, arial, sans-serif; font-size: 12px; fill: rgb(42, 63, 95); fill-opacity: 1; white-space: pre; opacity: 1;\" transform=\"translate(0,296.16999999999996)\">0.03</text></g><g class=\"ytick\"><text text-anchor=\"end\" x=\"79\" y=\"4.199999999999999\" style=\"font-family: 'Open Sans', verdana, arial, sans-serif; font-size: 12px; fill: rgb(42, 63, 95); fill-opacity: 1; white-space: pre; opacity: 1;\" transform=\"translate(0,242.43)\">0.035</text></g><g class=\"ytick\"><text text-anchor=\"end\" x=\"79\" y=\"4.199999999999999\" style=\"font-family: 'Open Sans', verdana, arial, sans-serif; font-size: 12px; fill: rgb(42, 63, 95); fill-opacity: 1; white-space: pre; opacity: 1;\" transform=\"translate(0,188.69)\">0.04</text></g><g class=\"ytick\"><text text-anchor=\"end\" x=\"79\" y=\"4.199999999999999\" style=\"font-family: 'Open Sans', verdana, arial, sans-serif; font-size: 12px; fill: rgb(42, 63, 95); fill-opacity: 1; white-space: pre; opacity: 1;\" transform=\"translate(0,134.95)\">0.045</text></g></g><g class=\"overaxes-above\"/></g></g><g class=\"polarlayer\"/><g class=\"smithlayer\"/><g class=\"ternarylayer\"/><g class=\"geolayer\"/><g class=\"funnelarealayer\"/><g class=\"pielayer\"/><g class=\"iciclelayer\"/><g class=\"treemaplayer\"/><g class=\"sunburstlayer\"/><g class=\"glimages\"/><defs id=\"topdefs-46caae\"><g class=\"clips\"/></defs><g class=\"layer-above\"><g class=\"imagelayer\"/><g class=\"shapelayer\"/></g><g class=\"infolayer\"><g class=\"g-gtitle\"><text class=\"gtitle\" x=\"40\" y=\"50\" text-anchor=\"start\" dy=\"0em\" style=\"font-family: 'Open Sans', verdana, arial, sans-serif; font-size: 17px; fill: rgb(42, 63, 95); opacity: 1; font-weight: normal; white-space: pre;\">p-values vs MDI</text></g><g class=\"g-xtitle\"><text class=\"xtitle\" x=\"400\" y=\"559.8\" text-anchor=\"middle\" style=\"font-family: 'Open Sans', verdana, arial, sans-serif; font-size: 14px; fill: rgb(42, 63, 95); opacity: 1; font-weight: normal; white-space: pre;\">P-Value</text></g><g class=\"g-ytitle\"><text class=\"ytitle\" transform=\"rotate(-90,19.809375000000003,310)\" x=\"19.809375000000003\" y=\"310\" text-anchor=\"middle\" style=\"font-family: 'Open Sans', verdana, arial, sans-serif; font-size: 14px; fill: rgb(42, 63, 95); opacity: 1; font-weight: normal; white-space: pre;\">MDI</text></g><g class=\"annotation\" data-index=\"0\" style=\"opacity: 1;\"><g class=\"annotation-text-g\" transform=\"rotate(0,115.75,124.75)\"><g class=\"cursor-pointer\" transform=\"translate(104,115)\"><rect class=\"bg\" x=\"0.5\" y=\"0.5\" width=\"23\" height=\"18\" style=\"stroke-width: 1px; stroke: rgb(0, 0, 0); stroke-opacity: 0; fill: rgb(0, 0, 0); fill-opacity: 0;\"/><text class=\"annotation-text\" text-anchor=\"middle\" x=\"12.15625\" y=\"14\" style=\"font-family: 'Open Sans', verdana, arial, sans-serif; font-size: 12px; fill: rgb(42, 63, 95); fill-opacity: 1; white-space: pre;\">I_1</text></g></g></g><g class=\"annotation\" data-index=\"1\" style=\"opacity: 1;\"><g class=\"annotation-text-g\" transform=\"rotate(0,461.83,128.37)\"><g class=\"cursor-pointer\" transform=\"translate(444,119)\"><rect class=\"bg\" x=\"0.5\" y=\"0.5\" width=\"34\" height=\"18\" style=\"stroke-width: 1px; stroke: rgb(0, 0, 0); stroke-opacity: 0; fill: rgb(0, 0, 0); fill-opacity: 0;\"/><text class=\"annotation-text\" text-anchor=\"middle\" x=\"17.625\" y=\"14\" style=\"font-family: 'Open Sans', verdana, arial, sans-serif; font-size: 12px; fill: rgb(42, 63, 95); fill-opacity: 1; white-space: pre;\">R_16</text></g></g></g><g class=\"annotation\" data-index=\"2\" style=\"opacity: 1;\"><g class=\"annotation-text-g\" transform=\"rotate(0,389.2,135.05)\"><g class=\"cursor-pointer\" transform=\"translate(372,126)\"><rect class=\"bg\" x=\"0.5\" y=\"0.5\" width=\"34\" height=\"18\" style=\"stroke-width: 1px; stroke: rgb(0, 0, 0); stroke-opacity: 0; fill: rgb(0, 0, 0); fill-opacity: 0;\"/><text class=\"annotation-text\" text-anchor=\"middle\" x=\"17.625\" y=\"14\" style=\"font-family: 'Open Sans', verdana, arial, sans-serif; font-size: 12px; fill: rgb(42, 63, 95); fill-opacity: 1; white-space: pre;\">R_18</text></g></g></g><g class=\"annotation\" data-index=\"3\" style=\"opacity: 1;\"><g class=\"annotation-text-g\" transform=\"rotate(0,215.11,137.31)\"><g class=\"cursor-pointer\" transform=\"translate(198,128)\"><rect class=\"bg\" x=\"0.5\" y=\"0.5\" width=\"34\" height=\"18\" style=\"stroke-width: 1px; stroke: rgb(0, 0, 0); stroke-opacity: 0; fill: rgb(0, 0, 0); fill-opacity: 0;\"/><text class=\"annotation-text\" text-anchor=\"middle\" x=\"17.625\" y=\"14\" style=\"font-family: 'Open Sans', verdana, arial, sans-serif; font-size: 12px; fill: rgb(42, 63, 95); fill-opacity: 1; white-space: pre;\">R_13</text></g></g></g><g class=\"annotation\" data-index=\"4\" style=\"opacity: 1;\"><g class=\"annotation-text-g\" transform=\"rotate(0,684.25,141.32999999999998)\"><g class=\"cursor-pointer\" transform=\"translate(670,132)\"><rect class=\"bg\" x=\"0.5\" y=\"0.5\" width=\"27\" height=\"18\" style=\"stroke-width: 1px; stroke: rgb(0, 0, 0); stroke-opacity: 0; fill: rgb(0, 0, 0); fill-opacity: 0;\"/><text class=\"annotation-text\" text-anchor=\"middle\" x=\"13.8125\" y=\"14\" style=\"font-family: 'Open Sans', verdana, arial, sans-serif; font-size: 12px; fill: rgb(42, 63, 95); fill-opacity: 1; white-space: pre;\">R_5</text></g></g></g><g class=\"annotation\" data-index=\"5\" style=\"opacity: 1;\"><g class=\"annotation-text-g\" transform=\"rotate(0,124.53999999999999,157.23)\"><g class=\"cursor-pointer\" transform=\"translate(107,148)\"><rect class=\"bg\" x=\"0.5\" y=\"0.5\" width=\"34\" height=\"18\" style=\"stroke-width: 1px; stroke: rgb(0, 0, 0); stroke-opacity: 0; fill: rgb(0, 0, 0); fill-opacity: 0;\"/><text class=\"annotation-text\" text-anchor=\"middle\" x=\"17.625\" y=\"14\" style=\"font-family: 'Open Sans', verdana, arial, sans-serif; font-size: 12px; fill: rgb(42, 63, 95); fill-opacity: 1; white-space: pre;\">R_27</text></g></g></g><g class=\"annotation\" data-index=\"6\" style=\"opacity: 1;\"><g class=\"annotation-text-g\" transform=\"rotate(0,495.1,160.48)\"><g class=\"cursor-pointer\" transform=\"translate(478,151)\"><rect class=\"bg\" x=\"0.5\" y=\"0.5\" width=\"34\" height=\"18\" style=\"stroke-width: 1px; stroke: rgb(0, 0, 0); stroke-opacity: 0; fill: rgb(0, 0, 0); fill-opacity: 0;\"/><text class=\"annotation-text\" text-anchor=\"middle\" x=\"17.625\" y=\"14\" style=\"font-family: 'Open Sans', verdana, arial, sans-serif; font-size: 12px; fill: rgb(42, 63, 95); fill-opacity: 1; white-space: pre;\">R_15</text></g></g></g><g class=\"annotation\" data-index=\"7\" style=\"opacity: 1;\"><g class=\"annotation-text-g\" transform=\"rotate(0,679.6,229.96)\"><g class=\"cursor-pointer\" transform=\"translate(666,220)\"><rect class=\"bg\" x=\"0.5\" y=\"0.5\" width=\"27\" height=\"18\" style=\"stroke-width: 1px; stroke: rgb(0, 0, 0); stroke-opacity: 0; fill: rgb(0, 0, 0); fill-opacity: 0;\"/><text class=\"annotation-text\" text-anchor=\"middle\" x=\"13.8125\" y=\"14\" style=\"font-family: 'Open Sans', verdana, arial, sans-serif; font-size: 12px; fill: rgb(42, 63, 95); fill-opacity: 1; white-space: pre;\">R_7</text></g></g></g><g class=\"annotation\" data-index=\"8\" style=\"opacity: 1;\"><g class=\"annotation-text-g\" transform=\"rotate(0,391.15,234.71)\"><g class=\"cursor-pointer\" transform=\"translate(374,225)\"><rect class=\"bg\" x=\"0.5\" y=\"0.5\" width=\"34\" height=\"18\" style=\"stroke-width: 1px; stroke: rgb(0, 0, 0); stroke-opacity: 0; fill: rgb(0, 0, 0); fill-opacity: 0;\"/><text class=\"annotation-text\" text-anchor=\"middle\" x=\"17.625\" y=\"14\" style=\"font-family: 'Open Sans', verdana, arial, sans-serif; font-size: 12px; fill: rgb(42, 63, 95); fill-opacity: 1; white-space: pre;\">R_24</text></g></g></g><g class=\"annotation\" data-index=\"9\" style=\"opacity: 1;\"><g class=\"annotation-text-g\" transform=\"rotate(0,164.84,245.15)\"><g class=\"cursor-pointer\" transform=\"translate(153,236)\"><rect class=\"bg\" x=\"0.5\" y=\"0.5\" width=\"23\" height=\"18\" style=\"stroke-width: 1px; stroke: rgb(0, 0, 0); stroke-opacity: 0; fill: rgb(0, 0, 0); fill-opacity: 0;\"/><text class=\"annotation-text\" text-anchor=\"middle\" x=\"12.15625\" y=\"14\" style=\"font-family: 'Open Sans', verdana, arial, sans-serif; font-size: 12px; fill: rgb(42, 63, 95); fill-opacity: 1; white-space: pre;\">I_2</text></g></g></g><g class=\"annotation\" data-index=\"10\" style=\"opacity: 1;\"><g class=\"annotation-text-g\" transform=\"rotate(0,645.85,246.9)\"><g class=\"cursor-pointer\" transform=\"translate(628,237)\"><rect class=\"bg\" x=\"0.5\" y=\"0.5\" width=\"34\" height=\"18\" style=\"stroke-width: 1px; stroke: rgb(0, 0, 0); stroke-opacity: 0; fill: rgb(0, 0, 0); fill-opacity: 0;\"/><text class=\"annotation-text\" text-anchor=\"middle\" x=\"17.625\" y=\"14\" style=\"font-family: 'Open Sans', verdana, arial, sans-serif; font-size: 12px; fill: rgb(42, 63, 95); fill-opacity: 1; white-space: pre;\">R_12</text></g></g></g><g class=\"annotation\" data-index=\"11\" style=\"opacity: 1;\"><g class=\"annotation-text-g\" transform=\"rotate(0,646.55,271.88)\"><g class=\"cursor-pointer\" transform=\"translate(633,262)\"><rect class=\"bg\" x=\"0.5\" y=\"0.5\" width=\"27\" height=\"18\" style=\"stroke-width: 1px; stroke: rgb(0, 0, 0); stroke-opacity: 0; fill: rgb(0, 0, 0); fill-opacity: 0;\"/><text class=\"annotation-text\" text-anchor=\"middle\" x=\"13.8125\" y=\"14\" style=\"font-family: 'Open Sans', verdana, arial, sans-serif; font-size: 12px; fill: rgb(42, 63, 95); fill-opacity: 1; white-space: pre;\">R_0</text></g></g></g><g class=\"annotation\" data-index=\"12\" style=\"opacity: 1;\"><g class=\"annotation-text-g\" transform=\"rotate(0,541.25,272.76)\"><g class=\"cursor-pointer\" transform=\"translate(524,263)\"><rect class=\"bg\" x=\"0.5\" y=\"0.5\" width=\"34\" height=\"18\" style=\"stroke-width: 1px; stroke: rgb(0, 0, 0); stroke-opacity: 0; fill: rgb(0, 0, 0); fill-opacity: 0;\"/><text class=\"annotation-text\" text-anchor=\"middle\" x=\"17.625\" y=\"14\" style=\"font-family: 'Open Sans', verdana, arial, sans-serif; font-size: 12px; fill: rgb(42, 63, 95); fill-opacity: 1; white-space: pre;\">R_19</text></g></g></g><g class=\"annotation\" data-index=\"13\" style=\"opacity: 1;\"><g class=\"annotation-text-g\" transform=\"rotate(0,288.23,275.65)\"><g class=\"cursor-pointer\" transform=\"translate(271,266)\"><rect class=\"bg\" x=\"0.5\" y=\"0.5\" width=\"34\" height=\"18\" style=\"stroke-width: 1px; stroke: rgb(0, 0, 0); stroke-opacity: 0; fill: rgb(0, 0, 0); fill-opacity: 0;\"/><text class=\"annotation-text\" text-anchor=\"middle\" x=\"17.625\" y=\"14\" style=\"font-family: 'Open Sans', verdana, arial, sans-serif; font-size: 12px; fill: rgb(42, 63, 95); fill-opacity: 1; white-space: pre;\">R_11</text></g></g></g><g class=\"annotation\" data-index=\"14\" style=\"opacity: 1;\"><g class=\"annotation-text-g\" transform=\"rotate(0,276.32,280.78)\"><g class=\"cursor-pointer\" transform=\"translate(262,271)\"><rect class=\"bg\" x=\"0.5\" y=\"0.5\" width=\"27\" height=\"18\" style=\"stroke-width: 1px; stroke: rgb(0, 0, 0); stroke-opacity: 0; fill: rgb(0, 0, 0); fill-opacity: 0;\"/><text class=\"annotation-text\" text-anchor=\"middle\" x=\"13.8125\" y=\"14\" style=\"font-family: 'Open Sans', verdana, arial, sans-serif; font-size: 12px; fill: rgb(42, 63, 95); fill-opacity: 1; white-space: pre;\">R_8</text></g></g></g><g class=\"annotation\" data-index=\"15\" style=\"opacity: 1;\"><g class=\"annotation-text-g\" transform=\"rotate(0,345.1,287.03999999999996)\"><g class=\"cursor-pointer\" transform=\"translate(333,278)\"><rect class=\"bg\" x=\"0.5\" y=\"0.5\" width=\"23\" height=\"18\" style=\"stroke-width: 1px; stroke: rgb(0, 0, 0); stroke-opacity: 0; fill: rgb(0, 0, 0); fill-opacity: 0;\"/><text class=\"annotation-text\" text-anchor=\"middle\" x=\"12.15625\" y=\"14\" style=\"font-family: 'Open Sans', verdana, arial, sans-serif; font-size: 12px; fill: rgb(42, 63, 95); fill-opacity: 1; white-space: pre;\">I_4</text></g></g></g><g class=\"annotation\" data-index=\"16\" style=\"opacity: 1;\"><g class=\"annotation-text-g\" transform=\"rotate(0,165.07999999999998,389.49)\"><g class=\"cursor-pointer\" transform=\"translate(148,380)\"><rect class=\"bg\" x=\"0.5\" y=\"0.5\" width=\"34\" height=\"18\" style=\"stroke-width: 1px; stroke: rgb(0, 0, 0); stroke-opacity: 0; fill: rgb(0, 0, 0); fill-opacity: 0;\"/><text class=\"annotation-text\" text-anchor=\"middle\" x=\"17.625\" y=\"14\" style=\"font-family: 'Open Sans', verdana, arial, sans-serif; font-size: 12px; fill: rgb(42, 63, 95); fill-opacity: 1; white-space: pre;\">R_23</text></g></g></g><g class=\"annotation\" data-index=\"17\" style=\"opacity: 1;\"><g class=\"annotation-text-g\" transform=\"rotate(0,146.94,391.41)\"><g class=\"cursor-pointer\" transform=\"translate(135,382)\"><rect class=\"bg\" x=\"0.5\" y=\"0.5\" width=\"23\" height=\"18\" style=\"stroke-width: 1px; stroke: rgb(0, 0, 0); stroke-opacity: 0; fill: rgb(0, 0, 0); fill-opacity: 0;\"/><text class=\"annotation-text\" text-anchor=\"middle\" x=\"12.15625\" y=\"14\" style=\"font-family: 'Open Sans', verdana, arial, sans-serif; font-size: 12px; fill: rgb(42, 63, 95); fill-opacity: 1; white-space: pre;\">I_0</text></g></g></g><g class=\"annotation\" data-index=\"18\" style=\"opacity: 1;\"><g class=\"annotation-text-g\" transform=\"rotate(0,615.25,395.12)\"><g class=\"cursor-pointer\" transform=\"translate(598,386)\"><rect class=\"bg\" x=\"0.5\" y=\"0.5\" width=\"34\" height=\"18\" style=\"stroke-width: 1px; stroke: rgb(0, 0, 0); stroke-opacity: 0; fill: rgb(0, 0, 0); fill-opacity: 0;\"/><text class=\"annotation-text\" text-anchor=\"middle\" x=\"17.625\" y=\"14\" style=\"font-family: 'Open Sans', verdana, arial, sans-serif; font-size: 12px; fill: rgb(42, 63, 95); fill-opacity: 1; white-space: pre;\">R_21</text></g></g></g><g class=\"annotation\" data-index=\"19\" style=\"opacity: 1;\"><g class=\"annotation-text-g\" transform=\"rotate(0,160.64,395.31)\"><g class=\"cursor-pointer\" transform=\"translate(143,386)\"><rect class=\"bg\" x=\"0.5\" y=\"0.5\" width=\"34\" height=\"18\" style=\"stroke-width: 1px; stroke: rgb(0, 0, 0); stroke-opacity: 0; fill: rgb(0, 0, 0); fill-opacity: 0;\"/><text class=\"annotation-text\" text-anchor=\"middle\" x=\"17.625\" y=\"14\" style=\"font-family: 'Open Sans', verdana, arial, sans-serif; font-size: 12px; fill: rgb(42, 63, 95); fill-opacity: 1; white-space: pre;\">R_17</text></g></g></g><g class=\"annotation\" data-index=\"20\" style=\"opacity: 1;\"><g class=\"annotation-text-g\" transform=\"rotate(0,173.68,398.76)\"><g class=\"cursor-pointer\" transform=\"translate(160,389)\"><rect class=\"bg\" x=\"0.5\" y=\"0.5\" width=\"27\" height=\"18\" style=\"stroke-width: 1px; stroke: rgb(0, 0, 0); stroke-opacity: 0; fill: rgb(0, 0, 0); fill-opacity: 0;\"/><text class=\"annotation-text\" text-anchor=\"middle\" x=\"13.8125\" y=\"14\" style=\"font-family: 'Open Sans', verdana, arial, sans-serif; font-size: 12px; fill: rgb(42, 63, 95); fill-opacity: 1; white-space: pre;\">R_9</text></g></g></g><g class=\"annotation\" data-index=\"21\" style=\"opacity: 1;\"><g class=\"annotation-text-g\" transform=\"rotate(0,345.73,400.26)\"><g class=\"cursor-pointer\" transform=\"translate(328,391)\"><rect class=\"bg\" x=\"0.5\" y=\"0.5\" width=\"34\" height=\"18\" style=\"stroke-width: 1px; stroke: rgb(0, 0, 0); stroke-opacity: 0; fill: rgb(0, 0, 0); fill-opacity: 0;\"/><text class=\"annotation-text\" text-anchor=\"middle\" x=\"17.625\" y=\"14\" style=\"font-family: 'Open Sans', verdana, arial, sans-serif; font-size: 12px; fill: rgb(42, 63, 95); fill-opacity: 1; white-space: pre;\">R_10</text></g></g></g><g class=\"annotation\" data-index=\"22\" style=\"opacity: 1;\"><g class=\"annotation-text-g\" transform=\"rotate(0,591.52,401.04)\"><g class=\"cursor-pointer\" transform=\"translate(578,392)\"><rect class=\"bg\" x=\"0.5\" y=\"0.5\" width=\"27\" height=\"18\" style=\"stroke-width: 1px; stroke: rgb(0, 0, 0); stroke-opacity: 0; fill: rgb(0, 0, 0); fill-opacity: 0;\"/><text class=\"annotation-text\" text-anchor=\"middle\" x=\"13.8125\" y=\"14\" style=\"font-family: 'Open Sans', verdana, arial, sans-serif; font-size: 12px; fill: rgb(42, 63, 95); fill-opacity: 1; white-space: pre;\">R_1</text></g></g></g><g class=\"annotation\" data-index=\"23\" style=\"opacity: 1;\"><g class=\"annotation-text-g\" transform=\"rotate(0,353.04,406.39)\"><g class=\"cursor-pointer\" transform=\"translate(336,397)\"><rect class=\"bg\" x=\"0.5\" y=\"0.5\" width=\"34\" height=\"18\" style=\"stroke-width: 1px; stroke: rgb(0, 0, 0); stroke-opacity: 0; fill: rgb(0, 0, 0); fill-opacity: 0;\"/><text class=\"annotation-text\" text-anchor=\"middle\" x=\"17.625\" y=\"14\" style=\"font-family: 'Open Sans', verdana, arial, sans-serif; font-size: 12px; fill: rgb(42, 63, 95); fill-opacity: 1; white-space: pre;\">R_14</text></g></g></g><g class=\"annotation\" data-index=\"24\" style=\"opacity: 1;\"><g class=\"annotation-text-g\" transform=\"rotate(0,366.82,407.86)\"><g class=\"cursor-pointer\" transform=\"translate(349,398)\"><rect class=\"bg\" x=\"0.5\" y=\"0.5\" width=\"34\" height=\"18\" style=\"stroke-width: 1px; stroke: rgb(0, 0, 0); stroke-opacity: 0; fill: rgb(0, 0, 0); fill-opacity: 0;\"/><text class=\"annotation-text\" text-anchor=\"middle\" x=\"17.625\" y=\"14\" style=\"font-family: 'Open Sans', verdana, arial, sans-serif; font-size: 12px; fill: rgb(42, 63, 95); fill-opacity: 1; white-space: pre;\">R_26</text></g></g></g><g class=\"annotation\" data-index=\"25\" style=\"opacity: 1;\"><g class=\"annotation-text-g\" transform=\"rotate(0,291.43,458.03)\"><g class=\"cursor-pointer\" transform=\"translate(274,449)\"><rect class=\"bg\" x=\"0.5\" y=\"0.5\" width=\"34\" height=\"18\" style=\"stroke-width: 1px; stroke: rgb(0, 0, 0); stroke-opacity: 0; fill: rgb(0, 0, 0); fill-opacity: 0;\"/><text class=\"annotation-text\" text-anchor=\"middle\" x=\"17.625\" y=\"14\" style=\"font-family: 'Open Sans', verdana, arial, sans-serif; font-size: 12px; fill: rgb(42, 63, 95); fill-opacity: 1; white-space: pre;\">R_28</text></g></g></g><g class=\"annotation\" data-index=\"26\" style=\"opacity: 1;\"><g class=\"annotation-text-g\" transform=\"rotate(0,435.53,460.38)\"><g class=\"cursor-pointer\" transform=\"translate(422,451)\"><rect class=\"bg\" x=\"0.5\" y=\"0.5\" width=\"27\" height=\"18\" style=\"stroke-width: 1px; stroke: rgb(0, 0, 0); stroke-opacity: 0; fill: rgb(0, 0, 0); fill-opacity: 0;\"/><text class=\"annotation-text\" text-anchor=\"middle\" x=\"13.8125\" y=\"14\" style=\"font-family: 'Open Sans', verdana, arial, sans-serif; font-size: 12px; fill: rgb(42, 63, 95); fill-opacity: 1; white-space: pre;\">R_6</text></g></g></g><g class=\"annotation\" data-index=\"27\" style=\"opacity: 1;\"><g class=\"annotation-text-g\" transform=\"rotate(0,341.99,460.59)\"><g class=\"cursor-pointer\" transform=\"translate(324,451)\"><rect class=\"bg\" x=\"0.5\" y=\"0.5\" width=\"34\" height=\"18\" style=\"stroke-width: 1px; stroke: rgb(0, 0, 0); stroke-opacity: 0; fill: rgb(0, 0, 0); fill-opacity: 0;\"/><text class=\"annotation-text\" text-anchor=\"middle\" x=\"17.625\" y=\"14\" style=\"font-family: 'Open Sans', verdana, arial, sans-serif; font-size: 12px; fill: rgb(42, 63, 95); fill-opacity: 1; white-space: pre;\">R_20</text></g></g></g><g class=\"annotation\" data-index=\"28\" style=\"opacity: 1;\"><g class=\"annotation-text-g\" transform=\"rotate(0,134.42000000000002,460.68)\"><g class=\"cursor-pointer\" transform=\"translate(122,451)\"><rect class=\"bg\" x=\"0.5\" y=\"0.5\" width=\"23\" height=\"18\" style=\"stroke-width: 1px; stroke: rgb(0, 0, 0); stroke-opacity: 0; fill: rgb(0, 0, 0); fill-opacity: 0;\"/><text class=\"annotation-text\" text-anchor=\"middle\" x=\"12.15625\" y=\"14\" style=\"font-family: 'Open Sans', verdana, arial, sans-serif; font-size: 12px; fill: rgb(42, 63, 95); fill-opacity: 1; white-space: pre;\">I_3</text></g></g></g><g class=\"annotation\" data-index=\"29\" style=\"opacity: 1;\"><g class=\"annotation-text-g\" transform=\"rotate(0,489.37,461.09)\"><g class=\"cursor-pointer\" transform=\"translate(472,452)\"><rect class=\"bg\" x=\"0.5\" y=\"0.5\" width=\"34\" height=\"18\" style=\"stroke-width: 1px; stroke: rgb(0, 0, 0); stroke-opacity: 0; fill: rgb(0, 0, 0); fill-opacity: 0;\"/><text class=\"annotation-text\" text-anchor=\"middle\" x=\"17.625\" y=\"14\" style=\"font-family: 'Open Sans', verdana, arial, sans-serif; font-size: 12px; fill: rgb(42, 63, 95); fill-opacity: 1; white-space: pre;\">R_22</text></g></g></g><g class=\"annotation\" data-index=\"30\" style=\"opacity: 1;\"><g class=\"annotation-text-g\" transform=\"rotate(0,424.42,461.31)\"><g class=\"cursor-pointer\" transform=\"translate(410,452)\"><rect class=\"bg\" x=\"0.5\" y=\"0.5\" width=\"27\" height=\"18\" style=\"stroke-width: 1px; stroke: rgb(0, 0, 0); stroke-opacity: 0; fill: rgb(0, 0, 0); fill-opacity: 0;\"/><text class=\"annotation-text\" text-anchor=\"middle\" x=\"13.8125\" y=\"14\" style=\"font-family: 'Open Sans', verdana, arial, sans-serif; font-size: 12px; fill: rgb(42, 63, 95); fill-opacity: 1; white-space: pre;\">R_2</text></g></g></g><g class=\"annotation\" data-index=\"31\" style=\"opacity: 1;\"><g class=\"annotation-text-g\" transform=\"rotate(0,551.38,461.37)\"><g class=\"cursor-pointer\" transform=\"translate(537,452)\"><rect class=\"bg\" x=\"0.5\" y=\"0.5\" width=\"27\" height=\"18\" style=\"stroke-width: 1px; stroke: rgb(0, 0, 0); stroke-opacity: 0; fill: rgb(0, 0, 0); fill-opacity: 0;\"/><text class=\"annotation-text\" text-anchor=\"middle\" x=\"13.8125\" y=\"14\" style=\"font-family: 'Open Sans', verdana, arial, sans-serif; font-size: 12px; fill: rgb(42, 63, 95); fill-opacity: 1; white-space: pre;\">R_4</text></g></g></g><g class=\"annotation\" data-index=\"32\" style=\"opacity: 1;\"><g class=\"annotation-text-g\" transform=\"rotate(0,536.53,461.95)\"><g class=\"cursor-pointer\" transform=\"translate(519,452)\"><rect class=\"bg\" x=\"0.5\" y=\"0.5\" width=\"34\" height=\"18\" style=\"stroke-width: 1px; stroke: rgb(0, 0, 0); stroke-opacity: 0; fill: rgb(0, 0, 0); fill-opacity: 0;\"/><text class=\"annotation-text\" text-anchor=\"middle\" x=\"17.625\" y=\"14\" style=\"font-family: 'Open Sans', verdana, arial, sans-serif; font-size: 12px; fill: rgb(42, 63, 95); fill-opacity: 1; white-space: pre;\">R_25</text></g></g></g><g class=\"annotation\" data-index=\"33\" style=\"opacity: 1;\"><g class=\"annotation-text-g\" transform=\"rotate(0,118.74000000000001,461.95)\"><g class=\"cursor-pointer\" transform=\"translate(101,452)\"><rect class=\"bg\" x=\"0.5\" y=\"0.5\" width=\"34\" height=\"18\" style=\"stroke-width: 1px; stroke: rgb(0, 0, 0); stroke-opacity: 0; fill: rgb(0, 0, 0); fill-opacity: 0;\"/><text class=\"annotation-text\" text-anchor=\"middle\" x=\"17.625\" y=\"14\" style=\"font-family: 'Open Sans', verdana, arial, sans-serif; font-size: 12px; fill: rgb(42, 63, 95); fill-opacity: 1; white-space: pre;\">R_29</text></g></g></g><g class=\"annotation\" data-index=\"34\" style=\"opacity: 1;\"><g class=\"annotation-text-g\" transform=\"rotate(0,221.49,462.46)\"><g class=\"cursor-pointer\" transform=\"translate(207,453)\"><rect class=\"bg\" x=\"0.5\" y=\"0.5\" width=\"27\" height=\"18\" style=\"stroke-width: 1px; stroke: rgb(0, 0, 0); stroke-opacity: 0; fill: rgb(0, 0, 0); fill-opacity: 0;\"/><text class=\"annotation-text\" text-anchor=\"middle\" x=\"13.8125\" y=\"14\" style=\"font-family: 'Open Sans', verdana, arial, sans-serif; font-size: 12px; fill: rgb(42, 63, 95); fill-opacity: 1; white-space: pre;\">R_3</text></g></g></g><g class=\"annotation\" data-index=\"35\" style=\"opacity: 1;\"><g class=\"annotation-text-g\" transform=\"rotate(0,169.67000000000002,493.27)\"><g class=\"cursor-pointer\" transform=\"translate(156,484)\"><rect class=\"bg\" x=\"0.5\" y=\"0.5\" width=\"27\" height=\"18\" style=\"stroke-width: 1px; stroke: rgb(0, 0, 0); stroke-opacity: 0; fill: rgb(0, 0, 0); fill-opacity: 0;\"/><text class=\"annotation-text\" text-anchor=\"middle\" x=\"14.125\" y=\"14\" style=\"font-family: 'Open Sans', verdana, arial, sans-serif; font-size: 12px; fill: rgb(42, 63, 95); fill-opacity: 1; white-space: pre;\">N_1</text></g></g></g><g class=\"annotation\" data-index=\"36\" style=\"opacity: 1;\"><g class=\"annotation-text-g\" transform=\"rotate(0,198.32,493.65)\"><g class=\"cursor-pointer\" transform=\"translate(184,484)\"><rect class=\"bg\" x=\"0.5\" y=\"0.5\" width=\"27\" height=\"18\" style=\"stroke-width: 1px; stroke: rgb(0, 0, 0); stroke-opacity: 0; fill: rgb(0, 0, 0); fill-opacity: 0;\"/><text class=\"annotation-text\" text-anchor=\"middle\" x=\"14.125\" y=\"14\" style=\"font-family: 'Open Sans', verdana, arial, sans-serif; font-size: 12px; fill: rgb(42, 63, 95); fill-opacity: 1; white-space: pre;\">N_4</text></g></g></g><g class=\"annotation\" data-index=\"37\" style=\"opacity: 1;\"><g class=\"annotation-text-g\" transform=\"rotate(0,340.2,494.57)\"><g class=\"cursor-pointer\" transform=\"translate(326,485)\"><rect class=\"bg\" x=\"0.5\" y=\"0.5\" width=\"27\" height=\"18\" style=\"stroke-width: 1px; stroke: rgb(0, 0, 0); stroke-opacity: 0; fill: rgb(0, 0, 0); fill-opacity: 0;\"/><text class=\"annotation-text\" text-anchor=\"middle\" x=\"14.125\" y=\"14\" style=\"font-family: 'Open Sans', verdana, arial, sans-serif; font-size: 12px; fill: rgb(42, 63, 95); fill-opacity: 1; white-space: pre;\">N_0</text></g></g></g><g class=\"annotation\" data-index=\"38\" style=\"opacity: 1;\"><g class=\"annotation-text-g\" transform=\"rotate(0,391.21,494.67)\"><g class=\"cursor-pointer\" transform=\"translate(377,485)\"><rect class=\"bg\" x=\"0.5\" y=\"0.5\" width=\"27\" height=\"18\" style=\"stroke-width: 1px; stroke: rgb(0, 0, 0); stroke-opacity: 0; fill: rgb(0, 0, 0); fill-opacity: 0;\"/><text class=\"annotation-text\" text-anchor=\"middle\" x=\"14.125\" y=\"14\" style=\"font-family: 'Open Sans', verdana, arial, sans-serif; font-size: 12px; fill: rgb(42, 63, 95); fill-opacity: 1; white-space: pre;\">N_3</text></g></g></g><g class=\"annotation\" data-index=\"39\" style=\"opacity: 1;\"><g class=\"annotation-text-g\" transform=\"rotate(0,234.19,495.25)\"><g class=\"cursor-pointer\" transform=\"translate(220,486)\"><rect class=\"bg\" x=\"0.5\" y=\"0.5\" width=\"27\" height=\"18\" style=\"stroke-width: 1px; stroke: rgb(0, 0, 0); stroke-opacity: 0; fill: rgb(0, 0, 0); fill-opacity: 0;\"/><text class=\"annotation-text\" text-anchor=\"middle\" x=\"14.125\" y=\"14\" style=\"font-family: 'Open Sans', verdana, arial, sans-serif; font-size: 12px; fill: rgb(42, 63, 95); fill-opacity: 1; white-space: pre;\">N_2</text></g></g></g></g></svg>"
      ]
     },
     "metadata": {},
     "output_type": "display_data"
    }
   ],
   "source": [
    "import plotly.graph_objects as go\n",
    "import plotly.io as pio\n",
    "pio.renderers.default = 'svg'  # or 'png', 'jpeg', etc.\n",
    "# Create data\n",
    " \n",
    "\n",
    "# Create scatter plot\n",
    "scatter = go.Scatter(x=mdi_pvalues['p-value'], y=mdi_pvalues['MDI'], mode='markers')\n",
    "\n",
    "# Add annotations\n",
    "annotations = [go.layout.Annotation(x=pv, y=mdi, text=feat, showarrow=False) \n",
    "               for pv, mdi, feat in zip(mdi_pvalues['p-value'], mdi_pvalues['MDI'], mdi_pvalues['Feature'])]\n",
    "\n",
    "# Create layout\n",
    " \n",
    "# Create figure and add scatter plot\n",
    "# fig = go.Figure(data=scatter, layout=layout)\n",
    "\n",
    "\n",
    "# Create layout with figure size and axis labels\n",
    "layout = go.Layout(\n",
    "    annotations=annotations,\n",
    "    title='p-values vs MDI',\n",
    "    width=800,  # Specify width of the figure\n",
    "    height=600,  # Specify height of the figure\n",
    "    xaxis_title='P-Value',  # X-axis label\n",
    "    yaxis_title='MDI'  # Y-axis label\n",
    ")\n",
    "\n",
    "# Create figure and add scatter plot\n",
    "fig = go.Figure(data=scatter, layout=layout)\n",
    "\n",
    "\n",
    "# Display the plot\n",
    "fig.show()"
   ]
  },
  {
   "cell_type": "code",
   "execution_count": null,
   "id": "07456f5a-368d-4a28-b952-f548542d1fbb",
   "metadata": {},
   "outputs": [],
   "source": []
  },
  {
   "cell_type": "code",
   "execution_count": 22,
   "id": "256a6ec7-7be7-4548-a9b0-909e78d9ff2b",
   "metadata": {},
   "outputs": [],
   "source": [
    "# Example usage\n",
    "# X, y = get_test_data(40, 5, 30, 10000, sigma_std=0.1)\n",
    "clf = DecisionTreeClassifier(criterion='entropy', max_features=1, class_weight='balanced', min_weight_fraction_leaf=0)\n",
    "clf = BaggingClassifier(base_estimator=clf, n_estimators=100, max_features=1.0, max_samples=1.0, oob_score=False)\n",
    "imp_mda = feat_imp_mda(clf, X, y, 10)"
   ]
  },
  {
   "cell_type": "code",
   "execution_count": 23,
   "id": "85617bfd-5709-4a02-98b3-2143ed550f68",
   "metadata": {},
   "outputs": [
    {
     "data": {
      "text/plain": [
       "Text(0, 0.5, 'MDA')"
      ]
     },
     "execution_count": 23,
     "metadata": {},
     "output_type": "execute_result"
    },
    {
     "data": {
      "image/png": "[encoded data removed]",
      "text/plain": [
       "<Figure size 1440x360 with 1 Axes>"
      ]
     },
     "metadata": {
      "needs_background": "light"
     },
     "output_type": "display_data"
    }
   ],
   "source": [
    "imp_mda.sort_values(by='mean', ascending = False, inplace=True)\n",
    "plt.figure(figsize=(20, 5))\n",
    "\n",
    "plt.bar(imp_mda.index, imp_mda['mean'], align='center', alpha=0.5, ecolor='black', capsize=10)\n",
    "# Add error bars\n",
    "plt.errorbar(imp_mda.index, imp_mda['mean'], yerr=imp_mda['std'], fmt='none', ecolor='black', capsize=10)\n",
    "plt.xlabel('Feature name')\n",
    "plt.ylabel('MDA')\n"
   ]
  },
  {
   "cell_type": "code",
   "execution_count": 24,
   "id": "8ac8b06c-43ea-4ef2-851e-19cd2b0bcdc6",
   "metadata": {},
   "outputs": [],
   "source": [
    "imp_mda_df = imp_mda.copy(deep=True)"
   ]
  },
  {
   "cell_type": "code",
   "execution_count": 25,
   "id": "2fee2569-2684-4ab3-add8-249ac938f1b2",
   "metadata": {},
   "outputs": [],
   "source": [
    "imp_mda_df = imp_mda_df.reset_index()\n",
    "imp_mda_df.columns = ['Feature', 'MDA', 'MDA_std']"
   ]
  },
  {
   "cell_type": "code",
   "execution_count": 26,
   "id": "084f5594-59ab-4c15-ae43-420d8d1d99f6",
   "metadata": {},
   "outputs": [],
   "source": [
    "mdi_mda_pvalues = pd.merge(imp_df, imp_mda_df, on = 'Feature')"
   ]
  },
  {
   "cell_type": "code",
   "execution_count": 27,
   "id": "1e3de70f-0811-46fe-acb6-cd75e41bacb7",
   "metadata": {},
   "outputs": [
    {
     "data": {
      "image/svg+xml": [
       "<svg class=\"main-svg\" xmlns=\"http://www.w3.org/2000/svg\" xmlns:xlink=\"http://www.w3.org/1999/xlink\" width=\"800\" height=\"600\" style=\"\" viewBox=\"0 0 800 600\"><rect x=\"0\" y=\"0\" width=\"800\" height=\"600\" style=\"fill: rgb(255, 255, 255); fill-opacity: 1;\"/><defs id=\"defs-c982d6\"><g class=\"clips\"><clipPath id=\"clipc982d6xyplot\" class=\"plotclip\"><rect width=\"640\" height=\"420\"/></clipPath><clipPath class=\"axesclip\" id=\"clipc982d6x\"><rect x=\"80\" y=\"0\" width=\"640\" height=\"600\"/></clipPath><clipPath class=\"axesclip\" id=\"clipc982d6y\"><rect x=\"0\" y=\"100\" width=\"800\" height=\"420\"/></clipPath><clipPath class=\"axesclip\" id=\"clipc982d6xy\"><rect x=\"80\" y=\"100\" width=\"640\" height=\"420\"/></clipPath></g><g class=\"gradients\"/><g class=\"patterns\"/></defs><g class=\"bglayer\"><rect class=\"bg\" x=\"80\" y=\"100\" width=\"640\" height=\"420\" style=\"fill: rgb(229, 236, 246); fill-opacity: 1; stroke-width: 0;\"/></g><g class=\"layer-below\"><g class=\"imagelayer\"/><g class=\"shapelayer\"/></g><g class=\"cartesianlayer\"><g class=\"subplot xy\"><g class=\"layer-subplot\"><g class=\"shapelayer\"/><g class=\"imagelayer\"/></g><g class=\"minor-gridlayer\"><g class=\"x\"/><g class=\"y\"/></g><g class=\"gridlayer\"><g class=\"x\"><path class=\"xgrid crisp\" transform=\"translate(91.4,0)\" d=\"M0,100v420\" style=\"stroke: rgb(255, 255, 255); stroke-opacity: 1; stroke-width: 1px;\"/><path class=\"xgrid crisp\" transform=\"translate(173.86,0)\" d=\"M0,100v420\" style=\"stroke: rgb(255, 255, 255); stroke-opacity: 1; stroke-width: 1px;\"/><path class=\"xgrid crisp\" transform=\"translate(256.31,0)\" d=\"M0,100v420\" style=\"stroke: rgb(255, 255, 255); stroke-opacity: 1; stroke-width: 1px;\"/><path class=\"xgrid crisp\" transform=\"translate(338.77,0)\" d=\"M0,100v420\" style=\"stroke: rgb(255, 255, 255); stroke-opacity: 1; stroke-width: 1px;\"/><path class=\"xgrid crisp\" transform=\"translate(421.23,0)\" d=\"M0,100v420\" style=\"stroke: rgb(255, 255, 255); stroke-opacity: 1; stroke-width: 1px;\"/><path class=\"xgrid crisp\" transform=\"translate(503.68,0)\" d=\"M0,100v420\" style=\"stroke: rgb(255, 255, 255); stroke-opacity: 1; stroke-width: 1px;\"/><path class=\"xgrid crisp\" transform=\"translate(586.14,0)\" d=\"M0,100v420\" style=\"stroke: rgb(255, 255, 255); stroke-opacity: 1; stroke-width: 1px;\"/><path class=\"xgrid crisp\" transform=\"translate(668.6,0)\" d=\"M0,100v420\" style=\"stroke: rgb(255, 255, 255); stroke-opacity: 1; stroke-width: 1px;\"/></g><g class=\"y\"><path class=\"ygrid crisp\" transform=\"translate(0,421.39)\" d=\"M80,0h640\" style=\"stroke: rgb(255, 255, 255); stroke-opacity: 1; stroke-width: 1px;\"/><path class=\"ygrid crisp\" transform=\"translate(0,347.45)\" d=\"M80,0h640\" style=\"stroke: rgb(255, 255, 255); stroke-opacity: 1; stroke-width: 1px;\"/><path class=\"ygrid crisp\" transform=\"translate(0,273.5)\" d=\"M80,0h640\" style=\"stroke: rgb(255, 255, 255); stroke-opacity: 1; stroke-width: 1px;\"/><path class=\"ygrid crisp\" transform=\"translate(0,199.56)\" d=\"M80,0h640\" style=\"stroke: rgb(255, 255, 255); stroke-opacity: 1; stroke-width: 1px;\"/><path class=\"ygrid crisp\" transform=\"translate(0,125.61)\" d=\"M80,0h640\" style=\"stroke: rgb(255, 255, 255); stroke-opacity: 1; stroke-width: 1px;\"/></g></g><g class=\"zerolinelayer\"><path class=\"yzl zl crisp\" transform=\"translate(0,495.33)\" d=\"M80,0h640\" style=\"stroke: rgb(255, 255, 255); stroke-opacity: 1; stroke-width: 2px;\"/></g><g class=\"layer-between\"><g class=\"shapelayer\"/><g class=\"imagelayer\"/></g><path class=\"xlines-below\"/><path class=\"ylines-below\"/><g class=\"overlines-below\"/><g class=\"xaxislayer-below\"/><g class=\"yaxislayer-below\"/><g class=\"overaxes-below\"/><g class=\"plot\" transform=\"translate(80,100)\" clip-path=\"url(#clipc982d6xyplot)\"><g class=\"scatterlayer mlayer\"><g class=\"trace scatter trace73c5cb\" style=\"stroke-miterlimit: 2; opacity: 1;\"><g class=\"fills\"/><g class=\"errorbars\"/><g class=\"lines\"/><g class=\"points\"><path class=\"point\" transform=\"translate(604.25,88.84)\" d=\"M3,0A3,3 0 1,1 0,-3A3,3 0 0,1 3,0Z\" style=\"opacity: 1; stroke-width: 0px; fill: rgb(99, 110, 250); fill-opacity: 1;\"/><path class=\"point\" transform=\"translate(598.69,82.34)\" d=\"M3,0A3,3 0 1,1 0,-3A3,3 0 0,1 3,0Z\" style=\"opacity: 1; stroke-width: 0px; fill: rgb(99, 110, 250); fill-opacity: 1;\"/><path class=\"point\" transform=\"translate(588.44,137.07)\" d=\"M3,0A3,3 0 1,1 0,-3A3,3 0 0,1 3,0Z\" style=\"opacity: 1; stroke-width: 0px; fill: rgb(99, 110, 250); fill-opacity: 1;\"/><path class=\"point\" transform=\"translate(584.98,116.99)\" d=\"M3,0A3,3 0 1,1 0,-3A3,3 0 0,1 3,0Z\" style=\"opacity: 1; stroke-width: 0px; fill: rgb(99, 110, 250); fill-opacity: 1;\"/><path class=\"point\" transform=\"translate(578.81,143.51)\" d=\"M3,0A3,3 0 1,1 0,-3A3,3 0 0,1 3,0Z\" style=\"opacity: 1; stroke-width: 0px; fill: rgb(99, 110, 250); fill-opacity: 1;\"/><path class=\"point\" transform=\"translate(554.42,107.6)\" d=\"M3,0A3,3 0 1,1 0,-3A3,3 0 0,1 3,0Z\" style=\"opacity: 1; stroke-width: 0px; fill: rgb(99, 110, 250); fill-opacity: 1;\"/><path class=\"point\" transform=\"translate(549.43,94.73)\" d=\"M3,0A3,3 0 1,1 0,-3A3,3 0 0,1 3,0Z\" style=\"opacity: 1; stroke-width: 0px; fill: rgb(99, 110, 250); fill-opacity: 1;\"/><path class=\"point\" transform=\"translate(442.82,24.75)\" d=\"M3,0A3,3 0 1,1 0,-3A3,3 0 0,1 3,0Z\" style=\"opacity: 1; stroke-width: 0px; fill: rgb(99, 110, 250); fill-opacity: 1;\"/><path class=\"point\" transform=\"translate(435.53,51.44)\" d=\"M3,0A3,3 0 1,1 0,-3A3,3 0 0,1 3,0Z\" style=\"opacity: 1; stroke-width: 0px; fill: rgb(99, 110, 250); fill-opacity: 1;\"/><path class=\"point\" transform=\"translate(419.51,28.97)\" d=\"M3,0A3,3 0 1,1 0,-3A3,3 0 0,1 3,0Z\" style=\"opacity: 1; stroke-width: 0px; fill: rgb(99, 110, 250); fill-opacity: 1;\"/><path class=\"point\" transform=\"translate(416.82,32.16)\" d=\"M3,0A3,3 0 1,1 0,-3A3,3 0 0,1 3,0Z\" style=\"opacity: 1; stroke-width: 0px; fill: rgb(99, 110, 250); fill-opacity: 1;\"/><path class=\"point\" transform=\"translate(378.49,187.15)\" d=\"M3,0A3,3 0 1,1 0,-3A3,3 0 0,1 3,0Z\" style=\"opacity: 1; stroke-width: 0px; fill: rgb(99, 110, 250); fill-opacity: 1;\"/><path class=\"point\" transform=\"translate(377.15,160.52)\" d=\"M3,0A3,3 0 1,1 0,-3A3,3 0 0,1 3,0Z\" style=\"opacity: 1; stroke-width: 0px; fill: rgb(99, 110, 250); fill-opacity: 1;\"/><path class=\"point\" transform=\"translate(372.71,175.01)\" d=\"M3,0A3,3 0 1,1 0,-3A3,3 0 0,1 3,0Z\" style=\"opacity: 1; stroke-width: 0px; fill: rgb(99, 110, 250); fill-opacity: 1;\"/><path class=\"point\" transform=\"translate(364.84,160.91)\" d=\"M3,0A3,3 0 1,1 0,-3A3,3 0 0,1 3,0Z\" style=\"opacity: 1; stroke-width: 0px; fill: rgb(99, 110, 250); fill-opacity: 1;\"/><path class=\"point\" transform=\"translate(355.23,157.93)\" d=\"M3,0A3,3 0 1,1 0,-3A3,3 0 0,1 3,0Z\" style=\"opacity: 1; stroke-width: 0px; fill: rgb(99, 110, 250); fill-opacity: 1;\"/><path class=\"point\" transform=\"translate(198.02,211.55)\" d=\"M3,0A3,3 0 1,1 0,-3A3,3 0 0,1 3,0Z\" style=\"opacity: 1; stroke-width: 0px; fill: rgb(99, 110, 250); fill-opacity: 1;\"/><path class=\"point\" transform=\"translate(195.08,217.74)\" d=\"M3,0A3,3 0 1,1 0,-3A3,3 0 0,1 3,0Z\" style=\"opacity: 1; stroke-width: 0px; fill: rgb(99, 110, 250); fill-opacity: 1;\"/><path class=\"point\" transform=\"translate(189.38,216.16)\" d=\"M3,0A3,3 0 1,1 0,-3A3,3 0 0,1 3,0Z\" style=\"opacity: 1; stroke-width: 0px; fill: rgb(99, 110, 250); fill-opacity: 1;\"/><path class=\"point\" transform=\"translate(189.11,197.52)\" d=\"M3,0A3,3 0 1,1 0,-3A3,3 0 0,1 3,0Z\" style=\"opacity: 1; stroke-width: 0px; fill: rgb(99, 110, 250); fill-opacity: 1;\"/><path class=\"point\" transform=\"translate(183.8,209.08)\" d=\"M3,0A3,3 0 1,1 0,-3A3,3 0 0,1 3,0Z\" style=\"opacity: 1; stroke-width: 0px; fill: rgb(99, 110, 250); fill-opacity: 1;\"/><path class=\"point\" transform=\"translate(181.5,213.16)\" d=\"M3,0A3,3 0 1,1 0,-3A3,3 0 0,1 3,0Z\" style=\"opacity: 1; stroke-width: 0px; fill: rgb(99, 110, 250); fill-opacity: 1;\"/><path class=\"point\" transform=\"translate(180.31,216.79)\" d=\"M3,0A3,3 0 1,1 0,-3A3,3 0 0,1 3,0Z\" style=\"opacity: 1; stroke-width: 0px; fill: rgb(99, 110, 250); fill-opacity: 1;\"/><path class=\"point\" transform=\"translate(172.1,212.18)\" d=\"M3,0A3,3 0 1,1 0,-3A3,3 0 0,1 3,0Z\" style=\"opacity: 1; stroke-width: 0px; fill: rgb(99, 110, 250); fill-opacity: 1;\"/><path class=\"point\" transform=\"translate(169.85,210.9)\" d=\"M3,0A3,3 0 1,1 0,-3A3,3 0 0,1 3,0Z\" style=\"opacity: 1; stroke-width: 0px; fill: rgb(99, 110, 250); fill-opacity: 1;\"/><path class=\"point\" transform=\"translate(92.87,191.82)\" d=\"M3,0A3,3 0 1,1 0,-3A3,3 0 0,1 3,0Z\" style=\"opacity: 1; stroke-width: 0px; fill: rgb(99, 110, 250); fill-opacity: 1;\"/><path class=\"point\" transform=\"translate(89.25,192.88)\" d=\"M3,0A3,3 0 1,1 0,-3A3,3 0 0,1 3,0Z\" style=\"opacity: 1; stroke-width: 0px; fill: rgb(99, 110, 250); fill-opacity: 1;\"/><path class=\"point\" transform=\"translate(88.94,210.59)\" d=\"M3,0A3,3 0 1,1 0,-3A3,3 0 0,1 3,0Z\" style=\"opacity: 1; stroke-width: 0px; fill: rgb(99, 110, 250); fill-opacity: 1;\"/><path class=\"point\" transform=\"translate(88.79,198.09)\" d=\"M3,0A3,3 0 1,1 0,-3A3,3 0 0,1 3,0Z\" style=\"opacity: 1; stroke-width: 0px; fill: rgb(99, 110, 250); fill-opacity: 1;\"/><path class=\"point\" transform=\"translate(88.17,195.9)\" d=\"M3,0A3,3 0 1,1 0,-3A3,3 0 0,1 3,0Z\" style=\"opacity: 1; stroke-width: 0px; fill: rgb(99, 110, 250); fill-opacity: 1;\"/><path class=\"point\" transform=\"translate(87.83,192.73)\" d=\"M3,0A3,3 0 1,1 0,-3A3,3 0 0,1 3,0Z\" style=\"opacity: 1; stroke-width: 0px; fill: rgb(99, 110, 250); fill-opacity: 1;\"/><path class=\"point\" transform=\"translate(87.74,208.86)\" d=\"M3,0A3,3 0 1,1 0,-3A3,3 0 0,1 3,0Z\" style=\"opacity: 1; stroke-width: 0px; fill: rgb(99, 110, 250); fill-opacity: 1;\"/><path class=\"point\" transform=\"translate(86.84,198.42)\" d=\"M3,0A3,3 0 1,1 0,-3A3,3 0 0,1 3,0Z\" style=\"opacity: 1; stroke-width: 0px; fill: rgb(99, 110, 250); fill-opacity: 1;\"/><path class=\"point\" transform=\"translate(86.84,209.5)\" d=\"M3,0A3,3 0 1,1 0,-3A3,3 0 0,1 3,0Z\" style=\"opacity: 1; stroke-width: 0px; fill: rgb(99, 110, 250); fill-opacity: 1;\"/><path class=\"point\" transform=\"translate(86.07,203.76)\" d=\"M3,0A3,3 0 1,1 0,-3A3,3 0 0,1 3,0Z\" style=\"opacity: 1; stroke-width: 0px; fill: rgb(99, 110, 250); fill-opacity: 1;\"/><path class=\"point\" transform=\"translate(38.78,391.38)\" d=\"M3,0A3,3 0 1,1 0,-3A3,3 0 0,1 3,0Z\" style=\"opacity: 1; stroke-width: 0px; fill: rgb(99, 110, 250); fill-opacity: 1;\"/><path class=\"point\" transform=\"translate(38.2,394.58)\" d=\"M3,0A3,3 0 1,1 0,-3A3,3 0 0,1 3,0Z\" style=\"opacity: 1; stroke-width: 0px; fill: rgb(99, 110, 250); fill-opacity: 1;\"/><path class=\"point\" transform=\"translate(36.79,394.69)\" d=\"M3,0A3,3 0 1,1 0,-3A3,3 0 0,1 3,0Z\" style=\"opacity: 1; stroke-width: 0px; fill: rgb(99, 110, 250); fill-opacity: 1;\"/><path class=\"point\" transform=\"translate(36.65,395.25)\" d=\"M3,0A3,3 0 1,1 0,-3A3,3 0 0,1 3,0Z\" style=\"opacity: 1; stroke-width: 0px; fill: rgb(99, 110, 250); fill-opacity: 1;\"/><path class=\"point\" transform=\"translate(35.75,387.73)\" d=\"M3,0A3,3 0 1,1 0,-3A3,3 0 0,1 3,0Z\" style=\"opacity: 1; stroke-width: 0px; fill: rgb(99, 110, 250); fill-opacity: 1;\"/></g><g class=\"text\"/></g></g></g><g class=\"overplot\"/><path class=\"xlines-above crisp\" d=\"M0,0\" style=\"fill: none;\"/><path class=\"ylines-above crisp\" d=\"M0,0\" style=\"fill: none;\"/><g class=\"overlines-above\"/><g class=\"xaxislayer-above\"><g class=\"xtick\"><text text-anchor=\"middle\" x=\"0\" y=\"533\" transform=\"translate(91.4,0)\" style=\"font-family: 'Open Sans', verdana, arial, sans-serif; font-size: 12px; fill: rgb(42, 63, 95); fill-opacity: 1; white-space: pre; opacity: 1;\">0.01</text></g><g class=\"xtick\"><text text-anchor=\"middle\" x=\"0\" y=\"533\" style=\"font-family: 'Open Sans', verdana, arial, sans-serif; font-size: 12px; fill: rgb(42, 63, 95); fill-opacity: 1; white-space: pre; opacity: 1;\" transform=\"translate(173.86,0)\">0.015</text></g><g class=\"xtick\"><text text-anchor=\"middle\" x=\"0\" y=\"533\" style=\"font-family: 'Open Sans', verdana, arial, sans-serif; font-size: 12px; fill: rgb(42, 63, 95); fill-opacity: 1; white-space: pre; opacity: 1;\" transform=\"translate(256.31,0)\">0.02</text></g><g class=\"xtick\"><text text-anchor=\"middle\" x=\"0\" y=\"533\" style=\"font-family: 'Open Sans', verdana, arial, sans-serif; font-size: 12px; fill: rgb(42, 63, 95); fill-opacity: 1; white-space: pre; opacity: 1;\" transform=\"translate(338.77,0)\">0.025</text></g><g class=\"xtick\"><text text-anchor=\"middle\" x=\"0\" y=\"533\" style=\"font-family: 'Open Sans', verdana, arial, sans-serif; font-size: 12px; fill: rgb(42, 63, 95); fill-opacity: 1; white-space: pre; opacity: 1;\" transform=\"translate(421.23,0)\">0.03</text></g><g class=\"xtick\"><text text-anchor=\"middle\" x=\"0\" y=\"533\" style=\"font-family: 'Open Sans', verdana, arial, sans-serif; font-size: 12px; fill: rgb(42, 63, 95); fill-opacity: 1; white-space: pre; opacity: 1;\" transform=\"translate(503.68,0)\">0.035</text></g><g class=\"xtick\"><text text-anchor=\"middle\" x=\"0\" y=\"533\" style=\"font-family: 'Open Sans', verdana, arial, sans-serif; font-size: 12px; fill: rgb(42, 63, 95); fill-opacity: 1; white-space: pre; opacity: 1;\" transform=\"translate(586.14,0)\">0.04</text></g><g class=\"xtick\"><text text-anchor=\"middle\" x=\"0\" y=\"533\" style=\"font-family: 'Open Sans', verdana, arial, sans-serif; font-size: 12px; fill: rgb(42, 63, 95); fill-opacity: 1; white-space: pre; opacity: 1;\" transform=\"translate(668.6,0)\">0.045</text></g></g><g class=\"yaxislayer-above\"><g class=\"ytick\"><text text-anchor=\"end\" x=\"79\" y=\"4.199999999999999\" transform=\"translate(0,495.33)\" style=\"font-family: 'Open Sans', verdana, arial, sans-serif; font-size: 12px; fill: rgb(42, 63, 95); fill-opacity: 1; white-space: pre; opacity: 1;\">0</text></g><g class=\"ytick\"><text text-anchor=\"end\" x=\"79\" y=\"4.199999999999999\" style=\"font-family: 'Open Sans', verdana, arial, sans-serif; font-size: 12px; fill: rgb(42, 63, 95); fill-opacity: 1; white-space: pre; opacity: 1;\" transform=\"translate(0,421.39)\">0.01</text></g><g class=\"ytick\"><text text-anchor=\"end\" x=\"79\" y=\"4.199999999999999\" style=\"font-family: 'Open Sans', verdana, arial, sans-serif; font-size: 12px; fill: rgb(42, 63, 95); fill-opacity: 1; white-space: pre; opacity: 1;\" transform=\"translate(0,347.45)\">0.02</text></g><g class=\"ytick\"><text text-anchor=\"end\" x=\"79\" y=\"4.199999999999999\" style=\"font-family: 'Open Sans', verdana, arial, sans-serif; font-size: 12px; fill: rgb(42, 63, 95); fill-opacity: 1; white-space: pre; opacity: 1;\" transform=\"translate(0,273.5)\">0.03</text></g><g class=\"ytick\"><text text-anchor=\"end\" x=\"79\" y=\"4.199999999999999\" style=\"font-family: 'Open Sans', verdana, arial, sans-serif; font-size: 12px; fill: rgb(42, 63, 95); fill-opacity: 1; white-space: pre; opacity: 1;\" transform=\"translate(0,199.56)\">0.04</text></g><g class=\"ytick\"><text text-anchor=\"end\" x=\"79\" y=\"4.199999999999999\" style=\"font-family: 'Open Sans', verdana, arial, sans-serif; font-size: 12px; fill: rgb(42, 63, 95); fill-opacity: 1; white-space: pre; opacity: 1;\" transform=\"translate(0,125.61)\">0.05</text></g></g><g class=\"overaxes-above\"/></g></g><g class=\"polarlayer\"/><g class=\"smithlayer\"/><g class=\"ternarylayer\"/><g class=\"geolayer\"/><g class=\"funnelarealayer\"/><g class=\"pielayer\"/><g class=\"iciclelayer\"/><g class=\"treemaplayer\"/><g class=\"sunburstlayer\"/><g class=\"glimages\"/><defs id=\"topdefs-c982d6\"><g class=\"clips\"/></defs><g class=\"layer-above\"><g class=\"imagelayer\"/><g class=\"shapelayer\"/></g><g class=\"infolayer\"><g class=\"g-gtitle\"><text class=\"gtitle\" x=\"40\" y=\"50\" text-anchor=\"start\" dy=\"0em\" style=\"font-family: 'Open Sans', verdana, arial, sans-serif; font-size: 17px; fill: rgb(42, 63, 95); opacity: 1; font-weight: normal; white-space: pre;\">MDI vs MDA</text></g><g class=\"g-xtitle\"><text class=\"xtitle\" x=\"400\" y=\"559.8\" text-anchor=\"middle\" style=\"font-family: 'Open Sans', verdana, arial, sans-serif; font-size: 14px; fill: rgb(42, 63, 95); opacity: 1; font-weight: normal; white-space: pre;\">MDI</text></g><g class=\"g-ytitle\"><text class=\"ytitle\" transform=\"rotate(-90,27.434375000000003,310)\" x=\"27.434375000000003\" y=\"310\" text-anchor=\"middle\" style=\"font-family: 'Open Sans', verdana, arial, sans-serif; font-size: 14px; fill: rgb(42, 63, 95); opacity: 1; font-weight: normal; white-space: pre;\">MDA</text></g><g class=\"annotation\" data-index=\"0\" style=\"opacity: 1;\"><g class=\"annotation-text-g\" transform=\"rotate(0,699.25,173.84)\"><g class=\"cursor-pointer\" transform=\"translate(687,164)\"><rect class=\"bg\" x=\"0.5\" y=\"0.5\" width=\"23\" height=\"18\" style=\"stroke-width: 1px; stroke: rgb(0, 0, 0); stroke-opacity: 0; fill: rgb(0, 0, 0); fill-opacity: 0;\"/><text class=\"annotation-text\" text-anchor=\"middle\" x=\"12.15625\" y=\"14\" style=\"font-family: 'Open Sans', verdana, arial, sans-serif; font-size: 12px; fill: rgb(42, 63, 95); fill-opacity: 1; white-space: pre;\">I_1</text></g></g></g><g class=\"annotation\" data-index=\"1\" style=\"opacity: 1;\"><g class=\"annotation-text-g\" transform=\"rotate(0,693.69,167.34)\"><g class=\"cursor-pointer\" transform=\"translate(676,158)\"><rect class=\"bg\" x=\"0.5\" y=\"0.5\" width=\"34\" height=\"18\" style=\"stroke-width: 1px; stroke: rgb(0, 0, 0); stroke-opacity: 0; fill: rgb(0, 0, 0); fill-opacity: 0;\"/><text class=\"annotation-text\" text-anchor=\"middle\" x=\"17.625\" y=\"14\" style=\"font-family: 'Open Sans', verdana, arial, sans-serif; font-size: 12px; fill: rgb(42, 63, 95); fill-opacity: 1; white-space: pre;\">R_16</text></g></g></g><g class=\"annotation\" data-index=\"2\" style=\"opacity: 1;\"><g class=\"annotation-text-g\" transform=\"rotate(0,683.44,222.07)\"><g class=\"cursor-pointer\" transform=\"translate(666,213)\"><rect class=\"bg\" x=\"0.5\" y=\"0.5\" width=\"34\" height=\"18\" style=\"stroke-width: 1px; stroke: rgb(0, 0, 0); stroke-opacity: 0; fill: rgb(0, 0, 0); fill-opacity: 0;\"/><text class=\"annotation-text\" text-anchor=\"middle\" x=\"17.625\" y=\"14\" style=\"font-family: 'Open Sans', verdana, arial, sans-serif; font-size: 12px; fill: rgb(42, 63, 95); fill-opacity: 1; white-space: pre;\">R_18</text></g></g></g><g class=\"annotation\" data-index=\"3\" style=\"opacity: 1;\"><g class=\"annotation-text-g\" transform=\"rotate(0,679.98,201.99)\"><g class=\"cursor-pointer\" transform=\"translate(662,192)\"><rect class=\"bg\" x=\"0.5\" y=\"0.5\" width=\"34\" height=\"18\" style=\"stroke-width: 1px; stroke: rgb(0, 0, 0); stroke-opacity: 0; fill: rgb(0, 0, 0); fill-opacity: 0;\"/><text class=\"annotation-text\" text-anchor=\"middle\" x=\"17.625\" y=\"14\" style=\"font-family: 'Open Sans', verdana, arial, sans-serif; font-size: 12px; fill: rgb(42, 63, 95); fill-opacity: 1; white-space: pre;\">R_13</text></g></g></g><g class=\"annotation\" data-index=\"4\" style=\"opacity: 1;\"><g class=\"annotation-text-g\" transform=\"rotate(0,673.81,228.51)\"><g class=\"cursor-pointer\" transform=\"translate(660,219)\"><rect class=\"bg\" x=\"0.5\" y=\"0.5\" width=\"27\" height=\"18\" style=\"stroke-width: 1px; stroke: rgb(0, 0, 0); stroke-opacity: 0; fill: rgb(0, 0, 0); fill-opacity: 0;\"/><text class=\"annotation-text\" text-anchor=\"middle\" x=\"13.8125\" y=\"14\" style=\"font-family: 'Open Sans', verdana, arial, sans-serif; font-size: 12px; fill: rgb(42, 63, 95); fill-opacity: 1; white-space: pre;\">R_5</text></g></g></g><g class=\"annotation\" data-index=\"5\" style=\"opacity: 1;\"><g class=\"annotation-text-g\" transform=\"rotate(0,649.42,192.6)\"><g class=\"cursor-pointer\" transform=\"translate(632,183)\"><rect class=\"bg\" x=\"0.5\" y=\"0.5\" width=\"34\" height=\"18\" style=\"stroke-width: 1px; stroke: rgb(0, 0, 0); stroke-opacity: 0; fill: rgb(0, 0, 0); fill-opacity: 0;\"/><text class=\"annotation-text\" text-anchor=\"middle\" x=\"17.625\" y=\"14\" style=\"font-family: 'Open Sans', verdana, arial, sans-serif; font-size: 12px; fill: rgb(42, 63, 95); fill-opacity: 1; white-space: pre;\">R_27</text></g></g></g><g class=\"annotation\" data-index=\"6\" style=\"opacity: 1;\"><g class=\"annotation-text-g\" transform=\"rotate(0,644.43,179.73000000000002)\"><g class=\"cursor-pointer\" transform=\"translate(627,170)\"><rect class=\"bg\" x=\"0.5\" y=\"0.5\" width=\"34\" height=\"18\" style=\"stroke-width: 1px; stroke: rgb(0, 0, 0); stroke-opacity: 0; fill: rgb(0, 0, 0); fill-opacity: 0;\"/><text class=\"annotation-text\" text-anchor=\"middle\" x=\"17.625\" y=\"14\" style=\"font-family: 'Open Sans', verdana, arial, sans-serif; font-size: 12px; fill: rgb(42, 63, 95); fill-opacity: 1; white-space: pre;\">R_15</text></g></g></g><g class=\"annotation\" data-index=\"7\" style=\"opacity: 1;\"><g class=\"annotation-text-g\" transform=\"rotate(0,537.8199999999999,109.75)\"><g class=\"cursor-pointer\" transform=\"translate(524,100)\"><rect class=\"bg\" x=\"0.5\" y=\"0.5\" width=\"27\" height=\"18\" style=\"stroke-width: 1px; stroke: rgb(0, 0, 0); stroke-opacity: 0; fill: rgb(0, 0, 0); fill-opacity: 0;\"/><text class=\"annotation-text\" text-anchor=\"middle\" x=\"13.8125\" y=\"14\" style=\"font-family: 'Open Sans', verdana, arial, sans-serif; font-size: 12px; fill: rgb(42, 63, 95); fill-opacity: 1; white-space: pre;\">R_7</text></g></g></g><g class=\"annotation\" data-index=\"8\" style=\"opacity: 1;\"><g class=\"annotation-text-g\" transform=\"rotate(0,530.53,136.44)\"><g class=\"cursor-pointer\" transform=\"translate(513,127)\"><rect class=\"bg\" x=\"0.5\" y=\"0.5\" width=\"34\" height=\"18\" style=\"stroke-width: 1px; stroke: rgb(0, 0, 0); stroke-opacity: 0; fill: rgb(0, 0, 0); fill-opacity: 0;\"/><text class=\"annotation-text\" text-anchor=\"middle\" x=\"17.625\" y=\"14\" style=\"font-family: 'Open Sans', verdana, arial, sans-serif; font-size: 12px; fill: rgb(42, 63, 95); fill-opacity: 1; white-space: pre;\">R_24</text></g></g></g><g class=\"annotation\" data-index=\"9\" style=\"opacity: 1;\"><g class=\"annotation-text-g\" transform=\"rotate(0,514.51,113.97)\"><g class=\"cursor-pointer\" transform=\"translate(503,104)\"><rect class=\"bg\" x=\"0.5\" y=\"0.5\" width=\"23\" height=\"18\" style=\"stroke-width: 1px; stroke: rgb(0, 0, 0); stroke-opacity: 0; fill: rgb(0, 0, 0); fill-opacity: 0;\"/><text class=\"annotation-text\" text-anchor=\"middle\" x=\"12.15625\" y=\"14\" style=\"font-family: 'Open Sans', verdana, arial, sans-serif; font-size: 12px; fill: rgb(42, 63, 95); fill-opacity: 1; white-space: pre;\">I_2</text></g></g></g><g class=\"annotation\" data-index=\"10\" style=\"opacity: 1;\"><g class=\"annotation-text-g\" transform=\"rotate(0,511.82,117.16)\"><g class=\"cursor-pointer\" transform=\"translate(494,108)\"><rect class=\"bg\" x=\"0.5\" y=\"0.5\" width=\"34\" height=\"18\" style=\"stroke-width: 1px; stroke: rgb(0, 0, 0); stroke-opacity: 0; fill: rgb(0, 0, 0); fill-opacity: 0;\"/><text class=\"annotation-text\" text-anchor=\"middle\" x=\"17.625\" y=\"14\" style=\"font-family: 'Open Sans', verdana, arial, sans-serif; font-size: 12px; fill: rgb(42, 63, 95); fill-opacity: 1; white-space: pre;\">R_12</text></g></g></g><g class=\"annotation\" data-index=\"11\" style=\"opacity: 1;\"><g class=\"annotation-text-g\" transform=\"rotate(0,473.49,272.15)\"><g class=\"cursor-pointer\" transform=\"translate(459,263)\"><rect class=\"bg\" x=\"0.5\" y=\"0.5\" width=\"27\" height=\"18\" style=\"stroke-width: 1px; stroke: rgb(0, 0, 0); stroke-opacity: 0; fill: rgb(0, 0, 0); fill-opacity: 0;\"/><text class=\"annotation-text\" text-anchor=\"middle\" x=\"13.8125\" y=\"14\" style=\"font-family: 'Open Sans', verdana, arial, sans-serif; font-size: 12px; fill: rgb(42, 63, 95); fill-opacity: 1; white-space: pre;\">R_0</text></g></g></g><g class=\"annotation\" data-index=\"12\" style=\"opacity: 1;\"><g class=\"annotation-text-g\" transform=\"rotate(0,472.15,245.51999999999998)\"><g class=\"cursor-pointer\" transform=\"translate(455,236)\"><rect class=\"bg\" x=\"0.5\" y=\"0.5\" width=\"34\" height=\"18\" style=\"stroke-width: 1px; stroke: rgb(0, 0, 0); stroke-opacity: 0; fill: rgb(0, 0, 0); fill-opacity: 0;\"/><text class=\"annotation-text\" text-anchor=\"middle\" x=\"17.625\" y=\"14\" style=\"font-family: 'Open Sans', verdana, arial, sans-serif; font-size: 12px; fill: rgb(42, 63, 95); fill-opacity: 1; white-space: pre;\">R_19</text></g></g></g><g class=\"annotation\" data-index=\"13\" style=\"opacity: 1;\"><g class=\"annotation-text-g\" transform=\"rotate(0,467.71,260.01)\"><g class=\"cursor-pointer\" transform=\"translate(450,251)\"><rect class=\"bg\" x=\"0.5\" y=\"0.5\" width=\"34\" height=\"18\" style=\"stroke-width: 1px; stroke: rgb(0, 0, 0); stroke-opacity: 0; fill: rgb(0, 0, 0); fill-opacity: 0;\"/><text class=\"annotation-text\" text-anchor=\"middle\" x=\"17.625\" y=\"14\" style=\"font-family: 'Open Sans', verdana, arial, sans-serif; font-size: 12px; fill: rgb(42, 63, 95); fill-opacity: 1; white-space: pre;\">R_11</text></g></g></g><g class=\"annotation\" data-index=\"14\" style=\"opacity: 1;\"><g class=\"annotation-text-g\" transform=\"rotate(0,459.84,245.90999999999997)\"><g class=\"cursor-pointer\" transform=\"translate(446,236)\"><rect class=\"bg\" x=\"0.5\" y=\"0.5\" width=\"27\" height=\"18\" style=\"stroke-width: 1px; stroke: rgb(0, 0, 0); stroke-opacity: 0; fill: rgb(0, 0, 0); fill-opacity: 0;\"/><text class=\"annotation-text\" text-anchor=\"middle\" x=\"13.8125\" y=\"14\" style=\"font-family: 'Open Sans', verdana, arial, sans-serif; font-size: 12px; fill: rgb(42, 63, 95); fill-opacity: 1; white-space: pre;\">R_8</text></g></g></g><g class=\"annotation\" data-index=\"15\" style=\"opacity: 1;\"><g class=\"annotation-text-g\" transform=\"rotate(0,450.23,242.93)\"><g class=\"cursor-pointer\" transform=\"translate(438,233)\"><rect class=\"bg\" x=\"0.5\" y=\"0.5\" width=\"23\" height=\"18\" style=\"stroke-width: 1px; stroke: rgb(0, 0, 0); stroke-opacity: 0; fill: rgb(0, 0, 0); fill-opacity: 0;\"/><text class=\"annotation-text\" text-anchor=\"middle\" x=\"12.15625\" y=\"14\" style=\"font-family: 'Open Sans', verdana, arial, sans-serif; font-size: 12px; fill: rgb(42, 63, 95); fill-opacity: 1; white-space: pre;\">I_4</text></g></g></g><g class=\"annotation\" data-index=\"16\" style=\"opacity: 1;\"><g class=\"annotation-text-g\" transform=\"rotate(0,293.02,296.55)\"><g class=\"cursor-pointer\" transform=\"translate(276,287)\"><rect class=\"bg\" x=\"0.5\" y=\"0.5\" width=\"34\" height=\"18\" style=\"stroke-width: 1px; stroke: rgb(0, 0, 0); stroke-opacity: 0; fill: rgb(0, 0, 0); fill-opacity: 0;\"/><text class=\"annotation-text\" text-anchor=\"middle\" x=\"17.625\" y=\"14\" style=\"font-family: 'Open Sans', verdana, arial, sans-serif; font-size: 12px; fill: rgb(42, 63, 95); fill-opacity: 1; white-space: pre;\">R_23</text></g></g></g><g class=\"annotation\" data-index=\"17\" style=\"opacity: 1;\"><g class=\"annotation-text-g\" transform=\"rotate(0,290.08000000000004,302.74)\"><g class=\"cursor-pointer\" transform=\"translate(278,293)\"><rect class=\"bg\" x=\"0.5\" y=\"0.5\" width=\"23\" height=\"18\" style=\"stroke-width: 1px; stroke: rgb(0, 0, 0); stroke-opacity: 0; fill: rgb(0, 0, 0); fill-opacity: 0;\"/><text class=\"annotation-text\" text-anchor=\"middle\" x=\"12.15625\" y=\"14\" style=\"font-family: 'Open Sans', verdana, arial, sans-serif; font-size: 12px; fill: rgb(42, 63, 95); fill-opacity: 1; white-space: pre;\">I_0</text></g></g></g><g class=\"annotation\" data-index=\"18\" style=\"opacity: 1;\"><g class=\"annotation-text-g\" transform=\"rotate(0,284.38,301.15999999999997)\"><g class=\"cursor-pointer\" transform=\"translate(267,292)\"><rect class=\"bg\" x=\"0.5\" y=\"0.5\" width=\"34\" height=\"18\" style=\"stroke-width: 1px; stroke: rgb(0, 0, 0); stroke-opacity: 0; fill: rgb(0, 0, 0); fill-opacity: 0;\"/><text class=\"annotation-text\" text-anchor=\"middle\" x=\"17.625\" y=\"14\" style=\"font-family: 'Open Sans', verdana, arial, sans-serif; font-size: 12px; fill: rgb(42, 63, 95); fill-opacity: 1; white-space: pre;\">R_21</text></g></g></g><g class=\"annotation\" data-index=\"19\" style=\"opacity: 1;\"><g class=\"annotation-text-g\" transform=\"rotate(0,284.11,282.52)\"><g class=\"cursor-pointer\" transform=\"translate(267,273)\"><rect class=\"bg\" x=\"0.5\" y=\"0.5\" width=\"34\" height=\"18\" style=\"stroke-width: 1px; stroke: rgb(0, 0, 0); stroke-opacity: 0; fill: rgb(0, 0, 0); fill-opacity: 0;\"/><text class=\"annotation-text\" text-anchor=\"middle\" x=\"17.625\" y=\"14\" style=\"font-family: 'Open Sans', verdana, arial, sans-serif; font-size: 12px; fill: rgb(42, 63, 95); fill-opacity: 1; white-space: pre;\">R_17</text></g></g></g><g class=\"annotation\" data-index=\"20\" style=\"opacity: 1;\"><g class=\"annotation-text-g\" transform=\"rotate(0,278.8,294.08000000000004)\"><g class=\"cursor-pointer\" transform=\"translate(265,285)\"><rect class=\"bg\" x=\"0.5\" y=\"0.5\" width=\"27\" height=\"18\" style=\"stroke-width: 1px; stroke: rgb(0, 0, 0); stroke-opacity: 0; fill: rgb(0, 0, 0); fill-opacity: 0;\"/><text class=\"annotation-text\" text-anchor=\"middle\" x=\"13.8125\" y=\"14\" style=\"font-family: 'Open Sans', verdana, arial, sans-serif; font-size: 12px; fill: rgb(42, 63, 95); fill-opacity: 1; white-space: pre;\">R_9</text></g></g></g><g class=\"annotation\" data-index=\"21\" style=\"opacity: 1;\"><g class=\"annotation-text-g\" transform=\"rotate(0,276.5,298.15999999999997)\"><g class=\"cursor-pointer\" transform=\"translate(259,289)\"><rect class=\"bg\" x=\"0.5\" y=\"0.5\" width=\"34\" height=\"18\" style=\"stroke-width: 1px; stroke: rgb(0, 0, 0); stroke-opacity: 0; fill: rgb(0, 0, 0); fill-opacity: 0;\"/><text class=\"annotation-text\" text-anchor=\"middle\" x=\"17.625\" y=\"14\" style=\"font-family: 'Open Sans', verdana, arial, sans-serif; font-size: 12px; fill: rgb(42, 63, 95); fill-opacity: 1; white-space: pre;\">R_10</text></g></g></g><g class=\"annotation\" data-index=\"22\" style=\"opacity: 1;\"><g class=\"annotation-text-g\" transform=\"rotate(0,275.31,301.78999999999996)\"><g class=\"cursor-pointer\" transform=\"translate(261,292)\"><rect class=\"bg\" x=\"0.5\" y=\"0.5\" width=\"27\" height=\"18\" style=\"stroke-width: 1px; stroke: rgb(0, 0, 0); stroke-opacity: 0; fill: rgb(0, 0, 0); fill-opacity: 0;\"/><text class=\"annotation-text\" text-anchor=\"middle\" x=\"13.8125\" y=\"14\" style=\"font-family: 'Open Sans', verdana, arial, sans-serif; font-size: 12px; fill: rgb(42, 63, 95); fill-opacity: 1; white-space: pre;\">R_1</text></g></g></g><g class=\"annotation\" data-index=\"23\" style=\"opacity: 1;\"><g class=\"annotation-text-g\" transform=\"rotate(0,267.1,297.18)\"><g class=\"cursor-pointer\" transform=\"translate(250,288)\"><rect class=\"bg\" x=\"0.5\" y=\"0.5\" width=\"34\" height=\"18\" style=\"stroke-width: 1px; stroke: rgb(0, 0, 0); stroke-opacity: 0; fill: rgb(0, 0, 0); fill-opacity: 0;\"/><text class=\"annotation-text\" text-anchor=\"middle\" x=\"17.625\" y=\"14\" style=\"font-family: 'Open Sans', verdana, arial, sans-serif; font-size: 12px; fill: rgb(42, 63, 95); fill-opacity: 1; white-space: pre;\">R_14</text></g></g></g><g class=\"annotation\" data-index=\"24\" style=\"opacity: 1;\"><g class=\"annotation-text-g\" transform=\"rotate(0,264.85,295.9)\"><g class=\"cursor-pointer\" transform=\"translate(247,286)\"><rect class=\"bg\" x=\"0.5\" y=\"0.5\" width=\"34\" height=\"18\" style=\"stroke-width: 1px; stroke: rgb(0, 0, 0); stroke-opacity: 0; fill: rgb(0, 0, 0); fill-opacity: 0;\"/><text class=\"annotation-text\" text-anchor=\"middle\" x=\"17.625\" y=\"14\" style=\"font-family: 'Open Sans', verdana, arial, sans-serif; font-size: 12px; fill: rgb(42, 63, 95); fill-opacity: 1; white-space: pre;\">R_26</text></g></g></g><g class=\"annotation\" data-index=\"25\" style=\"opacity: 1;\"><g class=\"annotation-text-g\" transform=\"rotate(0,187.87,276.82)\"><g class=\"cursor-pointer\" transform=\"translate(170,267)\"><rect class=\"bg\" x=\"0.5\" y=\"0.5\" width=\"34\" height=\"18\" style=\"stroke-width: 1px; stroke: rgb(0, 0, 0); stroke-opacity: 0; fill: rgb(0, 0, 0); fill-opacity: 0;\"/><text class=\"annotation-text\" text-anchor=\"middle\" x=\"17.625\" y=\"14\" style=\"font-family: 'Open Sans', verdana, arial, sans-serif; font-size: 12px; fill: rgb(42, 63, 95); fill-opacity: 1; white-space: pre;\">R_28</text></g></g></g><g class=\"annotation\" data-index=\"26\" style=\"opacity: 1;\"><g class=\"annotation-text-g\" transform=\"rotate(0,184.25,277.88)\"><g class=\"cursor-pointer\" transform=\"translate(170,268)\"><rect class=\"bg\" x=\"0.5\" y=\"0.5\" width=\"27\" height=\"18\" style=\"stroke-width: 1px; stroke: rgb(0, 0, 0); stroke-opacity: 0; fill: rgb(0, 0, 0); fill-opacity: 0;\"/><text class=\"annotation-text\" text-anchor=\"middle\" x=\"13.8125\" y=\"14\" style=\"font-family: 'Open Sans', verdana, arial, sans-serif; font-size: 12px; fill: rgb(42, 63, 95); fill-opacity: 1; white-space: pre;\">R_6</text></g></g></g><g class=\"annotation\" data-index=\"27\" style=\"opacity: 1;\"><g class=\"annotation-text-g\" transform=\"rotate(0,183.94,295.59000000000003)\"><g class=\"cursor-pointer\" transform=\"translate(166,286)\"><rect class=\"bg\" x=\"0.5\" y=\"0.5\" width=\"34\" height=\"18\" style=\"stroke-width: 1px; stroke: rgb(0, 0, 0); stroke-opacity: 0; fill: rgb(0, 0, 0); fill-opacity: 0;\"/><text class=\"annotation-text\" text-anchor=\"middle\" x=\"17.625\" y=\"14\" style=\"font-family: 'Open Sans', verdana, arial, sans-serif; font-size: 12px; fill: rgb(42, 63, 95); fill-opacity: 1; white-space: pre;\">R_20</text></g></g></g><g class=\"annotation\" data-index=\"28\" style=\"opacity: 1;\"><g class=\"annotation-text-g\" transform=\"rotate(0,183.79000000000002,283.09000000000003)\"><g class=\"cursor-pointer\" transform=\"translate(172,274)\"><rect class=\"bg\" x=\"0.5\" y=\"0.5\" width=\"23\" height=\"18\" style=\"stroke-width: 1px; stroke: rgb(0, 0, 0); stroke-opacity: 0; fill: rgb(0, 0, 0); fill-opacity: 0;\"/><text class=\"annotation-text\" text-anchor=\"middle\" x=\"12.15625\" y=\"14\" style=\"font-family: 'Open Sans', verdana, arial, sans-serif; font-size: 12px; fill: rgb(42, 63, 95); fill-opacity: 1; white-space: pre;\">I_3</text></g></g></g><g class=\"annotation\" data-index=\"29\" style=\"opacity: 1;\"><g class=\"annotation-text-g\" transform=\"rotate(0,183.17000000000002,280.9)\"><g class=\"cursor-pointer\" transform=\"translate(166,271)\"><rect class=\"bg\" x=\"0.5\" y=\"0.5\" width=\"34\" height=\"18\" style=\"stroke-width: 1px; stroke: rgb(0, 0, 0); stroke-opacity: 0; fill: rgb(0, 0, 0); fill-opacity: 0;\"/><text class=\"annotation-text\" text-anchor=\"middle\" x=\"17.625\" y=\"14\" style=\"font-family: 'Open Sans', verdana, arial, sans-serif; font-size: 12px; fill: rgb(42, 63, 95); fill-opacity: 1; white-space: pre;\">R_22</text></g></g></g><g class=\"annotation\" data-index=\"30\" style=\"opacity: 1;\"><g class=\"annotation-text-g\" transform=\"rotate(0,182.82999999999998,277.73)\"><g class=\"cursor-pointer\" transform=\"translate(169,268)\"><rect class=\"bg\" x=\"0.5\" y=\"0.5\" width=\"27\" height=\"18\" style=\"stroke-width: 1px; stroke: rgb(0, 0, 0); stroke-opacity: 0; fill: rgb(0, 0, 0); fill-opacity: 0;\"/><text class=\"annotation-text\" text-anchor=\"middle\" x=\"13.8125\" y=\"14\" style=\"font-family: 'Open Sans', verdana, arial, sans-serif; font-size: 12px; fill: rgb(42, 63, 95); fill-opacity: 1; white-space: pre;\">R_2</text></g></g></g><g class=\"annotation\" data-index=\"31\" style=\"opacity: 1;\"><g class=\"annotation-text-g\" transform=\"rotate(0,182.74,293.86)\"><g class=\"cursor-pointer\" transform=\"translate(169,284)\"><rect class=\"bg\" x=\"0.5\" y=\"0.5\" width=\"27\" height=\"18\" style=\"stroke-width: 1px; stroke: rgb(0, 0, 0); stroke-opacity: 0; fill: rgb(0, 0, 0); fill-opacity: 0;\"/><text class=\"annotation-text\" text-anchor=\"middle\" x=\"13.8125\" y=\"14\" style=\"font-family: 'Open Sans', verdana, arial, sans-serif; font-size: 12px; fill: rgb(42, 63, 95); fill-opacity: 1; white-space: pre;\">R_4</text></g></g></g><g class=\"annotation\" data-index=\"32\" style=\"opacity: 1;\"><g class=\"annotation-text-g\" transform=\"rotate(0,181.84,283.41999999999996)\"><g class=\"cursor-pointer\" transform=\"translate(164,274)\"><rect class=\"bg\" x=\"0.5\" y=\"0.5\" width=\"34\" height=\"18\" style=\"stroke-width: 1px; stroke: rgb(0, 0, 0); stroke-opacity: 0; fill: rgb(0, 0, 0); fill-opacity: 0;\"/><text class=\"annotation-text\" text-anchor=\"middle\" x=\"17.625\" y=\"14\" style=\"font-family: 'Open Sans', verdana, arial, sans-serif; font-size: 12px; fill: rgb(42, 63, 95); fill-opacity: 1; white-space: pre;\">R_25</text></g></g></g><g class=\"annotation\" data-index=\"33\" style=\"opacity: 1;\"><g class=\"annotation-text-g\" transform=\"rotate(0,181.84,294.5)\"><g class=\"cursor-pointer\" transform=\"translate(164,285)\"><rect class=\"bg\" x=\"0.5\" y=\"0.5\" width=\"34\" height=\"18\" style=\"stroke-width: 1px; stroke: rgb(0, 0, 0); stroke-opacity: 0; fill: rgb(0, 0, 0); fill-opacity: 0;\"/><text class=\"annotation-text\" text-anchor=\"middle\" x=\"17.625\" y=\"14\" style=\"font-family: 'Open Sans', verdana, arial, sans-serif; font-size: 12px; fill: rgb(42, 63, 95); fill-opacity: 1; white-space: pre;\">R_29</text></g></g></g><g class=\"annotation\" data-index=\"34\" style=\"opacity: 1;\"><g class=\"annotation-text-g\" transform=\"rotate(0,181.07,288.76)\"><g class=\"cursor-pointer\" transform=\"translate(167,279)\"><rect class=\"bg\" x=\"0.5\" y=\"0.5\" width=\"27\" height=\"18\" style=\"stroke-width: 1px; stroke: rgb(0, 0, 0); stroke-opacity: 0; fill: rgb(0, 0, 0); fill-opacity: 0;\"/><text class=\"annotation-text\" text-anchor=\"middle\" x=\"13.8125\" y=\"14\" style=\"font-family: 'Open Sans', verdana, arial, sans-serif; font-size: 12px; fill: rgb(42, 63, 95); fill-opacity: 1; white-space: pre;\">R_3</text></g></g></g><g class=\"annotation\" data-index=\"35\" style=\"opacity: 1;\"><g class=\"annotation-text-g\" transform=\"rotate(0,133.78,476.38)\"><g class=\"cursor-pointer\" transform=\"translate(120,467)\"><rect class=\"bg\" x=\"0.5\" y=\"0.5\" width=\"27\" height=\"18\" style=\"stroke-width: 1px; stroke: rgb(0, 0, 0); stroke-opacity: 0; fill: rgb(0, 0, 0); fill-opacity: 0;\"/><text class=\"annotation-text\" text-anchor=\"middle\" x=\"14.125\" y=\"14\" style=\"font-family: 'Open Sans', verdana, arial, sans-serif; font-size: 12px; fill: rgb(42, 63, 95); fill-opacity: 1; white-space: pre;\">N_1</text></g></g></g><g class=\"annotation\" data-index=\"36\" style=\"opacity: 1;\"><g class=\"annotation-text-g\" transform=\"rotate(0,133.2,479.58)\"><g class=\"cursor-pointer\" transform=\"translate(119,470)\"><rect class=\"bg\" x=\"0.5\" y=\"0.5\" width=\"27\" height=\"18\" style=\"stroke-width: 1px; stroke: rgb(0, 0, 0); stroke-opacity: 0; fill: rgb(0, 0, 0); fill-opacity: 0;\"/><text class=\"annotation-text\" text-anchor=\"middle\" x=\"14.125\" y=\"14\" style=\"font-family: 'Open Sans', verdana, arial, sans-serif; font-size: 12px; fill: rgb(42, 63, 95); fill-opacity: 1; white-space: pre;\">N_4</text></g></g></g><g class=\"annotation\" data-index=\"37\" style=\"opacity: 1;\"><g class=\"annotation-text-g\" transform=\"rotate(0,131.79,479.69)\"><g class=\"cursor-pointer\" transform=\"translate(118,470)\"><rect class=\"bg\" x=\"0.5\" y=\"0.5\" width=\"27\" height=\"18\" style=\"stroke-width: 1px; stroke: rgb(0, 0, 0); stroke-opacity: 0; fill: rgb(0, 0, 0); fill-opacity: 0;\"/><text class=\"annotation-text\" text-anchor=\"middle\" x=\"14.125\" y=\"14\" style=\"font-family: 'Open Sans', verdana, arial, sans-serif; font-size: 12px; fill: rgb(42, 63, 95); fill-opacity: 1; white-space: pre;\">N_0</text></g></g></g><g class=\"annotation\" data-index=\"38\" style=\"opacity: 1;\"><g class=\"annotation-text-g\" transform=\"rotate(0,131.65,480.25)\"><g class=\"cursor-pointer\" transform=\"translate(118,471)\"><rect class=\"bg\" x=\"0.5\" y=\"0.5\" width=\"27\" height=\"18\" style=\"stroke-width: 1px; stroke: rgb(0, 0, 0); stroke-opacity: 0; fill: rgb(0, 0, 0); fill-opacity: 0;\"/><text class=\"annotation-text\" text-anchor=\"middle\" x=\"14.125\" y=\"14\" style=\"font-family: 'Open Sans', verdana, arial, sans-serif; font-size: 12px; fill: rgb(42, 63, 95); fill-opacity: 1; white-space: pre;\">N_3</text></g></g></g><g class=\"annotation\" data-index=\"39\" style=\"opacity: 1;\"><g class=\"annotation-text-g\" transform=\"rotate(0,130.75,472.73)\"><g class=\"cursor-pointer\" transform=\"translate(117,463)\"><rect class=\"bg\" x=\"0.5\" y=\"0.5\" width=\"27\" height=\"18\" style=\"stroke-width: 1px; stroke: rgb(0, 0, 0); stroke-opacity: 0; fill: rgb(0, 0, 0); fill-opacity: 0;\"/><text class=\"annotation-text\" text-anchor=\"middle\" x=\"14.125\" y=\"14\" style=\"font-family: 'Open Sans', verdana, arial, sans-serif; font-size: 12px; fill: rgb(42, 63, 95); fill-opacity: 1; white-space: pre;\">N_2</text></g></g></g></g></svg>"
      ]
     },
     "metadata": {},
     "output_type": "display_data"
    }
   ],
   "source": [
    "import plotly.graph_objects as go\n",
    "import plotly.io as pio\n",
    "pio.renderers.default = 'svg'  # or 'png', 'jpeg', etc.\n",
    "# Create data\n",
    " \n",
    "\n",
    "# Create scatter plot\n",
    "scatter = go.Scatter(x=mdi_mda_pvalues['MDI'], y=mdi_mda_pvalues['MDA'], mode='markers')\n",
    "\n",
    "# Add annotations\n",
    "annotations = [go.layout.Annotation(x=pv, y=mdi, text=feat, showarrow=False, xshift=15,  # Shift annotation in the x-direction (adjust as needed)\n",
    "        yshift=15 ) \n",
    "               for pv, mdi, feat in zip(mdi_mda_pvalues['MDI'], mdi_mda_pvalues['MDA'], mdi_mda_pvalues['Feature'])]\n",
    "\n",
    "# Create layout\n",
    " \n",
    "# Create figure and add scatter plot\n",
    "fig = go.Figure(data=scatter, layout=layout)\n",
    "\n",
    "\n",
    "# Create layout with figure size and axis labels\n",
    "layout = go.Layout(\n",
    "    annotations=annotations,\n",
    "    title='MDI vs MDA',\n",
    "    width=800,  # Specify width of the figure\n",
    "    height=600,  # Specify height of the figure\n",
    "    xaxis_title='MDI',  # X-axis label\n",
    "    yaxis_title='MDA'  # Y-axis label\n",
    ")\n",
    "\n",
    "# Create figure and add scatter plot\n",
    "fig = go.Figure(data=scatter, layout=layout)\n",
    "\n",
    "\n",
    "# Display the plot\n",
    "fig.show()"
   ]
  },
  {
   "cell_type": "code",
   "execution_count": 41,
   "id": "9f8898f5-8c5a-4428-8df8-86598e0a4d2a",
   "metadata": {},
   "outputs": [],
   "source": [
    "onc_model = ONC(  is_input_correlation=True,\n",
    "                 max_number_clusters=10,\n",
    "                 number_initializations=10,\n",
    "                 n_jobs= 10 )"
   ]
  },
  {
   "cell_type": "code",
   "execution_count": 42,
   "id": "fdb63c88-2689-4e1b-8d63-6da929836726",
   "metadata": {
    "collapsed": true,
    "jupyter": {
     "outputs_hidden": true
    },
    "tags": []
   },
   "outputs": [
    {
     "ename": "PicklingError",
     "evalue": "Can't pickle <class 'ml4am.ONC.ONC'>: it's not the same object as ml4am.ONC.ONC",
     "output_type": "error",
     "traceback": [
      "\u001b[0;31m---------------------------------------------------------------------------\u001b[0m",
      "\u001b[0;31mPicklingError\u001b[0m                             Traceback (most recent call last)",
      "Input \u001b[0;32mIn [42]\u001b[0m, in \u001b[0;36m<cell line: 1>\u001b[0;34m()\u001b[0m\n\u001b[0;32m----> 1\u001b[0m \u001b[43monc_model\u001b[49m\u001b[38;5;241;43m.\u001b[39;49m\u001b[43mfit\u001b[49m\u001b[43m(\u001b[49m\u001b[43mX\u001b[49m\u001b[38;5;241;43m.\u001b[39;49m\u001b[43mcorr\u001b[49m\u001b[43m(\u001b[49m\u001b[43m)\u001b[49m\u001b[43m \u001b[49m\u001b[43m)\u001b[49m\n",
      "File \u001b[0;32m~/Documents/Documents/Projects/omroot_repos/ML4AM/notebooks/../ml4am/ONC.py:162\u001b[0m, in \u001b[0;36mONC.fit\u001b[0;34m(self, X, y, sample_weight)\u001b[0m\n\u001b[1;32m    160\u001b[0m \u001b[38;5;28;01mwith\u001b[39;00m Pool(\u001b[38;5;28mself\u001b[39m\u001b[38;5;241m.\u001b[39mn_jobs) \u001b[38;5;28;01mas\u001b[39;00m pool:\n\u001b[1;32m    161\u001b[0m     \u001b[38;5;28;01mfor\u001b[39;00m init \u001b[38;5;129;01min\u001b[39;00m \u001b[38;5;28mrange\u001b[39m(\u001b[38;5;28mself\u001b[39m\u001b[38;5;241m.\u001b[39mnumber_initializations):\n\u001b[0;32m--> 162\u001b[0m         results\u001b[38;5;241m.\u001b[39mextend(\u001b[43mpool\u001b[49m\u001b[38;5;241;43m.\u001b[39;49m\u001b[43mstarmap\u001b[49m\u001b[43m(\u001b[49m\u001b[38;5;28;43mself\u001b[39;49m\u001b[38;5;241;43m.\u001b[39;49m\u001b[43m_fit_wrapper\u001b[49m\u001b[43m,\u001b[49m\u001b[43m \u001b[49m\u001b[43m[\u001b[49m\u001b[43m(\u001b[49m\u001b[43mk\u001b[49m\u001b[43m,\u001b[49m\u001b[43m \u001b[49m\u001b[43mX\u001b[49m\u001b[43m)\u001b[49m\u001b[43m \u001b[49m\u001b[38;5;28;43;01mfor\u001b[39;49;00m\u001b[43m \u001b[49m\u001b[43mk\u001b[49m\u001b[43m \u001b[49m\u001b[38;5;129;43;01min\u001b[39;49;00m\u001b[43m \u001b[49m\u001b[38;5;28;43mrange\u001b[39;49m\u001b[43m(\u001b[49m\u001b[38;5;241;43m2\u001b[39;49m\u001b[43m,\u001b[49m\u001b[43m \u001b[49m\u001b[38;5;28;43mself\u001b[39;49m\u001b[38;5;241;43m.\u001b[39;49m\u001b[43mmax_number_clusters\u001b[49m\u001b[43m \u001b[49m\u001b[38;5;241;43m+\u001b[39;49m\u001b[43m \u001b[49m\u001b[38;5;241;43m1\u001b[39;49m\u001b[43m)\u001b[49m\u001b[43m]\u001b[49m\u001b[43m)\u001b[49m)\n\u001b[1;32m    164\u001b[0m optimal_cluster_centers_ \u001b[38;5;241m=\u001b[39m \u001b[38;5;28;01mNone\u001b[39;00m\n\u001b[1;32m    165\u001b[0m optimal_labels_ \u001b[38;5;241m=\u001b[39m \u001b[38;5;28;01mNone\u001b[39;00m\n",
      "File \u001b[0;32m~/opt/miniconda3/envs/pytorch/lib/python3.8/multiprocessing/pool.py:372\u001b[0m, in \u001b[0;36mPool.starmap\u001b[0;34m(self, func, iterable, chunksize)\u001b[0m\n\u001b[1;32m    366\u001b[0m \u001b[38;5;28;01mdef\u001b[39;00m \u001b[38;5;21mstarmap\u001b[39m(\u001b[38;5;28mself\u001b[39m, func, iterable, chunksize\u001b[38;5;241m=\u001b[39m\u001b[38;5;28;01mNone\u001b[39;00m):\n\u001b[1;32m    367\u001b[0m     \u001b[38;5;124;03m'''\u001b[39;00m\n\u001b[1;32m    368\u001b[0m \u001b[38;5;124;03m    Like `map()` method but the elements of the `iterable` are expected to\u001b[39;00m\n\u001b[1;32m    369\u001b[0m \u001b[38;5;124;03m    be iterables as well and will be unpacked as arguments. Hence\u001b[39;00m\n\u001b[1;32m    370\u001b[0m \u001b[38;5;124;03m    `func` and (a, b) becomes func(a, b).\u001b[39;00m\n\u001b[1;32m    371\u001b[0m \u001b[38;5;124;03m    '''\u001b[39;00m\n\u001b[0;32m--> 372\u001b[0m     \u001b[38;5;28;01mreturn\u001b[39;00m \u001b[38;5;28;43mself\u001b[39;49m\u001b[38;5;241;43m.\u001b[39;49m\u001b[43m_map_async\u001b[49m\u001b[43m(\u001b[49m\u001b[43mfunc\u001b[49m\u001b[43m,\u001b[49m\u001b[43m \u001b[49m\u001b[43miterable\u001b[49m\u001b[43m,\u001b[49m\u001b[43m \u001b[49m\u001b[43mstarmapstar\u001b[49m\u001b[43m,\u001b[49m\u001b[43m \u001b[49m\u001b[43mchunksize\u001b[49m\u001b[43m)\u001b[49m\u001b[38;5;241;43m.\u001b[39;49m\u001b[43mget\u001b[49m\u001b[43m(\u001b[49m\u001b[43m)\u001b[49m\n",
      "File \u001b[0;32m~/opt/miniconda3/envs/pytorch/lib/python3.8/multiprocessing/pool.py:771\u001b[0m, in \u001b[0;36mApplyResult.get\u001b[0;34m(self, timeout)\u001b[0m\n\u001b[1;32m    769\u001b[0m     \u001b[38;5;28;01mreturn\u001b[39;00m \u001b[38;5;28mself\u001b[39m\u001b[38;5;241m.\u001b[39m_value\n\u001b[1;32m    770\u001b[0m \u001b[38;5;28;01melse\u001b[39;00m:\n\u001b[0;32m--> 771\u001b[0m     \u001b[38;5;28;01mraise\u001b[39;00m \u001b[38;5;28mself\u001b[39m\u001b[38;5;241m.\u001b[39m_value\n",
      "File \u001b[0;32m~/opt/miniconda3/envs/pytorch/lib/python3.8/multiprocessing/pool.py:537\u001b[0m, in \u001b[0;36mPool._handle_tasks\u001b[0;34m(taskqueue, put, outqueue, pool, cache)\u001b[0m\n\u001b[1;32m    535\u001b[0m     \u001b[38;5;28;01mbreak\u001b[39;00m\n\u001b[1;32m    536\u001b[0m \u001b[38;5;28;01mtry\u001b[39;00m:\n\u001b[0;32m--> 537\u001b[0m     \u001b[43mput\u001b[49m\u001b[43m(\u001b[49m\u001b[43mtask\u001b[49m\u001b[43m)\u001b[49m\n\u001b[1;32m    538\u001b[0m \u001b[38;5;28;01mexcept\u001b[39;00m \u001b[38;5;167;01mException\u001b[39;00m \u001b[38;5;28;01mas\u001b[39;00m e:\n\u001b[1;32m    539\u001b[0m     job, idx \u001b[38;5;241m=\u001b[39m task[:\u001b[38;5;241m2\u001b[39m]\n",
      "File \u001b[0;32m~/opt/miniconda3/envs/pytorch/lib/python3.8/multiprocessing/connection.py:206\u001b[0m, in \u001b[0;36m_ConnectionBase.send\u001b[0;34m(self, obj)\u001b[0m\n\u001b[1;32m    204\u001b[0m \u001b[38;5;28mself\u001b[39m\u001b[38;5;241m.\u001b[39m_check_closed()\n\u001b[1;32m    205\u001b[0m \u001b[38;5;28mself\u001b[39m\u001b[38;5;241m.\u001b[39m_check_writable()\n\u001b[0;32m--> 206\u001b[0m \u001b[38;5;28mself\u001b[39m\u001b[38;5;241m.\u001b[39m_send_bytes(\u001b[43m_ForkingPickler\u001b[49m\u001b[38;5;241;43m.\u001b[39;49m\u001b[43mdumps\u001b[49m\u001b[43m(\u001b[49m\u001b[43mobj\u001b[49m\u001b[43m)\u001b[49m)\n",
      "File \u001b[0;32m~/opt/miniconda3/envs/pytorch/lib/python3.8/multiprocessing/reduction.py:51\u001b[0m, in \u001b[0;36mForkingPickler.dumps\u001b[0;34m(cls, obj, protocol)\u001b[0m\n\u001b[1;32m     48\u001b[0m \u001b[38;5;129m@classmethod\u001b[39m\n\u001b[1;32m     49\u001b[0m \u001b[38;5;28;01mdef\u001b[39;00m \u001b[38;5;21mdumps\u001b[39m(\u001b[38;5;28mcls\u001b[39m, obj, protocol\u001b[38;5;241m=\u001b[39m\u001b[38;5;28;01mNone\u001b[39;00m):\n\u001b[1;32m     50\u001b[0m     buf \u001b[38;5;241m=\u001b[39m io\u001b[38;5;241m.\u001b[39mBytesIO()\n\u001b[0;32m---> 51\u001b[0m     \u001b[38;5;28;43mcls\u001b[39;49m\u001b[43m(\u001b[49m\u001b[43mbuf\u001b[49m\u001b[43m,\u001b[49m\u001b[43m \u001b[49m\u001b[43mprotocol\u001b[49m\u001b[43m)\u001b[49m\u001b[38;5;241;43m.\u001b[39;49m\u001b[43mdump\u001b[49m\u001b[43m(\u001b[49m\u001b[43mobj\u001b[49m\u001b[43m)\u001b[49m\n\u001b[1;32m     52\u001b[0m     \u001b[38;5;28;01mreturn\u001b[39;00m buf\u001b[38;5;241m.\u001b[39mgetbuffer()\n",
      "\u001b[0;31mPicklingError\u001b[0m: Can't pickle <class 'ml4am.ONC.ONC'>: it's not the same object as ml4am.ONC.ONC"
     ]
    }
   ],
   "source": [
    "onc_model.fit(X.corr() )"
   ]
  },
  {
   "cell_type": "code",
   "execution_count": null,
   "id": "b9598d05-7ed0-4a81-b0b9-f5161c06b672",
   "metadata": {},
   "outputs": [],
   "source": [
    "STOP"
   ]
  },
  {
   "cell_type": "code",
   "execution_count": null,
   "id": "20fe0974-7cdb-4c1c-83c2-61930b02c061",
   "metadata": {},
   "outputs": [],
   "source": []
  },
  {
   "cell_type": "code",
   "execution_count": 30,
   "id": "fa38a0f9-caed-4653-b693-17600f1eab7e",
   "metadata": {},
   "outputs": [
    {
     "name": "stdout",
     "output_type": "stream",
     "text": [
      "maxNumClusters10\n"
     ]
    }
   ],
   "source": [
    "corr0,clstrs,silh=clusterKMeansBase(X.corr(),maxNumClusters=10,n_init=10) \n"
   ]
  },
  {
   "cell_type": "code",
   "execution_count": 31,
   "id": "acad1f19-8f79-4b84-ba8b-2f4165926392",
   "metadata": {},
   "outputs": [
    {
     "data": {
      "text/plain": [
       "<AxesSubplot:>"
      ]
     },
     "execution_count": 31,
     "metadata": {},
     "output_type": "execute_result"
    },
    {
     "data": {
      "image/png": "[encoded data removed]",
      "text/plain": [
       "<Figure size 720x576 with 2 Axes>"
      ]
     },
     "metadata": {
      "needs_background": "light"
     },
     "output_type": "display_data"
    }
   ],
   "source": [
    "plt.figure(figsize=(10, 8))\n",
    "\n",
    "sns.heatmap(corr0,cmap='viridis')"
   ]
  },
  {
   "cell_type": "code",
   "execution_count": 32,
   "id": "ac1fdbc4-546e-429e-9719-35eddcc6ce18",
   "metadata": {},
   "outputs": [],
   "source": [
    "import pandas as pd\n",
    "\n",
    "def group_mean_std(df, clusters):\n",
    "    out = pd.DataFrame(columns=['mean', 'std'])\n",
    "    for i, j in clusters.items():\n",
    "        df1 = df[j].sum(axis=1)\n",
    "        out.loc['C_' + str(i), 'mean'] = df1.mean()\n",
    "        out.loc['C_' + str(i), 'std'] = df1.std() * df1.shape[0] ** -0.5\n",
    "    return out\n",
    "\n",
    "def feat_imp_mdi_clustered(fit, feat_names, clusters):\n",
    "    df0 = {i: tree.feature_importances_ for i, tree in enumerate(fit.estimators_)}\n",
    "    df0 = pd.DataFrame.from_dict(df0, orient='index')\n",
    "    df0.columns = feat_names\n",
    "    df0 = df0.replace(0, pd.NA)  # Replacing 0s with NA for better handling\n",
    "    imp = group_mean_std(df0, clusters)\n",
    "    imp /= imp['mean'].sum()\n",
    "    return imp\n"
   ]
  },
  {
   "cell_type": "code",
   "execution_count": 33,
   "id": "78ffeb49-c5b2-444e-b996-c7c22604bb29",
   "metadata": {},
   "outputs": [],
   "source": [
    "from sklearn.tree import DecisionTreeClassifier\n",
    "from sklearn.ensemble import BaggingClassifier\n",
    "\n",
    "# Create Decision Tree Classifier\n",
    "dt_clf = DecisionTreeClassifier(\n",
    "    criterion='entropy',\n",
    "    max_features=1,\n",
    "    class_weight='balanced',\n",
    "    min_weight_fraction_leaf=0\n",
    ")\n",
    "\n",
    "# Create Bagging Classifier with Decision Tree as base estimator\n",
    "bagging_clf = BaggingClassifier(\n",
    "    base_estimator=dt_clf,\n",
    "    n_estimators=1000,\n",
    "    max_features=1.0,\n",
    "    max_samples=1.0,\n",
    "    oob_score=False\n",
    ")\n",
    "\n",
    "# Fit the Bagging Classifier on the data\n",
    "bagging_fit = bagging_clf.fit(X, y)\n",
    "\n",
    "# Compute feature importance using featImpMDI_Clustered\n",
    "imp_mdi_clustered = feat_imp_mdi_clustered(bagging_fit, X.columns, clstrs)\n"
   ]
  },
  {
   "cell_type": "code",
   "execution_count": 34,
   "id": "5f264550-47d1-4a27-869c-9563ebc172ff",
   "metadata": {},
   "outputs": [
    {
     "data": {
      "text/html": [
       "<div>\n",
       "<style scoped>\n",
       "    .dataframe tbody tr th:only-of-type {\n",
       "        vertical-align: middle;\n",
       "    }\n",
       "\n",
       "    .dataframe tbody tr th {\n",
       "        vertical-align: top;\n",
       "    }\n",
       "\n",
       "    .dataframe thead th {\n",
       "        text-align: right;\n",
       "    }\n",
       "</style>\n",
       "<table border=\"1\" class=\"dataframe\">\n",
       "  <thead>\n",
       "    <tr style=\"text-align: right;\">\n",
       "      <th></th>\n",
       "      <th>mean</th>\n",
       "      <th>std</th>\n",
       "    </tr>\n",
       "  </thead>\n",
       "  <tbody>\n",
       "    <tr>\n",
       "      <th>C_0</th>\n",
       "      <td>0.058101</td>\n",
       "      <td>0.000223</td>\n",
       "    </tr>\n",
       "    <tr>\n",
       "      <th>C_1</th>\n",
       "      <td>0.146207</td>\n",
       "      <td>0.000382</td>\n",
       "    </tr>\n",
       "    <tr>\n",
       "      <th>C_2</th>\n",
       "      <td>0.18484</td>\n",
       "      <td>0.000591</td>\n",
       "    </tr>\n",
       "    <tr>\n",
       "      <th>C_3</th>\n",
       "      <td>0.159507</td>\n",
       "      <td>0.000853</td>\n",
       "    </tr>\n",
       "    <tr>\n",
       "      <th>C_4</th>\n",
       "      <td>0.30907</td>\n",
       "      <td>0.000981</td>\n",
       "    </tr>\n",
       "    <tr>\n",
       "      <th>C_5</th>\n",
       "      <td>0.142276</td>\n",
       "      <td>0.000848</td>\n",
       "    </tr>\n",
       "  </tbody>\n",
       "</table>\n",
       "</div>"
      ],
      "text/plain": [
       "         mean       std\n",
       "C_0  0.058101  0.000223\n",
       "C_1  0.146207  0.000382\n",
       "C_2   0.18484  0.000591\n",
       "C_3  0.159507  0.000853\n",
       "C_4   0.30907  0.000981\n",
       "C_5  0.142276  0.000848"
      ]
     },
     "execution_count": 34,
     "metadata": {},
     "output_type": "execute_result"
    }
   ],
   "source": [
    "imp_mdi_clustered"
   ]
  },
  {
   "cell_type": "code",
   "execution_count": 35,
   "id": "93c08ba7-9a1e-46c1-a4b6-5b2f402db343",
   "metadata": {},
   "outputs": [
    {
     "data": {
      "text/plain": [
       "Text(0, 0.5, 'Clustered MDI')"
      ]
     },
     "execution_count": 35,
     "metadata": {},
     "output_type": "execute_result"
    },
    {
     "data": {
      "image/png": "[encoded data removed]",
      "text/plain": [
       "<Figure size 1440x360 with 1 Axes>"
      ]
     },
     "metadata": {
      "needs_background": "light"
     },
     "output_type": "display_data"
    }
   ],
   "source": [
    "imp_mdi_clustered = imp_mdi_clustered.reset_index()\n",
    "imp_mdi_clustered.columns = ['Feature', 'Clustered MDI', 'CMDIStd']\n",
    "imp_mdi_clustered.sort_values(by='Clustered MDI', ascending = False, inplace=True)\n",
    "plt.figure(figsize=(20, 5))\n",
    "\n",
    "plt.bar(imp_mdi_clustered['Feature'], imp_mdi_clustered['Clustered MDI'], align='center', alpha=0.5, ecolor='black', capsize=10)\n",
    "# Add error bars\n",
    "plt.errorbar(imp_mdi_clustered['Feature'], imp_mdi_clustered['Clustered MDI'],\n",
    "             yerr=imp_mdi_clustered['CMDIStd'], fmt='none', ecolor='black', capsize=10)\n",
    "plt.xlabel('Feature name')\n",
    "plt.ylabel('Clustered MDI')"
   ]
  },
  {
   "cell_type": "code",
   "execution_count": 36,
   "id": "9b154f4e-ffe9-4559-9b7f-4b09a6b3c290",
   "metadata": {},
   "outputs": [],
   "source": [
    "import pandas as pd\n",
    "import numpy as np\n",
    "from sklearn.metrics import log_loss\n",
    "from sklearn.model_selection import KFold"
   ]
  },
  {
   "cell_type": "code",
   "execution_count": 37,
   "id": "08ef2d9d-56e2-42b3-b43d-70199f9c2592",
   "metadata": {},
   "outputs": [],
   "source": [
    "def feat_imp_mda_clustered(clf, X, y, clusters, n_splits=10):\n",
    "    cv_gen = KFold(n_splits=n_splits)\n",
    "    scr0, scr1 = pd.Series(), pd.DataFrame(columns=clusters.keys())\n",
    "    \n",
    "    for i, (train, test) in enumerate(cv_gen.split(X=X)):\n",
    "        X0, y0 = X.iloc[train, :], y.iloc[train]\n",
    "        X1, y1 = X.iloc[test, :], y.iloc[test]\n",
    "        fit = clf.fit(X=X0, y=y0)\n",
    "        prob = fit.predict_proba(X1)\n",
    "        scr0.loc[i] = -log_loss(y1, prob, labels=clf.classes_)\n",
    "        \n",
    "        for cluster_name, cluster_indices in clusters.items():\n",
    "            X1_ = X1.copy(deep=True)\n",
    "            for k in cluster_indices:\n",
    "                np.random.shuffle(X1_[k].values)\n",
    "            prob = fit.predict_proba(X1_)\n",
    "            scr1.loc[i, cluster_name] = -log_loss(y1, prob, labels=clf.classes_)\n",
    "    \n",
    "    imp = (-1 * scr1).add(scr0, axis=0)\n",
    "    imp = imp / (-1 * scr1)\n",
    "    imp_stats = pd.concat({'mean': imp.mean(), 'std': imp.std() * imp.shape[0] ** -0.5}, axis=1)\n",
    "    imp_stats.index = ['C_' + str(i) for i in imp_stats.index]\n",
    "    \n",
    "    return imp_stats"
   ]
  },
  {
   "cell_type": "code",
   "execution_count": 38,
   "id": "4a26efeb-b3a9-46b4-94e8-3c0553a4cdeb",
   "metadata": {},
   "outputs": [
    {
     "name": "stderr",
     "output_type": "stream",
     "text": [
      "\n",
      "KeyboardInterrupt\n",
      "\n"
     ]
    }
   ],
   "source": [
    "from sklearn.tree import DecisionTreeClassifier\n",
    "from sklearn.ensemble import BaggingClassifier\n",
    "\n",
    "# Create Decision Tree Classifier\n",
    "dt_clf = DecisionTreeClassifier(\n",
    "    criterion='entropy',\n",
    "    max_features=1,\n",
    "    class_weight='balanced',\n",
    "    min_weight_fraction_leaf=0\n",
    ")\n",
    "\n",
    "# Create Bagging Classifier with Decision Tree as base estimator\n",
    "bagging_clf = BaggingClassifier(\n",
    "    base_estimator=dt_clf,\n",
    "    n_estimators=1000,\n",
    "    max_features=1.0,\n",
    "    max_samples=1.0,\n",
    "    oob_score=False\n",
    ")\n",
    "\n",
    "# Fit the Bagging Classifier on the data\n",
    "bagging_fit = bagging_clf.fit(X, y)\n",
    "\n",
    "# Compute feature importance using featImpMDI_Clustered\n",
    "imp = feat_imp_mda_clustered(bagging_fit, X ,y , clstrs)\n"
   ]
  },
  {
   "cell_type": "code",
   "execution_count": null,
   "id": "9b81ae5a-c1ef-48d1-9763-99034fc5a085",
   "metadata": {},
   "outputs": [],
   "source": [
    "df = pd.DataFrame.from_dict(clstrs, orient='index')\n",
    "df = df.T"
   ]
  },
  {
   "cell_type": "code",
   "execution_count": null,
   "id": "575920c7-37ff-41be-8053-d6b0eff094bb",
   "metadata": {},
   "outputs": [],
   "source": [
    "df.columns.tolist()"
   ]
  },
  {
   "cell_type": "code",
   "execution_count": null,
   "id": "89c1ec27-196d-4687-a973-79bfe1187746",
   "metadata": {},
   "outputs": [],
   "source": [
    "[f'C_{i}' for i in range(5)]"
   ]
  },
  {
   "cell_type": "code",
   "execution_count": null,
   "id": "0c82dc28-f038-4b17-89ba-672c96c0b231",
   "metadata": {},
   "outputs": [],
   "source": [
    "\n",
    "df.columns = [f'C_{i}' for i in range(6)]"
   ]
  },
  {
   "cell_type": "code",
   "execution_count": null,
   "id": "32fc211e-9ad8-4e60-a9d4-853073da718f",
   "metadata": {},
   "outputs": [],
   "source": [
    "df.fillna('-')"
   ]
  },
  {
   "cell_type": "code",
   "execution_count": null,
   "id": "5889d67a-5521-4a71-bc05-f3dc1adcffe6",
   "metadata": {},
   "outputs": [],
   "source": [
    "plt.figure(figsize=(10, 6))\n",
    "sns.heatmap(df.isnull(), cmap='viridis', cbar=False, annot=True)\n",
    "\n",
    "plt.title('Heatmap of Dictionary Values')\n",
    "plt.xlabel('Columns')\n",
    "plt.ylabel('Rows')\n",
    "\n",
    "plt.show()"
   ]
  },
  {
   "cell_type": "code",
   "execution_count": null,
   "id": "f4b87585-bfdf-453a-bb92-07ccd948008c",
   "metadata": {},
   "outputs": [],
   "source": [
    "\n",
    "import pprint\n",
    "\n",
    "\n",
    "pp = pprint.PrettyPrinter(indent=4)\n",
    "pp.pprint(clstrs)\n"
   ]
  },
  {
   "cell_type": "code",
   "execution_count": null,
   "id": "0fe17ec0-1d1d-4f53-9d87-3f311d786efc",
   "metadata": {},
   "outputs": [],
   "source": [
    "pd.DataFrame.from_dict(clstrs)"
   ]
  },
  {
   "cell_type": "code",
   "execution_count": null,
   "id": "6b605ab0-a747-4f20-b153-8d7a0ed9812b",
   "metadata": {},
   "outputs": [],
   "source": []
  },
  {
   "cell_type": "code",
   "execution_count": null,
   "id": "768dfca0-a0aa-41c7-a663-43ef0670f188",
   "metadata": {},
   "outputs": [],
   "source": [
    "imp_clustered_mda = imp.reset_index()\n",
    "imp_clustered_mda.columns = ['Feature', 'Clustered MDA', 'CMDAStd']\n",
    "imp_clustered_mda.sort_values(by='Clustered MDA', ascending = False, inplace=True)\n",
    "plt.figure(figsize=(20, 5))\n",
    "\n",
    "plt.bar(imp_clustered_mda['Feature'], imp_clustered_mda['Clustered MDA'], align='center', alpha=0.5, ecolor='black', capsize=10)\n",
    "# Add error bars\n",
    "plt.errorbar(imp_clustered_mda['Feature'], imp_clustered_mda['Clustered MDA'], yerr=imp_clustered_mda['CMDAStd'], fmt='none', ecolor='black', capsize=10)\n",
    "plt.xlabel('Feature name')\n",
    "plt.ylabel('Clustered MDA')\n"
   ]
  },
  {
   "cell_type": "code",
   "execution_count": null,
   "id": "b37787d1-7d2c-4677-9f90-9285ca381027",
   "metadata": {},
   "outputs": [],
   "source": []
  },
  {
   "cell_type": "code",
   "execution_count": null,
   "id": "ea1a401f-f196-47e7-b872-18c69e77c2ff",
   "metadata": {},
   "outputs": [],
   "source": [
    "plt.figure(figsize=(20, 5))\n",
    "plt.plot(imp.index, imp['mean'])"
   ]
  },
  {
   "cell_type": "code",
   "execution_count": null,
   "id": "ee397948-9df4-4c77-8e07-569a669f85a8",
   "metadata": {},
   "outputs": [],
   "source": [
    "pvalues_series = ols.pvalues.sort_values()"
   ]
  },
  {
   "cell_type": "code",
   "execution_count": null,
   "id": "09b6c7c8-098f-4ccb-86ba-407f85f9b703",
   "metadata": {},
   "outputs": [],
   "source": [
    "import matplotlib.pyplot as plt\n",
    "import numpy as np\n",
    "\n",
    "# Create data\n",
    "categories = ['A', 'B', 'C', 'D', 'E']\n",
    "values = [20, 35, 30, 35, 27]\n",
    "errors = [2, 3, 4, 1, 2]\n",
    "\n",
    "# Create bar plot\n",
    "plt.bar(categories, values, align='center', alpha=0.5, ecolor='black', capsize=10)\n",
    "\n",
    "# Add error bars\n",
    "plt.errorbar(categories, values, yerr=errors, fmt='none', ecolor='black', capsize=10)\n",
    "\n",
    "# Add labels\n",
    "for i in range(len(categories)):\n",
    "    plt.text(x = i, y = values[i]+errors[i], s = categories[i], size = 10, ha='center')\n",
    "\n",
    "# Display the plot\n",
    "plt.show()"
   ]
  },
  {
   "cell_type": "code",
   "execution_count": null,
   "id": "60ca00bd-f979-45f6-bc4d-8d863ac8abc5",
   "metadata": {},
   "outputs": [],
   "source": [
    "import matplotlib.pyplot as plt\n",
    "import numpy as np\n",
    "\n",
    "# Create data\n",
    "categories = ['A', 'B', 'C', 'D', 'E']\n",
    "values = [20, 35, 30, 35, 27]\n",
    "errors = [2, 3, 4, 1, 2]\n",
    "\n",
    "# Create bar plot\n",
    "bars = plt.bar(categories, values, align='center', alpha=0.5, ecolor='black', capsize=10)\n",
    "\n",
    "# Add error bars\n",
    "plt.errorbar(categories, values, yerr=errors, fmt='none', ecolor='black', capsize=10)\n",
    "\n",
    "# Add labels inside the bars\n",
    "for bar in bars:\n",
    "    yval = bar.get_height()\n",
    "    plt.text(bar.get_x() + bar.get_width()/2, yval - 5, round(yval, 2), ha='center', va='top', color='white')\n",
    "\n",
    "# Display the plot\n",
    "plt.show()"
   ]
  },
  {
   "cell_type": "code",
   "execution_count": null,
   "id": "2de856cb-23df-48a5-bfff-86512e71c443",
   "metadata": {},
   "outputs": [],
   "source": []
  },
  {
   "cell_type": "code",
   "execution_count": null,
   "id": "ef5ad98b-3ebe-4511-8be6-825844750155",
   "metadata": {},
   "outputs": [],
   "source": [
    "STOP"
   ]
  },
  {
   "cell_type": "code",
   "execution_count": null,
   "id": "edb6a637-14bc-4614-a11d-6dbffc443f5a",
   "metadata": {},
   "outputs": [],
   "source": []
  },
  {
   "cell_type": "code",
   "execution_count": null,
   "id": "ab0d5ffd-07f4-4556-8492-f812c1ac4f24",
   "metadata": {},
   "outputs": [],
   "source": []
  },
  {
   "cell_type": "code",
   "execution_count": null,
   "id": "1058f788-4556-4349-bafe-dcad74ab4d5d",
   "metadata": {},
   "outputs": [],
   "source": []
  },
  {
   "cell_type": "markdown",
   "id": "a2c8b79b-baa6-4d30-961f-3cd8f6295766",
   "metadata": {},
   "source": [
    "- Clustered MDI\n",
    "    - the sum of the MDI values of the features that constitute that cluster. \n",
    "    - If there is one feature per cluster, then MDI and clustered MDI are the same.\n",
    "    - In the case of an ensemble of trees, there is one clustered MDI for each tree, which allows us to compute the mean clustered MDI, and standard deviation around the mean clustered MDI, similarly to how we did for the feature MDI."
   ]
  },
  {
   "cell_type": "markdown",
   "id": "70187d1f-6b36-4a35-977b-2e3a7e7f2a4f",
   "metadata": {},
   "source": [
    "- Clustered MDA\n",
    "    - The MDA of a feature is computed by comparing the performance of an algorithm before and after shuffling that feature.\n",
    "    - When computing clustered MDA, instead of shuffling one feature at a time, we shuffle all of the features that constitute a given cluster.\n",
    "    - If there is one cluster per feature, then MDA and clustered MDA are the same "
   ]
  },
  {
   "cell_type": "code",
   "execution_count": null,
   "id": "b786c6bc-95bb-4a93-98ea-3f2f28dc05c3",
   "metadata": {},
   "outputs": [],
   "source": []
  },
  {
   "cell_type": "markdown",
   "id": "84c21715-ad8f-4bcb-acfa-988bf0bc0b63",
   "metadata": {},
   "source": [
    "The mean-decrease accuracy (MDA) method works as follows: \n",
    "- first, it fits a model and computes its cross-validated performance; \n",
    "- second, it computes the cross-validated performance of the same fitted model, with the only difference that it shuffles the observations associated with one of the features. \n",
    "- That gives us one modified cross-validated performance per feature. \n",
    "- Third, it derives the MDA associated with a particular feature by comparing the cross-validated performance before and after shuffling. \n",
    "    - Shuffling a feature could potentially improve the cross-validated performance, when the feature is uninformative to the point of being detrimental.\n",
    "    - If the feature is important, there should be a significant decay in performance caused by the shuffling, as long as the features are independent. \n",
    "    - When features are not independent, MDA may underestimate the importance of interrelated features. \n",
    "    - At the extreme, given two highly important but identical features, MDA may conclude that both features are relatively unimportant, because the effect of shuffling one may be partially compensated by not shuffling the other.\n",
    "- An important attribute of MDA is that, like ensemble MDIs, it is not the result of a single estimate, but rather the average of multiple estimates (one for each testing set in a k-fold cross-validation).\n",
    "- Because MDA involves a cross-validation step, this method can be computationally expensive."
   ]
  },
  {
   "cell_type": "code",
   "execution_count": null,
   "id": "167ede06-b0c3-436b-8507-f9819a346c63",
   "metadata": {},
   "outputs": [],
   "source": []
  },
  {
   "cell_type": "markdown",
   "id": "3147f80f-7cbc-4b0d-8def-9fee1ffe8be2",
   "metadata": {},
   "source": [
    "- A classifier may achieve high accuracy even though it made:\n",
    "    - good predictions with low confidence and \n",
    "    - bad predictions with high confidence.  \n",
    "- Negative average likelihood:\n",
    "$$ \\text{NAL} = -\\frac{1}{N}\\sum_{n=0}^{N-1}\\sum_{k=0}^{K-1}y_{n,k}p_{n,k}$$\n",
    "where\n",
    "    - $p_{n,k}$ is the probability associated with prediction $n$ of label $k$\n",
    "    - $y_{n,k} \\in \\{0,1\\}$ where $y_{n,k}=1$ when observation $n$ was assigned label $k$ and $y_{n,k}=0$ otherwise\n",
    "- Probability-weighted accuracy \n",
    "$$\\text{PWA} = \\frac{\\sum_{n=0}^{N-1} y_n(p_n-\\frac{1}{K} )}{\\sum_{n=0}^{N-1} (p_n-\\frac{1}{K})} $$\n",
    "where \n",
    "    - $p_n = \\max_k{p_{n,k}}$ \n",
    "    - $y_n$ is an indicator function, $y_{n} \\in \\{0,1\\}$ where $y_{n}=1$ when the prediction was corret, and $y_n=0$ otherwise \\\n",
    "  This is equivalent to standard accuracy when the classifier has absolute conviction in every prediction ($p_n=1 \\quad \\forall n$)\\\n",
    "  PWA punishes bad predictions made with high confidence more severely than accuracy, but less severely than log-loss"
   ]
  },
  {
   "cell_type": "code",
   "execution_count": null,
   "id": "6c6c5223-9554-4fec-a45b-c9b4ab3271a5",
   "metadata": {},
   "outputs": [],
   "source": []
  },
  {
   "cell_type": "markdown",
   "id": "3fa470a7-9811-4716-a728-7f2ea9e8d3ae",
   "metadata": {},
   "source": [
    "- First, project the observed features into a metric space \n",
    "$$ X \\in \\mathbb{R}^{N\\times F} \\rightarrow \\tilde{X} \\in \\mathbb{R}^{N\\times N}$$\n",
    "    - correlation based approach \n",
    "    - use information-theoretic concepts\n",
    "        - such as variation of information\n",
    "        - advantage of capturing redundant features that are the result of nonlinear combinations of informative features\n",
    "- Second, we apply a procedure to determine the optimal number and composition of clusters, \n",
    "    - such as the ONC algorithm.\n",
    "    - Features that belong to the same cluster share a large amount of information, and features that belong to different clusters share only a relatively small amount of information.\n",
    "- Some silhouette scores may be low due one feature being a combination of multiple features across clusters. This is a problem, because ONC cannot assign one feature to multiple clusters.\n",
    "    - For each cluster $k=1,\\cdots,K$, replace the features included in that cluster with residual features, where those residual features do not contain information from features outside cluster $k$\n",
    "    - To be precise:\n",
    "        - let $D_k$ be the subset of of index features $D={1, \\cdots, F}$ included cluster $k$, where\n",
    "            - $D_k \\subset D$\n",
    "            - $\\mid D_k\\mid >0, \\forall k$\n",
    "            - $D_k \\cap D_l =\\emptyset,  \\forall k\\neq l$\n",
    "            - $D=\\cup_{k=1}^KD_k$\\\n",
    "         Then , $\\forall X_i$ where $i \\in D_k$, we compute the residual $\\hat{\\epsilon}_i$ by fitting \n",
    "         $$ X_{n,i} = \\alpha_i + \\sum_{j \\in \\cup_{l\\neq k}D_k} \\beta_{i,j}X_{n,j} + \\epsilon_{n,i}$$\n",
    "         where $n=1,\\cdots, N$ is the index of observations per feature.\n",
    "     - By replacing each feature $X_i$ with its residual equivalent $\\hat{\\epsilon}_i$, we remove from cluster $k$ information that is already included in other clusters, while preserving the information that exclusively belongs to cluster $k$.\n",
    "- This transformation is not necessary if the silhouette scores clearly indicate that features belong to their respective clusters."
   ]
  },
  {
   "cell_type": "code",
   "execution_count": null,
   "id": "6dbe5f03-7da0-47cf-883b-27695e01e4ad",
   "metadata": {},
   "outputs": [],
   "source": []
  },
  {
   "cell_type": "code",
   "execution_count": null,
   "id": "39911586-2bd1-4d49-870f-7976d7f0f205",
   "metadata": {},
   "outputs": [],
   "source": []
  },
  {
   "cell_type": "markdown",
   "id": "1cd89739-7040-47d0-9284-7365d92dea97",
   "metadata": {},
   "source": [
    "- Entropy :\n",
    "$$-\\sum_{j=1}^Cp_j\\log{p_j}$$\n",
    "    - also called information gain \n",
    "- Gini index: \n",
    "$$ \\sum_{j=1}^Cp_j (1-p_j) = 1- \\sum_{j=1}^Cp_j^2 $$\n",
    "- Misclassification rate: \n",
    "$$ 1-\\max_jp_j$$\n",
    "- Mean squared errors\n",
    "$$\\frac{1}{\\lvert T \\rvert} \\sum_{i \\in T}(y_i-\\overline{y})^2$$"
   ]
  },
  {
   "cell_type": "markdown",
   "id": "3c585af3-c104-4b5d-93e2-36221f3aaa32",
   "metadata": {},
   "source": [
    "$$\\Delta \\iota(s_t,t) = \\iota(s_t,t) - p_R \\iota(s_t,t_R) - p_L \\iota(s_t,t_L) $$\n",
    "$$\\Delta \\iota(s_t,t) = \\iota(s_t,t) - p_R \\iota(s_t,t_R) - p_L \\iota(s_t,t_L) $$\n",
    "\n",
    "$$\\Delta \\iota(s_t,t) = -\\sum_{j=1}^Cp_j\\log{p_j} + p_R \\sum_{j=1}^Cp_{j}^R\\log{p_j^R} + p_L\\sum_{j=1}^Cp_j^L\\log{p_j^L} $$\n",
    "\n",
    "$$\\Delta \\iota(s_t,t) = -\\sum_{j=1}^Cp(C=j\\mid t)\\log{p(c=j\\mid t)} + p(t_R\\mid t) \\sum_{j=1}^Cp(c=j\\mid t_R) \\log{p(c=j\\mid t_R)} + p(t_L\\mid t)\\sum_{j=1}^Cp(c=j\\mid t_L)\\log{p(c=j\\mid t_L)} $$\n",
    "\n",
    "\n",
    "$\\Delta \\iota(s_t,t)$ is the mutual information between split outcome at $t$ and the target variable.\n",
    "- Let $S$ a discrete random variable with two values:\n",
    "    - $L$: $p(S=L) = p(t_L\\mid t)$\n",
    "    - $R:$ $p(S=R) = p(t_R\\mid t)$\n",
    "\n"
   ]
  },
  {
   "cell_type": "markdown",
   "id": "46a216c6-e2fd-4503-8dd4-0c2f434abef1",
   "metadata": {},
   "source": [
    " \\begin{align*}\n",
    "\\Delta \\iota(s_t,t) &= \\iota(s_t,t) - p_R \\iota(s_t,t_R) - p_L \\iota(s_t,t_L) \\\\\n",
    "    &=-\\sum_{j=1}^Cp_j\\log{p_j} + p_R \\sum_{j=1}^Cp_{j}^R\\log{p_j^R} + p_L\\sum_{j=1}^Cp_j^L\\log{p_j^L} \\\\\n",
    "    &=-\\sum_{j=1}^Cp(c=j)\\log{p(c=j)} + \\\\\n",
    "    & p(S=R) \\sum_{j=1}^Cp(c=j\\mid S=R)\\log{p(c=j\\mid S=R)} + \\\\\n",
    "    & p(S=R) \\sum_{j=1}^Cp(c=j\\mid S=R)\\log{p(c=j\\mid S=R)} +  \\\\ \n",
    "    &=-\\sum_{j=1}^C\\sum_{s\\in{R,L}}p(c=j, S=s)\\log{p(c=j)} + \\\\\n",
    "    &  \\sum_{j=1}^Cp(c=j, S=R)\\log{p(c=j\\mid S=R)} + \\\\\n",
    "    &  \\sum_{j=1}^Cp(c=j, S=L)\\log{p(c=j\\mid S=L)} +  \\\\ \n",
    "        &=-\\sum_{j=1}^C\\sum_{s\\in{R,L}}p(c=j, S=s)\\log{p(c=j)} + \\\\\n",
    "    &  \\sum_{j=1}^C\\sum_{s\\in{R,L}} p(c=j, S=s)\\log{p(c=j\\mid S=s)}  \\\\\n",
    "    & = \\sum_{j=1}^C\\sum_{s\\in{R,L}} p(c=j, S=s)\\log{ \\frac{\\log{p(c=j\\mid S=s)}}{p(c=j)} }\\\\\n",
    "    & = \\sum_{j=1}^C\\sum_{s\\in{R,L}} p(c=j, S=s)\\log{ \\frac{\\log{p(c=j, S=s)}}{p(S=s)p(c=j)} }\\\\\n",
    "    & = \\text{MI}(S,C)\n",
    "\\end{align*}"
   ]
  },
  {
   "cell_type": "code",
   "execution_count": null,
   "id": "78ddde09-c29d-4e02-ae94-9b8b596ccadf",
   "metadata": {},
   "outputs": [],
   "source": []
  },
  {
   "cell_type": "markdown",
   "id": "4bdb82c1-da08-4a33-a9d3-0e758ffff924",
   "metadata": {},
   "source": [
    "Let \n",
    "- $R$: number of trees\n",
    "- $\\mathcal{B}$: the ensemble of trees \n",
    "- $\\mathcal{T}$: a tree $\\in \\mathcal{B} $\n",
    "- $t$:  a node $\\in \\mathcal{T}$\n",
    "- $s_t$: the split at node $t$\n",
    "- $v(s_t)$: the feature selected at split $s_t$\n",
    "- $x_d$: arbitrary feature\n",
    "- $\\lvert \\mathcal{D}(t) \\rvert$: number of points at node $t$\n",
    "- $\\lvert \\mathcal{D} \\rvert$: number of points in the sample\n",
    "- $\\Delta \\iota(s_t,t)$: impurity decrease at the node $t$\n",
    "\n",
    "$$\n",
    "\\text{MDI}_{\\mathcal{T}}(x_d) =    \\sum_{t\\in \\mathcal{T}: v(s_t)=x_d} \\frac{\\lvert \\mathcal{D}(t) \\rvert}{\\lvert \\mathcal{D} \\rvert}\\Delta \\iota(s_t,t)  \n",
    "$$\n",
    "\n",
    "$$\n",
    "\\mathbb{E}\\big[\\text{MDI}(x_d) \\big] \\approx  \\frac{1}{R}\\sum_{\\mathcal{T} \\in \\mathcal{B}}    \\text{MDI}_{\\mathcal{T}}(x_d)  \n",
    "$$\n",
    "$$\n",
    "\\mathbb{Var}\\big[\\text{MDI}(x_d) \\big] \\approx  \\frac{1}{R-1}\\sum_{\\mathcal{T} \\in \\mathcal{B}}  \\Big[  \\text{MDI}_{\\mathcal{T}}(x_d)  - \\mathbb{E}\\big[\\text{MDI}(x_d) \\big] \\Big]^2\n",
    "$$\n",
    "\n",
    "$$\n",
    " \\widetilde{\\text{MDI}}(x_d) =  \\frac{\\mathbb{E}\\Big[\\text{MDI}(x_d) \\Big] }{\\sum_{d=1}^D   \\mathbb{E}\\Big[\\text{MDI}(x_d) \\Big] }\n",
    "$$\n",
    "\n"
   ]
  },
  {
   "cell_type": "markdown",
   "id": "c9fc8445-ca4c-4bb5-a079-ead89d295ea2",
   "metadata": {},
   "source": [
    "By central limit theorem, as $R \\rightarrow \\infty$, \n",
    "$$ \\sqrt{R}\\Big( \\text{MDI}(x_d) -  \\mathbb{E}\\big[\\text{MDI}(x_d) \\big]\\Big) \\sim \\mathcal{N}\\Big(0, \\mathbb{Var}\\big[\\text{MDI}(x_d) \\big] \\Big)$$"
   ]
  },
  {
   "cell_type": "markdown",
   "id": "139e4c58-e587-4009-bcd0-d94b7a1d13c1",
   "metadata": {},
   "source": [
    "- The masking effect denotes situations where several candidate splits on different\n",
    "variables yield roughly the same impurity reduction, but one is always slightly better\n",
    "so that none of the other ones has a chance to be selected by the tree-growing algorithm. \n",
    "    - Concretely, some branches are never explored as splits are never selected.\n",
    "- This induces a positive bias for importances of masking features as they are more\n",
    "frequently selected and their contributions is prioritised over features carrying similar information about the target:\n",
    "    - i.e., in case of two redundant features with one masking the other, the first one always receives credit for its information because\n",
    "the second one is never selected before. \n",
    "- In contrast, importance of masked features\n",
    "are negatively biased and under-estimated."
   ]
  },
  {
   "cell_type": "markdown",
   "id": "b02fd096-b8d5-409d-b52d-0aa629210a50",
   "metadata": {},
   "source": [
    "- The masking effect occurs when multiple possible splits across various variables result in similar reductions in impurity, yet one split consistently outperforms the others, preventing the algorithm from choosing alternative splits. \n",
    "    - As a result, certain branches remain unexplored, leading to a bias favoring the importance of masking features. \n",
    "- These features are frequently selected, prioritizing their contributions over similarly informative features. \n",
    "    - For instance, if one redundant feature masks another, the former always receives recognition for its information, as the latter is never chosen first. \n",
    "- Conversely, the importance of masked features is underestimated due to this bias."
   ]
  },
  {
   "cell_type": "markdown",
   "id": "0643db54-cdbe-4a7e-8619-dc92d3516d1e",
   "metadata": {},
   "source": [
    "- A solution to reduce the bias stemming from masking effect is to reduce the value of the randomization parameter $K$.\n",
    "- This bias can be completely eliminated by using totally randomised trees ($K$ = 1)\n",
    "- However:\n",
    "    - this usually requires  larger number of trees and,\n",
    "    - might jeopardise the predictive performance of the model in presence of many irrelevant features."
   ]
  },
  {
   "cell_type": "code",
   "execution_count": null,
   "id": "3bce30a1-ddde-4273-b3cf-a5f811cc36bc",
   "metadata": {},
   "outputs": [],
   "source": []
  },
  {
   "cell_type": "markdown",
   "id": "bac0f8e4-6729-4cea-baa7-12afb590b7da",
   "metadata": {},
   "source": [
    "- Masking effects take place when some features are systematically ignored by tree-based classifiers in favor of others. In order to avoid them, set `max_features=int(1)` when using sklearn’s RF class. In this way, only one random feature is considered per level.\n",
    "    - Every feature is given a chance (at some random levels of some random trees) to reduce impurity.\n",
    "    - Make sure that features with zero importance are not averaged, since the only reason for a 0 is that the feature was not randomly chosen. Replace those values with `np.nan`.\n",
    "- The procedure is obviously in-sample. Every feature will have some importance, even if they have no predictive power whatsoever.\n",
    "- MDI cannot be generalized to other non-tree based classifiers.\n",
    "- By construction, MDI has the nice property that feature importances add up to 1, and every feature importance is bounded between 0 and 1.\n",
    "- The method does not address substitution effects in the presence of codependent features. MDI dilutes the importance of substitute features, because of their interchangeability: \n",
    "    - The importance of two identical features will be halved (shared), as they are randomly chosen with equal probability.\n",
    "- MDI is biased towards some predictor variables especially those with large number of splits/cutoffs or larger number of categories."
   ]
  },
  {
   "cell_type": "code",
   "execution_count": null,
   "id": "2881f9be-9fa2-4f9e-ae66-be740cdeaa20",
   "metadata": {},
   "outputs": [],
   "source": []
  },
  {
   "cell_type": "code",
   "execution_count": null,
   "id": "be0481b3-a0d3-4d7b-9586-4a475919adc4",
   "metadata": {},
   "outputs": [],
   "source": []
  },
  {
   "cell_type": "markdown",
   "id": "fdbc3a10-e7d1-4a90-892b-2afc176b4c4c",
   "metadata": {},
   "source": [
    "In Hypothesis testing, the objective is to formally examine two opposing and mutually exclusive conjectures \n",
    "- $H_0$: null hypothesis \n",
    "    - states the assumption to be tested\n",
    "- $H_1$: the alternative hypothesis\n",
    "    - the opposite of the null hypothesis\n",
    "    - challenges the status quo \n",
    "    - is generally the hypothesis that is believed to be true by the researcher \n",
    "\n",
    "- Test statistic $X$\n",
    "    - A quantity derived from the sample \n",
    "    - Typically measures the strength of the evidence against the null hypothesis\n",
    "    - Important property: its sampling distribution under the null hypothesis must be calculable \n",
    "        - exactly, or\n",
    "        - approximately \n",
    "    - let $f_0$ be the density of $X$ when $H_0$ is true\n",
    "- The p-value:\n",
    "    - The probability of getting the observed value $x$ of the test statistic $X$, or a value with even greater evidence against $H_0$ if the null hypothesis is true\n",
    "        $$ P(\\lvert X \\rvert\n",
    "  \\geq \\lvert x \\rvert\n",
    " \\mid H_0)$$\n",
    "     - If we know the distribution of the test statistic, we then can compute this probability (p-value)\n",
    "     - The smaller the p-value, the greater the evidence against the null hypothesis"
   ]
  },
  {
   "cell_type": "markdown",
   "id": "6cfe4aeb-cc0a-4ea5-99cf-df50b5ebc32f",
   "metadata": {},
   "source": [
    "$$ f_0(x\\mid H_0)$$\n",
    "\n",
    "\n",
    "$$ f_1(x\\mid H_1)$$"
   ]
  },
  {
   "cell_type": "markdown",
   "id": "1fe1b546-95f7-4285-ac35-c4947b058c6b",
   "metadata": {},
   "source": [
    "- Error:\n",
    "    - Type I (false positive): reject $H_0$ when it is true ($\\alpha$)\n",
    "    - Type II (false negative): fail to reject $H_0$ when $H_1$ is true ($\\beta$)\n",
    "- Power of the test:\n",
    "    - probability of True positive\n",
    "    - probability of correcting hte null hypothesis\n",
    "$$1-\\beta$$"
   ]
  },
  {
   "cell_type": "code",
   "execution_count": null,
   "id": "e5dfd47e-7e11-4919-9417-5bbb7ff17ebd",
   "metadata": {},
   "outputs": [],
   "source": []
  },
  {
   "cell_type": "markdown",
   "id": "930e0ade-cfed-42e9-afe4-d3bb4ad7a3c0",
   "metadata": {},
   "source": [
    "$$ P(\\lvert T \\rvert\n",
    "  \\geq \\lvert t \\rvert\n",
    " \\mid H_0)$$\n",
    " \n",
    "$$ P(  H_0 \\mid \\text{Data}) \\approx P(H_0 \\mid  \\lvert T  \\rvert\n",
    "  \\geq \\lvert t \\rvert\n",
    " ) $$\n",
    "  "
   ]
  },
  {
   "cell_type": "markdown",
   "id": "f74c2dd1-fa09-4f4f-9281-2cf6ceeaf0b1",
   "metadata": {},
   "source": [
    "In Hypothesis testing, the objective is to formally examine two opposing and mutually exclusive conjectures \n",
    "- $H_0$:  \n",
    "    $$\\beta = 0$$\n",
    "- $H_1$:  \n",
    "$$\\beta \\neq 0$$\n",
    "- Test statistic  \n",
    "  $$T = \\frac{\\hat{\\beta}}{s^2} \\rightarrow \\text{t-distribution}$$ \n"
   ]
  },
  {
   "cell_type": "markdown",
   "id": "f248056a-d6ef-4e98-bdd5-43f8d74b4c09",
   "metadata": {},
   "source": [
    "- If:\n",
    "    - $Z\\sim \\mathcal{N}(0,1)$ and \n",
    "    - $X \\sim \\chi_{\\nu}^2$  , \n",
    "- then:\n",
    "    - $T= \\frac{Z}{\\sqrt{\\frac{X}{\\nu}}}$ has a  Student's  $t$ distribution with $\\nu$ degrees of freedom,"
   ]
  },
  {
   "cell_type": "code",
   "execution_count": null,
   "id": "d4cfec2a-f92b-41be-83d2-d68d41be20fe",
   "metadata": {},
   "outputs": [],
   "source": []
  },
  {
   "cell_type": "code",
   "execution_count": null,
   "id": "21ebf764-1ae9-40de-ab5d-dec4ede00aae",
   "metadata": {},
   "outputs": [],
   "source": []
  },
  {
   "cell_type": "markdown",
   "id": "229e252f-16b0-4bff-978a-7c70a3695f45",
   "metadata": {},
   "source": [
    "|  |  Heteroskedasticity | Correlated disturbances | Multi-collinearity | Omitted Variables \n",
    "|-----------------|-----------------|-----------------|-----------------|-----------------|\n",
    "| Biasedness     | No impact       | No impact       | No-impact       | Biased estimates|\n",
    "| Consistency | No impact | No impact | No-impact |Inconsistent estimates |\n",
    "| Efficiency | $\\mathbb{Var}(\\hat{\\beta})$ is underestimated  | $\\mathbb{Var}(\\hat{\\beta})$ is underestimated |$\\mathbb{Var}(\\hat{\\beta})$ is overestimated |$\\mathbb{Var}(\\hat{\\beta})$ is underestimated |\n",
    "|   | t-stats are artificially high | t-stats are artificially high |t-stats are artificially low |t-stats are artificially high |\n",
    "| Coefficient of determination ($R^2$) |  No-impact |  No-impact  | No-impact  |typically lower |\n",
    "\n"
   ]
  },
  {
   "cell_type": "code",
   "execution_count": null,
   "id": "bb1b98b1-4fca-40d8-9a43-334aa9fd0a48",
   "metadata": {},
   "outputs": [],
   "source": []
  },
  {
   "cell_type": "markdown",
   "id": "055ff9bc-2c5c-473d-a0e6-b55c849b000d",
   "metadata": {},
   "source": [
    "- $\\alpha = \\mathbb{P}(\\text{reject} H_0 \\mid H_0 \\text{is true} )$\n",
    "- Qustion: If we perform $m$ independent hypothesis tests, what is the probability of at least one false positive (Type I error, i.e. the incorrect rejection of the a true null hypothesis) ?\n",
    "- Answer: \n",
    " \\begin{align*}\n",
    "     \\mathbb{P}[\\text{Making a Type I error}] &= \\alpha \\\\\n",
    "     \\mathbb{P}[\\text{Not Making a Type I error}] &= 1-\\alpha \\\\\n",
    "     \\mathbb{P}[\\text{Not Making a Type I error in m tests}] &= (1-\\alpha)^m \\\\\n",
    "     \\mathbb{P}[\\text{Making at least one Type I error in m tests}] &= 1-(1-\\alpha)^m \\\\\n",
    "\\end{align*}\n",
    " \n"
   ]
  },
  {
   "cell_type": "code",
   "execution_count": null,
   "id": "6430e5d4-a9f2-4e26-98e5-c58188854cfd",
   "metadata": {},
   "outputs": [],
   "source": [
    "import matplotlib.pyplot as plt\n",
    "import numpy as np\n",
    "\n",
    "# Define the significance level (alpha)\n",
    "alpha = 0.05\n",
    "\n",
    "# Define the number of independent tests (m)\n",
    "m_values = np.arange(1, 100)  # Values from 1 to 100 tests\n",
    "\n",
    "# Calculate the probability of making at least one Type I error in m tests\n",
    "prob_error = 1 - (1 - alpha) ** m_values\n",
    "\n",
    "# Plot the chart\n",
    "plt.figure(figsize=(10, 6))\n",
    "plt.plot(m_values, prob_error)#, label=r'$\\mathbb{P}[\\text{Making at least one Type I error}]$')\n",
    "plt.axhline(y=alpha, color='r', linestyle='--', label=r'$\\alpha$')\n",
    "plt.xlabel('Number of Independent Tests (m)')\n",
    "plt.ylabel('Probability')\n",
    "plt.title('Probability of Making at least one Type I Error vs. Number of Tests')\n",
    "plt.legend()\n",
    "plt.grid(True)\n",
    "plt.show()\n"
   ]
  },
  {
   "cell_type": "code",
   "execution_count": null,
   "id": "8db66075-630d-47a7-90fc-779b8a730aec",
   "metadata": {},
   "outputs": [],
   "source": []
  },
  {
   "cell_type": "markdown",
   "id": "4ead7e7b-462f-4e7d-841c-6860cf959ced",
   "metadata": {},
   "source": [
    "- The Gauss-Markov \n",
    "    - Assumptions\n",
    "        1. Linear relationship between $y$ and $\\pmb{X}$\n",
    "        2. The matrix $\\pmb{X}$ is of full rank (no perfect multicollinearity)\n",
    "        3. $\\mathbb{E}[\\epsilon \\mid \\pmb{X}] = 0$, which implies $\\mathbb{E}[ y \\mid  \\pmb{X}] = \\pmb{X} \\pmb{\\beta}$\n",
    "        4. $\\mathbb{Var}[\\epsilon \\mid \\pmb{X}] = \\mathbb{E}[\\epsilon \\epsilon^T\\mid \\pmb{X}] = \\sigma^2 \\mathbb{I}$ (not to be confused with $\\mathbb{Var}[\\epsilon] $)\n",
    "            - Homoskedasticity \n",
    "            - Uncorrelated disturbances\n",
    "        5. $\\pmb{X}$ may be fixed or random, but must be generated by a mechanism that is unrelated to $\\epsilon$\n",
    "        6. $\\epsilon\\mid \\pmb{X} \\sim \\mathcal{N}(0,  \\sigma^2 \\mathbb{I})$\n",
    "    - **Theorem**\n",
    "        - conditional on assumptions 1-5, there will be no other linear and unbiased estimator of the coefficients that has a smaller sampling variance. \n",
    "        - In other words, the ordinary least square (OLS) estimator is the Best Linear, Unbiased and efficient estimator (BLUE).\n",
    " \n",
    "\n"
   ]
  },
  {
   "cell_type": "markdown",
   "id": "473a308c-46e2-44b0-96c6-63218f0b6e5a",
   "metadata": {},
   "source": [
    "$$\n",
    "y =  \\pmb{X}\\beta + \\epsilon\n",
    "$$"
   ]
  },
  {
   "cell_type": "markdown",
   "id": "2d1771b0-b494-4f9d-b23d-b34354785ce0",
   "metadata": {},
   "source": [
    "$$\n",
    "\\hat{\\beta} = (\\pmb{X}^T\\pmb{X})^{-1}\\pmb{X}^Ty\n",
    "$$"
   ]
  },
  {
   "cell_type": "markdown",
   "id": "052d210d-1700-4f5b-a44e-b3977e21cb12",
   "metadata": {},
   "source": []
  },
  {
   "cell_type": "markdown",
   "id": "fdc9f3f2-4f2d-4364-9ebe-62a2e3a72b40",
   "metadata": {},
   "source": [
    "- $\n",
    "\\mathbb{E}[\\hat{\\beta}]  = \\beta\n",
    "$\n",
    "- $\\mathbb{Var}[\\hat{\\beta} \\mid \\pmb{X}] = \\sigma^2 (\\pmb{X}^T\\pmb{X})^{-1}$\n",
    "- $e=y-\\hat{y}$\n",
    "- $s^2=\\frac{e^Te}{N-D}$ is an unbiased estimator of $\\sigma^2$"
   ]
  },
  {
   "cell_type": "markdown",
   "id": "b7b87402-422a-4a31-a036-1225bae1e3e6",
   "metadata": {},
   "source": [
    "- A clustering problem consists of a set of objects and a set of features associated with those objects. \n",
    "- The goal is to separate the objects into groups (called clusters) using the features, where intragroup similarities are maximized, and intergroup similarities are minimized. \n",
    "- It is a form of unsupervised learning, because we do not provide examples to assist the algorithm in solving this task. \n",
    "- Clustering problems appear naturally in finance, at every step of the investment process. \n",
    "    - For instance, analysts may look for historical analogues to current events, a task that involves developing a numerical taxonomy of events. \n",
    "    - Portfolio managers often cluster securities with respect to a variety of features, to derive relative values among peers. \n",
    "    - Risk managers are keen to avoid the concentration of risks in securities that share common traits. \n",
    "    - Traders wish to understand flows affecting a set of securities, to determine whether a rally or sell-off is idiosyncratic to a particular security, or affects a category shared by a multiplicity of securities. \n",
    "    \n",
    "    "
   ]
  },
  {
   "cell_type": "code",
   "execution_count": null,
   "id": "61f1b9fe-3e94-417c-b094-727a211030e6",
   "metadata": {},
   "outputs": [],
   "source": []
  },
  {
   "cell_type": "markdown",
   "id": "3391ca00-02a9-4f2c-8ee7-cac7bf6609ba",
   "metadata": {},
   "source": [
    "- Consider a binary random classification problem composed of forty features, where:\n",
    "    - five are informative, \n",
    "    - thirty are redundant, and \n",
    "    - five are noise. \n",
    "- Informative features (marked with the “I_” prefix) are those used to generate labels. \n",
    "- Redundant features (marked with the “R_” prefix) are those that are formed by adding Gaussian noise to a randomly chosen informative feature (the lower the value of sigmaStd, the greater the substitution effect). \n",
    "- Noise features (marked with the “N_” prefix) are those that are not used to generate labels."
   ]
  },
  {
   "cell_type": "code",
   "execution_count": null,
   "id": "20122e9b-77da-4cac-a6e2-87174eb2beb9",
   "metadata": {},
   "outputs": [],
   "source": []
  },
  {
   "cell_type": "code",
   "execution_count": null,
   "id": "3a29d5a2-2c52-4a9f-923e-cdc337c87cdf",
   "metadata": {},
   "outputs": [],
   "source": []
  },
  {
   "cell_type": "code",
   "execution_count": null,
   "id": "d5e604bb-86ca-4307-96fa-93f9d3c37bfb",
   "metadata": {},
   "outputs": [],
   "source": []
  },
  {
   "cell_type": "markdown",
   "id": "cd6a4bcc-b1b0-4d0c-b81d-a501fe196fd3",
   "metadata": {},
   "source": [
    "For a given element $i$ and a given clustering, the silhouette $S_i$ is defined as:\n",
    "$$\n",
    "S_i = \\frac{b_i-a_i}{\\max(\\{a_i,b_i\\}) } , i=1, \\cdots, N\n",
    "$$\n",
    "where:\n",
    "- $a_i$ is the average distance between $i$ and all other elements in the same cluster\n",
    "- $b_i$ is the average distance between $i$ and all the elements in the nearest cluster of which $i$ is not a member. \n",
    "- Effectively, this is a measure comparing intracluster distance and intercluster distance.\n",
    "- A value. $S_i=1$ means that element $i$ is clustered well\n",
    "- A value $S_i=-1$ means that $i$ was clustered poorly \n",
    "\n",
    "For a given partition , the clustering quality $q$ is defined as \n",
    "\n",
    "$$ q = \\frac{\\mathbb{E}(S_i)}{ \\sqrt{\\mathbb{Var}(S_i)} } $$\n",
    "\n",
    "where:\n",
    "- $\\mathbb{E}(S_i)$ is the mean of the silhouette coefficients \n",
    "- $\\mathbb{Var}(S_i)$ is the variance of the silhouette coefficients "
   ]
  },
  {
   "cell_type": "code",
   "execution_count": null,
   "id": "d7cc2ca2-1e3e-4cff-9d68-f5fc94c25f26",
   "metadata": {},
   "outputs": [],
   "source": []
  },
  {
   "cell_type": "markdown",
   "id": "33720c43-f6f8-45a3-8cf8-c3ac86ad34e0",
   "metadata": {},
   "source": [
    "The following modification addresses the k-mean’s initialization problem. \\\n",
    "At the base level, our clustering algorithm performs the following operation: \n",
    "- first, evaluate the observation matrix; \n",
    "- second, we perform a double for ... loop. \n",
    "    - In the first loop, we try different $k=2, \\cdots, N$ on which to cluster via $k$-means for one given initialization, and evaluate the quality $q$ for each clustering. \n",
    "    - The second loop repeats the first loop multiple times, there by attempting different initializations.\n",
    "- Third, over these two loops, we select the clustering with the highest $q$."
   ]
  },
  {
   "cell_type": "code",
   "execution_count": null,
   "id": "0e906375-65d7-430f-b59f-ad0d0ead1137",
   "metadata": {},
   "outputs": [],
   "source": []
  },
  {
   "cell_type": "code",
   "execution_count": null,
   "id": "574d01be-d2e8-4989-87da-15457780b992",
   "metadata": {},
   "outputs": [],
   "source": []
  },
  {
   "cell_type": "markdown",
   "id": "c2a3f052-11ca-45a6-8eb6-0535a6341cf9",
   "metadata": {},
   "source": [
    "- The third modification to k-means deals with clusters of inconsistent quality. \n",
    "- The base clustering may capture the more distinct clusters, while missing the less apparent (obvious) ones.\n",
    "- To address this issue, we evaluate the quality $q_k$ of each cluster $k=1, \\cdots,K$ given the clustering quality scores obtained from the base clustering algorithm.\n",
    "- We the take the average quality\n",
    "$$\\overline{q} = \\frac{1}{N}\\sum_{i=1}^Nq_i $$\n",
    "- Find the set of clusters with quality below average\n",
    "$$\\{ q_k \\mid q_k < \\overline{q} , k=1, \\cdots, K \\}$$\n",
    "- Let us denote $K_1$ the number of clusters in the previous set, $K_1<K$.\n",
    "- If the number of clusters to rerun is $K_1 \\leq 1$, then we return the clustering given by the base algorithm.\n",
    "- However, if $K_1 \\geq 2$, we rerun the clustering of the items in those $K_1$ clusters, while the rest are considered acceptably clustered. \n",
    "- We form a new (reduced) observations matrix out of the elements that compose the $K_1$ clusters, and rerun the base clustering algorithm on that reduced correlation matrix. \n",
    "- Doing so will return a, possibly new, clustering for those elements in $K_1$. \n",
    "- To check its efficacy, we compare the average cluster quality before and after reclustering those elements in $K_1$. \n",
    "- If the average cluster quality improves, we return the accepted clustering from the base clustering concatenated with the new clustering for the redone nodes. \n",
    "- Otherwise, we return the clustering formed by the base algorithm."
   ]
  },
  {
   "cell_type": "code",
   "execution_count": null,
   "id": "a1becce3-7db6-4ec4-9611-f1530d8a28ee",
   "metadata": {},
   "outputs": [],
   "source": []
  },
  {
   "cell_type": "markdown",
   "id": "d8c18d20-6f51-4b90-9f2f-016b2ce607ba",
   "metadata": {},
   "source": [
    "The Elbow method leverages the within-cluster sum of squares (WCSS). \\\n",
    "The process is pretty straightforward:\n",
    "\n",
    "- Run k-means clustering   for a range of cluster sizes ($K$ values).\n",
    "- Compute the total WCSS for each $k = 1, \\cdots, K$.\n",
    "- Create a plot with the number of clusters on the x-axis and the corresponding total WCSS on the y-axis.\n",
    "- Locate the “elbow” point, where adding another cluster doesn’t offer much better fitting to the data.\n",
    "- When you increase the number of clusters, the WSS naturally decreases. But after a specific point, you achieve diminishing returns on improving the compactness of the clusters.\n",
    "\n",
    "Pros:\n",
    "- Simplicity and Intuitiveness: Easy to understand and implement.\n",
    "- Good for Quick Decisions: Offers a fast solution without excessive computation. \n",
    "\n",
    "Cons:\n",
    "- Subjectivity: The \"elbow\" isn’t always clear-cut, leading to different interpretations.\n",
    "- Oversimplification: May not work as efficiently with complex, high-dimensional data."
   ]
  },
  {
   "cell_type": "code",
   "execution_count": null,
   "id": "f0f97a6e-4221-489f-8131-0ec734c8b063",
   "metadata": {},
   "outputs": [],
   "source": []
  },
  {
   "cell_type": "code",
   "execution_count": null,
   "id": "a6488c0e-e23c-4c34-9329-7e4ab7c5d1a3",
   "metadata": {},
   "outputs": [],
   "source": []
  },
  {
   "cell_type": "code",
   "execution_count": null,
   "id": "3397b9ca-4f61-47b8-97a4-3a270ad34a1e",
   "metadata": {},
   "outputs": [],
   "source": []
  },
  {
   "cell_type": "markdown",
   "id": "38e34ffa-6e85-4f1d-a1e1-2cee19097330",
   "metadata": {},
   "source": [
    "- Given the tuple $(N, M, K)$, we wish to create a random block correlation matrix of size $N\\times N$, made up of $K$ blocks, each of size greater or equal than $M$. Let us describe the procedure for randomly partitioning $N$ items into $K$ disjoint groups, each of size at least $M$.\n",
    "\n",
    "- Note that this is equivalent to randomly partitioning $N^{\\prime} = N - K(M-1) $ items into $K$ groups each of size at least 1:\n",
    "    - The adjustment formula $N^{\\prime} = N - K(M-1) $ ensures that each box has at least $M$ items at the start, accounting for the $K$ blocks of size $M$ each. \n",
    "    - After distributing $M-1$ items to each box, we are left with $N^{\\prime}$  items to distribute freely among the $K$ boxes.\n",
    "    - Randomly partition the $N^{\\prime}$ items among the $K$ boxes ensures that each box has at least 1 item (since  $N^{\\prime}$  and $K$ are both positive)\n",
    "\n",
    "\n",
    "- Consider randomly choosing $K - 1$ distinct items, denoted as set $B$, from the set \n",
    "$A=(1, \\cdots, N^{\\prime}-1)$, then add the $(N^{\\prime})^{th}$ point to $B$ so that $B$ is of size $K$. \n",
    "- Thus, $B$ contains $i_1, \\cdots, i_K$, where $1 \\leq i_1 < i_2 < \\cdots < i_K = N^{\\prime}$.\n",
    "- Given $B$, consider the $K$ partition sets:\n",
    "    - $C_1=0, \\dots, i_{1}-1$\n",
    "    - $C_2=i_1, \\dots, i_{2}-1$\n",
    "    - $\\cdots $\n",
    "    - $C_K=i_{K-1}, \\dots, i_{K}-1$\n",
    "- Given that $i_j$ are distinct:\n",
    "    - each partition contains at least one element as desired, \n",
    "    - and furthermore completely partitions the set  $(0, \\dots, N^{\\prime}-1)$\n",
    "- In doing so, each set $C_j$ contains $i_j - i_{j-1}$ elements for $j=1, \\cdots,K$, letting $i_0=0$\n",
    "- We can generalize again by adding $M-1$ elements to each block."
   ]
  },
  {
   "cell_type": "markdown",
   "id": "6333beec-389e-4d26-8fb8-0a81a26137d3",
   "metadata": {},
   "source": []
  },
  {
   "cell_type": "markdown",
   "id": "9aabd724-61de-43f6-a290-8e92b51f0d07",
   "metadata": {},
   "source": [
    "\n",
    "## Procedure for Creating Random Block Correlation Matrix\n",
    "\n",
    "Given the tuple $(N, M, K)$, where:\n",
    "- $N$: Total number of items.\n",
    "- $M$: Minimum size of each block.\n",
    "- $K$: Number of blocks.\n",
    "1. **Adjustment for Minimum Block Size:**\n",
    "   - Calculate $N' = N - K(M-1)$.\n",
    "   - This adjustment ensures each block starts with at least $M$ items.\n",
    "2. **Random Partitioning:**\n",
    "   - Randomly distribute $N'$ items into $K$ groups, ensuring each group has at least 1 item.\n",
    "   - This guarantees randomness while meeting the minimum block size requirement.\n",
    "3. **Specific Procedure:**\n",
    "   - Randomly choose $K - 1$ distinct items from the set $A = (1, \\cdots , N'-1)$.\n",
    "   - Add the $N'$th item to create set $B$ of size $K$.\n",
    "   - Set $B$ contains $i_1, \\cdots, i_K$, where $1 \\leq i_1 < i_2 < \\cdots < i_K = N'$.\n",
    "4. **Partition Sets:**\n",
    "   - Create $K$ partition sets $C_1, C_2, \\cdots, C_K$.\n",
    "   - Each $C_j$ contains elements from 0 to $N'-1$, with $C_j = i_{j-1}, \\cdots, i_{j} - 1$, where $i_0 = 0$.\n",
    "5. **Generalization for Block Size:**\n",
    "   - For each block $C_j$, determine the number of extra elements needed to reach size $M$:\n",
    "     - $\\text{extra}_j = \\max(0, M - (i_j - i_{j-1}))$\n",
    "   - Randomly select $\\text{extra}_j$ elements from set $A$ and add them to block $C_j$.\n",
    "   - Repeat this process for all blocks to ensure each has at least M elements.\n",
    "6. **Generation of covariance matrix $\\Sigma$**\n",
    "   - Let each blokc $k=1, \\cdots, K$ have size $x_k \\times x_k$, where $x_k \\geq M$, thus implying:\n",
    "       - $x_1+\\cdots + x_K = N \\geq MK$\n",
    "   - First, for each block $k$, we create a time series $S$ of length $T$ that is made from iid standard Gaussians, then make copies of that to each column of a matrix $X$ of size $(T, x_k)$.\n",
    "   - Second, we add to each $X_{ij}$ a random Gaussian with standard deviation $\\sigma >0$. By design, the columns of $X$ will be highly correlated for small $\\sigma$, and less correlated for large $\\sigma$.\n",
    "   - Third, we evaluate the covariance matrix $\\Sigma_X$ for the columns of $X$ , and add $\\Sigma_X$ as a block to $\\Sigma$\n",
    "   - Fourth, we add to $\\Sigma$ another covariance matrix with one block but larger $\\sigma$.\n",
    "   - Finally, we derive the correlation matrix $\\rho$ related to $\\Sigma$. By design, $\\rho$ will have $K$ blocks with high correlations in side each block, and low correlations otherwise."
   ]
  },
  {
   "cell_type": "markdown",
   "id": "ef11436d-080a-4d1c-afeb-04cf09747a9a",
   "metadata": {},
   "source": [
    "We design a Monte Carlo experiment to verify the accuracy of the ONC algorithm introduced earlier:\n",
    "- first, we create an $N\\times N$ correlation matrix $\\rho$ from random draws with a predefined number of blocks $K$, where intrablock correlation is high and across-block correlation is low; \n",
    "- second, we shuffle that correlation matrix. \n",
    "- Third, we apply ONC, and verify that the ONC algorithm recovers the blocks we injected"
   ]
  },
  {
   "cell_type": "code",
   "execution_count": null,
   "id": "75a829a1-e1cf-4348-901b-bb1cd1f9ef6d",
   "metadata": {},
   "outputs": [],
   "source": []
  },
  {
   "cell_type": "markdown",
   "id": "ff66439f-26e0-4bc0-90cc-19afc6ee36d1",
   "metadata": {},
   "source": [
    "Let:\n",
    "- $N$: the number of data points (securities in our case)\n",
    "- $D$: the number of features characterizing each security\n",
    "- $X \\in \\mathbb{R}^{X\\times D}$ be the data matrix \n",
    "- $X$ follow a multi-variate normal distribution with correlation matrix $\\rho$\n",
    "- $\\rho_{ij}$: the correlation between variables $i$ and $j$\n",
    "- If a strong common component is present, it is advisable to remove it by applying detoning\n",
    "    - a factor exposure shared by all variables may hide the existence of partly shared exposures\n",
    "- Since some clustering  algorithms expect as input a measure of similarity (or dissimilarity), we can either use:\n",
    "    - $\\tilde{X}_{ij} = \\rho_{ij}$\n",
    "    - $\\tilde{X}_{ij} = \\sqrt{\\frac{1}{2}(1-\\rho_{ij})}$\n",
    "    "
   ]
  },
  {
   "cell_type": "code",
   "execution_count": null,
   "id": "68e8263f-61df-471f-8824-44c7ef9daedf",
   "metadata": {},
   "outputs": [],
   "source": []
  },
  {
   "cell_type": "code",
   "execution_count": null,
   "id": "57af7abe-ff03-4073-9b6f-8f3c4a0a1c3c",
   "metadata": {},
   "outputs": [],
   "source": []
  },
  {
   "cell_type": "markdown",
   "id": "92542716-db27-4f9e-9767-4cc97f6bcd9c",
   "metadata": {},
   "source": [
    "## Generation of Random Block Correlation Matrics "
   ]
  },
  {
   "cell_type": "code",
   "execution_count": null,
   "id": "e6b00c59-7b38-4746-b403-a9cfa8c4da81",
   "metadata": {},
   "outputs": [],
   "source": [
    "number_factors = 100\n",
    "number_blocks = 6\n",
    "minimum_block_size=2\n",
    "random_state=None "
   ]
  },
  {
   "cell_type": "code",
   "execution_count": null,
   "id": "9b149473-5da3-459a-bfdd-22e9ce3c484e",
   "metadata": {},
   "outputs": [],
   "source": [
    "\n"
   ]
  },
  {
   "cell_type": "code",
   "execution_count": null,
   "id": "f9c54c44-1c0a-4dc3-8f4e-81f4d30290a7",
   "metadata": {},
   "outputs": [],
   "source": [
    "correlation_df = generate_random_block_correlation_matrix(number_factors=number_factors,\n",
    "                                                         number_blocks=number_blocks,\n",
    "                                                         minimum_block_size=minimum_block_size,\n",
    "                                                         random_state=random_state)\n"
   ]
  },
  {
   "cell_type": "code",
   "execution_count": null,
   "id": "3964c68b-a108-46d7-8d77-122cdba86c8a",
   "metadata": {},
   "outputs": [],
   "source": [
    "correlation_df.shape"
   ]
  },
  {
   "cell_type": "code",
   "execution_count": null,
   "id": "befbb6d3-f214-41fd-9c0c-a14ff7883ac0",
   "metadata": {},
   "outputs": [],
   "source": [
    "type(correlation_df)"
   ]
  },
  {
   "cell_type": "code",
   "execution_count": null,
   "id": "671e5b5d-ff85-42bd-9d02-b7fe814948c8",
   "metadata": {},
   "outputs": [],
   "source": [
    "#Draw ground truth\n",
    "plt.rcParams[\"figure.figsize\"] = (10, 10)\n",
    "plt.matshow(correlation_df) #invert y-axis to get origo at lower left corner\n",
    "plt.gca().xaxis.tick_bottom()\n",
    "plt.gca().invert_yaxis()\n",
    "plt.colorbar()\n",
    "plt.show()"
   ]
  },
  {
   "cell_type": "code",
   "execution_count": null,
   "id": "1d92c8e6-d867-4343-9115-3414e9e4aee9",
   "metadata": {},
   "outputs": [],
   "source": []
  },
  {
   "cell_type": "code",
   "execution_count": null,
   "id": "a12fbffe-cf40-481c-bc64-5e8e6537acc5",
   "metadata": {},
   "outputs": [],
   "source": [
    "shuffled_correlation_df = shuffle_matrix(correlation_df)"
   ]
  },
  {
   "cell_type": "code",
   "execution_count": null,
   "id": "8ee8e06f-b7f9-40e6-8a50-644346bbacd5",
   "metadata": {},
   "outputs": [],
   "source": []
  },
  {
   "cell_type": "code",
   "execution_count": null,
   "id": "da38be11-9450-4938-97e8-c9cab1606c63",
   "metadata": {},
   "outputs": [],
   "source": []
  },
  {
   "cell_type": "code",
   "execution_count": null,
   "id": "a72fbd3c-8b08-4d0d-b395-2d06d6a31abd",
   "metadata": {},
   "outputs": [],
   "source": [
    "#Draw shuffled matrix \n",
    "plt.matshow(shuffled_correlation_df) #invert y-axis to get origo at lower left corner\n",
    "plt.gca().xaxis.tick_bottom()\n",
    "plt.gca().invert_yaxis()\n",
    "plt.colorbar()\n",
    "plt.show()"
   ]
  },
  {
   "cell_type": "code",
   "execution_count": null,
   "id": "6838f0ce-e5c1-40dd-b4cc-72a6d8d951ba",
   "metadata": {},
   "outputs": [],
   "source": []
  },
  {
   "cell_type": "markdown",
   "id": "5eb0f098-31ea-433e-a34e-53dda7228eca",
   "metadata": {},
   "source": [
    "## ONC algorithm"
   ]
  },
  {
   "cell_type": "code",
   "execution_count": null,
   "id": "0d3af059-7d66-4bc2-8dba-146b9c18981c",
   "metadata": {},
   "outputs": [],
   "source": []
  },
  {
   "cell_type": "code",
   "execution_count": null,
   "id": "0c8b3b37-6b88-4b78-b5e6-be1aa4a78a89",
   "metadata": {},
   "outputs": [],
   "source": [
    "onc_model = ONC()\n",
    "onc_model.fit( shuffled_correlation_df) "
   ]
  },
  {
   "cell_type": "code",
   "execution_count": null,
   "id": "0bcf8059-f587-498a-9422-54f992e0f867",
   "metadata": {},
   "outputs": [],
   "source": [
    "onc_model.n_clusters"
   ]
  },
  {
   "cell_type": "code",
   "execution_count": null,
   "id": "eee14760-dc3b-4275-a7fe-b0f09278e6cd",
   "metadata": {},
   "outputs": [],
   "source": [
    "onc_correlation_df = onc_model.reordered_X "
   ]
  },
  {
   "cell_type": "code",
   "execution_count": null,
   "id": "e2484934-4d6f-4d89-a5b2-d368a2c8806e",
   "metadata": {},
   "outputs": [],
   "source": [
    "#Draw ground truth\n",
    "plt.rcParams[\"figure.figsize\"] = (10, 10)\n",
    "\n",
    "plt.matshow(onc_correlation_df) #invert y-axis to get origo at lower left corner\n",
    "plt.gca().xaxis.tick_bottom()\n",
    "plt.gca().invert_yaxis()\n",
    "plt.colorbar()\n",
    "plt.show()\n",
    "    \n",
    "    "
   ]
  },
  {
   "cell_type": "code",
   "execution_count": null,
   "id": "8db5714f-1907-4977-8c99-a7f38d406af7",
   "metadata": {},
   "outputs": [],
   "source": []
  },
  {
   "cell_type": "markdown",
   "id": "68567428-b794-463b-862d-f4f033485ed0",
   "metadata": {},
   "source": [
    "## Pruned ONC algorithm "
   ]
  },
  {
   "cell_type": "code",
   "execution_count": null,
   "id": "60f8f6a2-cfc5-4bdf-8b08-78f60f3ac7c6",
   "metadata": {},
   "outputs": [],
   "source": [
    "pruned_onc_model = PrunedONC()\n",
    "pruned_onc_model.fit( shuffled_correlation_df) "
   ]
  },
  {
   "cell_type": "code",
   "execution_count": null,
   "id": "2cd21d2b-d62c-416c-ae15-c265154b944e",
   "metadata": {},
   "outputs": [],
   "source": [
    "pruned_onc_model.n_clusters"
   ]
  },
  {
   "cell_type": "code",
   "execution_count": null,
   "id": "f97a6de5-a4f4-4301-8626-bca1fa191a6e",
   "metadata": {},
   "outputs": [],
   "source": [
    "pruned_onc_correlation_df = pruned_onc_model.reordered_X "
   ]
  },
  {
   "cell_type": "code",
   "execution_count": null,
   "id": "d69db2ff-6be7-405c-b1b1-fa70b51f6aa5",
   "metadata": {},
   "outputs": [],
   "source": []
  },
  {
   "cell_type": "code",
   "execution_count": null,
   "id": "a516d3b4-9ea9-4503-83fb-68e4ca24bb1e",
   "metadata": {},
   "outputs": [],
   "source": [
    "#Draw ground truth\n",
    "plt.rcParams[\"figure.figsize\"] = (10, 10)\n",
    "\n",
    "plt.matshow(pruned_onc_correlation_df) #invert y-axis to get origo at lower left corner\n",
    "plt.gca().xaxis.tick_bottom()\n",
    "plt.gca().invert_yaxis()\n",
    "plt.colorbar()\n",
    "plt.show()\n",
    "    "
   ]
  }
 ],
 "metadata": {
  "kernelspec": {
   "display_name": "Python 3.8 (pytorch)",
   "language": "python",
   "name": "pytorch"
  },
  "language_info": {
   "codemirror_mode": {
    "name": "ipython",
    "version": 3
   },
   "file_extension": ".py",
   "mimetype": "text/x-python",
   "name": "python",
   "nbconvert_exporter": "python",
   "pygments_lexer": "ipython3",
   "version": "3.8.13"
  },
  "toc": {
   "base_numbering": 1,
   "nav_menu": {},
   "number_sections": true,
   "sideBar": true,
   "skip_h1_title": false,
   "title_cell": "Table of Contents",
   "title_sidebar": "Contents",
   "toc_cell": false,
   "toc_position": {},
   "toc_section_display": true,
   "toc_window_display": false
  },
  "varInspector": {
   "cols": {
    "lenName": 16,
    "lenType": 16,
    "lenVar": 40
   },
   "kernels_config": {
    "python": {
     "delete_cmd_postfix": "",
     "delete_cmd_prefix": "del ",
     "library": "var_list.py",
     "varRefreshCmd": "print(var_dic_list())"
    },
    "r": {
     "delete_cmd_postfix": ") ",
     "delete_cmd_prefix": "rm(",
     "library": "var_list.r",
     "varRefreshCmd": "cat(var_dic_list()) "
    }
   },
   "types_to_exclude": [
    "module",
    "function",
    "builtin_function_or_method",
    "instance",
    "_Feature"
   ],
   "window_display": false
  }
 },
 "nbformat": 4,
 "nbformat_minor": 5
}
