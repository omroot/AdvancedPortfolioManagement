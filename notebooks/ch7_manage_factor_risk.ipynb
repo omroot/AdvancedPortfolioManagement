{
 "cells": [
  {
   "cell_type": "markdown",
   "id": "235d52fd-5007-4a06-898e-b322aed5ebfb",
   "metadata": {},
   "source": [
    "#  Use effective heuristics for alpha sizing"
   ]
  },
  {
   "cell_type": "code",
   "execution_count": null,
   "id": "281687ff-68ad-4011-8720-d70b74107391",
   "metadata": {},
   "outputs": [],
   "source": []
  },
  {
   "cell_type": "code",
   "execution_count": 1,
   "id": "55f643d4-3a16-4560-b6ff-27592dfe78df",
   "metadata": {},
   "outputs": [],
   "source": [
    "%load_ext autoreload \n",
    "%autoreload 2\n",
    "%matplotlib inline "
   ]
  },
  {
   "cell_type": "code",
   "execution_count": 2,
   "id": "b97168f5-fb5e-4ed0-98fa-4c79d7622a7e",
   "metadata": {},
   "outputs": [],
   "source": [
    "import warnings\n",
    "warnings.filterwarnings(\"ignore\")"
   ]
  },
  {
   "cell_type": "code",
   "execution_count": 3,
   "id": "193fb4f1-b154-43da-bbcf-e364f23a97cf",
   "metadata": {},
   "outputs": [],
   "source": [
    "import sys\n",
    "sys.path.append('../')"
   ]
  },
  {
   "cell_type": "code",
   "execution_count": null,
   "id": "3e8b9004-c70f-401d-933e-498c132f1b12",
   "metadata": {},
   "outputs": [],
   "source": []
  },
  {
   "cell_type": "code",
   "execution_count": null,
   "id": "2a4e1678-b661-45ee-9220-0c93069367e8",
   "metadata": {},
   "outputs": [],
   "source": []
  },
  {
   "cell_type": "markdown",
   "id": "40c092fd-dd8c-424f-8202-53a17577649c",
   "metadata": {},
   "source": [
    "## Background"
   ]
  },
  {
   "cell_type": "code",
   "execution_count": null,
   "id": "2ef368a5-9711-4522-8d4a-b6527c067dad",
   "metadata": {},
   "outputs": [],
   "source": []
  },
  {
   "cell_type": "code",
   "execution_count": null,
   "id": "53ff6241-6b10-4ce7-8b2d-70c471a7127d",
   "metadata": {},
   "outputs": [],
   "source": []
  },
  {
   "cell_type": "code",
   "execution_count": null,
   "id": "307ca34b-e429-4ea3-bfdd-d30dda65bbcb",
   "metadata": {},
   "outputs": [],
   "source": []
  },
  {
   "cell_type": "markdown",
   "id": "13f0a54c-c941-4716-8b98-c42ec3ccaa9a",
   "metadata": {},
   "source": [
    "$$ \n",
    "\\text{PnL} = \\text{idiosyncratic PnL} + \\text{factor PnL} \n",
    "$$\n",
    "\n",
    "$$ \n",
    "\\text{factor PnL} = \\sum_{k=1}^K \\times \\text{factor PnL}_k\n",
    "$$\n",
    "\n",
    "$$ \n",
    " \\text{factor PnL}_k = \\text{exposure}_k \\times \\text{factor return}_k \n",
    "$$\n",
    "\n",
    "$$ \n",
    "\\text{exposure}_k =  \\sum_{i=1}^N\\beta_{ik}\\times \\text{NMV}_i\n",
    "$$\n"
   ]
  },
  {
   "cell_type": "markdown",
   "id": "3bdfbed6-611c-4131-bfd5-ce974cb69ae6",
   "metadata": {},
   "source": [
    "## Tactical "
   ]
  },
  {
   "cell_type": "markdown",
   "id": "ac1627e4-454e-4826-a91e-8c846209f9d5",
   "metadata": {},
   "source": [
    "**Procedure 7.1: Tactical Portfolio Construction**\n",
    "\n",
    "1. **Start with a set of fundamental theses (Section 6.2).**\n",
    "   - Develop and clearly define your investment theses based on fundamental analysis.\n",
    "\n",
    "2. **Convert these theses into a dollar position using Procedure 6.2.**\n",
    "   - Apply Procedure 6.2 to translate your fundamental convictions into specific dollar positions in the portfolio.\n",
    "\n",
    "3. **Perform a risk decomposition.**\n",
    "   - Analyze the portfolio to break down the sources of risk, identifying the contributions from various factors and idiosyncratic components.\n",
    "\n",
    "4. **If the percentage of idiosyncratic variance is low, identify the group of factors responsible for it.**\n",
    "   - For guidance regarding acceptable levels of factor risk, see Section 7.2.1.\n",
    "   - Assess the portfolio's factor exposures and determine if the idiosyncratic risk is sufficiently low. If not, find out which factors contribute to the risk.\n",
    "\n",
    "5. **Identify the largest factor or factors responsible for the low percentage of idiosyncratic variance.**\n",
    "   - Include factors that have exposures exceeding the single-factor exposures, as discussed in Section 7.2.4.\n",
    "   - Pinpoint the key factors driving the portfolio's risk and those with significant exposures.\n",
    "\n",
    "6. **Identify the trades by asset that both reduce overall factor risk and the specific factor exposure.**\n",
    "   - Choose trades compatibly with your fundamental convictions and with your goals to reduce or increase the Gross Market Value (GMV) of the portfolio.\n",
    "   - Determine asset-specific trades that align with your investment theses while managing factor risks effectively.\n",
    "\n",
    "7. **Change the positions in a direction that is:**\n",
    "   - (a) Compatible with your convictions;\n",
    "   - (b) Reducing factor risk to an acceptable level;\n",
    "   - (c) Reducing exposures to individual factors that you are currently targeting.\n",
    "   - Adjust the portfolio to align with your fundamental beliefs, ensuring factor risks are mitigated to acceptable levels, and focus on targeted factor exposures.\n",
    "\n",
    "By following these steps, you can tactically construct a portfolio that balances your fundamental investment convictions with disciplined risk management."
   ]
  },
  {
   "cell_type": "code",
   "execution_count": null,
   "id": "906b5151-56ac-4750-bfc6-0e53e2425a46",
   "metadata": {},
   "outputs": [],
   "source": []
  },
  {
   "cell_type": "markdown",
   "id": "c911e737-e61d-4e7a-bf98-408191e7ab1b",
   "metadata": {},
   "source": [
    "**11.7 Tactical Portfolio Optimization**\n",
    "\n",
    "Given the definitions and parameters:\n",
    "\n",
    "- **w**: starting portfolio.\n",
    "- **x**: traded portfolio.\n",
    "\n",
    "### Parameters\n",
    "- **C**: Matrix of custom factor loadings (e.g., short interest, hedge fund ownership data, ESG loadings, yield sensitivity).\n",
    "- **TC**: Market impact model, defined as \\( TC(x) = \\kappa \\sum \\sigma_i \\beta \\left( \\frac{|x_i|}{v_i} \\right)^{\\gamma} \\) where:\n",
    "  - \\( v_i \\): Average daily trading volume (in dollars).\n",
    "  - \\( \\sigma_i \\): Volatility.\n",
    "  - \\( \\beta \\approx 1 \\)\n",
    "  - \\( \\gamma \\approx \\frac{3}{2} \\)\n",
    "  - \\( \\kappa > 0 \\): Region-calibrated constant.\n",
    "- **lb, ub**: Lower and upper bounds on factor exposures (usually \\( lb = -ub \\)).\n",
    "- **lc, uc**: Lower and upper bounds on custom exposures (usually \\( lc = -uc \\)).\n",
    "- **d**: Vector of idiosyncratic volatility.\n",
    "- **\\(\\sigma_f, \\sigma_t\\)**: Upper bounds for factor risk and total risk, respectively.\n",
    "- **g**: Lower bound on \"edge\" or Gross Market Value (GMV).\n",
    "- **E**: Maximum tracking error between initial and final portfolio.\n",
    "\n",
    "### Optimization Problem\n",
    "We need to solve the following optimization problem:\n",
    "\n",
    "#### Objective\n",
    "Minimize \\( TC(x) \\)\n",
    "\n",
    "#### Subject to:\n",
    "1. **Final Portfolio**: \\( v = w + x \\)\n",
    "2. **Maximum Tracking Error**: \\( ||x|| \\leq E \\)\n",
    "3. **Ancillary Variable for GMV**: \n",
    "   - \\( w + x \\geq y \\)\n",
    "   - \\(- (w + x) \\geq z \\)\n",
    "4. **Final Exposures**: \\( b = B'v \\)\n",
    "5. **Final Custom Exposures**: \\( c = C'v \\)\n",
    "6. **Final Factor Risk Bound**: \\( b' \\Omega_f b \\leq \\sigma_f^2 \\)\n",
    "7. **Final Exposure Bounds**: \\( lb \\leq b \\leq ub \\)\n",
    "8. **Final Custom Exposure Bounds**: \\( lc \\leq c \\leq uc \\)\n",
    "9. **Minimum GMV**: \\( \\sum (y_i + z_i) \\geq g \\)\n",
    "10. **Non-negativity Constraints**: \\( y \\geq 0 \\), \\( z \\geq 0 \\)\n",
    "\n",
    "### Variants\n",
    "Allow the user to select the objective function from two options:\n",
    "1. **Distance from Starting Portfolio**: \\( x'x \\)\n",
    "2. **Idiosyncratic Tracking Error**: \\( x'\\Omega_\\epsilon x \\)\n",
    "\n",
    "### Implementation\n",
    "\n",
    "Here is a possible Python implementation using a simplified approach with placeholders for the actual optimization routines, which would typically require a numerical optimization library such as SciPy or CVXPY:\n",
    "\n",
    "```python\n",
    "import numpy as np\n",
    "import cvxpy as cp\n",
    "\n",
    "# Define the parameters\n",
    "w = np.array([1, 2, 3])  # Example starting portfolio\n",
    "C = np.array([[1, 0, 0], [0, 1, 0], [0, 0, 1]])  # Custom factor loadings\n",
    "B = np.array([[0.5, 0.5, 0], [0.3, 0.3, 0.4], [0.2, 0.4, 0.4]])  # Example factor loadings\n",
    "Omega_f = np.diag([0.1, 0.2, 0.3])  # Factor covariance matrix\n",
    "d = np.array([0.1, 0.2, 0.3])  # Idiosyncratic volatility\n",
    "v = np.array([1000, 1500, 2000])  # Average daily trading volume\n",
    "sigma_i = np.array([0.05, 0.07, 0.06])  # Volatility\n",
    "beta = 1\n",
    "gamma = 1.5\n",
    "kappa = 0.1\n",
    "lb = np.array([-0.5, -0.5, -0.5])  # Lower bounds on factor exposures\n",
    "ub = np.array([0.5, 0.5, 0.5])  # Upper bounds on factor exposures\n",
    "lc = np.array([-0.3, -0.3, -0.3])  # Lower bounds on custom exposures\n",
    "uc = np.array([0.3, 0.3, 0.3])  # Upper bounds on custom exposures\n",
    "sigma_f = 0.15  # Upper bound for factor risk\n",
    "sigma_t = 0.20  # Upper bound for total risk\n",
    "g = 0.05  # Lower bound on edge or GMV\n",
    "E = 0.1  # Maximum tracking error\n",
    "\n",
    "# Define the optimization variables\n",
    "x = cp.Variable(len(w))\n",
    "y = cp.Variable(len(w), nonneg=True)\n",
    "z = cp.Variable(len(w), nonneg=True)\n",
    "v_final = w + x\n",
    "b = B.T @ v_final\n",
    "c = C.T @ v_final\n",
    "\n",
    "# Define the objective function for market impact model\n",
    "TC = kappa * cp.sum(sigma_i * beta * cp.power(cp.abs(x) / v, gamma))\n",
    "\n",
    "# Define the constraints\n",
    "constraints = [\n",
    "    cp.norm(x) <= E,\n",
    "    w + x >= y,\n",
    "    -(w + x) >= z,\n",
    "    b @ Omega_f @ b <= sigma_f**2,\n",
    "    lb <= b,\n",
    "    b <= ub,\n",
    "    lc <= c,\n",
    "    c <= uc,\n",
    "    cp.sum(y + z) >= g\n",
    "]\n",
    "\n",
    "# Define the problem and solve it\n",
    "objective = cp.Minimize(TC)\n",
    "problem = cp.Problem(objective, constraints)\n",
    "problem.solve()\n",
    "\n",
    "# Print the results\n",
    "print(\"Optimal traded portfolio x:\")\n",
    "print(x.value)\n",
    "print(\"Final portfolio v:\")\n",
    "print(v_final.value)\n",
    "```\n",
    "\n",
    "This implementation provides a basic structure for the tactical portfolio optimization problem. It sets up the optimization variables, defines the objective function, and specifies the constraints. The actual numerical solution is obtained using the CVXPY library, which is well-suited for convex optimization problems. Adjustments may be needed based on specific details and data relevant to your problem context."
   ]
  },
  {
   "cell_type": "code",
   "execution_count": null,
   "id": "c392acf1-b200-4fe7-bfd9-cb624054ff39",
   "metadata": {},
   "outputs": [],
   "source": []
  },
  {
   "cell_type": "markdown",
   "id": "fc77b53f-3360-4a10-94d1-d3fb557c919b",
   "metadata": {},
   "source": [
    "## Strategic"
   ]
  },
  {
   "cell_type": "code",
   "execution_count": null,
   "id": "3755b997-180f-4e5d-867a-1f365048e5b4",
   "metadata": {},
   "outputs": [],
   "source": []
  },
  {
   "cell_type": "markdown",
   "id": "4d9a7627-a022-4849-8286-73de9585cc1c",
   "metadata": {},
   "source": [
    "## Systematic Hedging and Portfolio Management"
   ]
  },
  {
   "cell_type": "code",
   "execution_count": null,
   "id": "cc045326-b7f8-40b1-a8da-c0f9843a08d7",
   "metadata": {},
   "outputs": [],
   "source": []
  },
  {
   "cell_type": "markdown",
   "id": "3c784856-33d9-4c1f-8ec6-985a0380e5b3",
   "metadata": {},
   "source": [
    "### Three Approaches to Simplify Portfolio Management\n",
    "\n",
    "1. **Automatic Hedging Program**:\n",
    "   - Regularly run an optimization to minimize transaction costs while keeping portfolio factor exposure, factor risk, and single-factor exposures within limits. This involves trading a broad, liquid universe of stocks without altering the original stock sizes chosen by the portfolio manager.\n",
    "\n",
    "2. **Factor-Mimicking Portfolios**:\n",
    "   - Create synthetic assets that mimic factor returns, allowing the portfolio manager to reduce factor risk by trading these assets instead of individual stocks. This approach maintains the core positions of the portfolio unaffected.\n",
    "\n",
    "3. **Fully Automated Portfolio Construction**:\n",
    "   - Input investment ideas into a portfolio optimizer, which generates and updates the portfolio to reflect core ideas efficiently, maintain factor risk within limits, and adapt to market conditions and new ideas systematically."
   ]
  },
  {
   "cell_type": "code",
   "execution_count": null,
   "id": "db8e3d8a-77fd-434e-a2f9-e0518bc34189",
   "metadata": {},
   "outputs": [],
   "source": []
  },
  {
   "cell_type": "markdown",
   "id": "5b0a06e5-a1db-4ff7-bcbe-5384608e4a78",
   "metadata": {},
   "source": [
    "## Takeaway Messages\n",
    "\n",
    "1. **Generate Convictions**:\n",
    "   - Use fundamental research to form your investment convictions.\n",
    "\n",
    "2. **Turn Convictions into Positions**:\n",
    "   - Use a proportional volatility scaling rule to convert your convictions into positions.\n",
    "\n",
    "3. **Measure and Update Portfolio Risk**:\n",
    "   - Perform risk decomposition and update your portfolio considering factor risk.\n",
    "\n",
    "4. **Levels of Portfolio Management**:\n",
    "   - Marginal risk-reducing trades\n",
    "   - Single-portfolio optimization\n",
    "   - Systematic factor hedging\n",
    "   - Trading factor portfolios\n",
    "   - Fully automated portfolio management\n",
    "\n",
    "5. **Steps for Marginal Risk-Reducing Trades**:\n",
    "   - Add/update an idea in the portfolio pro-forma.\n",
    "   - Check the change in % idiosyncratic variance (%idio var).\n",
    "   - Identify the sources of factor risk if there is a sizable change.\n",
    "   - Identify stocks with the largest marginal risk contributions and update their positions accordingly.\n",
    "\n",
    "6. **Risk Limits**:\n",
    "   - Set risk limits on %idio, style, and factor variance compatible with your investment style.\n",
    "   - Avoid going below 70% idiosyncratic variance, and almost never below 50%.\n",
    "   - Maintain a single-position GMV limit, adjusting it based on your conviction and portfolio size.\n",
    "   - Keep a single-factor exposure limit based on your loss tolerance and worst-case factor returns.\n",
    "\n",
    "7. **Automated Hedging**:\n",
    "   - For higher productivity, consider implementing an automated hedging program to generate perfect hedges for your portfolio."
   ]
  },
  {
   "cell_type": "code",
   "execution_count": null,
   "id": "15422f84-9f41-4d34-9312-c71911c40353",
   "metadata": {},
   "outputs": [],
   "source": []
  }
 ],
 "metadata": {
  "kernelspec": {
   "display_name": "Python 3.8 (pytorch)",
   "language": "python",
   "name": "pytorch"
  },
  "language_info": {
   "codemirror_mode": {
    "name": "ipython",
    "version": 3
   },
   "file_extension": ".py",
   "mimetype": "text/x-python",
   "name": "python",
   "nbconvert_exporter": "python",
   "pygments_lexer": "ipython3",
   "version": "3.8.13"
  }
 },
 "nbformat": 4,
 "nbformat_minor": 5
}
